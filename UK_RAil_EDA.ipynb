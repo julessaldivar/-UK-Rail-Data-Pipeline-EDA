{
 "cells": [
  {
   "cell_type": "markdown",
   "id": "c28980f2",
   "metadata": {},
   "source": [
    "# Ingest and View Data"
   ]
  },
  {
   "cell_type": "code",
   "execution_count": 1,
   "id": "46c3038c",
   "metadata": {},
   "outputs": [],
   "source": [
    "import pandas as pd\n",
    "from sqlalchemy import create_engine"
   ]
  },
  {
   "cell_type": "code",
   "execution_count": 2,
   "id": "20f0fa13",
   "metadata": {},
   "outputs": [],
   "source": [
    "POSTGRES_USERNAME = 'root'\n",
    "POSTGRES_PASSWORD = 'koBREipm4h7CuRKix2Tn'\n",
    "POSTGRES_HOSTNAME = 'database-1.c3ma8u2guxxs.us-east-2.rds.amazonaws.com'\n",
    "POSTGRES_PORT = '5432'\n",
    "POSTGRES_DBNAME = 'postgres'\n",
    "\n",
    "connection_string = f\"postgresql://{POSTGRES_USERNAME}:{POSTGRES_PASSWORD}@{POSTGRES_HOSTNAME}:{POSTGRES_PORT}/{POSTGRES_DBNAME}\"\n",
    "engine = create_engine(connection_string)"
   ]
  },
  {
   "cell_type": "code",
   "execution_count": 3,
   "id": "92c5606d",
   "metadata": {},
   "outputs": [],
   "source": [
    "query = \"\"\"\n",
    "SELECT * FROM darwin\n",
    "\"\"\"\n",
    "\n",
    "df = pd.read_sql(query, engine)"
   ]
  },
  {
   "cell_type": "code",
   "execution_count": 4,
   "id": "93623a2e",
   "metadata": {},
   "outputs": [
    {
     "data": {
      "text/html": [
       "<div>\n",
       "<style scoped>\n",
       "    .dataframe tbody tr th:only-of-type {\n",
       "        vertical-align: middle;\n",
       "    }\n",
       "\n",
       "    .dataframe tbody tr th {\n",
       "        vertical-align: top;\n",
       "    }\n",
       "\n",
       "    .dataframe thead th {\n",
       "        text-align: right;\n",
       "    }\n",
       "</style>\n",
       "<table border=\"1\" class=\"dataframe\">\n",
       "  <thead>\n",
       "    <tr style=\"text-align: right;\">\n",
       "      <th></th>\n",
       "      <th>route_id</th>\n",
       "      <th>unique_id</th>\n",
       "      <th>service_start_date</th>\n",
       "      <th>update_origin</th>\n",
       "      <th>train_platform</th>\n",
       "      <th>working_time_pass</th>\n",
       "      <th>working_time_arrival</th>\n",
       "      <th>working_time_departure</th>\n",
       "      <th>planned_time_arrival</th>\n",
       "      <th>planned_time_departure</th>\n",
       "      <th>...</th>\n",
       "      <th>platform</th>\n",
       "      <th>train_length</th>\n",
       "      <th>estimated_time</th>\n",
       "      <th>source</th>\n",
       "      <th>actual_time</th>\n",
       "      <th>actual_time_class</th>\n",
       "      <th>is_delayed_arrival</th>\n",
       "      <th>is_delayed_departure</th>\n",
       "      <th>source_instance</th>\n",
       "      <th>estimated_time_minutes</th>\n",
       "    </tr>\n",
       "  </thead>\n",
       "  <tbody>\n",
       "    <tr>\n",
       "      <th>0</th>\n",
       "      <td>202407037139232</td>\n",
       "      <td>G39232</td>\n",
       "      <td>2024-07-03</td>\n",
       "      <td>TD</td>\n",
       "      <td>SCROYDN</td>\n",
       "      <td>None</td>\n",
       "      <td>19:31:00</td>\n",
       "      <td>19:31:30</td>\n",
       "      <td>19:31:00</td>\n",
       "      <td>19:31:00</td>\n",
       "      <td>...</td>\n",
       "      <td>4</td>\n",
       "      <td>10.0</td>\n",
       "      <td>None</td>\n",
       "      <td>None</td>\n",
       "      <td>None</td>\n",
       "      <td>None</td>\n",
       "      <td>False</td>\n",
       "      <td>False</td>\n",
       "      <td>None</td>\n",
       "      <td>None</td>\n",
       "    </tr>\n",
       "    <tr>\n",
       "      <th>1</th>\n",
       "      <td>202407036785172</td>\n",
       "      <td>C85172</td>\n",
       "      <td>2024-07-03</td>\n",
       "      <td>CIS</td>\n",
       "      <td>LIVSTLL</td>\n",
       "      <td>None</td>\n",
       "      <td>19:37:00</td>\n",
       "      <td>19:38:00</td>\n",
       "      <td>19:37:00</td>\n",
       "      <td>19:38:00</td>\n",
       "      <td>...</td>\n",
       "      <td>A</td>\n",
       "      <td>NaN</td>\n",
       "      <td>None</td>\n",
       "      <td>None</td>\n",
       "      <td>None</td>\n",
       "      <td>None</td>\n",
       "      <td>False</td>\n",
       "      <td>False</td>\n",
       "      <td>None</td>\n",
       "      <td>None</td>\n",
       "    </tr>\n",
       "    <tr>\n",
       "      <th>2</th>\n",
       "      <td>202407036735756</td>\n",
       "      <td>C35756</td>\n",
       "      <td>2024-07-03</td>\n",
       "      <td>TD</td>\n",
       "      <td>ESTHRAK</td>\n",
       "      <td>None</td>\n",
       "      <td>19:30:30</td>\n",
       "      <td>19:31:00</td>\n",
       "      <td>19:31:00</td>\n",
       "      <td>19:31:00</td>\n",
       "      <td>...</td>\n",
       "      <td>2</td>\n",
       "      <td>NaN</td>\n",
       "      <td>None</td>\n",
       "      <td>None</td>\n",
       "      <td>None</td>\n",
       "      <td>None</td>\n",
       "      <td>False</td>\n",
       "      <td>False</td>\n",
       "      <td>None</td>\n",
       "      <td>None</td>\n",
       "    </tr>\n",
       "    <tr>\n",
       "      <th>3</th>\n",
       "      <td>202407036735756</td>\n",
       "      <td>C35756</td>\n",
       "      <td>2024-07-03</td>\n",
       "      <td>TD</td>\n",
       "      <td>BRMB</td>\n",
       "      <td>None</td>\n",
       "      <td>19:33:00</td>\n",
       "      <td>19:33:30</td>\n",
       "      <td>19:33:00</td>\n",
       "      <td>19:33:00</td>\n",
       "      <td>...</td>\n",
       "      <td>1</td>\n",
       "      <td>NaN</td>\n",
       "      <td>None</td>\n",
       "      <td>None</td>\n",
       "      <td>None</td>\n",
       "      <td>None</td>\n",
       "      <td>False</td>\n",
       "      <td>False</td>\n",
       "      <td>None</td>\n",
       "      <td>None</td>\n",
       "    </tr>\n",
       "    <tr>\n",
       "      <th>4</th>\n",
       "      <td>202407036735756</td>\n",
       "      <td>C35756</td>\n",
       "      <td>2024-07-03</td>\n",
       "      <td>TD</td>\n",
       "      <td>BRMBRK</td>\n",
       "      <td>None</td>\n",
       "      <td>19:35:00</td>\n",
       "      <td>19:35:30</td>\n",
       "      <td>19:35:00</td>\n",
       "      <td>19:35:00</td>\n",
       "      <td>...</td>\n",
       "      <td>2</td>\n",
       "      <td>NaN</td>\n",
       "      <td>None</td>\n",
       "      <td>None</td>\n",
       "      <td>None</td>\n",
       "      <td>None</td>\n",
       "      <td>False</td>\n",
       "      <td>False</td>\n",
       "      <td>None</td>\n",
       "      <td>None</td>\n",
       "    </tr>\n",
       "  </tbody>\n",
       "</table>\n",
       "<p>5 rows × 22 columns</p>\n",
       "</div>"
      ],
      "text/plain": [
       "          route_id unique_id service_start_date update_origin train_platform  \\\n",
       "0  202407037139232    G39232         2024-07-03            TD        SCROYDN   \n",
       "1  202407036785172    C85172         2024-07-03           CIS        LIVSTLL   \n",
       "2  202407036735756    C35756         2024-07-03            TD        ESTHRAK   \n",
       "3  202407036735756    C35756         2024-07-03            TD           BRMB   \n",
       "4  202407036735756    C35756         2024-07-03            TD         BRMBRK   \n",
       "\n",
       "  working_time_pass working_time_arrival working_time_departure  \\\n",
       "0              None             19:31:00               19:31:30   \n",
       "1              None             19:37:00               19:38:00   \n",
       "2              None             19:30:30               19:31:00   \n",
       "3              None             19:33:00               19:33:30   \n",
       "4              None             19:35:00               19:35:30   \n",
       "\n",
       "  planned_time_arrival planned_time_departure  ... platform train_length  \\\n",
       "0             19:31:00               19:31:00  ...        4         10.0   \n",
       "1             19:37:00               19:38:00  ...        A          NaN   \n",
       "2             19:31:00               19:31:00  ...        2          NaN   \n",
       "3             19:33:00               19:33:00  ...        1          NaN   \n",
       "4             19:35:00               19:35:00  ...        2          NaN   \n",
       "\n",
       "  estimated_time  source actual_time actual_time_class is_delayed_arrival  \\\n",
       "0           None    None        None              None              False   \n",
       "1           None    None        None              None              False   \n",
       "2           None    None        None              None              False   \n",
       "3           None    None        None              None              False   \n",
       "4           None    None        None              None              False   \n",
       "\n",
       "  is_delayed_departure  source_instance  estimated_time_minutes  \n",
       "0                False             None                    None  \n",
       "1                False             None                    None  \n",
       "2                False             None                    None  \n",
       "3                False             None                    None  \n",
       "4                False             None                    None  \n",
       "\n",
       "[5 rows x 22 columns]"
      ]
     },
     "execution_count": 4,
     "metadata": {},
     "output_type": "execute_result"
    }
   ],
   "source": [
    "df.head()"
   ]
  },
  {
   "cell_type": "code",
   "execution_count": 5,
   "id": "7b2d44a6",
   "metadata": {},
   "outputs": [
    {
     "name": "stdout",
     "output_type": "stream",
     "text": [
      "<class 'pandas.core.frame.DataFrame'>\n",
      "RangeIndex: 192145 entries, 0 to 192144\n",
      "Data columns (total 22 columns):\n",
      " #   Column                  Non-Null Count   Dtype  \n",
      "---  ------                  --------------   -----  \n",
      " 0   route_id                192145 non-null  object \n",
      " 1   unique_id               192145 non-null  object \n",
      " 2   service_start_date      192145 non-null  object \n",
      " 3   update_origin           187302 non-null  object \n",
      " 4   train_platform          192145 non-null  object \n",
      " 5   working_time_pass       0 non-null       object \n",
      " 6   working_time_arrival    192145 non-null  object \n",
      " 7   working_time_departure  192145 non-null  object \n",
      " 8   planned_time_arrival    176153 non-null  object \n",
      " 9   planned_time_departure  175549 non-null  object \n",
      " 10  actual_arrival_time     162322 non-null  object \n",
      " 11  actual_departure_time   179841 non-null  object \n",
      " 12  platform                179711 non-null  object \n",
      " 13  train_length            64628 non-null   float64\n",
      " 14  estimated_time          0 non-null       object \n",
      " 15  source                  0 non-null       object \n",
      " 16  actual_time             0 non-null       object \n",
      " 17  actual_time_class       0 non-null       object \n",
      " 18  is_delayed_arrival      192145 non-null  bool   \n",
      " 19  is_delayed_departure    192145 non-null  bool   \n",
      " 20  source_instance         0 non-null       object \n",
      " 21  estimated_time_minutes  0 non-null       object \n",
      "dtypes: bool(2), float64(1), object(19)\n",
      "memory usage: 29.7+ MB\n"
     ]
    }
   ],
   "source": [
    "df.info()"
   ]
  },
  {
   "cell_type": "markdown",
   "id": "9b6b3ae2",
   "metadata": {},
   "source": [
    "# Clean DF \n",
    "**Drop Null Columns and Unnecessary Columns**"
   ]
  },
  {
   "cell_type": "code",
   "execution_count": 6,
   "id": "bf90ce75",
   "metadata": {},
   "outputs": [],
   "source": [
    "# columns to drop due to null values\n",
    "columns_to_drop = [\n",
    "    'working_time_pass',\n",
    "    'estimated_time',\n",
    "    'source',\n",
    "    'actual_time',\n",
    "    'actual_time_class',\n",
    "    'source_instance',\n",
    "    'estimated_time_minutes',\n",
    "    'train_length'            \n",
    "]\n",
    "\n",
    "df_cleaned = df.drop(columns=columns_to_drop)"
   ]
  },
  {
   "cell_type": "code",
   "execution_count": 7,
   "id": "dd274c9a",
   "metadata": {},
   "outputs": [
    {
     "data": {
      "text/plain": [
       "6816"
      ]
     },
     "execution_count": 7,
     "metadata": {},
     "output_type": "execute_result"
    }
   ],
   "source": [
    "# check duplicates\n",
    "duplicates = df_cleaned.duplicated().sum()\n",
    "duplicates"
   ]
  },
  {
   "cell_type": "code",
   "execution_count": 8,
   "id": "efb2d830",
   "metadata": {},
   "outputs": [],
   "source": [
    "# to drop duplicates\n",
    "df_cleaned = df_cleaned.drop_duplicates()"
   ]
  },
  {
   "cell_type": "code",
   "execution_count": 9,
   "id": "a1f48b8c",
   "metadata": {},
   "outputs": [
    {
     "data": {
      "text/plain": [
       "route_id                      0\n",
       "unique_id                     0\n",
       "service_start_date            0\n",
       "update_origin              4251\n",
       "train_platform                0\n",
       "working_time_arrival          0\n",
       "working_time_departure        0\n",
       "planned_time_arrival      15890\n",
       "planned_time_departure    16349\n",
       "actual_arrival_time       29770\n",
       "actual_departure_time     12138\n",
       "platform                  12091\n",
       "is_delayed_arrival            0\n",
       "is_delayed_departure          0\n",
       "dtype: int64"
      ]
     },
     "execution_count": 9,
     "metadata": {},
     "output_type": "execute_result"
    }
   ],
   "source": [
    "# check nulls\n",
    "df_cleaned.isna().sum()"
   ]
  },
  {
   "cell_type": "code",
   "execution_count": 10,
   "id": "a13284fe",
   "metadata": {},
   "outputs": [],
   "source": [
    "# to drop remaining nulls\n",
    "# df_cleaned = df_cleaned.dropna()"
   ]
  },
  {
   "cell_type": "markdown",
   "id": "8ddefcaf",
   "metadata": {},
   "source": [
    "# Create Delay DF"
   ]
  },
  {
   "cell_type": "code",
   "execution_count": 11,
   "id": "99802c8e",
   "metadata": {},
   "outputs": [],
   "source": [
    "query_delay = \"SELECT * FROM darwin WHERE is_delayed_arrival = True AND is_delayed_departure = True\"\n",
    "df_delay = pd.read_sql(query_delay, engine)"
   ]
  },
  {
   "cell_type": "code",
   "execution_count": 12,
   "id": "d1586148",
   "metadata": {},
   "outputs": [],
   "source": [
    "df_delay = df_delay.drop(columns=columns_to_drop)"
   ]
  },
  {
   "cell_type": "code",
   "execution_count": 13,
   "id": "64a09e93",
   "metadata": {},
   "outputs": [
    {
     "name": "stdout",
     "output_type": "stream",
     "text": [
      "<class 'pandas.core.frame.DataFrame'>\n",
      "RangeIndex: 19280 entries, 0 to 19279\n",
      "Data columns (total 14 columns):\n",
      " #   Column                  Non-Null Count  Dtype \n",
      "---  ------                  --------------  ----- \n",
      " 0   route_id                19280 non-null  object\n",
      " 1   unique_id               19280 non-null  object\n",
      " 2   service_start_date      19280 non-null  object\n",
      " 3   update_origin           19270 non-null  object\n",
      " 4   train_platform          19280 non-null  object\n",
      " 5   working_time_arrival    19280 non-null  object\n",
      " 6   working_time_departure  19280 non-null  object\n",
      " 7   planned_time_arrival    9587 non-null   object\n",
      " 8   planned_time_departure  9545 non-null   object\n",
      " 9   actual_arrival_time     19268 non-null  object\n",
      " 10  actual_departure_time   19226 non-null  object\n",
      " 11  platform                13728 non-null  object\n",
      " 12  is_delayed_arrival      19280 non-null  bool  \n",
      " 13  is_delayed_departure    19280 non-null  bool  \n",
      "dtypes: bool(2), object(12)\n",
      "memory usage: 1.8+ MB\n"
     ]
    }
   ],
   "source": [
    "df_delay.info()"
   ]
  },
  {
   "cell_type": "code",
   "execution_count": 14,
   "id": "375babaa",
   "metadata": {},
   "outputs": [
    {
     "data": {
      "text/plain": [
       "67"
      ]
     },
     "execution_count": 14,
     "metadata": {},
     "output_type": "execute_result"
    }
   ],
   "source": [
    "df_delay.duplicated().sum()"
   ]
  },
  {
   "cell_type": "markdown",
   "id": "d14f58be",
   "metadata": {},
   "source": [
    "# Adding Duration Column\n",
    "Convert times from object datatypes to time datatypes."
   ]
  },
  {
   "cell_type": "code",
   "execution_count": 15,
   "id": "3d8280cf",
   "metadata": {},
   "outputs": [],
   "source": [
    "df_cleaned['working_time_arrival'] = pd.to_datetime(df_cleaned['working_time_arrival'], format='%H:%M:%S')\n",
    "df_cleaned['working_time_departure'] = pd.to_datetime(df_cleaned['working_time_departure'], format='%H:%M:%S')"
   ]
  },
  {
   "cell_type": "markdown",
   "id": "ba2ec2df",
   "metadata": {},
   "source": [
    "Complete math to find duration."
   ]
  },
  {
   "cell_type": "code",
   "execution_count": 16,
   "id": "5fbe480c",
   "metadata": {},
   "outputs": [],
   "source": [
    "df_cleaned['duration (min)'] = ((df_cleaned['working_time_departure']-df_cleaned['working_time_arrival'])\\\n",
    "                                .dt.total_seconds()/60)"
   ]
  },
  {
   "cell_type": "markdown",
   "id": "a47503b6",
   "metadata": {},
   "source": [
    "Transition back to time only."
   ]
  },
  {
   "cell_type": "code",
   "execution_count": 17,
   "id": "fe337fa4",
   "metadata": {},
   "outputs": [],
   "source": [
    "df_cleaned['working_time_arrival'] = df_cleaned['working_time_arrival'].dt.time\n",
    "df_cleaned['working_time_departure'] = df_cleaned['working_time_departure'].dt.time"
   ]
  },
  {
   "cell_type": "markdown",
   "id": "2e24a1d7",
   "metadata": {},
   "source": [
    "Repeat for Delay Dataframe."
   ]
  },
  {
   "cell_type": "code",
   "execution_count": 18,
   "id": "2b9cd7e7",
   "metadata": {},
   "outputs": [],
   "source": [
    "df_delay['working_time_arrival'] = pd.to_datetime(df_delay['working_time_arrival'], format='%H:%M:%S')\n",
    "df_delay['working_time_departure'] = pd.to_datetime(df_delay['working_time_departure'], format='%H:%M:%S')\n",
    "df_delay['duration (min)'] = ((df_delay['working_time_departure']-df_delay['working_time_arrival'])\\\n",
    "                                .dt.total_seconds()/60)\n",
    "df_delay['working_time_arrival'] = df_delay['working_time_arrival'].dt.time\n",
    "df_delay['working_time_departure'] = df_delay['working_time_departure'].dt.time"
   ]
  },
  {
   "cell_type": "code",
   "execution_count": 19,
   "id": "90b58b30",
   "metadata": {},
   "outputs": [
    {
     "name": "stdout",
     "output_type": "stream",
     "text": [
      "duration (min)\n",
      "-1438.5       8\n",
      "-1438.0      11\n",
      "-1437.5       4\n",
      "-1437.0      14\n",
      "-1436.0      26\n",
      "-1435.0      14\n",
      "-1434.5       1\n",
      "-1434.0      12\n",
      "-1433.0       3\n",
      "-1432.0      11\n",
      "-1431.0       3\n",
      "-1430.0      23\n",
      "-1429.5       1\n",
      "-1429.0       1\n",
      "-1427.0       5\n",
      "-1426.0       1\n",
      "-1420.0       3\n",
      "-1419.0       7\n",
      "-1418.0       3\n",
      "-1406.5       1\n",
      "-1401.0       9\n",
      "-1395.0       6\n",
      "-1313.5       5\n",
      "-1310.5       1\n",
      "-1272.5       2\n",
      " 0.0       2657\n",
      "Name: count, dtype: int64\n"
     ]
    }
   ],
   "source": [
    "# Check for zero and negative values\n",
    "neg_zero_duration_counts = df_cleaned[df_cleaned['duration (min)'] <= 0]['duration (min)'].value_counts().sort_index(ascending=True)\n",
    "\n",
    "# Display the result\n",
    "print(neg_zero_duration_counts)"
   ]
  },
  {
   "cell_type": "code",
   "execution_count": 20,
   "id": "d350ebb3",
   "metadata": {},
   "outputs": [],
   "source": [
    "# Drop the rows with negative values in duration\n",
    "df_cleaned = df_cleaned[df_cleaned['duration (min)'] > 0]"
   ]
  },
  {
   "cell_type": "code",
   "execution_count": 21,
   "id": "e6807cd2",
   "metadata": {},
   "outputs": [
    {
     "name": "stdout",
     "output_type": "stream",
     "text": [
      "Series([], Name: count, dtype: int64)\n"
     ]
    }
   ],
   "source": [
    "# Check\n",
    "neg_zero_duration_counts = df_cleaned[df_cleaned['duration (min)'] <= 0]['duration (min)'].value_counts().sort_index(ascending=True)\n",
    "\n",
    "# Display the result\n",
    "print(neg_zero_duration_counts)"
   ]
  },
  {
   "cell_type": "markdown",
   "id": "8e1a4509",
   "metadata": {},
   "source": [
    "# Ingest Rail References Data"
   ]
  },
  {
   "cell_type": "code",
   "execution_count": 22,
   "id": "690fe18d",
   "metadata": {},
   "outputs": [],
   "source": [
    "reference_df = pd.read_csv('./raw_data/RailReferences.csv')"
   ]
  },
  {
   "cell_type": "markdown",
   "id": "30a8c505",
   "metadata": {},
   "source": [
    "## Convert Easting, Northing to Latitude and Longitude"
   ]
  },
  {
   "cell_type": "code",
   "execution_count": 23,
   "id": "e763a765",
   "metadata": {},
   "outputs": [
    {
     "name": "stdout",
     "output_type": "stream",
     "text": [
      "Requirement already satisfied: pyproj in c:\\users\\jules_7owst96\\anaconda3\\lib\\site-packages (3.6.1)\n",
      "Requirement already satisfied: certifi in c:\\users\\jules_7owst96\\anaconda3\\lib\\site-packages (from pyproj) (2024.2.2)\n"
     ]
    }
   ],
   "source": [
    "!pip install pyproj"
   ]
  },
  {
   "cell_type": "code",
   "execution_count": 24,
   "id": "73c6b1f8",
   "metadata": {},
   "outputs": [],
   "source": [
    "from pyproj import Transformer"
   ]
  },
  {
   "cell_type": "code",
   "execution_count": 25,
   "id": "d977b90e",
   "metadata": {},
   "outputs": [],
   "source": [
    "#  Define the British National Grid projection (EPSG:27700) and WGS84\n",
    "osgb_projection = 'epsg:27700'  # British National Grid\n",
    "wgs84_projection = 'epsg:4326'  # WGS84"
   ]
  },
  {
   "cell_type": "code",
   "execution_count": 26,
   "id": "04ae889d",
   "metadata": {},
   "outputs": [],
   "source": [
    "# Initialize the transformer\n",
    "transformer = Transformer.from_crs(osgb_projection, wgs84_projection)"
   ]
  },
  {
   "cell_type": "code",
   "execution_count": 27,
   "id": "e25e1eee",
   "metadata": {},
   "outputs": [],
   "source": [
    "# Function to convert British National Grid to latitude and longitude\n",
    "def convert_osgb_to_latlong(easting, northing):\n",
    "    longitude, latitude = transformer.transform(easting, northing)\n",
    "    return longitude, latitude"
   ]
  },
  {
   "cell_type": "code",
   "execution_count": 28,
   "id": "8c199522",
   "metadata": {},
   "outputs": [],
   "source": [
    "# Apply conversion to the DataFrame and create new columns Latitude and Longitude\n",
    "reference_df[['Latitude', 'Longitude']] = reference_df.apply(lambda row: convert_osgb_to_latlong(row['Easting'], row['Northing']),\\\n",
    "                                         axis=1,\\\n",
    "                                         result_type='expand')"
   ]
  },
  {
   "cell_type": "code",
   "execution_count": 29,
   "id": "4c2d5008",
   "metadata": {},
   "outputs": [
    {
     "data": {
      "text/html": [
       "<div>\n",
       "<style scoped>\n",
       "    .dataframe tbody tr th:only-of-type {\n",
       "        vertical-align: middle;\n",
       "    }\n",
       "\n",
       "    .dataframe tbody tr th {\n",
       "        vertical-align: top;\n",
       "    }\n",
       "\n",
       "    .dataframe thead th {\n",
       "        text-align: right;\n",
       "    }\n",
       "</style>\n",
       "<table border=\"1\" class=\"dataframe\">\n",
       "  <thead>\n",
       "    <tr style=\"text-align: right;\">\n",
       "      <th></th>\n",
       "      <th>TiplocCode</th>\n",
       "      <th>StationName</th>\n",
       "      <th>Latitude</th>\n",
       "      <th>Longitude</th>\n",
       "    </tr>\n",
       "  </thead>\n",
       "  <tbody>\n",
       "    <tr>\n",
       "      <th>0</th>\n",
       "      <td>PENZNCE</td>\n",
       "      <td>Penzance Rail Station</td>\n",
       "      <td>50.121672</td>\n",
       "      <td>-5.532565</td>\n",
       "    </tr>\n",
       "    <tr>\n",
       "      <th>1</th>\n",
       "      <td>STIVES</td>\n",
       "      <td>St Ives (Cornwall) Rail Station</td>\n",
       "      <td>50.209043</td>\n",
       "      <td>-5.477912</td>\n",
       "    </tr>\n",
       "    <tr>\n",
       "      <th>2</th>\n",
       "      <td>CARBISB</td>\n",
       "      <td>Carbis Bay Rail Station</td>\n",
       "      <td>50.197048</td>\n",
       "      <td>-5.463263</td>\n",
       "    </tr>\n",
       "    <tr>\n",
       "      <th>3</th>\n",
       "      <td>STERTH</td>\n",
       "      <td>St Erth Rail Station</td>\n",
       "      <td>50.170489</td>\n",
       "      <td>-5.444252</td>\n",
       "    </tr>\n",
       "    <tr>\n",
       "      <th>4</th>\n",
       "      <td>LELANTS</td>\n",
       "      <td>Lelant Saltings Rail Station</td>\n",
       "      <td>50.178775</td>\n",
       "      <td>-5.440926</td>\n",
       "    </tr>\n",
       "    <tr>\n",
       "      <th>...</th>\n",
       "      <td>...</td>\n",
       "      <td>...</td>\n",
       "      <td>...</td>\n",
       "      <td>...</td>\n",
       "    </tr>\n",
       "    <tr>\n",
       "      <th>2623</th>\n",
       "      <td>SMRLYTN</td>\n",
       "      <td>Somerleyton Rail Station</td>\n",
       "      <td>52.510229</td>\n",
       "      <td>1.652260</td>\n",
       "    </tr>\n",
       "    <tr>\n",
       "      <th>2624</th>\n",
       "      <td>OULTNBS</td>\n",
       "      <td>Oulton Broad South Rail Station</td>\n",
       "      <td>52.469602</td>\n",
       "      <td>1.707659</td>\n",
       "    </tr>\n",
       "    <tr>\n",
       "      <th>2625</th>\n",
       "      <td>YARMTH</td>\n",
       "      <td>Great Yarmouth Rail Station</td>\n",
       "      <td>52.612158</td>\n",
       "      <td>1.720886</td>\n",
       "    </tr>\n",
       "    <tr>\n",
       "      <th>2626</th>\n",
       "      <td>OULTNBN</td>\n",
       "      <td>Oulton Broad North Rail Station</td>\n",
       "      <td>52.477759</td>\n",
       "      <td>1.715711</td>\n",
       "    </tr>\n",
       "    <tr>\n",
       "      <th>2627</th>\n",
       "      <td>LOWSTFT</td>\n",
       "      <td>Lowestoft Rail Station</td>\n",
       "      <td>52.474436</td>\n",
       "      <td>1.749708</td>\n",
       "    </tr>\n",
       "  </tbody>\n",
       "</table>\n",
       "<p>2628 rows × 4 columns</p>\n",
       "</div>"
      ],
      "text/plain": [
       "     TiplocCode                      StationName   Latitude  Longitude\n",
       "0       PENZNCE            Penzance Rail Station  50.121672  -5.532565\n",
       "1        STIVES  St Ives (Cornwall) Rail Station  50.209043  -5.477912\n",
       "2       CARBISB          Carbis Bay Rail Station  50.197048  -5.463263\n",
       "3        STERTH             St Erth Rail Station  50.170489  -5.444252\n",
       "4       LELANTS     Lelant Saltings Rail Station  50.178775  -5.440926\n",
       "...         ...                              ...        ...        ...\n",
       "2623    SMRLYTN         Somerleyton Rail Station  52.510229   1.652260\n",
       "2624    OULTNBS  Oulton Broad South Rail Station  52.469602   1.707659\n",
       "2625     YARMTH      Great Yarmouth Rail Station  52.612158   1.720886\n",
       "2626    OULTNBN  Oulton Broad North Rail Station  52.477759   1.715711\n",
       "2627    LOWSTFT           Lowestoft Rail Station  52.474436   1.749708\n",
       "\n",
       "[2628 rows x 4 columns]"
      ]
     },
     "execution_count": 29,
     "metadata": {},
     "output_type": "execute_result"
    }
   ],
   "source": [
    "# Data need for analysis \n",
    "data = reference_df[['TiplocCode', 'StationName', 'Latitude', 'Longitude']]\n",
    "data"
   ]
  },
  {
   "cell_type": "markdown",
   "id": "35d54f49",
   "metadata": {},
   "source": [
    "### Data Enrichment\n",
    "Used this section to add identifying information for top Timing Point Locations (*TiplocCode*) not already identified in the supplied \"RailReferences.csv\" data. "
   ]
  },
  {
   "cell_type": "markdown",
   "id": "e390b53c",
   "metadata": {},
   "source": [
    "Research indicates that the Timing Point Location for BONDST, correlates to Bond Street Station$^{1}$ located at 51.514°N, 0.15°W$^{2}$. "
   ]
  },
  {
   "cell_type": "code",
   "execution_count": 30,
   "id": "d8430988",
   "metadata": {},
   "outputs": [],
   "source": [
    "new_row = pd.DataFrame([['BONDST', 'Bond Street Station', 51.514, -0.15]], columns=data.columns)\n",
    "data = pd.concat([data, new_row], ignore_index=True)"
   ]
  },
  {
   "cell_type": "markdown",
   "id": "23d03be2",
   "metadata": {},
   "source": [
    "Research indicates that the Timing Point Location for TOTCTRD, correlates to Tottenham Court Road$^{1}$ located at 51.5207°N, 0.1345°W$^{3}$. "
   ]
  },
  {
   "cell_type": "code",
   "execution_count": 31,
   "id": "6d2bdeb8",
   "metadata": {},
   "outputs": [],
   "source": [
    "new_row = pd.DataFrame([['TOTCTRD', 'Tottenham Court Road', 51.5207, -0.1345]], columns=data.columns)\n",
    "data = pd.concat([data, new_row], ignore_index=True)"
   ]
  },
  {
   "cell_type": "markdown",
   "id": "806afc4e",
   "metadata": {},
   "source": [
    "Research indicates that the Timing Point Location for CANWHRF, correlates to Canary Wharf Railway Station$^{1}$ located at 51.5061°N, 0.01578°W$^{4}$. "
   ]
  },
  {
   "cell_type": "code",
   "execution_count": 32,
   "id": "2763d27c",
   "metadata": {},
   "outputs": [],
   "source": [
    "new_row = pd.DataFrame([['CANWHRF', 'Canary Wharf Railway Station', 51.5061, -0.01578]], columns=data.columns)\n",
    "data = pd.concat([data, new_row], ignore_index=True)"
   ]
  },
  {
   "cell_type": "markdown",
   "id": "e5e94c0e",
   "metadata": {},
   "source": [
    "Research indicates that the Timing Point Location for WCHAPXR, correlates to Whitechapel Crossrail$^{1}$ located at 51.5195°N, 0.0612°W$^{5, 6}$. "
   ]
  },
  {
   "cell_type": "code",
   "execution_count": 33,
   "id": "8dd2e2b2",
   "metadata": {},
   "outputs": [],
   "source": [
    "new_row = pd.DataFrame([['WCHAPXR', 'Whitechapel Crossrail', 51.9195, -0.0612]], columns=data.columns)\n",
    "data = pd.concat([data, new_row], ignore_index=True)"
   ]
  },
  {
   "cell_type": "markdown",
   "id": "1dc21909",
   "metadata": {},
   "source": [
    "Research indicates that the Timing Point Location for LIVSTLL, correlates to London Liverpool Street Crossrail$^{1}$ located at 51.5186°N, 0.0813°W$^{6, 7}$. "
   ]
  },
  {
   "cell_type": "code",
   "execution_count": 34,
   "id": "eb8a1a10",
   "metadata": {},
   "outputs": [],
   "source": [
    "new_row = pd.DataFrame([['LIVSTLL', 'London Liverpool Street Crossrail', 51.5186, -0.0813]], columns=data.columns)\n",
    "data = pd.concat([data, new_row], ignore_index=True)"
   ]
  },
  {
   "cell_type": "markdown",
   "id": "454c1792",
   "metadata": {},
   "source": [
    "### Bibliography"
   ]
  },
  {
   "cell_type": "markdown",
   "id": "c1672783",
   "metadata": {},
   "source": [
    "1. http://www.railwaycodes.org.uk/crs/crsb.shtm\n",
    "\n",
    "2. https://en.wikipedia.org/wiki/Bond_Street_station\n",
    "\n",
    "3. https://en.wikipedia.org/wiki/Tottenham_Court_Road\n",
    "\n",
    "4. https://en.wikipedia.org/wiki/Canary_Wharf_railway_station\n",
    "\n",
    "5. https://en.wikipedia.org/wiki/Whitechapel_station\n",
    "\n",
    "6. https://en.wikipedia.org/wiki/Crossrail\n",
    "\n",
    "7. https://en.wikipedia.org/wiki/Liverpool_Street_station"
   ]
  },
  {
   "cell_type": "markdown",
   "id": "f09df714",
   "metadata": {},
   "source": [
    "## Using Rail References to Replace Train Platform with Station Name"
   ]
  },
  {
   "cell_type": "code",
   "execution_count": 35,
   "id": "6f5c7fad",
   "metadata": {},
   "outputs": [],
   "source": [
    "# Merge df_cleaned with data columns from reference_df\n",
    "\n",
    "df_merged = df_cleaned.merge(data, left_on='train_platform', right_on='TiplocCode', how='left')"
   ]
  },
  {
   "cell_type": "code",
   "execution_count": 36,
   "id": "091f5b57",
   "metadata": {},
   "outputs": [
    {
     "data": {
      "text/html": [
       "<div>\n",
       "<style scoped>\n",
       "    .dataframe tbody tr th:only-of-type {\n",
       "        vertical-align: middle;\n",
       "    }\n",
       "\n",
       "    .dataframe tbody tr th {\n",
       "        vertical-align: top;\n",
       "    }\n",
       "\n",
       "    .dataframe thead th {\n",
       "        text-align: right;\n",
       "    }\n",
       "</style>\n",
       "<table border=\"1\" class=\"dataframe\">\n",
       "  <thead>\n",
       "    <tr style=\"text-align: right;\">\n",
       "      <th></th>\n",
       "      <th>train_platform</th>\n",
       "      <th>TiplocCode</th>\n",
       "      <th>StationName</th>\n",
       "    </tr>\n",
       "  </thead>\n",
       "  <tbody>\n",
       "    <tr>\n",
       "      <th>16</th>\n",
       "      <td>WOLWXR</td>\n",
       "      <td>NaN</td>\n",
       "      <td>NaN</td>\n",
       "    </tr>\n",
       "    <tr>\n",
       "      <th>23</th>\n",
       "      <td>FRMPKRS</td>\n",
       "      <td>NaN</td>\n",
       "      <td>NaN</td>\n",
       "    </tr>\n",
       "    <tr>\n",
       "      <th>24</th>\n",
       "      <td>HRNS451</td>\n",
       "      <td>NaN</td>\n",
       "      <td>NaN</td>\n",
       "    </tr>\n",
       "    <tr>\n",
       "      <th>25</th>\n",
       "      <td>BOWERRL</td>\n",
       "      <td>NaN</td>\n",
       "      <td>NaN</td>\n",
       "    </tr>\n",
       "    <tr>\n",
       "      <th>52</th>\n",
       "      <td>CMRNBDG</td>\n",
       "      <td>NaN</td>\n",
       "      <td>NaN</td>\n",
       "    </tr>\n",
       "    <tr>\n",
       "      <th>...</th>\n",
       "      <td>...</td>\n",
       "      <td>...</td>\n",
       "      <td>...</td>\n",
       "    </tr>\n",
       "    <tr>\n",
       "      <th>182397</th>\n",
       "      <td>CIVI</td>\n",
       "      <td>NaN</td>\n",
       "      <td>NaN</td>\n",
       "    </tr>\n",
       "    <tr>\n",
       "      <th>182398</th>\n",
       "      <td>UNIV</td>\n",
       "      <td>NaN</td>\n",
       "      <td>NaN</td>\n",
       "    </tr>\n",
       "    <tr>\n",
       "      <th>182399</th>\n",
       "      <td>MLLF</td>\n",
       "      <td>NaN</td>\n",
       "      <td>NaN</td>\n",
       "    </tr>\n",
       "    <tr>\n",
       "      <th>182400</th>\n",
       "      <td>PALL</td>\n",
       "      <td>NaN</td>\n",
       "      <td>NaN</td>\n",
       "    </tr>\n",
       "    <tr>\n",
       "      <th>182467</th>\n",
       "      <td>CARD342</td>\n",
       "      <td>NaN</td>\n",
       "      <td>NaN</td>\n",
       "    </tr>\n",
       "  </tbody>\n",
       "</table>\n",
       "<p>9279 rows × 3 columns</p>\n",
       "</div>"
      ],
      "text/plain": [
       "       train_platform TiplocCode StationName\n",
       "16             WOLWXR        NaN         NaN\n",
       "23            FRMPKRS        NaN         NaN\n",
       "24            HRNS451        NaN         NaN\n",
       "25            BOWERRL        NaN         NaN\n",
       "52            CMRNBDG        NaN         NaN\n",
       "...               ...        ...         ...\n",
       "182397           CIVI        NaN         NaN\n",
       "182398           UNIV        NaN         NaN\n",
       "182399           MLLF        NaN         NaN\n",
       "182400           PALL        NaN         NaN\n",
       "182467        CARD342        NaN         NaN\n",
       "\n",
       "[9279 rows x 3 columns]"
      ]
     },
     "execution_count": 36,
     "metadata": {},
     "output_type": "execute_result"
    }
   ],
   "source": [
    "# checking where train_platform has no related StationName/Tiploccode\n",
    "nan_rows = df_merged[df_merged[['TiplocCode', 'StationName']].isna().any(axis=1)]\n",
    "\n",
    "nan_rows[['train_platform', 'TiplocCode', 'StationName']]"
   ]
  },
  {
   "cell_type": "code",
   "execution_count": 37,
   "id": "7658295f",
   "metadata": {},
   "outputs": [
    {
     "data": {
      "text/plain": [
       "train_platform\n",
       "FRNDXR     485\n",
       "PADTLL     294\n",
       "CUSTMHS    283\n",
       "WOLWXR     261\n",
       "BRENTX     232\n",
       "STALBCS    216\n",
       "MAGHNTH    191\n",
       "PALL       148\n",
       "MLLF       145\n",
       "CNNBELL    144\n",
       "STDI       131\n",
       "UNIV       131\n",
       "CIVI       130\n",
       "FELL       123\n",
       "SHLDNO1    116\n",
       "PELAWTW    111\n",
       "BOWERRL    106\n",
       "ASHFDYW    102\n",
       "HEWOMTR     98\n",
       "EBSFLTI     94\n",
       "Name: count, dtype: int64"
      ]
     },
     "execution_count": 37,
     "metadata": {},
     "output_type": "execute_result"
    }
   ],
   "source": [
    "# Identifying most highly frequented unknown Station Names\n",
    "station_NaN = df_merged[df_merged['StationName'].isna()]['train_platform'].value_counts()\n",
    "station_NaN.head(20)"
   ]
  },
  {
   "cell_type": "code",
   "execution_count": 38,
   "id": "a00c4fbe",
   "metadata": {},
   "outputs": [],
   "source": [
    "# fill NaN values in the StationName column with the corresponding train_platform values\n",
    "df_merged['StationName'] = df_merged['StationName'].fillna(df_merged['train_platform'])\n",
    "\n",
    "# Drop TiplocCode to avoid redundency\n",
    "# df_merged.drop(columns=['TiplocCode'], inplace=True)\n",
    "\n",
    "# Replace 'Rail Station' with an empty string to make more readable\n",
    "df_merged['StationName'] = df_merged['StationName'].str.replace(' Rail Station', '')"
   ]
  },
  {
   "cell_type": "code",
   "execution_count": 39,
   "id": "5a275ed7",
   "metadata": {},
   "outputs": [
    {
     "name": "stdout",
     "output_type": "stream",
     "text": [
      "<class 'pandas.core.frame.DataFrame'>\n",
      "RangeIndex: 182497 entries, 0 to 182496\n",
      "Data columns (total 19 columns):\n",
      " #   Column                  Non-Null Count   Dtype  \n",
      "---  ------                  --------------   -----  \n",
      " 0   route_id                182497 non-null  object \n",
      " 1   unique_id               182497 non-null  object \n",
      " 2   service_start_date      182497 non-null  object \n",
      " 3   update_origin           178268 non-null  object \n",
      " 4   train_platform          182497 non-null  object \n",
      " 5   working_time_arrival    182497 non-null  object \n",
      " 6   working_time_departure  182497 non-null  object \n",
      " 7   planned_time_arrival    167987 non-null  object \n",
      " 8   planned_time_departure  167532 non-null  object \n",
      " 9   actual_arrival_time     152996 non-null  object \n",
      " 10  actual_departure_time   170443 non-null  object \n",
      " 11  platform                172364 non-null  object \n",
      " 12  is_delayed_arrival      182497 non-null  bool   \n",
      " 13  is_delayed_departure    182497 non-null  bool   \n",
      " 14  duration (min)          182497 non-null  float64\n",
      " 15  TiplocCode              173218 non-null  object \n",
      " 16  StationName             182497 non-null  object \n",
      " 17  Latitude                173218 non-null  float64\n",
      " 18  Longitude               173218 non-null  float64\n",
      "dtypes: bool(2), float64(3), object(14)\n",
      "memory usage: 24.0+ MB\n"
     ]
    }
   ],
   "source": [
    "df_merged.info()"
   ]
  },
  {
   "cell_type": "markdown",
   "id": "cb3e58fb",
   "metadata": {},
   "source": [
    "# Delays"
   ]
  },
  {
   "cell_type": "code",
   "execution_count": 40,
   "id": "dc54f2d3",
   "metadata": {},
   "outputs": [],
   "source": [
    "df_delay = df_delay.merge(data, left_on='train_platform', right_on='TiplocCode', how='left')"
   ]
  },
  {
   "cell_type": "code",
   "execution_count": 41,
   "id": "7edc7989",
   "metadata": {},
   "outputs": [],
   "source": [
    "# fill NaN values in the StationName column with the corresponding train_platform values\n",
    "df_delay['StationName'] = df_delay['StationName'].fillna(df_delay['train_platform'])\n",
    "\n",
    "# Replace 'Rail Station' with an empty string to make more readable\n",
    "df_delay['StationName'] = df_delay['StationName'].str.replace(' Rail Station', '')"
   ]
  },
  {
   "cell_type": "code",
   "execution_count": 42,
   "id": "2753bee4",
   "metadata": {},
   "outputs": [
    {
     "name": "stdout",
     "output_type": "stream",
     "text": [
      "<class 'pandas.core.frame.DataFrame'>\n",
      "RangeIndex: 19280 entries, 0 to 19279\n",
      "Data columns (total 19 columns):\n",
      " #   Column                  Non-Null Count  Dtype  \n",
      "---  ------                  --------------  -----  \n",
      " 0   route_id                19280 non-null  object \n",
      " 1   unique_id               19280 non-null  object \n",
      " 2   service_start_date      19280 non-null  object \n",
      " 3   update_origin           19270 non-null  object \n",
      " 4   train_platform          19280 non-null  object \n",
      " 5   working_time_arrival    19280 non-null  object \n",
      " 6   working_time_departure  19280 non-null  object \n",
      " 7   planned_time_arrival    9587 non-null   object \n",
      " 8   planned_time_departure  9545 non-null   object \n",
      " 9   actual_arrival_time     19268 non-null  object \n",
      " 10  actual_departure_time   19226 non-null  object \n",
      " 11  platform                13728 non-null  object \n",
      " 12  is_delayed_arrival      19280 non-null  bool   \n",
      " 13  is_delayed_departure    19280 non-null  bool   \n",
      " 14  duration (min)          19280 non-null  float64\n",
      " 15  TiplocCode              14351 non-null  object \n",
      " 16  StationName             19280 non-null  object \n",
      " 17  Latitude                14351 non-null  float64\n",
      " 18  Longitude               14351 non-null  float64\n",
      "dtypes: bool(2), float64(3), object(14)\n",
      "memory usage: 2.5+ MB\n"
     ]
    }
   ],
   "source": [
    "df_delay.info()"
   ]
  },
  {
   "cell_type": "markdown",
   "id": "cc134dc8",
   "metadata": {},
   "source": [
    "Determine the minutes delayed."
   ]
  },
  {
   "cell_type": "code",
   "execution_count": 43,
   "id": "015ff334",
   "metadata": {},
   "outputs": [],
   "source": [
    "df_delay['working_time_arrival'] = pd.to_datetime(df_delay['working_time_arrival'], format='%H:%M:%S')\n",
    "df_delay['working_time_departure'] = pd.to_datetime(df_delay['working_time_departure'], format='%H:%M:%S')\n",
    "df_delay['duration (min)'] = ((df_delay['working_time_departure']-df_delay['working_time_arrival'])\\\n",
    "                                .dt.total_seconds()/60)"
   ]
  },
  {
   "cell_type": "code",
   "execution_count": 44,
   "id": "fdb82113",
   "metadata": {},
   "outputs": [],
   "source": [
    "df_delay['actual_arrival_time'] = pd.to_datetime(df_delay['actual_arrival_time'], format='%H:%M:%S')\n",
    "df_delay['actual_departure_time'] = pd.to_datetime(df_delay['actual_departure_time'], format='%H:%M:%S')"
   ]
  },
  {
   "cell_type": "code",
   "execution_count": 45,
   "id": "e274bee2",
   "metadata": {},
   "outputs": [],
   "source": [
    "df_delay['depart_delay(min)'] = ((df_delay['actual_departure_time']-df_delay['working_time_departure'])\\\n",
    "                                .dt.total_seconds()/60)"
   ]
  },
  {
   "cell_type": "code",
   "execution_count": 46,
   "id": "232c2e93",
   "metadata": {},
   "outputs": [],
   "source": [
    "df_delay['arrive_delay(min)'] = ((df_delay['actual_arrival_time']-df_delay['working_time_arrival'])\\\n",
    "                                .dt.total_seconds()/60)"
   ]
  },
  {
   "cell_type": "code",
   "execution_count": 47,
   "id": "b06277ba",
   "metadata": {},
   "outputs": [],
   "source": [
    "df_delay['working_time_arrival'] = df_delay['working_time_arrival'].dt.time\n",
    "df_delay['working_time_departure'] = df_delay['working_time_departure'].dt.time\n",
    "df_delay['actual_arrival_time'] = df_delay['actual_arrival_time'].dt.time\n",
    "df_delay['actual_departure_time'] = df_delay['actual_departure_time'].dt.time"
   ]
  },
  {
   "cell_type": "code",
   "execution_count": 48,
   "id": "72e933a7",
   "metadata": {},
   "outputs": [
    {
     "data": {
      "text/html": [
       "<div>\n",
       "<style scoped>\n",
       "    .dataframe tbody tr th:only-of-type {\n",
       "        vertical-align: middle;\n",
       "    }\n",
       "\n",
       "    .dataframe tbody tr th {\n",
       "        vertical-align: top;\n",
       "    }\n",
       "\n",
       "    .dataframe thead th {\n",
       "        text-align: right;\n",
       "    }\n",
       "</style>\n",
       "<table border=\"1\" class=\"dataframe\">\n",
       "  <thead>\n",
       "    <tr style=\"text-align: right;\">\n",
       "      <th></th>\n",
       "      <th>duration (min)</th>\n",
       "      <th>Latitude</th>\n",
       "      <th>Longitude</th>\n",
       "      <th>depart_delay(min)</th>\n",
       "      <th>arrive_delay(min)</th>\n",
       "    </tr>\n",
       "  </thead>\n",
       "  <tbody>\n",
       "    <tr>\n",
       "      <th>count</th>\n",
       "      <td>19280.000000</td>\n",
       "      <td>14351.000000</td>\n",
       "      <td>14351.000000</td>\n",
       "      <td>19226.000000</td>\n",
       "      <td>19268.000000</td>\n",
       "    </tr>\n",
       "    <tr>\n",
       "      <th>mean</th>\n",
       "      <td>-3.706678</td>\n",
       "      <td>52.492155</td>\n",
       "      <td>-1.295266</td>\n",
       "      <td>-29.017201</td>\n",
       "      <td>-32.585528</td>\n",
       "    </tr>\n",
       "    <tr>\n",
       "      <th>std</th>\n",
       "      <td>100.592444</td>\n",
       "      <td>1.365463</td>\n",
       "      <td>1.377041</td>\n",
       "      <td>310.839502</td>\n",
       "      <td>321.862661</td>\n",
       "    </tr>\n",
       "    <tr>\n",
       "      <th>min</th>\n",
       "      <td>-1438.000000</td>\n",
       "      <td>50.170489</td>\n",
       "      <td>-5.444252</td>\n",
       "      <td>-1439.000000</td>\n",
       "      <td>-1437.000000</td>\n",
       "    </tr>\n",
       "    <tr>\n",
       "      <th>25%</th>\n",
       "      <td>0.500000</td>\n",
       "      <td>51.532026</td>\n",
       "      <td>-2.277624</td>\n",
       "      <td>4.500000</td>\n",
       "      <td>5.500000</td>\n",
       "    </tr>\n",
       "    <tr>\n",
       "      <th>50%</th>\n",
       "      <td>1.000000</td>\n",
       "      <td>51.866690</td>\n",
       "      <td>-1.093182</td>\n",
       "      <td>22.000000</td>\n",
       "      <td>24.000000</td>\n",
       "    </tr>\n",
       "    <tr>\n",
       "      <th>75%</th>\n",
       "      <td>3.500000</td>\n",
       "      <td>53.446619</td>\n",
       "      <td>-0.191215</td>\n",
       "      <td>66.500000</td>\n",
       "      <td>69.000000</td>\n",
       "    </tr>\n",
       "    <tr>\n",
       "      <th>max</th>\n",
       "      <td>247.000000</td>\n",
       "      <td>57.188510</td>\n",
       "      <td>1.715711</td>\n",
       "      <td>1436.000000</td>\n",
       "      <td>1438.000000</td>\n",
       "    </tr>\n",
       "  </tbody>\n",
       "</table>\n",
       "</div>"
      ],
      "text/plain": [
       "       duration (min)      Latitude     Longitude  depart_delay(min)  \\\n",
       "count    19280.000000  14351.000000  14351.000000       19226.000000   \n",
       "mean        -3.706678     52.492155     -1.295266         -29.017201   \n",
       "std        100.592444      1.365463      1.377041         310.839502   \n",
       "min      -1438.000000     50.170489     -5.444252       -1439.000000   \n",
       "25%          0.500000     51.532026     -2.277624           4.500000   \n",
       "50%          1.000000     51.866690     -1.093182          22.000000   \n",
       "75%          3.500000     53.446619     -0.191215          66.500000   \n",
       "max        247.000000     57.188510      1.715711        1436.000000   \n",
       "\n",
       "       arrive_delay(min)  \n",
       "count       19268.000000  \n",
       "mean          -32.585528  \n",
       "std           321.862661  \n",
       "min         -1437.000000  \n",
       "25%             5.500000  \n",
       "50%            24.000000  \n",
       "75%            69.000000  \n",
       "max          1438.000000  "
      ]
     },
     "execution_count": 48,
     "metadata": {},
     "output_type": "execute_result"
    }
   ],
   "source": [
    "df_delay.describe()"
   ]
  },
  {
   "cell_type": "markdown",
   "id": "31c24514",
   "metadata": {},
   "source": [
    "We can see that the math in the previous step created some erroneous values (minimum of depart_delay(min) is negative.) This will occur in cases where there is no reported actual_departure_time. We will get the value zero where the train is not delayed. We will define a function to remove delays less than or equal to zero."
   ]
  },
  {
   "cell_type": "code",
   "execution_count": 49,
   "id": "432ac7e8",
   "metadata": {},
   "outputs": [],
   "source": [
    "def remove_neg_and_zero(delay):\n",
    "    if delay <= 0:\n",
    "        delay = None\n",
    "    else:\n",
    "        delay = delay\n",
    "    return delay"
   ]
  },
  {
   "cell_type": "code",
   "execution_count": 50,
   "id": "4bd917d4",
   "metadata": {},
   "outputs": [],
   "source": [
    "df_delay['depart_delay(min)'] = df_delay['depart_delay(min)'].apply(remove_neg_and_zero)\n",
    "df_delay['arrive_delay(min)'] = df_delay['arrive_delay(min)'].apply(remove_neg_and_zero)"
   ]
  },
  {
   "cell_type": "code",
   "execution_count": 51,
   "id": "8ad94c56",
   "metadata": {},
   "outputs": [
    {
     "data": {
      "text/html": [
       "<div>\n",
       "<style scoped>\n",
       "    .dataframe tbody tr th:only-of-type {\n",
       "        vertical-align: middle;\n",
       "    }\n",
       "\n",
       "    .dataframe tbody tr th {\n",
       "        vertical-align: top;\n",
       "    }\n",
       "\n",
       "    .dataframe thead th {\n",
       "        text-align: right;\n",
       "    }\n",
       "</style>\n",
       "<table border=\"1\" class=\"dataframe\">\n",
       "  <thead>\n",
       "    <tr style=\"text-align: right;\">\n",
       "      <th></th>\n",
       "      <th>duration (min)</th>\n",
       "      <th>Latitude</th>\n",
       "      <th>Longitude</th>\n",
       "      <th>depart_delay(min)</th>\n",
       "      <th>arrive_delay(min)</th>\n",
       "    </tr>\n",
       "  </thead>\n",
       "  <tbody>\n",
       "    <tr>\n",
       "      <th>count</th>\n",
       "      <td>19280.000000</td>\n",
       "      <td>14351.000000</td>\n",
       "      <td>14351.000000</td>\n",
       "      <td>16218.000000</td>\n",
       "      <td>17147.000000</td>\n",
       "    </tr>\n",
       "    <tr>\n",
       "      <th>mean</th>\n",
       "      <td>-3.706678</td>\n",
       "      <td>52.492155</td>\n",
       "      <td>-1.295266</td>\n",
       "      <td>47.854440</td>\n",
       "      <td>46.983324</td>\n",
       "    </tr>\n",
       "    <tr>\n",
       "      <th>std</th>\n",
       "      <td>100.592444</td>\n",
       "      <td>1.365463</td>\n",
       "      <td>1.377041</td>\n",
       "      <td>55.635259</td>\n",
       "      <td>51.478889</td>\n",
       "    </tr>\n",
       "    <tr>\n",
       "      <th>min</th>\n",
       "      <td>-1438.000000</td>\n",
       "      <td>50.170489</td>\n",
       "      <td>-5.444252</td>\n",
       "      <td>0.500000</td>\n",
       "      <td>0.500000</td>\n",
       "    </tr>\n",
       "    <tr>\n",
       "      <th>25%</th>\n",
       "      <td>0.500000</td>\n",
       "      <td>51.532026</td>\n",
       "      <td>-2.277624</td>\n",
       "      <td>10.000000</td>\n",
       "      <td>9.500000</td>\n",
       "    </tr>\n",
       "    <tr>\n",
       "      <th>50%</th>\n",
       "      <td>1.000000</td>\n",
       "      <td>51.866690</td>\n",
       "      <td>-1.093182</td>\n",
       "      <td>35.000000</td>\n",
       "      <td>34.000000</td>\n",
       "    </tr>\n",
       "    <tr>\n",
       "      <th>75%</th>\n",
       "      <td>3.500000</td>\n",
       "      <td>53.446619</td>\n",
       "      <td>-0.191215</td>\n",
       "      <td>74.000000</td>\n",
       "      <td>74.000000</td>\n",
       "    </tr>\n",
       "    <tr>\n",
       "      <th>max</th>\n",
       "      <td>247.000000</td>\n",
       "      <td>57.188510</td>\n",
       "      <td>1.715711</td>\n",
       "      <td>1436.000000</td>\n",
       "      <td>1438.000000</td>\n",
       "    </tr>\n",
       "  </tbody>\n",
       "</table>\n",
       "</div>"
      ],
      "text/plain": [
       "       duration (min)      Latitude     Longitude  depart_delay(min)  \\\n",
       "count    19280.000000  14351.000000  14351.000000       16218.000000   \n",
       "mean        -3.706678     52.492155     -1.295266          47.854440   \n",
       "std        100.592444      1.365463      1.377041          55.635259   \n",
       "min      -1438.000000     50.170489     -5.444252           0.500000   \n",
       "25%          0.500000     51.532026     -2.277624          10.000000   \n",
       "50%          1.000000     51.866690     -1.093182          35.000000   \n",
       "75%          3.500000     53.446619     -0.191215          74.000000   \n",
       "max        247.000000     57.188510      1.715711        1436.000000   \n",
       "\n",
       "       arrive_delay(min)  \n",
       "count       17147.000000  \n",
       "mean           46.983324  \n",
       "std            51.478889  \n",
       "min             0.500000  \n",
       "25%             9.500000  \n",
       "50%            34.000000  \n",
       "75%            74.000000  \n",
       "max          1438.000000  "
      ]
     },
     "execution_count": 51,
     "metadata": {},
     "output_type": "execute_result"
    }
   ],
   "source": [
    "df_delay.describe()"
   ]
  },
  {
   "cell_type": "markdown",
   "id": "52b090a3",
   "metadata": {},
   "source": [
    "We can see that the are some erroneous high values for depart_delay(min) and arrive_delay(min). We will remove any values over 420minutes (7hrs), assuming those trains are rescheduled rather than delayed."
   ]
  },
  {
   "cell_type": "code",
   "execution_count": 52,
   "id": "68a2df3f",
   "metadata": {},
   "outputs": [],
   "source": [
    "def remove_over_420(delay):\n",
    "    if delay > 420:\n",
    "        delay = None\n",
    "    else:\n",
    "        delay = delay\n",
    "    return delay"
   ]
  },
  {
   "cell_type": "code",
   "execution_count": 53,
   "id": "f9946f92",
   "metadata": {},
   "outputs": [],
   "source": [
    "df_delay['depart_delay(min)'] = df_delay['depart_delay(min)'].apply(remove_over_420)\n",
    "df_delay['arrive_delay(min)'] = df_delay['arrive_delay(min)'].apply(remove_over_420)"
   ]
  },
  {
   "cell_type": "code",
   "execution_count": 54,
   "id": "51e9cac2",
   "metadata": {},
   "outputs": [
    {
     "data": {
      "text/html": [
       "<div>\n",
       "<style scoped>\n",
       "    .dataframe tbody tr th:only-of-type {\n",
       "        vertical-align: middle;\n",
       "    }\n",
       "\n",
       "    .dataframe tbody tr th {\n",
       "        vertical-align: top;\n",
       "    }\n",
       "\n",
       "    .dataframe thead th {\n",
       "        text-align: right;\n",
       "    }\n",
       "</style>\n",
       "<table border=\"1\" class=\"dataframe\">\n",
       "  <thead>\n",
       "    <tr style=\"text-align: right;\">\n",
       "      <th></th>\n",
       "      <th>duration (min)</th>\n",
       "      <th>Latitude</th>\n",
       "      <th>Longitude</th>\n",
       "      <th>depart_delay(min)</th>\n",
       "      <th>arrive_delay(min)</th>\n",
       "    </tr>\n",
       "  </thead>\n",
       "  <tbody>\n",
       "    <tr>\n",
       "      <th>count</th>\n",
       "      <td>19280.000000</td>\n",
       "      <td>14351.000000</td>\n",
       "      <td>14351.000000</td>\n",
       "      <td>16207.000000</td>\n",
       "      <td>17140.000000</td>\n",
       "    </tr>\n",
       "    <tr>\n",
       "      <th>mean</th>\n",
       "      <td>-3.706678</td>\n",
       "      <td>52.492155</td>\n",
       "      <td>-1.295266</td>\n",
       "      <td>46.942759</td>\n",
       "      <td>46.439851</td>\n",
       "    </tr>\n",
       "    <tr>\n",
       "      <th>std</th>\n",
       "      <td>100.592444</td>\n",
       "      <td>1.365463</td>\n",
       "      <td>1.377041</td>\n",
       "      <td>43.246970</td>\n",
       "      <td>43.891857</td>\n",
       "    </tr>\n",
       "    <tr>\n",
       "      <th>min</th>\n",
       "      <td>-1438.000000</td>\n",
       "      <td>50.170489</td>\n",
       "      <td>-5.444252</td>\n",
       "      <td>0.500000</td>\n",
       "      <td>0.500000</td>\n",
       "    </tr>\n",
       "    <tr>\n",
       "      <th>25%</th>\n",
       "      <td>0.500000</td>\n",
       "      <td>51.532026</td>\n",
       "      <td>-2.277624</td>\n",
       "      <td>10.000000</td>\n",
       "      <td>9.500000</td>\n",
       "    </tr>\n",
       "    <tr>\n",
       "      <th>50%</th>\n",
       "      <td>1.000000</td>\n",
       "      <td>51.866690</td>\n",
       "      <td>-1.093182</td>\n",
       "      <td>35.000000</td>\n",
       "      <td>34.000000</td>\n",
       "    </tr>\n",
       "    <tr>\n",
       "      <th>75%</th>\n",
       "      <td>3.500000</td>\n",
       "      <td>53.446619</td>\n",
       "      <td>-0.191215</td>\n",
       "      <td>74.000000</td>\n",
       "      <td>74.000000</td>\n",
       "    </tr>\n",
       "    <tr>\n",
       "      <th>max</th>\n",
       "      <td>247.000000</td>\n",
       "      <td>57.188510</td>\n",
       "      <td>1.715711</td>\n",
       "      <td>257.500000</td>\n",
       "      <td>257.000000</td>\n",
       "    </tr>\n",
       "  </tbody>\n",
       "</table>\n",
       "</div>"
      ],
      "text/plain": [
       "       duration (min)      Latitude     Longitude  depart_delay(min)  \\\n",
       "count    19280.000000  14351.000000  14351.000000       16207.000000   \n",
       "mean        -3.706678     52.492155     -1.295266          46.942759   \n",
       "std        100.592444      1.365463      1.377041          43.246970   \n",
       "min      -1438.000000     50.170489     -5.444252           0.500000   \n",
       "25%          0.500000     51.532026     -2.277624          10.000000   \n",
       "50%          1.000000     51.866690     -1.093182          35.000000   \n",
       "75%          3.500000     53.446619     -0.191215          74.000000   \n",
       "max        247.000000     57.188510      1.715711         257.500000   \n",
       "\n",
       "       arrive_delay(min)  \n",
       "count       17140.000000  \n",
       "mean           46.439851  \n",
       "std            43.891857  \n",
       "min             0.500000  \n",
       "25%             9.500000  \n",
       "50%            34.000000  \n",
       "75%            74.000000  \n",
       "max           257.000000  "
      ]
     },
     "execution_count": 54,
     "metadata": {},
     "output_type": "execute_result"
    }
   ],
   "source": [
    "df_delay.describe()"
   ]
  },
  {
   "cell_type": "code",
   "execution_count": 55,
   "id": "aa0e12b9",
   "metadata": {},
   "outputs": [],
   "source": [
    "# export delay routes csv\n",
    "df_delay.to_csv('./cleaned_data/delay_durations.csv', index=False, mode = 'w+')"
   ]
  },
  {
   "cell_type": "markdown",
   "id": "52b14f34",
   "metadata": {},
   "source": [
    "## Calculate Delay Duration\n",
    "Take the data where we are able to calucate delays."
   ]
  },
  {
   "cell_type": "code",
   "execution_count": 56,
   "id": "8a512a60",
   "metadata": {},
   "outputs": [
    {
     "data": {
      "text/html": [
       "<div>\n",
       "<style scoped>\n",
       "    .dataframe tbody tr th:only-of-type {\n",
       "        vertical-align: middle;\n",
       "    }\n",
       "\n",
       "    .dataframe tbody tr th {\n",
       "        vertical-align: top;\n",
       "    }\n",
       "\n",
       "    .dataframe thead th {\n",
       "        text-align: right;\n",
       "    }\n",
       "</style>\n",
       "<table border=\"1\" class=\"dataframe\">\n",
       "  <thead>\n",
       "    <tr style=\"text-align: right;\">\n",
       "      <th></th>\n",
       "      <th>route_id</th>\n",
       "      <th>unique_id</th>\n",
       "      <th>service_start_date</th>\n",
       "      <th>update_origin</th>\n",
       "      <th>train_platform</th>\n",
       "      <th>working_time_arrival</th>\n",
       "      <th>working_time_departure</th>\n",
       "      <th>planned_time_arrival</th>\n",
       "      <th>planned_time_departure</th>\n",
       "      <th>actual_arrival_time</th>\n",
       "      <th>...</th>\n",
       "      <th>platform</th>\n",
       "      <th>is_delayed_arrival</th>\n",
       "      <th>is_delayed_departure</th>\n",
       "      <th>duration (min)</th>\n",
       "      <th>TiplocCode</th>\n",
       "      <th>StationName</th>\n",
       "      <th>Latitude</th>\n",
       "      <th>Longitude</th>\n",
       "      <th>depart_delay(min)</th>\n",
       "      <th>arrive_delay(min)</th>\n",
       "    </tr>\n",
       "  </thead>\n",
       "  <tbody>\n",
       "    <tr>\n",
       "      <th>0</th>\n",
       "      <td>202407037144581</td>\n",
       "      <td>G44581</td>\n",
       "      <td>2024-07-03</td>\n",
       "      <td>Darwin</td>\n",
       "      <td>GLOSTER</td>\n",
       "      <td>19:22:00</td>\n",
       "      <td>19:28:00</td>\n",
       "      <td>19:21:00</td>\n",
       "      <td>19:28:00</td>\n",
       "      <td>19:32:00</td>\n",
       "      <td>...</td>\n",
       "      <td>1</td>\n",
       "      <td>True</td>\n",
       "      <td>True</td>\n",
       "      <td>6.0</td>\n",
       "      <td>GLOSTER</td>\n",
       "      <td>Gloucester</td>\n",
       "      <td>51.865557</td>\n",
       "      <td>-2.238488</td>\n",
       "      <td>5.0</td>\n",
       "      <td>10.0</td>\n",
       "    </tr>\n",
       "    <tr>\n",
       "      <th>1</th>\n",
       "      <td>202407036707715</td>\n",
       "      <td>C07715</td>\n",
       "      <td>2024-07-03</td>\n",
       "      <td>Darwin</td>\n",
       "      <td>LADYBHL</td>\n",
       "      <td>19:24:00</td>\n",
       "      <td>19:35:30</td>\n",
       "      <td>None</td>\n",
       "      <td>None</td>\n",
       "      <td>19:33:00</td>\n",
       "      <td>...</td>\n",
       "      <td>None</td>\n",
       "      <td>True</td>\n",
       "      <td>True</td>\n",
       "      <td>11.5</td>\n",
       "      <td>NaN</td>\n",
       "      <td>LADYBHL</td>\n",
       "      <td>NaN</td>\n",
       "      <td>NaN</td>\n",
       "      <td>NaN</td>\n",
       "      <td>9.0</td>\n",
       "    </tr>\n",
       "    <tr>\n",
       "      <th>2</th>\n",
       "      <td>202407037154103</td>\n",
       "      <td>G54103</td>\n",
       "      <td>2024-07-03</td>\n",
       "      <td>Darwin</td>\n",
       "      <td>CRAWLEY</td>\n",
       "      <td>19:26:30</td>\n",
       "      <td>19:27:30</td>\n",
       "      <td>19:27:00</td>\n",
       "      <td>19:27:00</td>\n",
       "      <td>19:35:00</td>\n",
       "      <td>...</td>\n",
       "      <td>2</td>\n",
       "      <td>True</td>\n",
       "      <td>True</td>\n",
       "      <td>1.0</td>\n",
       "      <td>CRAWLEY</td>\n",
       "      <td>Crawley</td>\n",
       "      <td>51.112212</td>\n",
       "      <td>-0.186673</td>\n",
       "      <td>7.5</td>\n",
       "      <td>8.5</td>\n",
       "    </tr>\n",
       "    <tr>\n",
       "      <th>3</th>\n",
       "      <td>202407037154103</td>\n",
       "      <td>G54103</td>\n",
       "      <td>2024-07-03</td>\n",
       "      <td>Darwin</td>\n",
       "      <td>IFIELD</td>\n",
       "      <td>19:29:30</td>\n",
       "      <td>19:30:00</td>\n",
       "      <td>19:30:00</td>\n",
       "      <td>19:30:00</td>\n",
       "      <td>19:37:00</td>\n",
       "      <td>...</td>\n",
       "      <td>2</td>\n",
       "      <td>True</td>\n",
       "      <td>True</td>\n",
       "      <td>0.5</td>\n",
       "      <td>IFIELD</td>\n",
       "      <td>Ifield</td>\n",
       "      <td>51.115621</td>\n",
       "      <td>-0.214772</td>\n",
       "      <td>8.0</td>\n",
       "      <td>7.5</td>\n",
       "    </tr>\n",
       "    <tr>\n",
       "      <th>4</th>\n",
       "      <td>202407037154103</td>\n",
       "      <td>G54103</td>\n",
       "      <td>2024-07-03</td>\n",
       "      <td>Darwin</td>\n",
       "      <td>FAYGATE</td>\n",
       "      <td>19:33:30</td>\n",
       "      <td>19:34:00</td>\n",
       "      <td>19:34:00</td>\n",
       "      <td>19:34:00</td>\n",
       "      <td>19:41:00</td>\n",
       "      <td>...</td>\n",
       "      <td>2</td>\n",
       "      <td>True</td>\n",
       "      <td>True</td>\n",
       "      <td>0.5</td>\n",
       "      <td>FAYGATE</td>\n",
       "      <td>Faygate</td>\n",
       "      <td>51.095889</td>\n",
       "      <td>-0.263019</td>\n",
       "      <td>8.0</td>\n",
       "      <td>7.5</td>\n",
       "    </tr>\n",
       "  </tbody>\n",
       "</table>\n",
       "<p>5 rows × 21 columns</p>\n",
       "</div>"
      ],
      "text/plain": [
       "          route_id unique_id service_start_date update_origin train_platform  \\\n",
       "0  202407037144581    G44581         2024-07-03        Darwin        GLOSTER   \n",
       "1  202407036707715    C07715         2024-07-03        Darwin        LADYBHL   \n",
       "2  202407037154103    G54103         2024-07-03        Darwin        CRAWLEY   \n",
       "3  202407037154103    G54103         2024-07-03        Darwin         IFIELD   \n",
       "4  202407037154103    G54103         2024-07-03        Darwin        FAYGATE   \n",
       "\n",
       "  working_time_arrival working_time_departure planned_time_arrival  \\\n",
       "0             19:22:00               19:28:00             19:21:00   \n",
       "1             19:24:00               19:35:30                 None   \n",
       "2             19:26:30               19:27:30             19:27:00   \n",
       "3             19:29:30               19:30:00             19:30:00   \n",
       "4             19:33:30               19:34:00             19:34:00   \n",
       "\n",
       "  planned_time_departure actual_arrival_time  ... platform is_delayed_arrival  \\\n",
       "0               19:28:00            19:32:00  ...        1               True   \n",
       "1                   None            19:33:00  ...     None               True   \n",
       "2               19:27:00            19:35:00  ...        2               True   \n",
       "3               19:30:00            19:37:00  ...        2               True   \n",
       "4               19:34:00            19:41:00  ...        2               True   \n",
       "\n",
       "   is_delayed_departure  duration (min)  TiplocCode StationName   Latitude  \\\n",
       "0                  True             6.0     GLOSTER  Gloucester  51.865557   \n",
       "1                  True            11.5         NaN     LADYBHL        NaN   \n",
       "2                  True             1.0     CRAWLEY     Crawley  51.112212   \n",
       "3                  True             0.5      IFIELD      Ifield  51.115621   \n",
       "4                  True             0.5     FAYGATE     Faygate  51.095889   \n",
       "\n",
       "   Longitude  depart_delay(min)  arrive_delay(min)  \n",
       "0  -2.238488                5.0               10.0  \n",
       "1        NaN                NaN                9.0  \n",
       "2  -0.186673                7.5                8.5  \n",
       "3  -0.214772                8.0                7.5  \n",
       "4  -0.263019                8.0                7.5  \n",
       "\n",
       "[5 rows x 21 columns]"
      ]
     },
     "execution_count": 56,
     "metadata": {},
     "output_type": "execute_result"
    }
   ],
   "source": [
    "df_delay.head()"
   ]
  },
  {
   "cell_type": "code",
   "execution_count": 57,
   "id": "22c9b801",
   "metadata": {},
   "outputs": [
    {
     "data": {
      "text/html": [
       "<div>\n",
       "<style scoped>\n",
       "    .dataframe tbody tr th:only-of-type {\n",
       "        vertical-align: middle;\n",
       "    }\n",
       "\n",
       "    .dataframe tbody tr th {\n",
       "        vertical-align: top;\n",
       "    }\n",
       "\n",
       "    .dataframe thead th {\n",
       "        text-align: right;\n",
       "    }\n",
       "</style>\n",
       "<table border=\"1\" class=\"dataframe\">\n",
       "  <thead>\n",
       "    <tr style=\"text-align: right;\">\n",
       "      <th></th>\n",
       "      <th>route_id</th>\n",
       "      <th>unique_id</th>\n",
       "      <th>service_start_date</th>\n",
       "      <th>update_origin</th>\n",
       "      <th>train_platform</th>\n",
       "      <th>working_time_arrival</th>\n",
       "      <th>working_time_departure</th>\n",
       "      <th>planned_time_arrival</th>\n",
       "      <th>planned_time_departure</th>\n",
       "      <th>actual_arrival_time</th>\n",
       "      <th>actual_departure_time</th>\n",
       "      <th>platform</th>\n",
       "      <th>is_delayed_arrival</th>\n",
       "      <th>is_delayed_departure</th>\n",
       "      <th>duration (min)</th>\n",
       "      <th>TiplocCode</th>\n",
       "      <th>StationName</th>\n",
       "      <th>Latitude</th>\n",
       "      <th>Longitude</th>\n",
       "      <th>delayed</th>\n",
       "    </tr>\n",
       "  </thead>\n",
       "  <tbody>\n",
       "    <tr>\n",
       "      <th>0</th>\n",
       "      <td>202407037139232</td>\n",
       "      <td>G39232</td>\n",
       "      <td>2024-07-03</td>\n",
       "      <td>TD</td>\n",
       "      <td>SCROYDN</td>\n",
       "      <td>19:31:00</td>\n",
       "      <td>19:31:30</td>\n",
       "      <td>19:31:00</td>\n",
       "      <td>19:31:00</td>\n",
       "      <td>None</td>\n",
       "      <td>19:32:00</td>\n",
       "      <td>4</td>\n",
       "      <td>False</td>\n",
       "      <td>False</td>\n",
       "      <td>0.5</td>\n",
       "      <td>SCROYDN</td>\n",
       "      <td>South Croydon</td>\n",
       "      <td>51.362963</td>\n",
       "      <td>-0.093457</td>\n",
       "      <td>False</td>\n",
       "    </tr>\n",
       "    <tr>\n",
       "      <th>1</th>\n",
       "      <td>202407036785172</td>\n",
       "      <td>C85172</td>\n",
       "      <td>2024-07-03</td>\n",
       "      <td>CIS</td>\n",
       "      <td>LIVSTLL</td>\n",
       "      <td>19:37:00</td>\n",
       "      <td>19:38:00</td>\n",
       "      <td>19:37:00</td>\n",
       "      <td>19:38:00</td>\n",
       "      <td>19:37:00</td>\n",
       "      <td>19:38:00</td>\n",
       "      <td>A</td>\n",
       "      <td>False</td>\n",
       "      <td>False</td>\n",
       "      <td>1.0</td>\n",
       "      <td>LIVSTLL</td>\n",
       "      <td>London Liverpool Street Crossrail</td>\n",
       "      <td>51.518600</td>\n",
       "      <td>-0.081300</td>\n",
       "      <td>False</td>\n",
       "    </tr>\n",
       "    <tr>\n",
       "      <th>2</th>\n",
       "      <td>202407036735756</td>\n",
       "      <td>C35756</td>\n",
       "      <td>2024-07-03</td>\n",
       "      <td>TD</td>\n",
       "      <td>ESTHRAK</td>\n",
       "      <td>19:30:30</td>\n",
       "      <td>19:31:00</td>\n",
       "      <td>19:31:00</td>\n",
       "      <td>19:31:00</td>\n",
       "      <td>None</td>\n",
       "      <td>None</td>\n",
       "      <td>2</td>\n",
       "      <td>False</td>\n",
       "      <td>False</td>\n",
       "      <td>0.5</td>\n",
       "      <td>ESTHRAK</td>\n",
       "      <td>Eastham Rake</td>\n",
       "      <td>53.307537</td>\n",
       "      <td>-2.981132</td>\n",
       "      <td>False</td>\n",
       "    </tr>\n",
       "    <tr>\n",
       "      <th>3</th>\n",
       "      <td>202407036735756</td>\n",
       "      <td>C35756</td>\n",
       "      <td>2024-07-03</td>\n",
       "      <td>TD</td>\n",
       "      <td>BRMB</td>\n",
       "      <td>19:33:00</td>\n",
       "      <td>19:33:30</td>\n",
       "      <td>19:33:00</td>\n",
       "      <td>19:33:00</td>\n",
       "      <td>19:33:00</td>\n",
       "      <td>19:33:00</td>\n",
       "      <td>1</td>\n",
       "      <td>False</td>\n",
       "      <td>False</td>\n",
       "      <td>0.5</td>\n",
       "      <td>BRMB</td>\n",
       "      <td>Bromborough</td>\n",
       "      <td>53.321845</td>\n",
       "      <td>-2.986895</td>\n",
       "      <td>False</td>\n",
       "    </tr>\n",
       "    <tr>\n",
       "      <th>4</th>\n",
       "      <td>202407036735756</td>\n",
       "      <td>C35756</td>\n",
       "      <td>2024-07-03</td>\n",
       "      <td>TD</td>\n",
       "      <td>BRMBRK</td>\n",
       "      <td>19:35:00</td>\n",
       "      <td>19:35:30</td>\n",
       "      <td>19:35:00</td>\n",
       "      <td>19:35:00</td>\n",
       "      <td>19:35:00</td>\n",
       "      <td>19:35:00</td>\n",
       "      <td>2</td>\n",
       "      <td>False</td>\n",
       "      <td>False</td>\n",
       "      <td>0.5</td>\n",
       "      <td>BRMBRK</td>\n",
       "      <td>Bromborough Rake</td>\n",
       "      <td>53.329905</td>\n",
       "      <td>-2.989469</td>\n",
       "      <td>False</td>\n",
       "    </tr>\n",
       "  </tbody>\n",
       "</table>\n",
       "</div>"
      ],
      "text/plain": [
       "          route_id unique_id service_start_date update_origin train_platform  \\\n",
       "0  202407037139232    G39232         2024-07-03            TD        SCROYDN   \n",
       "1  202407036785172    C85172         2024-07-03           CIS        LIVSTLL   \n",
       "2  202407036735756    C35756         2024-07-03            TD        ESTHRAK   \n",
       "3  202407036735756    C35756         2024-07-03            TD           BRMB   \n",
       "4  202407036735756    C35756         2024-07-03            TD         BRMBRK   \n",
       "\n",
       "  working_time_arrival working_time_departure planned_time_arrival  \\\n",
       "0             19:31:00               19:31:30             19:31:00   \n",
       "1             19:37:00               19:38:00             19:37:00   \n",
       "2             19:30:30               19:31:00             19:31:00   \n",
       "3             19:33:00               19:33:30             19:33:00   \n",
       "4             19:35:00               19:35:30             19:35:00   \n",
       "\n",
       "  planned_time_departure actual_arrival_time actual_departure_time platform  \\\n",
       "0               19:31:00                None              19:32:00        4   \n",
       "1               19:38:00            19:37:00              19:38:00        A   \n",
       "2               19:31:00                None                  None        2   \n",
       "3               19:33:00            19:33:00              19:33:00        1   \n",
       "4               19:35:00            19:35:00              19:35:00        2   \n",
       "\n",
       "   is_delayed_arrival  is_delayed_departure  duration (min) TiplocCode  \\\n",
       "0               False                 False             0.5    SCROYDN   \n",
       "1               False                 False             1.0    LIVSTLL   \n",
       "2               False                 False             0.5    ESTHRAK   \n",
       "3               False                 False             0.5       BRMB   \n",
       "4               False                 False             0.5     BRMBRK   \n",
       "\n",
       "                         StationName   Latitude  Longitude  delayed  \n",
       "0                      South Croydon  51.362963  -0.093457    False  \n",
       "1  London Liverpool Street Crossrail  51.518600  -0.081300    False  \n",
       "2                       Eastham Rake  53.307537  -2.981132    False  \n",
       "3                        Bromborough  53.321845  -2.986895    False  \n",
       "4                   Bromborough Rake  53.329905  -2.989469    False  "
      ]
     },
     "execution_count": 57,
     "metadata": {},
     "output_type": "execute_result"
    }
   ],
   "source": [
    "# Create the 'delayed' column\n",
    "df_merged['delayed'] = df_merged['is_delayed_arrival'] | df_merged['is_delayed_departure']\n",
    "\n",
    "# Check\n",
    "df_merged.head()"
   ]
  },
  {
   "cell_type": "code",
   "execution_count": 58,
   "id": "2f204be8",
   "metadata": {},
   "outputs": [
    {
     "data": {
      "text/plain": [
       "delayed\n",
       "0    163242\n",
       "1     19255\n",
       "Name: count, dtype: int64"
      ]
     },
     "execution_count": 58,
     "metadata": {},
     "output_type": "execute_result"
    }
   ],
   "source": [
    "# Converting the 'delayed' column to binary (1 for True, 0 for False)\n",
    "df_merged['delayed'] = df_merged['delayed'].astype(int)\n",
    "\n",
    "# Check\n",
    "df_merged['delayed'].value_counts()"
   ]
  },
  {
   "cell_type": "code",
   "execution_count": 59,
   "id": "c98a1cf2",
   "metadata": {},
   "outputs": [
    {
     "data": {
      "text/html": [
       "<div>\n",
       "<style scoped>\n",
       "    .dataframe tbody tr th:only-of-type {\n",
       "        vertical-align: middle;\n",
       "    }\n",
       "\n",
       "    .dataframe tbody tr th {\n",
       "        vertical-align: top;\n",
       "    }\n",
       "\n",
       "    .dataframe thead th {\n",
       "        text-align: right;\n",
       "    }\n",
       "</style>\n",
       "<table border=\"1\" class=\"dataframe\">\n",
       "  <thead>\n",
       "    <tr style=\"text-align: right;\">\n",
       "      <th></th>\n",
       "      <th>route_id</th>\n",
       "      <th>unique_id</th>\n",
       "      <th>service_start_date</th>\n",
       "      <th>update_origin</th>\n",
       "      <th>train_platform</th>\n",
       "      <th>working_time_arrival</th>\n",
       "      <th>working_time_departure</th>\n",
       "      <th>planned_time_arrival</th>\n",
       "      <th>planned_time_departure</th>\n",
       "      <th>actual_arrival_time</th>\n",
       "      <th>actual_departure_time</th>\n",
       "      <th>platform</th>\n",
       "      <th>is_delayed_arrival</th>\n",
       "      <th>is_delayed_departure</th>\n",
       "      <th>duration (min)</th>\n",
       "      <th>TiplocCode</th>\n",
       "      <th>StationName</th>\n",
       "      <th>Latitude</th>\n",
       "      <th>Longitude</th>\n",
       "      <th>delayed</th>\n",
       "    </tr>\n",
       "  </thead>\n",
       "  <tbody>\n",
       "    <tr>\n",
       "      <th>0</th>\n",
       "      <td>202407037139232</td>\n",
       "      <td>G39232</td>\n",
       "      <td>2024-07-03</td>\n",
       "      <td>TD</td>\n",
       "      <td>SCROYDN</td>\n",
       "      <td>19:31:00</td>\n",
       "      <td>19:31:30</td>\n",
       "      <td>19:31:00</td>\n",
       "      <td>19:31:00</td>\n",
       "      <td>None</td>\n",
       "      <td>19:32:00</td>\n",
       "      <td>4</td>\n",
       "      <td>False</td>\n",
       "      <td>False</td>\n",
       "      <td>0.5</td>\n",
       "      <td>SCROYDN</td>\n",
       "      <td>South Croydon</td>\n",
       "      <td>51.362963</td>\n",
       "      <td>-0.093457</td>\n",
       "      <td>0</td>\n",
       "    </tr>\n",
       "    <tr>\n",
       "      <th>1</th>\n",
       "      <td>202407036785172</td>\n",
       "      <td>C85172</td>\n",
       "      <td>2024-07-03</td>\n",
       "      <td>CIS</td>\n",
       "      <td>LIVSTLL</td>\n",
       "      <td>19:37:00</td>\n",
       "      <td>19:38:00</td>\n",
       "      <td>19:37:00</td>\n",
       "      <td>19:38:00</td>\n",
       "      <td>19:37:00</td>\n",
       "      <td>19:38:00</td>\n",
       "      <td>A</td>\n",
       "      <td>False</td>\n",
       "      <td>False</td>\n",
       "      <td>1.0</td>\n",
       "      <td>LIVSTLL</td>\n",
       "      <td>London Liverpool Street Crossrail</td>\n",
       "      <td>51.518600</td>\n",
       "      <td>-0.081300</td>\n",
       "      <td>0</td>\n",
       "    </tr>\n",
       "    <tr>\n",
       "      <th>2</th>\n",
       "      <td>202407036735756</td>\n",
       "      <td>C35756</td>\n",
       "      <td>2024-07-03</td>\n",
       "      <td>TD</td>\n",
       "      <td>ESTHRAK</td>\n",
       "      <td>19:30:30</td>\n",
       "      <td>19:31:00</td>\n",
       "      <td>19:31:00</td>\n",
       "      <td>19:31:00</td>\n",
       "      <td>None</td>\n",
       "      <td>None</td>\n",
       "      <td>2</td>\n",
       "      <td>False</td>\n",
       "      <td>False</td>\n",
       "      <td>0.5</td>\n",
       "      <td>ESTHRAK</td>\n",
       "      <td>Eastham Rake</td>\n",
       "      <td>53.307537</td>\n",
       "      <td>-2.981132</td>\n",
       "      <td>0</td>\n",
       "    </tr>\n",
       "    <tr>\n",
       "      <th>3</th>\n",
       "      <td>202407036735756</td>\n",
       "      <td>C35756</td>\n",
       "      <td>2024-07-03</td>\n",
       "      <td>TD</td>\n",
       "      <td>BRMB</td>\n",
       "      <td>19:33:00</td>\n",
       "      <td>19:33:30</td>\n",
       "      <td>19:33:00</td>\n",
       "      <td>19:33:00</td>\n",
       "      <td>19:33:00</td>\n",
       "      <td>19:33:00</td>\n",
       "      <td>1</td>\n",
       "      <td>False</td>\n",
       "      <td>False</td>\n",
       "      <td>0.5</td>\n",
       "      <td>BRMB</td>\n",
       "      <td>Bromborough</td>\n",
       "      <td>53.321845</td>\n",
       "      <td>-2.986895</td>\n",
       "      <td>0</td>\n",
       "    </tr>\n",
       "    <tr>\n",
       "      <th>4</th>\n",
       "      <td>202407036735756</td>\n",
       "      <td>C35756</td>\n",
       "      <td>2024-07-03</td>\n",
       "      <td>TD</td>\n",
       "      <td>BRMBRK</td>\n",
       "      <td>19:35:00</td>\n",
       "      <td>19:35:30</td>\n",
       "      <td>19:35:00</td>\n",
       "      <td>19:35:00</td>\n",
       "      <td>19:35:00</td>\n",
       "      <td>19:35:00</td>\n",
       "      <td>2</td>\n",
       "      <td>False</td>\n",
       "      <td>False</td>\n",
       "      <td>0.5</td>\n",
       "      <td>BRMBRK</td>\n",
       "      <td>Bromborough Rake</td>\n",
       "      <td>53.329905</td>\n",
       "      <td>-2.989469</td>\n",
       "      <td>0</td>\n",
       "    </tr>\n",
       "  </tbody>\n",
       "</table>\n",
       "</div>"
      ],
      "text/plain": [
       "          route_id unique_id service_start_date update_origin train_platform  \\\n",
       "0  202407037139232    G39232         2024-07-03            TD        SCROYDN   \n",
       "1  202407036785172    C85172         2024-07-03           CIS        LIVSTLL   \n",
       "2  202407036735756    C35756         2024-07-03            TD        ESTHRAK   \n",
       "3  202407036735756    C35756         2024-07-03            TD           BRMB   \n",
       "4  202407036735756    C35756         2024-07-03            TD         BRMBRK   \n",
       "\n",
       "  working_time_arrival working_time_departure planned_time_arrival  \\\n",
       "0             19:31:00               19:31:30             19:31:00   \n",
       "1             19:37:00               19:38:00             19:37:00   \n",
       "2             19:30:30               19:31:00             19:31:00   \n",
       "3             19:33:00               19:33:30             19:33:00   \n",
       "4             19:35:00               19:35:30             19:35:00   \n",
       "\n",
       "  planned_time_departure actual_arrival_time actual_departure_time platform  \\\n",
       "0               19:31:00                None              19:32:00        4   \n",
       "1               19:38:00            19:37:00              19:38:00        A   \n",
       "2               19:31:00                None                  None        2   \n",
       "3               19:33:00            19:33:00              19:33:00        1   \n",
       "4               19:35:00            19:35:00              19:35:00        2   \n",
       "\n",
       "   is_delayed_arrival  is_delayed_departure  duration (min) TiplocCode  \\\n",
       "0               False                 False             0.5    SCROYDN   \n",
       "1               False                 False             1.0    LIVSTLL   \n",
       "2               False                 False             0.5    ESTHRAK   \n",
       "3               False                 False             0.5       BRMB   \n",
       "4               False                 False             0.5     BRMBRK   \n",
       "\n",
       "                         StationName   Latitude  Longitude  delayed  \n",
       "0                      South Croydon  51.362963  -0.093457        0  \n",
       "1  London Liverpool Street Crossrail  51.518600  -0.081300        0  \n",
       "2                       Eastham Rake  53.307537  -2.981132        0  \n",
       "3                        Bromborough  53.321845  -2.986895        0  \n",
       "4                   Bromborough Rake  53.329905  -2.989469        0  "
      ]
     },
     "execution_count": 59,
     "metadata": {},
     "output_type": "execute_result"
    }
   ],
   "source": [
    "df_merged.head()"
   ]
  },
  {
   "cell_type": "markdown",
   "id": "548fbef0",
   "metadata": {},
   "source": [
    "## Delays  by Route"
   ]
  },
  {
   "cell_type": "code",
   "execution_count": 60,
   "id": "2c8cd932",
   "metadata": {},
   "outputs": [
    {
     "data": {
      "text/html": [
       "<div>\n",
       "<style scoped>\n",
       "    .dataframe tbody tr th:only-of-type {\n",
       "        vertical-align: middle;\n",
       "    }\n",
       "\n",
       "    .dataframe tbody tr th {\n",
       "        vertical-align: top;\n",
       "    }\n",
       "\n",
       "    .dataframe thead th {\n",
       "        text-align: right;\n",
       "    }\n",
       "</style>\n",
       "<table border=\"1\" class=\"dataframe\">\n",
       "  <thead>\n",
       "    <tr style=\"text-align: right;\">\n",
       "      <th></th>\n",
       "      <th>route_id</th>\n",
       "      <th>delay_counts_by_route</th>\n",
       "      <th>total_counts_by_route</th>\n",
       "      <th>%_delayed_by_route</th>\n",
       "    </tr>\n",
       "  </thead>\n",
       "  <tbody>\n",
       "    <tr>\n",
       "      <th>0</th>\n",
       "      <td>202407036704095</td>\n",
       "      <td>0</td>\n",
       "      <td>1</td>\n",
       "      <td>0.0</td>\n",
       "    </tr>\n",
       "    <tr>\n",
       "      <th>1</th>\n",
       "      <td>202407036704542</td>\n",
       "      <td>0</td>\n",
       "      <td>1</td>\n",
       "      <td>0.0</td>\n",
       "    </tr>\n",
       "    <tr>\n",
       "      <th>2</th>\n",
       "      <td>202407036705093</td>\n",
       "      <td>1</td>\n",
       "      <td>5</td>\n",
       "      <td>20.0</td>\n",
       "    </tr>\n",
       "    <tr>\n",
       "      <th>3</th>\n",
       "      <td>202407036705096</td>\n",
       "      <td>0</td>\n",
       "      <td>6</td>\n",
       "      <td>0.0</td>\n",
       "    </tr>\n",
       "    <tr>\n",
       "      <th>4</th>\n",
       "      <td>202407036705102</td>\n",
       "      <td>0</td>\n",
       "      <td>5</td>\n",
       "      <td>0.0</td>\n",
       "    </tr>\n",
       "    <tr>\n",
       "      <th>...</th>\n",
       "      <td>...</td>\n",
       "      <td>...</td>\n",
       "      <td>...</td>\n",
       "      <td>...</td>\n",
       "    </tr>\n",
       "    <tr>\n",
       "      <th>40067</th>\n",
       "      <td>202407128083815</td>\n",
       "      <td>0</td>\n",
       "      <td>3</td>\n",
       "      <td>0.0</td>\n",
       "    </tr>\n",
       "    <tr>\n",
       "      <th>40068</th>\n",
       "      <td>202407128084391</td>\n",
       "      <td>0</td>\n",
       "      <td>2</td>\n",
       "      <td>0.0</td>\n",
       "    </tr>\n",
       "    <tr>\n",
       "      <th>40069</th>\n",
       "      <td>202407128084553</td>\n",
       "      <td>0</td>\n",
       "      <td>1</td>\n",
       "      <td>0.0</td>\n",
       "    </tr>\n",
       "    <tr>\n",
       "      <th>40070</th>\n",
       "      <td>202407128084648</td>\n",
       "      <td>0</td>\n",
       "      <td>1</td>\n",
       "      <td>0.0</td>\n",
       "    </tr>\n",
       "    <tr>\n",
       "      <th>40071</th>\n",
       "      <td>202407128872780</td>\n",
       "      <td>0</td>\n",
       "      <td>1</td>\n",
       "      <td>0.0</td>\n",
       "    </tr>\n",
       "  </tbody>\n",
       "</table>\n",
       "<p>40072 rows × 4 columns</p>\n",
       "</div>"
      ],
      "text/plain": [
       "              route_id  delay_counts_by_route  total_counts_by_route  \\\n",
       "0      202407036704095                      0                      1   \n",
       "1      202407036704542                      0                      1   \n",
       "2      202407036705093                      1                      5   \n",
       "3      202407036705096                      0                      6   \n",
       "4      202407036705102                      0                      5   \n",
       "...                ...                    ...                    ...   \n",
       "40067  202407128083815                      0                      3   \n",
       "40068  202407128084391                      0                      2   \n",
       "40069  202407128084553                      0                      1   \n",
       "40070  202407128084648                      0                      1   \n",
       "40071  202407128872780                      0                      1   \n",
       "\n",
       "       %_delayed_by_route  \n",
       "0                     0.0  \n",
       "1                     0.0  \n",
       "2                    20.0  \n",
       "3                     0.0  \n",
       "4                     0.0  \n",
       "...                   ...  \n",
       "40067                 0.0  \n",
       "40068                 0.0  \n",
       "40069                 0.0  \n",
       "40070                 0.0  \n",
       "40071                 0.0  \n",
       "\n",
       "[40072 rows x 4 columns]"
      ]
     },
     "execution_count": 60,
     "metadata": {},
     "output_type": "execute_result"
    }
   ],
   "source": [
    "# Extract the necessary columns\n",
    "df_extracted = df_merged[['route_id', 'delayed']]\n",
    "\n",
    "# Calculate the count of delays for each route_id and TiplocCode\n",
    "delay_counts_by_route = df_extracted.groupby('route_id')['delayed'].sum().reset_index()\n",
    "delay_counts_by_route.rename(columns={'delayed': 'delay_counts_by_route'}, inplace=True)\n",
    "\n",
    "# Calculate the total count of records for each route_id and TiplocCode\n",
    "total_counts_by_route = df_extracted.groupby('route_id')['route_id'].count().reset_index(name='total_counts_by_route')\n",
    "\n",
    "# Merge the delay counts and total counts\n",
    "delay_summary = delay_counts_by_route.merge(total_counts_by_route, on='route_id')\n",
    "\n",
    "# Calculate the % delayed for each route_id\n",
    "delay_summary['%_delayed_by_route'] = (delay_summary['delay_counts_by_route'] / delay_summary['total_counts_by_route']) * 100\n",
    "\n",
    "# Select the relevant columns\n",
    "delays_by_route = delay_summary[['route_id', 'delay_counts_by_route', 'total_counts_by_route', '%_delayed_by_route']]\n",
    "\n",
    "# Check\n",
    "delays_by_route"
   ]
  },
  {
   "cell_type": "code",
   "execution_count": 61,
   "id": "8642c696",
   "metadata": {},
   "outputs": [],
   "source": [
    "# export delay routes csv\n",
    "delays_route = delays_by_route.to_csv('./cleaned_data/delays_by_route.csv', index=False, mode = 'w+')"
   ]
  },
  {
   "cell_type": "markdown",
   "id": "a5f0c29b",
   "metadata": {},
   "source": [
    "## Delays by Station Name"
   ]
  },
  {
   "cell_type": "markdown",
   "id": "908d04a6",
   "metadata": {},
   "source": [
    "Changed to aggregate by TiplocCode, because upon further investigation it was found that a Station Name may have various TiplocCodes. Which would inflate the delay counts and station counts for each individual TiplocCode. "
   ]
  },
  {
   "cell_type": "code",
   "execution_count": 62,
   "id": "a131e773",
   "metadata": {},
   "outputs": [
    {
     "data": {
      "text/html": [
       "<div>\n",
       "<style scoped>\n",
       "    .dataframe tbody tr th:only-of-type {\n",
       "        vertical-align: middle;\n",
       "    }\n",
       "\n",
       "    .dataframe tbody tr th {\n",
       "        vertical-align: top;\n",
       "    }\n",
       "\n",
       "    .dataframe thead th {\n",
       "        text-align: right;\n",
       "    }\n",
       "</style>\n",
       "<table border=\"1\" class=\"dataframe\">\n",
       "  <thead>\n",
       "    <tr style=\"text-align: right;\">\n",
       "      <th></th>\n",
       "      <th>TiplocCode</th>\n",
       "      <th>delay_counts_by_tiploc</th>\n",
       "      <th>total_counts_by_tiploc</th>\n",
       "      <th>%_delayed_by_tiploc</th>\n",
       "      <th>StationName</th>\n",
       "      <th>Latitude</th>\n",
       "      <th>Longitude</th>\n",
       "    </tr>\n",
       "  </thead>\n",
       "  <tbody>\n",
       "    <tr>\n",
       "      <th>490</th>\n",
       "      <td>CLPHMJC</td>\n",
       "      <td>22</td>\n",
       "      <td>534</td>\n",
       "      <td>4.119850</td>\n",
       "      <td>Clapham Junction</td>\n",
       "      <td>51.464186</td>\n",
       "      <td>-0.170279</td>\n",
       "    </tr>\n",
       "    <tr>\n",
       "      <th>491</th>\n",
       "      <td>CLPHMJM</td>\n",
       "      <td>22</td>\n",
       "      <td>475</td>\n",
       "      <td>4.631579</td>\n",
       "      <td>Clapham Junction</td>\n",
       "      <td>51.464186</td>\n",
       "      <td>-0.170265</td>\n",
       "    </tr>\n",
       "    <tr>\n",
       "      <th>492</th>\n",
       "      <td>CLPHMJW</td>\n",
       "      <td>7</td>\n",
       "      <td>269</td>\n",
       "      <td>2.602230</td>\n",
       "      <td>Clapham Junction</td>\n",
       "      <td>51.464186</td>\n",
       "      <td>-0.170250</td>\n",
       "    </tr>\n",
       "  </tbody>\n",
       "</table>\n",
       "</div>"
      ],
      "text/plain": [
       "    TiplocCode  delay_counts_by_tiploc  total_counts_by_tiploc  \\\n",
       "490    CLPHMJC                      22                     534   \n",
       "491    CLPHMJM                      22                     475   \n",
       "492    CLPHMJW                       7                     269   \n",
       "\n",
       "     %_delayed_by_tiploc       StationName   Latitude  Longitude  \n",
       "490             4.119850  Clapham Junction  51.464186  -0.170279  \n",
       "491             4.631579  Clapham Junction  51.464186  -0.170265  \n",
       "492             2.602230  Clapham Junction  51.464186  -0.170250  "
      ]
     },
     "execution_count": 62,
     "metadata": {},
     "output_type": "execute_result"
    }
   ],
   "source": [
    "df_extracted2 = df_merged[['StationName', 'TiplocCode', 'delayed', 'Latitude', 'Longitude']]\n",
    "\n",
    "# Calculate the count of delays for each TiplocCode\n",
    "delay_counts_by_tiploc = df_extracted2.groupby('TiplocCode')['delayed'].sum().reset_index()\n",
    "delay_counts_by_tiploc.rename(columns={'delayed': 'delay_counts_by_tiploc'}, inplace=True)\n",
    "\n",
    "# Calculate the total count of records for each TiplocCode\n",
    "total_counts_by_tiploc = df_extracted2.groupby('TiplocCode')['TiplocCode'].count().reset_index(name='total_counts_by_tiploc')\n",
    "\n",
    "# Merge the delay counts and total counts\n",
    "delay_summary_tiploc = delay_counts_by_tiploc.merge(total_counts_by_tiploc, on='TiplocCode')\n",
    "\n",
    "# Calculate the % delayed for each TiplocCode\n",
    "delay_summary_tiploc['%_delayed_by_tiploc'] = (delay_summary_tiploc['delay_counts_by_tiploc'] / delay_summary_tiploc['total_counts_by_tiploc']) * 100\n",
    "\n",
    "# Select the relevant columns\n",
    "delays_by_tiploc = delay_summary_tiploc[['TiplocCode', 'delay_counts_by_tiploc', 'total_counts_by_tiploc', '%_delayed_by_tiploc']]\n",
    "\n",
    "# Merge the dataframes on 'TiplocCode' to add latitude, longitude, and StationName\n",
    "delays_by_tiploc = pd.merge(delays_by_tiploc, df_extracted2[['TiplocCode', 'StationName', 'Latitude', 'Longitude']].drop_duplicates(), on='TiplocCode', how='left')\n",
    "\n",
    "# Check\n",
    "delays_by_tiploc[delays_by_tiploc['StationName'] == 'Clapham Junction']"
   ]
  },
  {
   "cell_type": "code",
   "execution_count": 63,
   "id": "a1d2dca9",
   "metadata": {},
   "outputs": [],
   "source": [
    "# exporting delays by station to csv\n",
    "delay_stations = delays_by_tiploc.to_csv('./cleaned_data/delays_by_station.csv', index=False, mode = 'w+')"
   ]
  },
  {
   "cell_type": "code",
   "execution_count": 64,
   "id": "c4707667",
   "metadata": {},
   "outputs": [
    {
     "data": {
      "text/plain": [
       "is_delayed_arrival\n",
       "False    164029\n",
       "True      18468\n",
       "Name: count, dtype: int64"
      ]
     },
     "execution_count": 64,
     "metadata": {},
     "output_type": "execute_result"
    }
   ],
   "source": [
    "# check how is_delayed arrivals/departures compare with delayed column\n",
    "df_merged['is_delayed_arrival'].value_counts()"
   ]
  },
  {
   "cell_type": "code",
   "execution_count": 65,
   "id": "bb7a760a",
   "metadata": {},
   "outputs": [
    {
     "data": {
      "text/plain": [
       "is_delayed_departure\n",
       "False    163242\n",
       "True      19255\n",
       "Name: count, dtype: int64"
      ]
     },
     "execution_count": 65,
     "metadata": {},
     "output_type": "execute_result"
    }
   ],
   "source": [
    "df_merged['is_delayed_departure'].value_counts()"
   ]
  },
  {
   "cell_type": "code",
   "execution_count": 66,
   "id": "e024e1b1",
   "metadata": {},
   "outputs": [
    {
     "data": {
      "text/plain": [
       "delayed\n",
       "0    163242\n",
       "1     19255\n",
       "Name: count, dtype: int64"
      ]
     },
     "execution_count": 66,
     "metadata": {},
     "output_type": "execute_result"
    }
   ],
   "source": [
    "df_merged['delayed'].value_counts()"
   ]
  },
  {
   "cell_type": "markdown",
   "id": "21b45ae4",
   "metadata": {},
   "source": [
    "Delayed column has same counts as is_delayed_departure. "
   ]
  },
  {
   "cell_type": "markdown",
   "id": "5e338505",
   "metadata": {},
   "source": [
    "# Value Counts for Analysis "
   ]
  },
  {
   "cell_type": "code",
   "execution_count": 67,
   "id": "8cdee805",
   "metadata": {},
   "outputs": [
    {
     "data": {
      "text/plain": [
       "service_start_date\n",
       "2024-07-10    41466\n",
       "2024-07-11    36454\n",
       "2024-07-09    35853\n",
       "2024-07-05    24449\n",
       "2024-07-04    12000\n",
       "2024-07-08    11222\n",
       "2024-07-06     9804\n",
       "2024-07-07     7710\n",
       "2024-07-03     3475\n",
       "2024-07-12       64\n",
       "Name: count, dtype: int64"
      ]
     },
     "execution_count": 67,
     "metadata": {},
     "output_type": "execute_result"
    }
   ],
   "source": [
    "df_merged['service_start_date'].value_counts()"
   ]
  },
  {
   "cell_type": "code",
   "execution_count": 68,
   "id": "0628d3e1",
   "metadata": {},
   "outputs": [
    {
     "data": {
      "text/plain": [
       "route_id\n",
       "202407047154179    118\n",
       "202407107150439    101\n",
       "202407047513588     92\n",
       "202407057513588     91\n",
       "202407107154590     91\n",
       "                  ... \n",
       "202407097640978      1\n",
       "202407098088056      1\n",
       "202407096715436      1\n",
       "202407096718886      1\n",
       "202407118095790      1\n",
       "Name: count, Length: 40072, dtype: int64"
      ]
     },
     "execution_count": 68,
     "metadata": {},
     "output_type": "execute_result"
    }
   ],
   "source": [
    "# most popular routes\n",
    "df_merged['route_id'].value_counts()"
   ]
  },
  {
   "cell_type": "code",
   "execution_count": 69,
   "id": "7ed2c447",
   "metadata": {},
   "outputs": [
    {
     "data": {
      "text/plain": [
       "StationName\n",
       "Clapham Junction                      1278\n",
       "London Bridge                         1264\n",
       "East Croydon                           840\n",
       "London St Pancras International LL     718\n",
       "Gatwick Airport                        683\n",
       "                                      ... \n",
       "Golf Street                              1\n",
       "Spean Bridge                             1\n",
       "BSCTULP                                  1\n",
       "BLTCDGL                                  1\n",
       "Glaisdale                                1\n",
       "Name: count, Length: 2956, dtype: int64"
      ]
     },
     "execution_count": 69,
     "metadata": {},
     "output_type": "execute_result"
    }
   ],
   "source": [
    "df_merged['StationName'].value_counts()"
   ]
  },
  {
   "cell_type": "markdown",
   "id": "8f155e58",
   "metadata": {},
   "source": [
    "# Visuals \n",
    "**looking at df_merged**"
   ]
  },
  {
   "cell_type": "code",
   "execution_count": 70,
   "id": "c5106922",
   "metadata": {},
   "outputs": [
    {
     "data": {
      "image/png": "[encoded data removed]",
      "text/plain": [
       "<Figure size 1000x600 with 1 Axes>"
      ]
     },
     "metadata": {},
     "output_type": "display_data"
    }
   ],
   "source": [
    "import matplotlib.pyplot as plt\n",
    "import seaborn as sns\n",
    "# Top 10 most frequently visited stations\n",
    "top_stations = df_merged['StationName'].value_counts().head(20)\n",
    "plt.figure(figsize=(10, 6))\n",
    "sns.barplot(x=top_stations.index, y=top_stations.values)\n",
    "plt.title('Top 20 Most Frequently Visited Stations')\n",
    "plt.xlabel('Station')\n",
    "plt.ylabel('Number of Visits')\n",
    "plt.xticks(rotation=90)\n",
    "plt.show()"
   ]
  },
  {
   "cell_type": "code",
   "execution_count": 71,
   "id": "07670d4f",
   "metadata": {},
   "outputs": [
    {
     "data": {
      "text/html": [
       "<div>\n",
       "<style scoped>\n",
       "    .dataframe tbody tr th:only-of-type {\n",
       "        vertical-align: middle;\n",
       "    }\n",
       "\n",
       "    .dataframe tbody tr th {\n",
       "        vertical-align: top;\n",
       "    }\n",
       "\n",
       "    .dataframe thead th {\n",
       "        text-align: right;\n",
       "    }\n",
       "</style>\n",
       "<table border=\"1\" class=\"dataframe\">\n",
       "  <thead>\n",
       "    <tr style=\"text-align: right;\">\n",
       "      <th></th>\n",
       "      <th>duration (min)</th>\n",
       "      <th>Latitude</th>\n",
       "      <th>Longitude</th>\n",
       "      <th>delayed</th>\n",
       "    </tr>\n",
       "  </thead>\n",
       "  <tbody>\n",
       "    <tr>\n",
       "      <th>count</th>\n",
       "      <td>182497.000000</td>\n",
       "      <td>173218.000000</td>\n",
       "      <td>173218.000000</td>\n",
       "      <td>182497.000000</td>\n",
       "    </tr>\n",
       "    <tr>\n",
       "      <th>mean</th>\n",
       "      <td>1.479373</td>\n",
       "      <td>52.291700</td>\n",
       "      <td>-1.168091</td>\n",
       "      <td>0.105509</td>\n",
       "    </tr>\n",
       "    <tr>\n",
       "      <th>std</th>\n",
       "      <td>3.694025</td>\n",
       "      <td>1.405531</td>\n",
       "      <td>1.462386</td>\n",
       "      <td>0.307208</td>\n",
       "    </tr>\n",
       "    <tr>\n",
       "      <th>min</th>\n",
       "      <td>0.050000</td>\n",
       "      <td>50.121672</td>\n",
       "      <td>-5.839077</td>\n",
       "      <td>0.000000</td>\n",
       "    </tr>\n",
       "    <tr>\n",
       "      <th>25%</th>\n",
       "      <td>0.500000</td>\n",
       "      <td>51.440052</td>\n",
       "      <td>-2.248867</td>\n",
       "      <td>0.000000</td>\n",
       "    </tr>\n",
       "    <tr>\n",
       "      <th>50%</th>\n",
       "      <td>1.000000</td>\n",
       "      <td>51.559116</td>\n",
       "      <td>-0.411469</td>\n",
       "      <td>0.000000</td>\n",
       "    </tr>\n",
       "    <tr>\n",
       "      <th>75%</th>\n",
       "      <td>1.000000</td>\n",
       "      <td>53.327567</td>\n",
       "      <td>-0.086088</td>\n",
       "      <td>0.000000</td>\n",
       "    </tr>\n",
       "    <tr>\n",
       "      <th>max</th>\n",
       "      <td>247.000000</td>\n",
       "      <td>58.590175</td>\n",
       "      <td>1.715711</td>\n",
       "      <td>1.000000</td>\n",
       "    </tr>\n",
       "  </tbody>\n",
       "</table>\n",
       "</div>"
      ],
      "text/plain": [
       "       duration (min)       Latitude      Longitude        delayed\n",
       "count   182497.000000  173218.000000  173218.000000  182497.000000\n",
       "mean         1.479373      52.291700      -1.168091       0.105509\n",
       "std          3.694025       1.405531       1.462386       0.307208\n",
       "min          0.050000      50.121672      -5.839077       0.000000\n",
       "25%          0.500000      51.440052      -2.248867       0.000000\n",
       "50%          1.000000      51.559116      -0.411469       0.000000\n",
       "75%          1.000000      53.327567      -0.086088       0.000000\n",
       "max        247.000000      58.590175       1.715711       1.000000"
      ]
     },
     "execution_count": 71,
     "metadata": {},
     "output_type": "execute_result"
    }
   ],
   "source": [
    "df_merged.describe()"
   ]
  },
  {
   "cell_type": "code",
   "execution_count": 72,
   "id": "a748aa17",
   "metadata": {},
   "outputs": [
    {
     "data": {
      "image/png": "[encoded data removed]",
      "text/plain": [
       "<Figure size 1000x600 with 1 Axes>"
      ]
     },
     "metadata": {},
     "output_type": "display_data"
    }
   ],
   "source": [
    "# Histogram for 'duration (min)'\n",
    "plt.figure(figsize=(10, 6))\n",
    "plt.hist(df_merged['duration (min)'], bins=50, edgecolor='black')\n",
    "plt.title('Histogram of Duration (min)')\n",
    "plt.xlabel('Minutes')\n",
    "plt.ylabel('Frequency')\n",
    "plt.show()"
   ]
  },
  {
   "cell_type": "code",
   "execution_count": 73,
   "id": "af1b2752",
   "metadata": {},
   "outputs": [
    {
     "data": {
      "image/png": "[encoded data removed]",
      "text/plain": [
       "<Figure size 1000x600 with 1 Axes>"
      ]
     },
     "metadata": {},
     "output_type": "display_data"
    }
   ],
   "source": [
    "# Histogram for 'duration (min)' with smaller bins and logarithmic x-axis\n",
    "plt.figure(figsize=(10, 6))\n",
    "plt.hist(df_merged['duration (min)'], bins=range(int(df_merged['duration (min)'].min()), int(df_merged['duration (min)'].max()) + 5, 5), edgecolor='black', log=True)\n",
    "\n",
    "plt.title('Histogram of Duration (min) with Logarithmic Y-axis')\n",
    "plt.xlabel('Minutes')\n",
    "plt.ylabel('Frequency')\n",
    "plt.yscale('log')\n",
    "plt.show()"
   ]
  },
  {
   "cell_type": "code",
   "execution_count": 74,
   "id": "2fa7dcce",
   "metadata": {},
   "outputs": [
    {
     "data": {
      "image/png": "[encoded data removed]",
      "text/plain": [
       "<Figure size 1000x600 with 1 Axes>"
      ]
     },
     "metadata": {},
     "output_type": "display_data"
    }
   ],
   "source": [
    "# Boxplot for 'duration (min)' with a logarithmic scale\n",
    "plt.figure(figsize=(10, 6))\n",
    "plt.boxplot(df_merged['duration (min)'], vert=False, patch_artist=True, showfliers=True)\n",
    "plt.xscale('log')\n",
    "\n",
    "# Add mean and median lines\n",
    "mean_duration = df_merged['duration (min)'].mean()\n",
    "median_duration = df_merged['duration (min)'].median()\n",
    "mode_duration = df_merged['duration (min)'].mode().iloc[0]\n",
    "\n",
    "plt.axvline(mean_duration, color='r', linestyle='--', label=f'Mean: {mean_duration:.2f}')\n",
    "plt.axvline(median_duration, color='g', linestyle='-', label=f'Median: {median_duration:.2f}')\n",
    "plt.axvline(mode_duration, color='b', linestyle='-', label=f'Mode: {mode_duration:.2f}')\n",
    "\n",
    "plt.title('Boxplot of Duration (min) with Logarithmic Scale')\n",
    "plt.xlabel('Minutes (log scale)')\n",
    "plt.legend()\n",
    "plt.show()"
   ]
  },
  {
   "cell_type": "markdown",
   "id": "6153f289",
   "metadata": {},
   "source": [
    "# Visuals\n",
    "**Looking at df_delay**"
   ]
  },
  {
   "cell_type": "markdown",
   "id": "4be7cbab",
   "metadata": {},
   "source": [
    "## Arrival Delays"
   ]
  },
  {
   "cell_type": "code",
   "execution_count": 75,
   "id": "73990f29",
   "metadata": {},
   "outputs": [
    {
     "data": {
      "text/plain": [
       "count    17140.000000\n",
       "mean        46.439851\n",
       "std         43.891857\n",
       "min          0.500000\n",
       "25%          9.500000\n",
       "50%         34.000000\n",
       "75%         74.000000\n",
       "max        257.000000\n",
       "Name: arrive_delay(min), dtype: float64"
      ]
     },
     "execution_count": 75,
     "metadata": {},
     "output_type": "execute_result"
    }
   ],
   "source": [
    "df_delay['arrive_delay(min)'].describe()"
   ]
  },
  {
   "cell_type": "code",
   "execution_count": 76,
   "id": "a05894a3",
   "metadata": {},
   "outputs": [
    {
     "data": {
      "image/png": "[encoded data removed]",
      "text/plain": [
       "<Figure size 1000x600 with 1 Axes>"
      ]
     },
     "metadata": {},
     "output_type": "display_data"
    }
   ],
   "source": [
    "# Boxplot for 'arrival_delay(min)' \n",
    "plt.figure(figsize=(10, 6))\n",
    "sns.boxplot(x='arrive_delay(min)', data=df_delay)\n",
    "\n",
    "# Add mean and median lines\n",
    "mean_arrive_delay = df_delay['arrive_delay(min)'].mean()\n",
    "median_arrive_delay = df_delay['arrive_delay(min)'].median()\n",
    "mode_arrive_delay = df_delay['arrive_delay(min)'].mode().iloc[0]\n",
    "\n",
    "plt.axvline(mean_arrive_delay, color='r', linestyle='--', label=f'Mean: {mean_arrive_delay:.2f}')\n",
    "plt.axvline(median_arrive_delay, color='g', linestyle='-', label=f'Median: {median_arrive_delay:.2f}')\n",
    "plt.axvline(mode_arrive_delay, color='b', linestyle='-', label=f'Mode: {mode_arrive_delay:.2f}')\n",
    "\n",
    "plt.title('Boxplot of Arrival Delays (min)')\n",
    "plt.xlabel('Minutes')\n",
    "plt.legend()\n",
    "plt.show()"
   ]
  },
  {
   "cell_type": "code",
   "execution_count": 77,
   "id": "ae949a8d",
   "metadata": {},
   "outputs": [
    {
     "data": {
      "text/plain": [
       "Text(0, 0.5, 'Frequency')"
      ]
     },
     "execution_count": 77,
     "metadata": {},
     "output_type": "execute_result"
    },
    {
     "data": {
      "image/png": "[encoded data removed]",
      "text/plain": [
       "<Figure size 1000x600 with 1 Axes>"
      ]
     },
     "metadata": {},
     "output_type": "display_data"
    }
   ],
   "source": [
    "# Histogram for 'arrival_delay(min)'\n",
    "plt.figure(figsize=(10, 6))\n",
    "plt.hist(df_delay['arrive_delay(min)'], bins=range(int(df_delay['arrive_delay(min)'].min()), int(df_delay['arrive_delay(min)'].max()) + 5, 5), edgecolor='black')\n",
    "plt.title('Histogram of Arrival Delays (min)')\n",
    "plt.xlabel('Minutes')\n",
    "plt.ylabel('Frequency')"
   ]
  },
  {
   "cell_type": "markdown",
   "id": "d4227667",
   "metadata": {},
   "source": [
    "## Departure Delays"
   ]
  },
  {
   "cell_type": "code",
   "execution_count": 78,
   "id": "b6534c1a",
   "metadata": {},
   "outputs": [
    {
     "data": {
      "text/plain": [
       "count    16207.000000\n",
       "mean        46.942759\n",
       "std         43.246970\n",
       "min          0.500000\n",
       "25%         10.000000\n",
       "50%         35.000000\n",
       "75%         74.000000\n",
       "max        257.500000\n",
       "Name: depart_delay(min), dtype: float64"
      ]
     },
     "execution_count": 78,
     "metadata": {},
     "output_type": "execute_result"
    }
   ],
   "source": [
    "df_delay['depart_delay(min)'].describe()"
   ]
  },
  {
   "cell_type": "code",
   "execution_count": 79,
   "id": "d62f2c71",
   "metadata": {},
   "outputs": [
    {
     "data": {
      "text/plain": [
       "4.0"
      ]
     },
     "execution_count": 79,
     "metadata": {},
     "output_type": "execute_result"
    }
   ],
   "source": [
    "mode_depart_delay = df_delay['depart_delay(min)'].mode().iloc[0]\n",
    "mode_depart_delay"
   ]
  },
  {
   "cell_type": "code",
   "execution_count": 80,
   "id": "c0aedc13",
   "metadata": {},
   "outputs": [
    {
     "data": {
      "image/png": "[encoded data removed]",
      "text/plain": [
       "<Figure size 1000x600 with 1 Axes>"
      ]
     },
     "metadata": {},
     "output_type": "display_data"
    }
   ],
   "source": [
    "# Boxplot for 'depart_delay(min)' \n",
    "plt.figure(figsize=(10, 6))\n",
    "sns.boxplot(x='depart_delay(min)', data=df_delay)\n",
    "\n",
    "# Add mean and median lines\n",
    "mean_depart_delay = df_delay['depart_delay(min)'].mean()\n",
    "median_depart_delay = df_delay['depart_delay(min)'].median()\n",
    "# mode_depart_delay = df_delay['depart_delay(min)'].mode().iloc[0]\n",
    "\n",
    "plt.axvline(mean_arrive_delay, color='r', linestyle='--', label=f'Mean: {mean_depart_delay:.2f}')\n",
    "plt.axvline(median_arrive_delay, color='g', linestyle='-', label=f'Median: {median_depart_delay:.2f}')\n",
    "# plt.axvline(mode_arrive_delay, color='b', linestyle='-', label=f'Mode: {mode_depart_delay:.2f}')\n",
    "\n",
    "plt.title('Boxplot of Departure Delays (min)')\n",
    "plt.xlabel('Minutes')\n",
    "plt.legend()\n",
    "plt.show()"
   ]
  },
  {
   "cell_type": "code",
   "execution_count": 81,
   "id": "8c174e60",
   "metadata": {},
   "outputs": [
    {
     "data": {
      "text/plain": [
       "Text(0, 0.5, 'Frequency')"
      ]
     },
     "execution_count": 81,
     "metadata": {},
     "output_type": "execute_result"
    },
    {
     "data": {
      "image/png": "[encoded data removed]",
      "text/plain": [
       "<Figure size 1000x600 with 1 Axes>"
      ]
     },
     "metadata": {},
     "output_type": "display_data"
    }
   ],
   "source": [
    "# Histogram for 'depart_delay(min)'\n",
    "plt.figure(figsize=(10, 6))\n",
    "plt.hist(df_delay['depart_delay(min)'], bins=range(int(df_delay['depart_delay(min)'].min()), int(df_delay['depart_delay(min)'].max()) + 5, 5), edgecolor='black')\n",
    "plt.title('Histogram of Departure Delays (min)')\n",
    "plt.xlabel('Minutes')\n",
    "plt.ylabel('Frequency')"
   ]
  },
  {
   "cell_type": "markdown",
   "id": "5a1ac56b",
   "metadata": {},
   "source": [
    "# Export Desired Dataframe"
   ]
  },
  {
   "cell_type": "code",
   "execution_count": 82,
   "id": "59608c60",
   "metadata": {},
   "outputs": [],
   "source": [
    "output = df_merged.to_csv('./cleaned_data/UK_Rail_Data.csv', index=False, mode = 'w+')"
   ]
  },
  {
   "cell_type": "code",
   "execution_count": null,
   "id": "4144c79c",
   "metadata": {},
   "outputs": [],
   "source": []
  }
 ],
 "metadata": {
  "kernelspec": {
   "display_name": "Python 3 (ipykernel)",
   "language": "python",
   "name": "python3"
  },
  "language_info": {
   "codemirror_mode": {
    "name": "ipython",
    "version": 3
   },
   "file_extension": ".py",
   "mimetype": "text/x-python",
   "name": "python",
   "nbconvert_exporter": "python",
   "pygments_lexer": "ipython3",
   "version": "3.11.7"
  }
 },
 "nbformat": 4,
 "nbformat_minor": 5
}
