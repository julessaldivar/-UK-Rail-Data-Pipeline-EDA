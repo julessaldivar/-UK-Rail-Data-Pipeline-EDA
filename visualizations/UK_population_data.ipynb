{
 "cells": [
  {
   "cell_type": "code",
   "execution_count": 1,
   "id": "255ffe9a",
   "metadata": {},
   "outputs": [],
   "source": [
    "import pandas as pd"
   ]
  },
  {
   "cell_type": "code",
   "execution_count": 2,
   "id": "51b91d10",
   "metadata": {},
   "outputs": [
    {
     "data": {
      "text/html": [
       "<div>\n",
       "<style scoped>\n",
       "    .dataframe tbody tr th:only-of-type {\n",
       "        vertical-align: middle;\n",
       "    }\n",
       "\n",
       "    .dataframe tbody tr th {\n",
       "        vertical-align: top;\n",
       "    }\n",
       "\n",
       "    .dataframe thead th {\n",
       "        text-align: right;\n",
       "    }\n",
       "</style>\n",
       "<table border=\"1\" class=\"dataframe\">\n",
       "  <thead>\n",
       "    <tr style=\"text-align: right;\">\n",
       "      <th></th>\n",
       "      <th>Name</th>\n",
       "      <th>Adm.</th>\n",
       "      <th>Population</th>\n",
       "      <th>Population.1</th>\n",
       "      <th>Population.2</th>\n",
       "    </tr>\n",
       "  </thead>\n",
       "  <tbody>\n",
       "    <tr>\n",
       "      <th>0</th>\n",
       "      <td>NaN</td>\n",
       "      <td>NaN</td>\n",
       "      <td>Census (C)</td>\n",
       "      <td>Census (C)</td>\n",
       "      <td>Census (C)</td>\n",
       "    </tr>\n",
       "    <tr>\n",
       "      <th>1</th>\n",
       "      <td>NaN</td>\n",
       "      <td>NaN</td>\n",
       "      <td>2001-04-29 00:00:00</td>\n",
       "      <td>2011-03-27 00:00:00</td>\n",
       "      <td>2021-03-21 00:00:00</td>\n",
       "    </tr>\n",
       "    <tr>\n",
       "      <th>2</th>\n",
       "      <td>Aberdeen</td>\n",
       "      <td>SCO</td>\n",
       "      <td>185560</td>\n",
       "      <td>195453</td>\n",
       "      <td>196220</td>\n",
       "    </tr>\n",
       "    <tr>\n",
       "      <th>3</th>\n",
       "      <td>Ashford</td>\n",
       "      <td>ENG</td>\n",
       "      <td>58641</td>\n",
       "      <td>72669</td>\n",
       "      <td>82164</td>\n",
       "    </tr>\n",
       "    <tr>\n",
       "      <th>4</th>\n",
       "      <td>Aylesbury</td>\n",
       "      <td>ENG</td>\n",
       "      <td>65973</td>\n",
       "      <td>72490</td>\n",
       "      <td>87967</td>\n",
       "    </tr>\n",
       "  </tbody>\n",
       "</table>\n",
       "</div>"
      ],
      "text/plain": [
       "        Name Adm.           Population         Population.1  \\\n",
       "0        NaN  NaN           Census (C)           Census (C)   \n",
       "1        NaN  NaN  2001-04-29 00:00:00  2011-03-27 00:00:00   \n",
       "2   Aberdeen  SCO               185560               195453   \n",
       "3    Ashford  ENG                58641                72669   \n",
       "4  Aylesbury  ENG                65973                72490   \n",
       "\n",
       "          Population.2  \n",
       "0           Census (C)  \n",
       "1  2021-03-21 00:00:00  \n",
       "2               196220  \n",
       "3                82164  \n",
       "4                87967  "
      ]
     },
     "execution_count": 2,
     "metadata": {},
     "output_type": "execute_result"
    }
   ],
   "source": [
    "df = pd.read_excel('./raw_data/UK_population_data.xlsx')\n",
    "df.head()"
   ]
  },
  {
   "cell_type": "code",
   "execution_count": 3,
   "id": "32aee469",
   "metadata": {},
   "outputs": [
    {
     "data": {
      "text/html": [
       "<div>\n",
       "<style scoped>\n",
       "    .dataframe tbody tr th:only-of-type {\n",
       "        vertical-align: middle;\n",
       "    }\n",
       "\n",
       "    .dataframe tbody tr th {\n",
       "        vertical-align: top;\n",
       "    }\n",
       "\n",
       "    .dataframe thead th {\n",
       "        text-align: right;\n",
       "    }\n",
       "</style>\n",
       "<table border=\"1\" class=\"dataframe\">\n",
       "  <thead>\n",
       "    <tr style=\"text-align: right;\">\n",
       "      <th></th>\n",
       "      <th>Name</th>\n",
       "      <th>Adm.</th>\n",
       "      <th>Population</th>\n",
       "      <th>Population.1</th>\n",
       "      <th>Population.2</th>\n",
       "    </tr>\n",
       "  </thead>\n",
       "  <tbody>\n",
       "    <tr>\n",
       "      <th>0</th>\n",
       "      <td>Aberdeen</td>\n",
       "      <td>SCO</td>\n",
       "      <td>185560</td>\n",
       "      <td>195453</td>\n",
       "      <td>196220</td>\n",
       "    </tr>\n",
       "    <tr>\n",
       "      <th>1</th>\n",
       "      <td>Ashford</td>\n",
       "      <td>ENG</td>\n",
       "      <td>58641</td>\n",
       "      <td>72669</td>\n",
       "      <td>82164</td>\n",
       "    </tr>\n",
       "    <tr>\n",
       "      <th>2</th>\n",
       "      <td>Aylesbury</td>\n",
       "      <td>ENG</td>\n",
       "      <td>65973</td>\n",
       "      <td>72490</td>\n",
       "      <td>87967</td>\n",
       "    </tr>\n",
       "    <tr>\n",
       "      <th>3</th>\n",
       "      <td>Banbury</td>\n",
       "      <td>ENG</td>\n",
       "      <td>41708</td>\n",
       "      <td>46727</td>\n",
       "      <td>52052</td>\n",
       "    </tr>\n",
       "    <tr>\n",
       "      <th>4</th>\n",
       "      <td>Bangor</td>\n",
       "      <td>NIR</td>\n",
       "      <td>58368</td>\n",
       "      <td>61401</td>\n",
       "      <td>64596</td>\n",
       "    </tr>\n",
       "  </tbody>\n",
       "</table>\n",
       "</div>"
      ],
      "text/plain": [
       "        Name Adm. Population Population.1 Population.2\n",
       "0   Aberdeen  SCO     185560       195453       196220\n",
       "1    Ashford  ENG      58641        72669        82164\n",
       "2  Aylesbury  ENG      65973        72490        87967\n",
       "3    Banbury  ENG      41708        46727        52052\n",
       "4     Bangor  NIR      58368        61401        64596"
      ]
     },
     "execution_count": 3,
     "metadata": {},
     "output_type": "execute_result"
    }
   ],
   "source": [
    "df.drop(0, inplace=True)\n",
    "df.drop(1, inplace=True)\n",
    "df = df.reset_index()\n",
    "del df['index']\n",
    "df.head()"
   ]
  },
  {
   "cell_type": "code",
   "execution_count": 4,
   "id": "f7747bb1",
   "metadata": {},
   "outputs": [],
   "source": [
    "df = df.drop(columns=['Population', 'Population.1'])"
   ]
  },
  {
   "cell_type": "code",
   "execution_count": 5,
   "id": "9271dc53",
   "metadata": {},
   "outputs": [],
   "source": [
    "df.rename(columns = {'Name':'City', 'Adm.':'Country', 'Population.2':'2021_Population'}, inplace = True)"
   ]
  },
  {
   "cell_type": "code",
   "execution_count": 6,
   "id": "40b3a55c",
   "metadata": {},
   "outputs": [
    {
     "data": {
      "text/plain": [
       "Country\n",
       "ENG    176\n",
       "SCO     11\n",
       "NIR      7\n",
       "WAL      5\n",
       "Name: count, dtype: int64"
      ]
     },
     "execution_count": 6,
     "metadata": {},
     "output_type": "execute_result"
    }
   ],
   "source": [
    "df['Country'].value_counts()"
   ]
  },
  {
   "cell_type": "code",
   "execution_count": 7,
   "id": "93cbe321",
   "metadata": {},
   "outputs": [],
   "source": [
    "df = df[df.Country != 'NIR']"
   ]
  },
  {
   "cell_type": "code",
   "execution_count": 8,
   "id": "4ff6cce7",
   "metadata": {},
   "outputs": [],
   "source": [
    "def change_country(country):\n",
    "    if country == 'SCO':\n",
    "        country = \"Scotland\"\n",
    "    elif country == \"ENG\":\n",
    "        country = \"England\"\n",
    "    elif country == \"WAL\":\n",
    "        country = \"Wales\"\n",
    "    return country"
   ]
  },
  {
   "cell_type": "code",
   "execution_count": 9,
   "id": "880d5c9a",
   "metadata": {},
   "outputs": [],
   "source": [
    "df[\"Country\"] = df[\"Country\"].apply(change_country)"
   ]
  },
  {
   "cell_type": "code",
   "execution_count": 10,
   "id": "9eb2195b",
   "metadata": {},
   "outputs": [
    {
     "data": {
      "text/html": [
       "<div>\n",
       "<style scoped>\n",
       "    .dataframe tbody tr th:only-of-type {\n",
       "        vertical-align: middle;\n",
       "    }\n",
       "\n",
       "    .dataframe tbody tr th {\n",
       "        vertical-align: top;\n",
       "    }\n",
       "\n",
       "    .dataframe thead th {\n",
       "        text-align: right;\n",
       "    }\n",
       "</style>\n",
       "<table border=\"1\" class=\"dataframe\">\n",
       "  <thead>\n",
       "    <tr style=\"text-align: right;\">\n",
       "      <th></th>\n",
       "      <th>City</th>\n",
       "      <th>Country</th>\n",
       "      <th>2021_Population</th>\n",
       "    </tr>\n",
       "  </thead>\n",
       "  <tbody>\n",
       "    <tr>\n",
       "      <th>0</th>\n",
       "      <td>Aberdeen</td>\n",
       "      <td>Scotland</td>\n",
       "      <td>196220</td>\n",
       "    </tr>\n",
       "    <tr>\n",
       "      <th>1</th>\n",
       "      <td>Ashford</td>\n",
       "      <td>England</td>\n",
       "      <td>82164</td>\n",
       "    </tr>\n",
       "    <tr>\n",
       "      <th>2</th>\n",
       "      <td>Aylesbury</td>\n",
       "      <td>England</td>\n",
       "      <td>87967</td>\n",
       "    </tr>\n",
       "    <tr>\n",
       "      <th>3</th>\n",
       "      <td>Banbury</td>\n",
       "      <td>England</td>\n",
       "      <td>52052</td>\n",
       "    </tr>\n",
       "    <tr>\n",
       "      <th>5</th>\n",
       "      <td>Barnsley</td>\n",
       "      <td>England</td>\n",
       "      <td>71422</td>\n",
       "    </tr>\n",
       "  </tbody>\n",
       "</table>\n",
       "</div>"
      ],
      "text/plain": [
       "        City   Country 2021_Population\n",
       "0   Aberdeen  Scotland          196220\n",
       "1    Ashford   England           82164\n",
       "2  Aylesbury   England           87967\n",
       "3    Banbury   England           52052\n",
       "5   Barnsley   England           71422"
      ]
     },
     "execution_count": 10,
     "metadata": {},
     "output_type": "execute_result"
    }
   ],
   "source": [
    "df.head()"
   ]
  },
  {
   "cell_type": "code",
   "execution_count": 11,
   "id": "a4abe565",
   "metadata": {},
   "outputs": [],
   "source": [
    "df['City'] = df['City'].astype(str)\n",
    "df['Country'] = df['Country'].astype(str)"
   ]
  },
  {
   "cell_type": "code",
   "execution_count": 12,
   "id": "29876acb",
   "metadata": {},
   "outputs": [],
   "source": [
    "df['Location'] =  df[\"City\"] + ', ' + df[\"Country\"]"
   ]
  },
  {
   "cell_type": "code",
   "execution_count": 13,
   "id": "19aea952",
   "metadata": {},
   "outputs": [
    {
     "data": {
      "text/html": [
       "<div>\n",
       "<style scoped>\n",
       "    .dataframe tbody tr th:only-of-type {\n",
       "        vertical-align: middle;\n",
       "    }\n",
       "\n",
       "    .dataframe tbody tr th {\n",
       "        vertical-align: top;\n",
       "    }\n",
       "\n",
       "    .dataframe thead th {\n",
       "        text-align: right;\n",
       "    }\n",
       "</style>\n",
       "<table border=\"1\" class=\"dataframe\">\n",
       "  <thead>\n",
       "    <tr style=\"text-align: right;\">\n",
       "      <th></th>\n",
       "      <th>City</th>\n",
       "      <th>Country</th>\n",
       "      <th>2021_Population</th>\n",
       "      <th>Location</th>\n",
       "    </tr>\n",
       "  </thead>\n",
       "  <tbody>\n",
       "    <tr>\n",
       "      <th>0</th>\n",
       "      <td>Aberdeen</td>\n",
       "      <td>Scotland</td>\n",
       "      <td>196220</td>\n",
       "      <td>Aberdeen, Scotland</td>\n",
       "    </tr>\n",
       "    <tr>\n",
       "      <th>1</th>\n",
       "      <td>Ashford</td>\n",
       "      <td>England</td>\n",
       "      <td>82164</td>\n",
       "      <td>Ashford, England</td>\n",
       "    </tr>\n",
       "    <tr>\n",
       "      <th>2</th>\n",
       "      <td>Aylesbury</td>\n",
       "      <td>England</td>\n",
       "      <td>87967</td>\n",
       "      <td>Aylesbury, England</td>\n",
       "    </tr>\n",
       "    <tr>\n",
       "      <th>3</th>\n",
       "      <td>Banbury</td>\n",
       "      <td>England</td>\n",
       "      <td>52052</td>\n",
       "      <td>Banbury, England</td>\n",
       "    </tr>\n",
       "    <tr>\n",
       "      <th>5</th>\n",
       "      <td>Barnsley</td>\n",
       "      <td>England</td>\n",
       "      <td>71422</td>\n",
       "      <td>Barnsley, England</td>\n",
       "    </tr>\n",
       "    <tr>\n",
       "      <th>...</th>\n",
       "      <td>...</td>\n",
       "      <td>...</td>\n",
       "      <td>...</td>\n",
       "      <td>...</td>\n",
       "    </tr>\n",
       "    <tr>\n",
       "      <th>194</th>\n",
       "      <td>Worcester</td>\n",
       "      <td>England</td>\n",
       "      <td>105455</td>\n",
       "      <td>Worcester, England</td>\n",
       "    </tr>\n",
       "    <tr>\n",
       "      <th>195</th>\n",
       "      <td>Worthing</td>\n",
       "      <td>England</td>\n",
       "      <td>111621</td>\n",
       "      <td>Worthing, England</td>\n",
       "    </tr>\n",
       "    <tr>\n",
       "      <th>196</th>\n",
       "      <td>Wythenshawe</td>\n",
       "      <td>England</td>\n",
       "      <td>97635</td>\n",
       "      <td>Wythenshawe, England</td>\n",
       "    </tr>\n",
       "    <tr>\n",
       "      <th>197</th>\n",
       "      <td>Yeovil</td>\n",
       "      <td>England</td>\n",
       "      <td>50176</td>\n",
       "      <td>Yeovil, England</td>\n",
       "    </tr>\n",
       "    <tr>\n",
       "      <th>198</th>\n",
       "      <td>York</td>\n",
       "      <td>England</td>\n",
       "      <td>141671</td>\n",
       "      <td>York, England</td>\n",
       "    </tr>\n",
       "  </tbody>\n",
       "</table>\n",
       "<p>192 rows × 4 columns</p>\n",
       "</div>"
      ],
      "text/plain": [
       "            City   Country 2021_Population              Location\n",
       "0       Aberdeen  Scotland          196220    Aberdeen, Scotland\n",
       "1        Ashford   England           82164      Ashford, England\n",
       "2      Aylesbury   England           87967    Aylesbury, England\n",
       "3        Banbury   England           52052      Banbury, England\n",
       "5       Barnsley   England           71422     Barnsley, England\n",
       "..           ...       ...             ...                   ...\n",
       "194    Worcester   England          105455    Worcester, England\n",
       "195     Worthing   England          111621     Worthing, England\n",
       "196  Wythenshawe   England           97635  Wythenshawe, England\n",
       "197       Yeovil   England           50176       Yeovil, England\n",
       "198         York   England          141671         York, England\n",
       "\n",
       "[192 rows x 4 columns]"
      ]
     },
     "execution_count": 13,
     "metadata": {},
     "output_type": "execute_result"
    }
   ],
   "source": [
    "df"
   ]
  },
  {
   "cell_type": "code",
   "execution_count": 14,
   "id": "9c48a7ef",
   "metadata": {},
   "outputs": [],
   "source": [
    "output = df.to_csv('./cleaned_data/UK_population_data.csv', index=False, mode = 'w+')"
   ]
  },
  {
   "cell_type": "markdown",
   "id": "9cb1f597",
   "metadata": {},
   "source": [
    "## Bibliography\n",
    "\n",
    "https://www.citypopulation.de/en/uk/cities/"
   ]
  }
 ],
 "metadata": {
  "kernelspec": {
   "display_name": "Python 3 (ipykernel)",
   "language": "python",
   "name": "python3"
  },
  "language_info": {
   "codemirror_mode": {
    "name": "ipython",
    "version": 3
   },
   "file_extension": ".py",
   "mimetype": "text/x-python",
   "name": "python",
   "nbconvert_exporter": "python",
   "pygments_lexer": "ipython3",
   "version": "3.11.7"
  }
 },
 "nbformat": 4,
 "nbformat_minor": 5
}
