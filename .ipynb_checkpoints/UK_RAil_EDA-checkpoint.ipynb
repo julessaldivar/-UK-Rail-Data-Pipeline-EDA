{
 "cells": [
  {
   "cell_type": "markdown",
   "id": "c28980f2",
   "metadata": {},
   "source": [
    "# Ingest and View Data"
   ]
  },
  {
   "cell_type": "code",
   "execution_count": 1,
   "id": "46c3038c",
   "metadata": {},
   "outputs": [],
   "source": [
    "import pandas as pd\n",
    "from sqlalchemy import create_engine"
   ]
  },
  {
   "cell_type": "code",
   "execution_count": 2,
   "id": "20f0fa13",
   "metadata": {},
   "outputs": [],
   "source": [
    "POSTGRES_USERNAME = 'root'\n",
    "POSTGRES_PASSWORD = 'koBREipm4h7CuRKix2Tn'\n",
    "POSTGRES_HOSTNAME = 'database-1.c3ma8u2guxxs.us-east-2.rds.amazonaws.com'\n",
    "POSTGRES_PORT = '5432'\n",
    "POSTGRES_DBNAME = 'postgres'\n",
    "\n",
    "connection_string = f\"postgresql://{POSTGRES_USERNAME}:{POSTGRES_PASSWORD}@{POSTGRES_HOSTNAME}:{POSTGRES_PORT}/{POSTGRES_DBNAME}\"\n",
    "engine = create_engine(connection_string)"
   ]
  },
  {
   "cell_type": "code",
   "execution_count": 3,
   "id": "92c5606d",
   "metadata": {},
   "outputs": [],
   "source": [
    "query = \"\"\"\n",
    "SELECT * FROM darwin\n",
    "\"\"\"\n",
    "\n",
    "df = pd.read_sql(query, engine)"
   ]
  },
  {
   "cell_type": "code",
   "execution_count": 4,
   "id": "93623a2e",
   "metadata": {},
   "outputs": [
    {
     "data": {
      "text/html": [
       "<div>\n",
       "<style scoped>\n",
       "    .dataframe tbody tr th:only-of-type {\n",
       "        vertical-align: middle;\n",
       "    }\n",
       "\n",
       "    .dataframe tbody tr th {\n",
       "        vertical-align: top;\n",
       "    }\n",
       "\n",
       "    .dataframe thead th {\n",
       "        text-align: right;\n",
       "    }\n",
       "</style>\n",
       "<table border=\"1\" class=\"dataframe\">\n",
       "  <thead>\n",
       "    <tr style=\"text-align: right;\">\n",
       "      <th></th>\n",
       "      <th>route_id</th>\n",
       "      <th>unique_id</th>\n",
       "      <th>service_start_date</th>\n",
       "      <th>update_origin</th>\n",
       "      <th>train_platform</th>\n",
       "      <th>working_time_pass</th>\n",
       "      <th>working_time_arrival</th>\n",
       "      <th>working_time_departure</th>\n",
       "      <th>planned_time_arrival</th>\n",
       "      <th>planned_time_departure</th>\n",
       "      <th>...</th>\n",
       "      <th>platform</th>\n",
       "      <th>train_length</th>\n",
       "      <th>estimated_time</th>\n",
       "      <th>source</th>\n",
       "      <th>actual_time</th>\n",
       "      <th>actual_time_class</th>\n",
       "      <th>is_delayed_arrival</th>\n",
       "      <th>is_delayed_departure</th>\n",
       "      <th>source_instance</th>\n",
       "      <th>estimated_time_minutes</th>\n",
       "    </tr>\n",
       "  </thead>\n",
       "  <tbody>\n",
       "    <tr>\n",
       "      <th>0</th>\n",
       "      <td>202407037139232</td>\n",
       "      <td>G39232</td>\n",
       "      <td>2024-07-03</td>\n",
       "      <td>TD</td>\n",
       "      <td>SCROYDN</td>\n",
       "      <td>None</td>\n",
       "      <td>19:31:00</td>\n",
       "      <td>19:31:30</td>\n",
       "      <td>19:31:00</td>\n",
       "      <td>19:31:00</td>\n",
       "      <td>...</td>\n",
       "      <td>4</td>\n",
       "      <td>10.0</td>\n",
       "      <td>None</td>\n",
       "      <td>None</td>\n",
       "      <td>None</td>\n",
       "      <td>None</td>\n",
       "      <td>False</td>\n",
       "      <td>False</td>\n",
       "      <td>None</td>\n",
       "      <td>None</td>\n",
       "    </tr>\n",
       "    <tr>\n",
       "      <th>1</th>\n",
       "      <td>202407036785172</td>\n",
       "      <td>C85172</td>\n",
       "      <td>2024-07-03</td>\n",
       "      <td>CIS</td>\n",
       "      <td>LIVSTLL</td>\n",
       "      <td>None</td>\n",
       "      <td>19:37:00</td>\n",
       "      <td>19:38:00</td>\n",
       "      <td>19:37:00</td>\n",
       "      <td>19:38:00</td>\n",
       "      <td>...</td>\n",
       "      <td>A</td>\n",
       "      <td>NaN</td>\n",
       "      <td>None</td>\n",
       "      <td>None</td>\n",
       "      <td>None</td>\n",
       "      <td>None</td>\n",
       "      <td>False</td>\n",
       "      <td>False</td>\n",
       "      <td>None</td>\n",
       "      <td>None</td>\n",
       "    </tr>\n",
       "    <tr>\n",
       "      <th>2</th>\n",
       "      <td>202407036735756</td>\n",
       "      <td>C35756</td>\n",
       "      <td>2024-07-03</td>\n",
       "      <td>TD</td>\n",
       "      <td>ESTHRAK</td>\n",
       "      <td>None</td>\n",
       "      <td>19:30:30</td>\n",
       "      <td>19:31:00</td>\n",
       "      <td>19:31:00</td>\n",
       "      <td>19:31:00</td>\n",
       "      <td>...</td>\n",
       "      <td>2</td>\n",
       "      <td>NaN</td>\n",
       "      <td>None</td>\n",
       "      <td>None</td>\n",
       "      <td>None</td>\n",
       "      <td>None</td>\n",
       "      <td>False</td>\n",
       "      <td>False</td>\n",
       "      <td>None</td>\n",
       "      <td>None</td>\n",
       "    </tr>\n",
       "    <tr>\n",
       "      <th>3</th>\n",
       "      <td>202407036735756</td>\n",
       "      <td>C35756</td>\n",
       "      <td>2024-07-03</td>\n",
       "      <td>TD</td>\n",
       "      <td>BRMB</td>\n",
       "      <td>None</td>\n",
       "      <td>19:33:00</td>\n",
       "      <td>19:33:30</td>\n",
       "      <td>19:33:00</td>\n",
       "      <td>19:33:00</td>\n",
       "      <td>...</td>\n",
       "      <td>1</td>\n",
       "      <td>NaN</td>\n",
       "      <td>None</td>\n",
       "      <td>None</td>\n",
       "      <td>None</td>\n",
       "      <td>None</td>\n",
       "      <td>False</td>\n",
       "      <td>False</td>\n",
       "      <td>None</td>\n",
       "      <td>None</td>\n",
       "    </tr>\n",
       "    <tr>\n",
       "      <th>4</th>\n",
       "      <td>202407036735756</td>\n",
       "      <td>C35756</td>\n",
       "      <td>2024-07-03</td>\n",
       "      <td>TD</td>\n",
       "      <td>BRMBRK</td>\n",
       "      <td>None</td>\n",
       "      <td>19:35:00</td>\n",
       "      <td>19:35:30</td>\n",
       "      <td>19:35:00</td>\n",
       "      <td>19:35:00</td>\n",
       "      <td>...</td>\n",
       "      <td>2</td>\n",
       "      <td>NaN</td>\n",
       "      <td>None</td>\n",
       "      <td>None</td>\n",
       "      <td>None</td>\n",
       "      <td>None</td>\n",
       "      <td>False</td>\n",
       "      <td>False</td>\n",
       "      <td>None</td>\n",
       "      <td>None</td>\n",
       "    </tr>\n",
       "  </tbody>\n",
       "</table>\n",
       "<p>5 rows × 22 columns</p>\n",
       "</div>"
      ],
      "text/plain": [
       "          route_id unique_id service_start_date update_origin train_platform  \\\n",
       "0  202407037139232    G39232         2024-07-03            TD        SCROYDN   \n",
       "1  202407036785172    C85172         2024-07-03           CIS        LIVSTLL   \n",
       "2  202407036735756    C35756         2024-07-03            TD        ESTHRAK   \n",
       "3  202407036735756    C35756         2024-07-03            TD           BRMB   \n",
       "4  202407036735756    C35756         2024-07-03            TD         BRMBRK   \n",
       "\n",
       "  working_time_pass working_time_arrival working_time_departure  \\\n",
       "0              None             19:31:00               19:31:30   \n",
       "1              None             19:37:00               19:38:00   \n",
       "2              None             19:30:30               19:31:00   \n",
       "3              None             19:33:00               19:33:30   \n",
       "4              None             19:35:00               19:35:30   \n",
       "\n",
       "  planned_time_arrival planned_time_departure  ... platform train_length  \\\n",
       "0             19:31:00               19:31:00  ...        4         10.0   \n",
       "1             19:37:00               19:38:00  ...        A          NaN   \n",
       "2             19:31:00               19:31:00  ...        2          NaN   \n",
       "3             19:33:00               19:33:00  ...        1          NaN   \n",
       "4             19:35:00               19:35:00  ...        2          NaN   \n",
       "\n",
       "  estimated_time  source actual_time actual_time_class is_delayed_arrival  \\\n",
       "0           None    None        None              None              False   \n",
       "1           None    None        None              None              False   \n",
       "2           None    None        None              None              False   \n",
       "3           None    None        None              None              False   \n",
       "4           None    None        None              None              False   \n",
       "\n",
       "  is_delayed_departure  source_instance  estimated_time_minutes  \n",
       "0                False             None                    None  \n",
       "1                False             None                    None  \n",
       "2                False             None                    None  \n",
       "3                False             None                    None  \n",
       "4                False             None                    None  \n",
       "\n",
       "[5 rows x 22 columns]"
      ]
     },
     "execution_count": 4,
     "metadata": {},
     "output_type": "execute_result"
    }
   ],
   "source": [
    "df.head()"
   ]
  },
  {
   "cell_type": "code",
   "execution_count": 5,
   "id": "7b2d44a6",
   "metadata": {},
   "outputs": [
    {
     "name": "stdout",
     "output_type": "stream",
     "text": [
      "<class 'pandas.core.frame.DataFrame'>\n",
      "RangeIndex: 461312 entries, 0 to 461311\n",
      "Data columns (total 22 columns):\n",
      " #   Column                  Non-Null Count   Dtype  \n",
      "---  ------                  --------------   -----  \n",
      " 0   route_id                461312 non-null  object \n",
      " 1   unique_id               461312 non-null  object \n",
      " 2   service_start_date      461312 non-null  object \n",
      " 3   update_origin           449782 non-null  object \n",
      " 4   train_platform          461312 non-null  object \n",
      " 5   working_time_pass       0 non-null       object \n",
      " 6   working_time_arrival    461312 non-null  object \n",
      " 7   working_time_departure  461312 non-null  object \n",
      " 8   planned_time_arrival    422648 non-null  object \n",
      " 9   planned_time_departure  420763 non-null  object \n",
      " 10  actual_arrival_time     387517 non-null  object \n",
      " 11  actual_departure_time   430473 non-null  object \n",
      " 12  platform                431783 non-null  object \n",
      " 13  train_length            147588 non-null  float64\n",
      " 14  estimated_time          0 non-null       object \n",
      " 15  source                  0 non-null       object \n",
      " 16  actual_time             0 non-null       object \n",
      " 17  actual_time_class       0 non-null       object \n",
      " 18  is_delayed_arrival      461312 non-null  bool   \n",
      " 19  is_delayed_departure    461312 non-null  bool   \n",
      " 20  source_instance         0 non-null       object \n",
      " 21  estimated_time_minutes  0 non-null       object \n",
      "dtypes: bool(2), float64(1), object(19)\n",
      "memory usage: 71.3+ MB\n"
     ]
    }
   ],
   "source": [
    "df.info()"
   ]
  },
  {
   "cell_type": "markdown",
   "id": "9b6b3ae2",
   "metadata": {},
   "source": [
    "# Clean DF \n",
    "**Drop Null Columns and Unnecessary Columns**"
   ]
  },
  {
   "cell_type": "code",
   "execution_count": 6,
   "id": "bf90ce75",
   "metadata": {},
   "outputs": [],
   "source": [
    "# columns to drop due to null values or used in analysis\n",
    "columns_to_drop = [\n",
    "    'working_time_pass',\n",
    "    'estimated_time',\n",
    "    'source',\n",
    "    'actual_time',\n",
    "    'actual_time_class',\n",
    "    'source_instance',\n",
    "    'estimated_time_minutes',\n",
    "    'train_length', \n",
    "    'update_origin',\n",
    "    'planned_time_arrival',\n",
    "    'planned_time_departure',\n",
    "    'platform'\n",
    "]\n",
    "\n",
    "df_cleaned = df.drop(columns=columns_to_drop)"
   ]
  },
  {
   "cell_type": "code",
   "execution_count": 7,
   "id": "dd274c9a",
   "metadata": {},
   "outputs": [
    {
     "data": {
      "text/plain": [
       "33139"
      ]
     },
     "execution_count": 7,
     "metadata": {},
     "output_type": "execute_result"
    }
   ],
   "source": [
    "# check duplicates\n",
    "duplicates = df_cleaned.duplicated().sum()\n",
    "duplicates"
   ]
  },
  {
   "cell_type": "code",
   "execution_count": 8,
   "id": "efb2d830",
   "metadata": {},
   "outputs": [],
   "source": [
    "# to drop duplicates\n",
    "df_cleaned = df_cleaned.drop_duplicates()"
   ]
  },
  {
   "cell_type": "code",
   "execution_count": 9,
   "id": "a1f48b8c",
   "metadata": {},
   "outputs": [
    {
     "data": {
      "text/plain": [
       "route_id                      0\n",
       "unique_id                     0\n",
       "service_start_date            0\n",
       "train_platform                0\n",
       "working_time_arrival          0\n",
       "working_time_departure        0\n",
       "actual_arrival_time       72100\n",
       "actual_departure_time     30002\n",
       "is_delayed_arrival            0\n",
       "is_delayed_departure          0\n",
       "dtype: int64"
      ]
     },
     "execution_count": 9,
     "metadata": {},
     "output_type": "execute_result"
    }
   ],
   "source": [
    "# check nulls\n",
    "df_cleaned.isna().sum()"
   ]
  },
  {
   "cell_type": "code",
   "execution_count": 10,
   "id": "a13284fe",
   "metadata": {},
   "outputs": [],
   "source": [
    "# to drop remaining nulls\n",
    "# df_cleaned = df_cleaned.dropna()"
   ]
  },
  {
   "cell_type": "markdown",
   "id": "8ddefcaf",
   "metadata": {},
   "source": [
    "# Create Delay DF"
   ]
  },
  {
   "cell_type": "code",
   "execution_count": 11,
   "id": "99802c8e",
   "metadata": {},
   "outputs": [],
   "source": [
    "query_delay = \"SELECT * FROM darwin WHERE is_delayed_arrival = True AND is_delayed_departure = True\"\n",
    "df_delay = pd.read_sql(query_delay, engine)"
   ]
  },
  {
   "cell_type": "code",
   "execution_count": 12,
   "id": "d1586148",
   "metadata": {},
   "outputs": [],
   "source": [
    "df_delay = df_delay.drop(columns=columns_to_drop)"
   ]
  },
  {
   "cell_type": "code",
   "execution_count": 13,
   "id": "64a09e93",
   "metadata": {},
   "outputs": [
    {
     "name": "stdout",
     "output_type": "stream",
     "text": [
      "<class 'pandas.core.frame.DataFrame'>\n",
      "RangeIndex: 57344 entries, 0 to 57343\n",
      "Data columns (total 10 columns):\n",
      " #   Column                  Non-Null Count  Dtype \n",
      "---  ------                  --------------  ----- \n",
      " 0   route_id                57344 non-null  object\n",
      " 1   unique_id               57344 non-null  object\n",
      " 2   service_start_date      57344 non-null  object\n",
      " 3   train_platform          57344 non-null  object\n",
      " 4   working_time_arrival    57344 non-null  object\n",
      " 5   working_time_departure  57344 non-null  object\n",
      " 6   actual_arrival_time     57312 non-null  object\n",
      " 7   actual_departure_time   57115 non-null  object\n",
      " 8   is_delayed_arrival      57344 non-null  bool  \n",
      " 9   is_delayed_departure    57344 non-null  bool  \n",
      "dtypes: bool(2), object(8)\n",
      "memory usage: 3.6+ MB\n"
     ]
    }
   ],
   "source": [
    "df_delay.info()"
   ]
  },
  {
   "cell_type": "code",
   "execution_count": 14,
   "id": "375babaa",
   "metadata": {},
   "outputs": [
    {
     "data": {
      "text/plain": [
       "344"
      ]
     },
     "execution_count": 14,
     "metadata": {},
     "output_type": "execute_result"
    }
   ],
   "source": [
    "df_delay.duplicated().sum()"
   ]
  },
  {
   "cell_type": "markdown",
   "id": "d14f58be",
   "metadata": {},
   "source": [
    "# Adding Duration Column\n",
    "Convert times from object datatypes to time datatypes."
   ]
  },
  {
   "cell_type": "code",
   "execution_count": 15,
   "id": "3d8280cf",
   "metadata": {},
   "outputs": [],
   "source": [
    "df_cleaned['working_time_arrival'] = pd.to_datetime(df_cleaned['working_time_arrival'], format='%H:%M:%S')\n",
    "df_cleaned['working_time_departure'] = pd.to_datetime(df_cleaned['working_time_departure'], format='%H:%M:%S')"
   ]
  },
  {
   "cell_type": "markdown",
   "id": "ba2ec2df",
   "metadata": {},
   "source": [
    "Complete math to find duration."
   ]
  },
  {
   "cell_type": "code",
   "execution_count": 16,
   "id": "5fbe480c",
   "metadata": {},
   "outputs": [],
   "source": [
    "df_cleaned['duration (min)'] = ((df_cleaned['working_time_departure']-df_cleaned['working_time_arrival'])\\\n",
    "                                .dt.total_seconds()/60)"
   ]
  },
  {
   "cell_type": "markdown",
   "id": "a47503b6",
   "metadata": {},
   "source": [
    "Transition back to time only."
   ]
  },
  {
   "cell_type": "code",
   "execution_count": 17,
   "id": "fe337fa4",
   "metadata": {},
   "outputs": [],
   "source": [
    "df_cleaned['working_time_arrival'] = df_cleaned['working_time_arrival'].dt.time\n",
    "df_cleaned['working_time_departure'] = df_cleaned['working_time_departure'].dt.time"
   ]
  },
  {
   "cell_type": "markdown",
   "id": "2e24a1d7",
   "metadata": {},
   "source": [
    "Repeat for Delay Dataframe."
   ]
  },
  {
   "cell_type": "code",
   "execution_count": 18,
   "id": "2b9cd7e7",
   "metadata": {},
   "outputs": [],
   "source": [
    "df_delay['working_time_arrival'] = pd.to_datetime(df_delay['working_time_arrival'], format='%H:%M:%S')\n",
    "df_delay['working_time_departure'] = pd.to_datetime(df_delay['working_time_departure'], format='%H:%M:%S')\n",
    "df_delay['duration (min)'] = ((df_delay['working_time_departure']-df_delay['working_time_arrival'])\\\n",
    "                                .dt.total_seconds()/60)\n",
    "df_delay['working_time_arrival'] = df_delay['working_time_arrival'].dt.time\n",
    "df_delay['working_time_departure'] = df_delay['working_time_departure'].dt.time"
   ]
  },
  {
   "cell_type": "code",
   "execution_count": 19,
   "id": "90b58b30",
   "metadata": {},
   "outputs": [
    {
     "name": "stdout",
     "output_type": "stream",
     "text": [
      "duration (min)\n",
      "-1438.5      13\n",
      "-1438.0      22\n",
      "-1437.5       9\n",
      "-1437.0      46\n",
      "-1436.5       1\n",
      "-1436.0      64\n",
      "-1435.0      26\n",
      "-1434.5       2\n",
      "-1434.0      43\n",
      "-1433.5       1\n",
      "-1433.0      22\n",
      "-1432.0      34\n",
      "-1431.5       7\n",
      "-1431.0      25\n",
      "-1430.5       1\n",
      "-1430.0      68\n",
      "-1429.5       2\n",
      "-1429.0       1\n",
      "-1428.0       3\n",
      "-1427.0       8\n",
      "-1426.0       1\n",
      "-1423.0       8\n",
      "-1421.0       1\n",
      "-1420.0       3\n",
      "-1419.0       8\n",
      "-1418.0       4\n",
      "-1417.5       4\n",
      "-1416.0       1\n",
      "-1413.0       6\n",
      "-1407.0       6\n",
      "-1406.5       6\n",
      "-1406.0       1\n",
      "-1402.0       1\n",
      "-1401.0      20\n",
      "-1395.0       8\n",
      "-1392.0       4\n",
      "-1352.0       4\n",
      "-1351.0       1\n",
      "-1320.0       1\n",
      "-1313.5      12\n",
      "-1310.5       1\n",
      "-1309.0       1\n",
      "-1303.0       2\n",
      "-1272.5       2\n",
      " 0.0       7722\n",
      "Name: count, dtype: int64\n"
     ]
    }
   ],
   "source": [
    "# Check for zero and negative values\n",
    "neg_zero_duration_counts = df_cleaned[df_cleaned['duration (min)'] <= 0]['duration (min)'].value_counts().sort_index(ascending=True)\n",
    "\n",
    "# Display the result\n",
    "print(neg_zero_duration_counts)"
   ]
  },
  {
   "cell_type": "code",
   "execution_count": 20,
   "id": "d350ebb3",
   "metadata": {},
   "outputs": [],
   "source": [
    "# Drop the rows with negative values in duration\n",
    "df_cleaned = df_cleaned[df_cleaned['duration (min)'] > 0]"
   ]
  },
  {
   "cell_type": "code",
   "execution_count": 21,
   "id": "e6807cd2",
   "metadata": {},
   "outputs": [
    {
     "name": "stdout",
     "output_type": "stream",
     "text": [
      "Series([], Name: count, dtype: int64)\n"
     ]
    }
   ],
   "source": [
    "# Check\n",
    "neg_zero_duration_counts = df_cleaned[df_cleaned['duration (min)'] <= 0]['duration (min)'].value_counts().sort_index(ascending=True)\n",
    "\n",
    "# Display the result\n",
    "print(neg_zero_duration_counts)"
   ]
  },
  {
   "cell_type": "code",
   "execution_count": 22,
   "id": "83d4523d",
   "metadata": {},
   "outputs": [],
   "source": [
    "# Repeating Drop for delay_df to remove negative values in duration\n",
    "\n",
    "df_delay = df_delay[df_delay['duration (min)'] > 0]"
   ]
  },
  {
   "cell_type": "markdown",
   "id": "6835240e",
   "metadata": {},
   "source": [
    "## Adding a Day of the Week Column"
   ]
  },
  {
   "cell_type": "code",
   "execution_count": 23,
   "id": "e0439c8c",
   "metadata": {},
   "outputs": [],
   "source": [
    "df_cleaned['service_start_date'] = pd.to_datetime(df_cleaned['service_start_date'])\n",
    "df_cleaned['weekday'] = df_cleaned['service_start_date'].dt.day_name()"
   ]
  },
  {
   "cell_type": "code",
   "execution_count": 24,
   "id": "57d5fe79",
   "metadata": {},
   "outputs": [
    {
     "data": {
      "image/png": "[encoded data removed]",
      "text/plain": [
       "<Figure size 1000x600 with 1 Axes>"
      ]
     },
     "metadata": {},
     "output_type": "display_data"
    }
   ],
   "source": [
    "import matplotlib.pyplot as plt\n",
    "import seaborn as sns\n",
    "# Top 10 most frequently visited stations\n",
    "weekday_dist = df_cleaned['weekday'].value_counts()\n",
    "plt.figure(figsize=(10, 6))\n",
    "sns.barplot(x=weekday_dist.index, y=weekday_dist.values)\n",
    "plt.title('Weekday Distribution')\n",
    "plt.xlabel('Weekday')\n",
    "plt.ylabel('Number of Data Points')\n",
    "plt.xticks(rotation=90)\n",
    "plt.show()"
   ]
  },
  {
   "cell_type": "markdown",
   "id": "ebe271e4",
   "metadata": {},
   "source": [
    "Keeping an eye on this distribtuion to try and keep data even across each weekday."
   ]
  },
  {
   "cell_type": "code",
   "execution_count": 25,
   "id": "a9ff6fab",
   "metadata": {},
   "outputs": [],
   "source": [
    "df_delay['service_start_date'] = pd.to_datetime(df_delay['service_start_date'])\n",
    "df_delay['weekday'] = df_delay['service_start_date'].dt.day_name()"
   ]
  },
  {
   "cell_type": "markdown",
   "id": "8475a4e6",
   "metadata": {},
   "source": [
    "# Ingest Rail References Data"
   ]
  },
  {
   "cell_type": "code",
   "execution_count": 26,
   "id": "690fe18d",
   "metadata": {},
   "outputs": [],
   "source": [
    "reference_df = pd.read_csv('./raw_data/RailReferences.csv')"
   ]
  },
  {
   "cell_type": "markdown",
   "id": "30a8c505",
   "metadata": {},
   "source": [
    "## Convert Easting, Northing to Latitude and Longitude"
   ]
  },
  {
   "cell_type": "code",
   "execution_count": 27,
   "id": "e763a765",
   "metadata": {},
   "outputs": [
    {
     "name": "stdout",
     "output_type": "stream",
     "text": [
      "Requirement already satisfied: pyproj in c:\\users\\audre\\anaconda3\\lib\\site-packages (3.6.1)\n",
      "Requirement already satisfied: certifi in c:\\users\\audre\\anaconda3\\lib\\site-packages (from pyproj) (2024.2.2)\n"
     ]
    }
   ],
   "source": [
    "!pip install pyproj"
   ]
  },
  {
   "cell_type": "code",
   "execution_count": 28,
   "id": "73c6b1f8",
   "metadata": {},
   "outputs": [],
   "source": [
    "from pyproj import Transformer"
   ]
  },
  {
   "cell_type": "code",
   "execution_count": 29,
   "id": "d977b90e",
   "metadata": {},
   "outputs": [],
   "source": [
    "#  Define the British National Grid projection (EPSG:27700) and WGS84\n",
    "osgb_projection = 'epsg:27700'  # British National Grid\n",
    "wgs84_projection = 'epsg:4326'  # WGS84"
   ]
  },
  {
   "cell_type": "code",
   "execution_count": 30,
   "id": "04ae889d",
   "metadata": {},
   "outputs": [],
   "source": [
    "# Initialize the transformer\n",
    "transformer = Transformer.from_crs(osgb_projection, wgs84_projection)"
   ]
  },
  {
   "cell_type": "code",
   "execution_count": 31,
   "id": "e25e1eee",
   "metadata": {},
   "outputs": [],
   "source": [
    "# Function to convert British National Grid to latitude and longitude\n",
    "def convert_osgb_to_latlong(easting, northing):\n",
    "    longitude, latitude = transformer.transform(easting, northing)\n",
    "    return longitude, latitude"
   ]
  },
  {
   "cell_type": "code",
   "execution_count": 32,
   "id": "8c199522",
   "metadata": {},
   "outputs": [],
   "source": [
    "# Apply conversion to the DataFrame and create new columns Latitude and Longitude\n",
    "reference_df[['Latitude', 'Longitude']] = reference_df.apply(lambda row: convert_osgb_to_latlong(row['Easting'], row['Northing']),\\\n",
    "                                         axis=1,\\\n",
    "                                         result_type='expand')"
   ]
  },
  {
   "cell_type": "code",
   "execution_count": 33,
   "id": "4c2d5008",
   "metadata": {},
   "outputs": [
    {
     "data": {
      "text/html": [
       "<div>\n",
       "<style scoped>\n",
       "    .dataframe tbody tr th:only-of-type {\n",
       "        vertical-align: middle;\n",
       "    }\n",
       "\n",
       "    .dataframe tbody tr th {\n",
       "        vertical-align: top;\n",
       "    }\n",
       "\n",
       "    .dataframe thead th {\n",
       "        text-align: right;\n",
       "    }\n",
       "</style>\n",
       "<table border=\"1\" class=\"dataframe\">\n",
       "  <thead>\n",
       "    <tr style=\"text-align: right;\">\n",
       "      <th></th>\n",
       "      <th>TiplocCode</th>\n",
       "      <th>StationName</th>\n",
       "      <th>Latitude</th>\n",
       "      <th>Longitude</th>\n",
       "    </tr>\n",
       "  </thead>\n",
       "  <tbody>\n",
       "    <tr>\n",
       "      <th>0</th>\n",
       "      <td>PENZNCE</td>\n",
       "      <td>Penzance Rail Station</td>\n",
       "      <td>50.121672</td>\n",
       "      <td>-5.532565</td>\n",
       "    </tr>\n",
       "    <tr>\n",
       "      <th>1</th>\n",
       "      <td>STIVES</td>\n",
       "      <td>St Ives (Cornwall) Rail Station</td>\n",
       "      <td>50.209043</td>\n",
       "      <td>-5.477912</td>\n",
       "    </tr>\n",
       "    <tr>\n",
       "      <th>2</th>\n",
       "      <td>CARBISB</td>\n",
       "      <td>Carbis Bay Rail Station</td>\n",
       "      <td>50.197048</td>\n",
       "      <td>-5.463263</td>\n",
       "    </tr>\n",
       "    <tr>\n",
       "      <th>3</th>\n",
       "      <td>STERTH</td>\n",
       "      <td>St Erth Rail Station</td>\n",
       "      <td>50.170489</td>\n",
       "      <td>-5.444252</td>\n",
       "    </tr>\n",
       "    <tr>\n",
       "      <th>4</th>\n",
       "      <td>LELANTS</td>\n",
       "      <td>Lelant Saltings Rail Station</td>\n",
       "      <td>50.178775</td>\n",
       "      <td>-5.440926</td>\n",
       "    </tr>\n",
       "    <tr>\n",
       "      <th>...</th>\n",
       "      <td>...</td>\n",
       "      <td>...</td>\n",
       "      <td>...</td>\n",
       "      <td>...</td>\n",
       "    </tr>\n",
       "    <tr>\n",
       "      <th>2623</th>\n",
       "      <td>SMRLYTN</td>\n",
       "      <td>Somerleyton Rail Station</td>\n",
       "      <td>52.510229</td>\n",
       "      <td>1.652260</td>\n",
       "    </tr>\n",
       "    <tr>\n",
       "      <th>2624</th>\n",
       "      <td>OULTNBS</td>\n",
       "      <td>Oulton Broad South Rail Station</td>\n",
       "      <td>52.469602</td>\n",
       "      <td>1.707659</td>\n",
       "    </tr>\n",
       "    <tr>\n",
       "      <th>2625</th>\n",
       "      <td>YARMTH</td>\n",
       "      <td>Great Yarmouth Rail Station</td>\n",
       "      <td>52.612158</td>\n",
       "      <td>1.720886</td>\n",
       "    </tr>\n",
       "    <tr>\n",
       "      <th>2626</th>\n",
       "      <td>OULTNBN</td>\n",
       "      <td>Oulton Broad North Rail Station</td>\n",
       "      <td>52.477759</td>\n",
       "      <td>1.715711</td>\n",
       "    </tr>\n",
       "    <tr>\n",
       "      <th>2627</th>\n",
       "      <td>LOWSTFT</td>\n",
       "      <td>Lowestoft Rail Station</td>\n",
       "      <td>52.474436</td>\n",
       "      <td>1.749708</td>\n",
       "    </tr>\n",
       "  </tbody>\n",
       "</table>\n",
       "<p>2628 rows × 4 columns</p>\n",
       "</div>"
      ],
      "text/plain": [
       "     TiplocCode                      StationName   Latitude  Longitude\n",
       "0       PENZNCE            Penzance Rail Station  50.121672  -5.532565\n",
       "1        STIVES  St Ives (Cornwall) Rail Station  50.209043  -5.477912\n",
       "2       CARBISB          Carbis Bay Rail Station  50.197048  -5.463263\n",
       "3        STERTH             St Erth Rail Station  50.170489  -5.444252\n",
       "4       LELANTS     Lelant Saltings Rail Station  50.178775  -5.440926\n",
       "...         ...                              ...        ...        ...\n",
       "2623    SMRLYTN         Somerleyton Rail Station  52.510229   1.652260\n",
       "2624    OULTNBS  Oulton Broad South Rail Station  52.469602   1.707659\n",
       "2625     YARMTH      Great Yarmouth Rail Station  52.612158   1.720886\n",
       "2626    OULTNBN  Oulton Broad North Rail Station  52.477759   1.715711\n",
       "2627    LOWSTFT           Lowestoft Rail Station  52.474436   1.749708\n",
       "\n",
       "[2628 rows x 4 columns]"
      ]
     },
     "execution_count": 33,
     "metadata": {},
     "output_type": "execute_result"
    }
   ],
   "source": [
    "# Data need for analysis \n",
    "data = reference_df[['TiplocCode', 'StationName', 'Latitude', 'Longitude']]\n",
    "data"
   ]
  },
  {
   "cell_type": "markdown",
   "id": "35d54f49",
   "metadata": {},
   "source": [
    "### Data Enrichment\n",
    "Used this section to add identifying information for top Timing Point Locations (*TiplocCode*) not already identified in the supplied \"RailReferences.csv\" data. "
   ]
  },
  {
   "cell_type": "markdown",
   "id": "e390b53c",
   "metadata": {},
   "source": [
    "Research indicates that the Timing Point Location for BONDST, correlates to Bond Street Station$^{1}$ located at 51.514°N, 0.15°W$^{2}$. "
   ]
  },
  {
   "cell_type": "code",
   "execution_count": 34,
   "id": "d8430988",
   "metadata": {},
   "outputs": [],
   "source": [
    "new_row = pd.DataFrame([['BONDST', 'Bond Street Station', 51.514, -0.15]], columns=data.columns)\n",
    "data = pd.concat([data, new_row], ignore_index=True)"
   ]
  },
  {
   "cell_type": "markdown",
   "id": "23d03be2",
   "metadata": {},
   "source": [
    "Research indicates that the Timing Point Location for TOTCTRD, correlates to Tottenham Court Road$^{1}$ located at 51.5207°N, 0.1345°W$^{3}$. "
   ]
  },
  {
   "cell_type": "code",
   "execution_count": 35,
   "id": "6d2bdeb8",
   "metadata": {},
   "outputs": [],
   "source": [
    "new_row = pd.DataFrame([['TOTCTRD', 'Tottenham Court Road', 51.5207, -0.1345]], columns=data.columns)\n",
    "data = pd.concat([data, new_row], ignore_index=True)"
   ]
  },
  {
   "cell_type": "markdown",
   "id": "806afc4e",
   "metadata": {},
   "source": [
    "Research indicates that the Timing Point Location for CANWHRF, correlates to Canary Wharf Railway Station$^{1}$ located at 51.5061°N, 0.01578°W$^{4}$. "
   ]
  },
  {
   "cell_type": "code",
   "execution_count": 36,
   "id": "2763d27c",
   "metadata": {},
   "outputs": [],
   "source": [
    "new_row = pd.DataFrame([['CANWHRF', 'Canary Wharf Railway Station', 51.5061, -0.01578]], columns=data.columns)\n",
    "data = pd.concat([data, new_row], ignore_index=True)"
   ]
  },
  {
   "cell_type": "markdown",
   "id": "e5e94c0e",
   "metadata": {},
   "source": [
    "Research indicates that the Timing Point Location for WCHAPXR, correlates to Whitechapel Crossrail$^{1}$ located at 51.5195°N, 0.0612°W$^{5, 6}$. "
   ]
  },
  {
   "cell_type": "code",
   "execution_count": 37,
   "id": "8dd2e2b2",
   "metadata": {},
   "outputs": [],
   "source": [
    "new_row = pd.DataFrame([['WCHAPXR', 'Whitechapel Crossrail', 51.9195, -0.0612]], columns=data.columns)\n",
    "data = pd.concat([data, new_row], ignore_index=True)"
   ]
  },
  {
   "cell_type": "markdown",
   "id": "1dc21909",
   "metadata": {},
   "source": [
    "Research indicates that the Timing Point Location for LIVSTLL, correlates to London Liverpool Street Crossrail$^{1}$ located at 51.5186°N, 0.0813°W$^{6, 7}$. "
   ]
  },
  {
   "cell_type": "code",
   "execution_count": 38,
   "id": "eb8a1a10",
   "metadata": {},
   "outputs": [],
   "source": [
    "new_row = pd.DataFrame([['LIVSTLL', 'London Liverpool Street Crossrail', 51.5186, -0.0813]], columns=data.columns)\n",
    "data = pd.concat([data, new_row], ignore_index=True)"
   ]
  },
  {
   "cell_type": "markdown",
   "id": "454c1792",
   "metadata": {},
   "source": [
    "### Bibliography"
   ]
  },
  {
   "cell_type": "markdown",
   "id": "c1672783",
   "metadata": {},
   "source": [
    "1. http://www.railwaycodes.org.uk/crs/crsb.shtm\n",
    "\n",
    "2. https://en.wikipedia.org/wiki/Bond_Street_station\n",
    "\n",
    "3. https://en.wikipedia.org/wiki/Tottenham_Court_Road\n",
    "\n",
    "4. https://en.wikipedia.org/wiki/Canary_Wharf_railway_station\n",
    "\n",
    "5. https://en.wikipedia.org/wiki/Whitechapel_station\n",
    "\n",
    "6. https://en.wikipedia.org/wiki/Crossrail\n",
    "\n",
    "7. https://en.wikipedia.org/wiki/Liverpool_Street_station"
   ]
  },
  {
   "cell_type": "markdown",
   "id": "f09df714",
   "metadata": {},
   "source": [
    "## Using Rail References to Replace Train Platform with Station Name"
   ]
  },
  {
   "cell_type": "code",
   "execution_count": 39,
   "id": "6f5c7fad",
   "metadata": {},
   "outputs": [],
   "source": [
    "# Merge df_cleaned with data columns from reference_df\n",
    "\n",
    "df_merged = df_cleaned.merge(data, left_on='train_platform', right_on='TiplocCode', how='left')"
   ]
  },
  {
   "cell_type": "code",
   "execution_count": 40,
   "id": "091f5b57",
   "metadata": {},
   "outputs": [
    {
     "data": {
      "text/html": [
       "<div>\n",
       "<style scoped>\n",
       "    .dataframe tbody tr th:only-of-type {\n",
       "        vertical-align: middle;\n",
       "    }\n",
       "\n",
       "    .dataframe tbody tr th {\n",
       "        vertical-align: top;\n",
       "    }\n",
       "\n",
       "    .dataframe thead th {\n",
       "        text-align: right;\n",
       "    }\n",
       "</style>\n",
       "<table border=\"1\" class=\"dataframe\">\n",
       "  <thead>\n",
       "    <tr style=\"text-align: right;\">\n",
       "      <th></th>\n",
       "      <th>train_platform</th>\n",
       "      <th>TiplocCode</th>\n",
       "      <th>StationName</th>\n",
       "    </tr>\n",
       "  </thead>\n",
       "  <tbody>\n",
       "    <tr>\n",
       "      <th>16</th>\n",
       "      <td>WOLWXR</td>\n",
       "      <td>NaN</td>\n",
       "      <td>NaN</td>\n",
       "    </tr>\n",
       "    <tr>\n",
       "      <th>23</th>\n",
       "      <td>FRMPKRS</td>\n",
       "      <td>NaN</td>\n",
       "      <td>NaN</td>\n",
       "    </tr>\n",
       "    <tr>\n",
       "      <th>24</th>\n",
       "      <td>HRNS451</td>\n",
       "      <td>NaN</td>\n",
       "      <td>NaN</td>\n",
       "    </tr>\n",
       "    <tr>\n",
       "      <th>25</th>\n",
       "      <td>BOWERRL</td>\n",
       "      <td>NaN</td>\n",
       "      <td>NaN</td>\n",
       "    </tr>\n",
       "    <tr>\n",
       "      <th>51</th>\n",
       "      <td>CMRNBDG</td>\n",
       "      <td>NaN</td>\n",
       "      <td>NaN</td>\n",
       "    </tr>\n",
       "    <tr>\n",
       "      <th>...</th>\n",
       "      <td>...</td>\n",
       "      <td>...</td>\n",
       "      <td>...</td>\n",
       "    </tr>\n",
       "    <tr>\n",
       "      <th>419795</th>\n",
       "      <td>PELAWTW</td>\n",
       "      <td>NaN</td>\n",
       "      <td>NaN</td>\n",
       "    </tr>\n",
       "    <tr>\n",
       "      <th>419804</th>\n",
       "      <td>CWLRSSJ</td>\n",
       "      <td>NaN</td>\n",
       "      <td>NaN</td>\n",
       "    </tr>\n",
       "    <tr>\n",
       "      <th>419813</th>\n",
       "      <td>CNNBELL</td>\n",
       "      <td>NaN</td>\n",
       "      <td>NaN</td>\n",
       "    </tr>\n",
       "    <tr>\n",
       "      <th>419818</th>\n",
       "      <td>WOLWXR</td>\n",
       "      <td>NaN</td>\n",
       "      <td>NaN</td>\n",
       "    </tr>\n",
       "    <tr>\n",
       "      <th>419849</th>\n",
       "      <td>DUNROD</td>\n",
       "      <td>NaN</td>\n",
       "      <td>NaN</td>\n",
       "    </tr>\n",
       "  </tbody>\n",
       "</table>\n",
       "<p>21832 rows × 3 columns</p>\n",
       "</div>"
      ],
      "text/plain": [
       "       train_platform TiplocCode StationName\n",
       "16             WOLWXR        NaN         NaN\n",
       "23            FRMPKRS        NaN         NaN\n",
       "24            HRNS451        NaN         NaN\n",
       "25            BOWERRL        NaN         NaN\n",
       "51            CMRNBDG        NaN         NaN\n",
       "...               ...        ...         ...\n",
       "419795        PELAWTW        NaN         NaN\n",
       "419804        CWLRSSJ        NaN         NaN\n",
       "419813        CNNBELL        NaN         NaN\n",
       "419818         WOLWXR        NaN         NaN\n",
       "419849         DUNROD        NaN         NaN\n",
       "\n",
       "[21832 rows x 3 columns]"
      ]
     },
     "execution_count": 40,
     "metadata": {},
     "output_type": "execute_result"
    }
   ],
   "source": [
    "# checking where train_platform has no related StationName/Tiploccode\n",
    "nan_rows = df_merged[df_merged[['TiplocCode', 'StationName']].isna().any(axis=1)]\n",
    "\n",
    "nan_rows[['train_platform', 'TiplocCode', 'StationName']]"
   ]
  },
  {
   "cell_type": "code",
   "execution_count": 41,
   "id": "7658295f",
   "metadata": {},
   "outputs": [
    {
     "data": {
      "text/plain": [
       "train_platform\n",
       "FRNDXR     1125\n",
       "PADTLL      716\n",
       "CUSTMHS     621\n",
       "WOLWXR      605\n",
       "BRENTX      469\n",
       "STALBCS     439\n",
       "MLLF        314\n",
       "PALL        310\n",
       "MAGHNTH     302\n",
       "CIVI        298\n",
       "STDI        295\n",
       "UNIV        291\n",
       "BOWERRL     289\n",
       "SHLDNO1     282\n",
       "CHST528     266\n",
       "FELL        266\n",
       "EBSFLTI     240\n",
       "CNNBELL     222\n",
       "MNTGLCW     214\n",
       "STFORDI     210\n",
       "Name: count, dtype: int64"
      ]
     },
     "execution_count": 41,
     "metadata": {},
     "output_type": "execute_result"
    }
   ],
   "source": [
    "# Identifying most highly frequented unknown Station Names\n",
    "station_NaN = df_merged[df_merged['StationName'].isna()]['train_platform'].value_counts()\n",
    "station_NaN.head(20)"
   ]
  },
  {
   "cell_type": "code",
   "execution_count": 42,
   "id": "a00c4fbe",
   "metadata": {},
   "outputs": [],
   "source": [
    "# fill NaN values in the StationName column with the corresponding train_platform values\n",
    "df_merged['StationName'] = df_merged['StationName'].fillna(df_merged['train_platform'])\n",
    "\n",
    "# Replace 'Rail Station' with an empty string to make more readable\n",
    "df_merged['StationName'] = df_merged['StationName'].str.replace(' Rail Station', '')"
   ]
  },
  {
   "cell_type": "code",
   "execution_count": 43,
   "id": "5a275ed7",
   "metadata": {},
   "outputs": [
    {
     "name": "stdout",
     "output_type": "stream",
     "text": [
      "<class 'pandas.core.frame.DataFrame'>\n",
      "RangeIndex: 419947 entries, 0 to 419946\n",
      "Data columns (total 16 columns):\n",
      " #   Column                  Non-Null Count   Dtype         \n",
      "---  ------                  --------------   -----         \n",
      " 0   route_id                419947 non-null  object        \n",
      " 1   unique_id               419947 non-null  object        \n",
      " 2   service_start_date      419947 non-null  datetime64[ns]\n",
      " 3   train_platform          419947 non-null  object        \n",
      " 4   working_time_arrival    419947 non-null  object        \n",
      " 5   working_time_departure  419947 non-null  object        \n",
      " 6   actual_arrival_time     348607 non-null  object        \n",
      " 7   actual_departure_time   390162 non-null  object        \n",
      " 8   is_delayed_arrival      419947 non-null  bool          \n",
      " 9   is_delayed_departure    419947 non-null  bool          \n",
      " 10  duration (min)          419947 non-null  float64       \n",
      " 11  weekday                 419947 non-null  object        \n",
      " 12  TiplocCode              398115 non-null  object        \n",
      " 13  StationName             419947 non-null  object        \n",
      " 14  Latitude                398115 non-null  float64       \n",
      " 15  Longitude               398115 non-null  float64       \n",
      "dtypes: bool(2), datetime64[ns](1), float64(3), object(10)\n",
      "memory usage: 45.7+ MB\n"
     ]
    }
   ],
   "source": [
    "df_merged.info()"
   ]
  },
  {
   "cell_type": "markdown",
   "id": "41974c07",
   "metadata": {},
   "source": [
    "## Adding a Day of the Wek Column"
   ]
  },
  {
   "cell_type": "markdown",
   "id": "cb3e58fb",
   "metadata": {},
   "source": [
    "# Delays"
   ]
  },
  {
   "cell_type": "code",
   "execution_count": 44,
   "id": "dc54f2d3",
   "metadata": {},
   "outputs": [],
   "source": [
    "df_delay = df_delay.merge(data, left_on='train_platform', right_on='TiplocCode', how='left')"
   ]
  },
  {
   "cell_type": "code",
   "execution_count": 45,
   "id": "7edc7989",
   "metadata": {},
   "outputs": [],
   "source": [
    "# fill NaN values in the StationName column with the corresponding train_platform values\n",
    "df_delay['StationName'] = df_delay['StationName'].fillna(df_delay['train_platform'])\n",
    "\n",
    "# Replace 'Rail Station' with an empty string to make more readable\n",
    "df_delay['StationName'] = df_delay['StationName'].str.replace(' Rail Station', '')"
   ]
  },
  {
   "cell_type": "code",
   "execution_count": 46,
   "id": "7a1692e9",
   "metadata": {},
   "outputs": [
    {
     "data": {
      "text/html": [
       "<div>\n",
       "<style scoped>\n",
       "    .dataframe tbody tr th:only-of-type {\n",
       "        vertical-align: middle;\n",
       "    }\n",
       "\n",
       "    .dataframe tbody tr th {\n",
       "        vertical-align: top;\n",
       "    }\n",
       "\n",
       "    .dataframe thead th {\n",
       "        text-align: right;\n",
       "    }\n",
       "</style>\n",
       "<table border=\"1\" class=\"dataframe\">\n",
       "  <thead>\n",
       "    <tr style=\"text-align: right;\">\n",
       "      <th></th>\n",
       "      <th>route_id</th>\n",
       "      <th>unique_id</th>\n",
       "      <th>service_start_date</th>\n",
       "      <th>train_platform</th>\n",
       "      <th>working_time_arrival</th>\n",
       "      <th>working_time_departure</th>\n",
       "      <th>actual_arrival_time</th>\n",
       "      <th>actual_departure_time</th>\n",
       "      <th>is_delayed_arrival</th>\n",
       "      <th>is_delayed_departure</th>\n",
       "      <th>duration (min)</th>\n",
       "      <th>weekday</th>\n",
       "      <th>TiplocCode</th>\n",
       "      <th>StationName</th>\n",
       "      <th>Latitude</th>\n",
       "      <th>Longitude</th>\n",
       "    </tr>\n",
       "  </thead>\n",
       "  <tbody>\n",
       "    <tr>\n",
       "      <th>0</th>\n",
       "      <td>202407037144581</td>\n",
       "      <td>G44581</td>\n",
       "      <td>2024-07-03</td>\n",
       "      <td>GLOSTER</td>\n",
       "      <td>19:22:00</td>\n",
       "      <td>19:28:00</td>\n",
       "      <td>19:32:00</td>\n",
       "      <td>19:33:00</td>\n",
       "      <td>True</td>\n",
       "      <td>True</td>\n",
       "      <td>6.0</td>\n",
       "      <td>Wednesday</td>\n",
       "      <td>GLOSTER</td>\n",
       "      <td>Gloucester</td>\n",
       "      <td>51.865557</td>\n",
       "      <td>-2.238488</td>\n",
       "    </tr>\n",
       "    <tr>\n",
       "      <th>1</th>\n",
       "      <td>202407036707715</td>\n",
       "      <td>C07715</td>\n",
       "      <td>2024-07-03</td>\n",
       "      <td>LADYBHL</td>\n",
       "      <td>19:24:00</td>\n",
       "      <td>19:35:30</td>\n",
       "      <td>19:33:00</td>\n",
       "      <td>19:34:00</td>\n",
       "      <td>True</td>\n",
       "      <td>True</td>\n",
       "      <td>11.5</td>\n",
       "      <td>Wednesday</td>\n",
       "      <td>NaN</td>\n",
       "      <td>LADYBHL</td>\n",
       "      <td>NaN</td>\n",
       "      <td>NaN</td>\n",
       "    </tr>\n",
       "    <tr>\n",
       "      <th>2</th>\n",
       "      <td>202407037154103</td>\n",
       "      <td>G54103</td>\n",
       "      <td>2024-07-03</td>\n",
       "      <td>CRAWLEY</td>\n",
       "      <td>19:26:30</td>\n",
       "      <td>19:27:30</td>\n",
       "      <td>19:35:00</td>\n",
       "      <td>19:35:00</td>\n",
       "      <td>True</td>\n",
       "      <td>True</td>\n",
       "      <td>1.0</td>\n",
       "      <td>Wednesday</td>\n",
       "      <td>CRAWLEY</td>\n",
       "      <td>Crawley</td>\n",
       "      <td>51.112212</td>\n",
       "      <td>-0.186673</td>\n",
       "    </tr>\n",
       "    <tr>\n",
       "      <th>3</th>\n",
       "      <td>202407037154103</td>\n",
       "      <td>G54103</td>\n",
       "      <td>2024-07-03</td>\n",
       "      <td>IFIELD</td>\n",
       "      <td>19:29:30</td>\n",
       "      <td>19:30:00</td>\n",
       "      <td>19:37:00</td>\n",
       "      <td>19:38:00</td>\n",
       "      <td>True</td>\n",
       "      <td>True</td>\n",
       "      <td>0.5</td>\n",
       "      <td>Wednesday</td>\n",
       "      <td>IFIELD</td>\n",
       "      <td>Ifield</td>\n",
       "      <td>51.115621</td>\n",
       "      <td>-0.214772</td>\n",
       "    </tr>\n",
       "    <tr>\n",
       "      <th>4</th>\n",
       "      <td>202407037154103</td>\n",
       "      <td>G54103</td>\n",
       "      <td>2024-07-03</td>\n",
       "      <td>FAYGATE</td>\n",
       "      <td>19:33:30</td>\n",
       "      <td>19:34:00</td>\n",
       "      <td>19:41:00</td>\n",
       "      <td>19:42:00</td>\n",
       "      <td>True</td>\n",
       "      <td>True</td>\n",
       "      <td>0.5</td>\n",
       "      <td>Wednesday</td>\n",
       "      <td>FAYGATE</td>\n",
       "      <td>Faygate</td>\n",
       "      <td>51.095889</td>\n",
       "      <td>-0.263019</td>\n",
       "    </tr>\n",
       "  </tbody>\n",
       "</table>\n",
       "</div>"
      ],
      "text/plain": [
       "          route_id unique_id service_start_date train_platform  \\\n",
       "0  202407037144581    G44581         2024-07-03        GLOSTER   \n",
       "1  202407036707715    C07715         2024-07-03        LADYBHL   \n",
       "2  202407037154103    G54103         2024-07-03        CRAWLEY   \n",
       "3  202407037154103    G54103         2024-07-03         IFIELD   \n",
       "4  202407037154103    G54103         2024-07-03        FAYGATE   \n",
       "\n",
       "  working_time_arrival working_time_departure actual_arrival_time  \\\n",
       "0             19:22:00               19:28:00            19:32:00   \n",
       "1             19:24:00               19:35:30            19:33:00   \n",
       "2             19:26:30               19:27:30            19:35:00   \n",
       "3             19:29:30               19:30:00            19:37:00   \n",
       "4             19:33:30               19:34:00            19:41:00   \n",
       "\n",
       "  actual_departure_time  is_delayed_arrival  is_delayed_departure  \\\n",
       "0              19:33:00                True                  True   \n",
       "1              19:34:00                True                  True   \n",
       "2              19:35:00                True                  True   \n",
       "3              19:38:00                True                  True   \n",
       "4              19:42:00                True                  True   \n",
       "\n",
       "   duration (min)    weekday TiplocCode StationName   Latitude  Longitude  \n",
       "0             6.0  Wednesday    GLOSTER  Gloucester  51.865557  -2.238488  \n",
       "1            11.5  Wednesday        NaN     LADYBHL        NaN        NaN  \n",
       "2             1.0  Wednesday    CRAWLEY     Crawley  51.112212  -0.186673  \n",
       "3             0.5  Wednesday     IFIELD      Ifield  51.115621  -0.214772  \n",
       "4             0.5  Wednesday    FAYGATE     Faygate  51.095889  -0.263019  "
      ]
     },
     "execution_count": 46,
     "metadata": {},
     "output_type": "execute_result"
    }
   ],
   "source": [
    "df_delay.head()"
   ]
  },
  {
   "cell_type": "code",
   "execution_count": 47,
   "id": "2753bee4",
   "metadata": {},
   "outputs": [
    {
     "name": "stdout",
     "output_type": "stream",
     "text": [
      "<class 'pandas.core.frame.DataFrame'>\n",
      "RangeIndex: 54480 entries, 0 to 54479\n",
      "Data columns (total 16 columns):\n",
      " #   Column                  Non-Null Count  Dtype         \n",
      "---  ------                  --------------  -----         \n",
      " 0   route_id                54480 non-null  object        \n",
      " 1   unique_id               54480 non-null  object        \n",
      " 2   service_start_date      54480 non-null  datetime64[ns]\n",
      " 3   train_platform          54480 non-null  object        \n",
      " 4   working_time_arrival    54480 non-null  object        \n",
      " 5   working_time_departure  54480 non-null  object        \n",
      " 6   actual_arrival_time     54448 non-null  object        \n",
      " 7   actual_departure_time   54251 non-null  object        \n",
      " 8   is_delayed_arrival      54480 non-null  bool          \n",
      " 9   is_delayed_departure    54480 non-null  bool          \n",
      " 10  duration (min)          54480 non-null  float64       \n",
      " 11  weekday                 54480 non-null  object        \n",
      " 12  TiplocCode              43660 non-null  object        \n",
      " 13  StationName             54480 non-null  object        \n",
      " 14  Latitude                43660 non-null  float64       \n",
      " 15  Longitude               43660 non-null  float64       \n",
      "dtypes: bool(2), datetime64[ns](1), float64(3), object(10)\n",
      "memory usage: 5.9+ MB\n"
     ]
    }
   ],
   "source": [
    "df_delay.info()"
   ]
  },
  {
   "cell_type": "markdown",
   "id": "cc134dc8",
   "metadata": {},
   "source": [
    "Determine the minutes delayed."
   ]
  },
  {
   "cell_type": "code",
   "execution_count": 48,
   "id": "015ff334",
   "metadata": {},
   "outputs": [],
   "source": [
    "df_delay['working_time_arrival'] = pd.to_datetime(df_delay['working_time_arrival'], format='%H:%M:%S')\n",
    "df_delay['working_time_departure'] = pd.to_datetime(df_delay['working_time_departure'], format='%H:%M:%S')\n",
    "df_delay['duration (min)'] = ((df_delay['working_time_departure']-df_delay['working_time_arrival'])\\\n",
    "                                .dt.total_seconds()/60)"
   ]
  },
  {
   "cell_type": "code",
   "execution_count": 49,
   "id": "fdb82113",
   "metadata": {},
   "outputs": [],
   "source": [
    "df_delay['actual_arrival_time'] = pd.to_datetime(df_delay['actual_arrival_time'], format='%H:%M:%S')\n",
    "df_delay['actual_departure_time'] = pd.to_datetime(df_delay['actual_departure_time'], format='%H:%M:%S')"
   ]
  },
  {
   "cell_type": "code",
   "execution_count": 50,
   "id": "e274bee2",
   "metadata": {},
   "outputs": [],
   "source": [
    "df_delay['depart_delay(min)'] = ((df_delay['actual_departure_time']-df_delay['working_time_departure'])\\\n",
    "                                .dt.total_seconds()/60)"
   ]
  },
  {
   "cell_type": "code",
   "execution_count": 51,
   "id": "232c2e93",
   "metadata": {},
   "outputs": [],
   "source": [
    "df_delay['arrive_delay(min)'] = ((df_delay['actual_arrival_time']-df_delay['working_time_arrival'])\\\n",
    "                                .dt.total_seconds()/60)"
   ]
  },
  {
   "cell_type": "code",
   "execution_count": 52,
   "id": "6ff0d95f",
   "metadata": {},
   "outputs": [],
   "source": [
    "df_delay['working_time_arrival'] = df_delay['working_time_arrival'].dt.time\n",
    "df_delay['working_time_departure'] = df_delay['working_time_departure'].dt.time\n",
    "df_delay['actual_arrival_time'] = df_delay['actual_arrival_time'].dt.time\n",
    "df_delay['actual_departure_time'] = df_delay['actual_departure_time'].dt.time"
   ]
  },
  {
   "cell_type": "code",
   "execution_count": 53,
   "id": "72e933a7",
   "metadata": {},
   "outputs": [
    {
     "data": {
      "text/html": [
       "<div>\n",
       "<style scoped>\n",
       "    .dataframe tbody tr th:only-of-type {\n",
       "        vertical-align: middle;\n",
       "    }\n",
       "\n",
       "    .dataframe tbody tr th {\n",
       "        vertical-align: top;\n",
       "    }\n",
       "\n",
       "    .dataframe thead th {\n",
       "        text-align: right;\n",
       "    }\n",
       "</style>\n",
       "<table border=\"1\" class=\"dataframe\">\n",
       "  <thead>\n",
       "    <tr style=\"text-align: right;\">\n",
       "      <th></th>\n",
       "      <th>service_start_date</th>\n",
       "      <th>duration (min)</th>\n",
       "      <th>Latitude</th>\n",
       "      <th>Longitude</th>\n",
       "      <th>depart_delay(min)</th>\n",
       "      <th>arrive_delay(min)</th>\n",
       "    </tr>\n",
       "  </thead>\n",
       "  <tbody>\n",
       "    <tr>\n",
       "      <th>count</th>\n",
       "      <td>54480</td>\n",
       "      <td>54480.000000</td>\n",
       "      <td>43660.000000</td>\n",
       "      <td>43660.000000</td>\n",
       "      <td>54251.000000</td>\n",
       "      <td>54448.000000</td>\n",
       "    </tr>\n",
       "    <tr>\n",
       "      <th>mean</th>\n",
       "      <td>2024-07-11 12:22:02.643171840</td>\n",
       "      <td>3.140456</td>\n",
       "      <td>52.201927</td>\n",
       "      <td>-1.278909</td>\n",
       "      <td>-57.850904</td>\n",
       "      <td>-55.356273</td>\n",
       "    </tr>\n",
       "    <tr>\n",
       "      <th>min</th>\n",
       "      <td>2024-07-03 00:00:00</td>\n",
       "      <td>0.100000</td>\n",
       "      <td>50.170489</td>\n",
       "      <td>-5.444252</td>\n",
       "      <td>-1439.000000</td>\n",
       "      <td>-1436.500000</td>\n",
       "    </tr>\n",
       "    <tr>\n",
       "      <th>25%</th>\n",
       "      <td>2024-07-10 00:00:00</td>\n",
       "      <td>0.500000</td>\n",
       "      <td>51.530539</td>\n",
       "      <td>-2.562430</td>\n",
       "      <td>5.000000</td>\n",
       "      <td>6.000000</td>\n",
       "    </tr>\n",
       "    <tr>\n",
       "      <th>50%</th>\n",
       "      <td>2024-07-12 00:00:00</td>\n",
       "      <td>1.000000</td>\n",
       "      <td>51.570212</td>\n",
       "      <td>-0.462935</td>\n",
       "      <td>26.000000</td>\n",
       "      <td>28.000000</td>\n",
       "    </tr>\n",
       "    <tr>\n",
       "      <th>75%</th>\n",
       "      <td>2024-07-14 00:00:00</td>\n",
       "      <td>3.000000</td>\n",
       "      <td>52.754376</td>\n",
       "      <td>-0.243268</td>\n",
       "      <td>68.500000</td>\n",
       "      <td>71.000000</td>\n",
       "    </tr>\n",
       "    <tr>\n",
       "      <th>max</th>\n",
       "      <td>2024-07-15 00:00:00</td>\n",
       "      <td>247.000000</td>\n",
       "      <td>57.188510</td>\n",
       "      <td>1.715711</td>\n",
       "      <td>1434.000000</td>\n",
       "      <td>1438.000000</td>\n",
       "    </tr>\n",
       "    <tr>\n",
       "      <th>std</th>\n",
       "      <td>NaN</td>\n",
       "      <td>7.821499</td>\n",
       "      <td>1.230290</td>\n",
       "      <td>1.394098</td>\n",
       "      <td>366.491427</td>\n",
       "      <td>366.432073</td>\n",
       "    </tr>\n",
       "  </tbody>\n",
       "</table>\n",
       "</div>"
      ],
      "text/plain": [
       "                  service_start_date  duration (min)      Latitude  \\\n",
       "count                          54480    54480.000000  43660.000000   \n",
       "mean   2024-07-11 12:22:02.643171840        3.140456     52.201927   \n",
       "min              2024-07-03 00:00:00        0.100000     50.170489   \n",
       "25%              2024-07-10 00:00:00        0.500000     51.530539   \n",
       "50%              2024-07-12 00:00:00        1.000000     51.570212   \n",
       "75%              2024-07-14 00:00:00        3.000000     52.754376   \n",
       "max              2024-07-15 00:00:00      247.000000     57.188510   \n",
       "std                              NaN        7.821499      1.230290   \n",
       "\n",
       "          Longitude  depart_delay(min)  arrive_delay(min)  \n",
       "count  43660.000000       54251.000000       54448.000000  \n",
       "mean      -1.278909         -57.850904         -55.356273  \n",
       "min       -5.444252       -1439.000000       -1436.500000  \n",
       "25%       -2.562430           5.000000           6.000000  \n",
       "50%       -0.462935          26.000000          28.000000  \n",
       "75%       -0.243268          68.500000          71.000000  \n",
       "max        1.715711        1434.000000        1438.000000  \n",
       "std        1.394098         366.491427         366.432073  "
      ]
     },
     "execution_count": 53,
     "metadata": {},
     "output_type": "execute_result"
    }
   ],
   "source": [
    "df_delay.describe()"
   ]
  },
  {
   "cell_type": "markdown",
   "id": "31c24514",
   "metadata": {},
   "source": [
    "We can see that the math in the previous step created some erroneous values (minimum of depart_delay(min) is negative.) This will occur in cases where there is no reported actual_departure_time or where the train arrived slightly early. We will get the value zero where the train is not delayed. We will define a function to null delays less than or equal to zero, because these are erroneous on not delays at all. "
   ]
  },
  {
   "cell_type": "code",
   "execution_count": 54,
   "id": "432ac7e8",
   "metadata": {},
   "outputs": [],
   "source": [
    "def remove_neg_and_zero(delay):\n",
    "    if delay <= 0:\n",
    "        delay = None\n",
    "    else:\n",
    "        delay = delay\n",
    "    return delay"
   ]
  },
  {
   "cell_type": "code",
   "execution_count": 55,
   "id": "4bd917d4",
   "metadata": {},
   "outputs": [],
   "source": [
    "df_delay['depart_delay(min)'] = df_delay['depart_delay(min)'].apply(remove_neg_and_zero)\n",
    "df_delay['arrive_delay(min)'] = df_delay['arrive_delay(min)'].apply(remove_neg_and_zero)"
   ]
  },
  {
   "cell_type": "code",
   "execution_count": 56,
   "id": "8ad94c56",
   "metadata": {},
   "outputs": [
    {
     "data": {
      "text/html": [
       "<div>\n",
       "<style scoped>\n",
       "    .dataframe tbody tr th:only-of-type {\n",
       "        vertical-align: middle;\n",
       "    }\n",
       "\n",
       "    .dataframe tbody tr th {\n",
       "        vertical-align: top;\n",
       "    }\n",
       "\n",
       "    .dataframe thead th {\n",
       "        text-align: right;\n",
       "    }\n",
       "</style>\n",
       "<table border=\"1\" class=\"dataframe\">\n",
       "  <thead>\n",
       "    <tr style=\"text-align: right;\">\n",
       "      <th></th>\n",
       "      <th>service_start_date</th>\n",
       "      <th>duration (min)</th>\n",
       "      <th>Latitude</th>\n",
       "      <th>Longitude</th>\n",
       "      <th>depart_delay(min)</th>\n",
       "      <th>arrive_delay(min)</th>\n",
       "    </tr>\n",
       "  </thead>\n",
       "  <tbody>\n",
       "    <tr>\n",
       "      <th>count</th>\n",
       "      <td>54480</td>\n",
       "      <td>54480.000000</td>\n",
       "      <td>43660.000000</td>\n",
       "      <td>43660.000000</td>\n",
       "      <td>45413.000000</td>\n",
       "      <td>47957.000000</td>\n",
       "    </tr>\n",
       "    <tr>\n",
       "      <th>mean</th>\n",
       "      <td>2024-07-11 12:22:02.643171840</td>\n",
       "      <td>3.140456</td>\n",
       "      <td>52.201927</td>\n",
       "      <td>-1.278909</td>\n",
       "      <td>49.114639</td>\n",
       "      <td>48.723161</td>\n",
       "    </tr>\n",
       "    <tr>\n",
       "      <th>min</th>\n",
       "      <td>2024-07-03 00:00:00</td>\n",
       "      <td>0.100000</td>\n",
       "      <td>50.170489</td>\n",
       "      <td>-5.444252</td>\n",
       "      <td>0.500000</td>\n",
       "      <td>0.500000</td>\n",
       "    </tr>\n",
       "    <tr>\n",
       "      <th>25%</th>\n",
       "      <td>2024-07-10 00:00:00</td>\n",
       "      <td>0.500000</td>\n",
       "      <td>51.530539</td>\n",
       "      <td>-2.562430</td>\n",
       "      <td>12.000000</td>\n",
       "      <td>11.000000</td>\n",
       "    </tr>\n",
       "    <tr>\n",
       "      <th>50%</th>\n",
       "      <td>2024-07-12 00:00:00</td>\n",
       "      <td>1.000000</td>\n",
       "      <td>51.570212</td>\n",
       "      <td>-0.462935</td>\n",
       "      <td>38.000000</td>\n",
       "      <td>37.000000</td>\n",
       "    </tr>\n",
       "    <tr>\n",
       "      <th>75%</th>\n",
       "      <td>2024-07-14 00:00:00</td>\n",
       "      <td>3.000000</td>\n",
       "      <td>52.754376</td>\n",
       "      <td>-0.243268</td>\n",
       "      <td>76.500000</td>\n",
       "      <td>76.000000</td>\n",
       "    </tr>\n",
       "    <tr>\n",
       "      <th>max</th>\n",
       "      <td>2024-07-15 00:00:00</td>\n",
       "      <td>247.000000</td>\n",
       "      <td>57.188510</td>\n",
       "      <td>1.715711</td>\n",
       "      <td>1434.000000</td>\n",
       "      <td>1438.000000</td>\n",
       "    </tr>\n",
       "    <tr>\n",
       "      <th>std</th>\n",
       "      <td>NaN</td>\n",
       "      <td>7.821499</td>\n",
       "      <td>1.230290</td>\n",
       "      <td>1.394098</td>\n",
       "      <td>57.138072</td>\n",
       "      <td>57.668868</td>\n",
       "    </tr>\n",
       "  </tbody>\n",
       "</table>\n",
       "</div>"
      ],
      "text/plain": [
       "                  service_start_date  duration (min)      Latitude  \\\n",
       "count                          54480    54480.000000  43660.000000   \n",
       "mean   2024-07-11 12:22:02.643171840        3.140456     52.201927   \n",
       "min              2024-07-03 00:00:00        0.100000     50.170489   \n",
       "25%              2024-07-10 00:00:00        0.500000     51.530539   \n",
       "50%              2024-07-12 00:00:00        1.000000     51.570212   \n",
       "75%              2024-07-14 00:00:00        3.000000     52.754376   \n",
       "max              2024-07-15 00:00:00      247.000000     57.188510   \n",
       "std                              NaN        7.821499      1.230290   \n",
       "\n",
       "          Longitude  depart_delay(min)  arrive_delay(min)  \n",
       "count  43660.000000       45413.000000       47957.000000  \n",
       "mean      -1.278909          49.114639          48.723161  \n",
       "min       -5.444252           0.500000           0.500000  \n",
       "25%       -2.562430          12.000000          11.000000  \n",
       "50%       -0.462935          38.000000          37.000000  \n",
       "75%       -0.243268          76.500000          76.000000  \n",
       "max        1.715711        1434.000000        1438.000000  \n",
       "std        1.394098          57.138072          57.668868  "
      ]
     },
     "execution_count": 56,
     "metadata": {},
     "output_type": "execute_result"
    }
   ],
   "source": [
    "df_delay.describe()"
   ]
  },
  {
   "cell_type": "markdown",
   "id": "fc75b5de",
   "metadata": {},
   "source": [
    "We can see that the are some erroneous high values for depart_delay(min) and arrive_delay(min). We will remove any values over 420minutes (7hrs), assuming those trains are rescheduled rather than delayed."
   ]
  },
  {
   "cell_type": "code",
   "execution_count": 57,
   "id": "68a2df3f",
   "metadata": {},
   "outputs": [],
   "source": [
    "def remove_over_420(delay):\n",
    "    if delay > 420:\n",
    "        delay = None\n",
    "    else:\n",
    "        delay = delay\n",
    "    return delay"
   ]
  },
  {
   "cell_type": "code",
   "execution_count": 58,
   "id": "172c5f14",
   "metadata": {},
   "outputs": [],
   "source": [
    "df_delay['depart_delay(min)'] = df_delay['depart_delay(min)'].apply(remove_over_420)\n",
    "df_delay['arrive_delay(min)'] = df_delay['arrive_delay(min)'].apply(remove_over_420)"
   ]
  },
  {
   "cell_type": "code",
   "execution_count": 59,
   "id": "27bed74c",
   "metadata": {},
   "outputs": [
    {
     "data": {
      "text/html": [
       "<div>\n",
       "<style scoped>\n",
       "    .dataframe tbody tr th:only-of-type {\n",
       "        vertical-align: middle;\n",
       "    }\n",
       "\n",
       "    .dataframe tbody tr th {\n",
       "        vertical-align: top;\n",
       "    }\n",
       "\n",
       "    .dataframe thead th {\n",
       "        text-align: right;\n",
       "    }\n",
       "</style>\n",
       "<table border=\"1\" class=\"dataframe\">\n",
       "  <thead>\n",
       "    <tr style=\"text-align: right;\">\n",
       "      <th></th>\n",
       "      <th>service_start_date</th>\n",
       "      <th>duration (min)</th>\n",
       "      <th>Latitude</th>\n",
       "      <th>Longitude</th>\n",
       "      <th>depart_delay(min)</th>\n",
       "      <th>arrive_delay(min)</th>\n",
       "    </tr>\n",
       "  </thead>\n",
       "  <tbody>\n",
       "    <tr>\n",
       "      <th>count</th>\n",
       "      <td>54480</td>\n",
       "      <td>54480.000000</td>\n",
       "      <td>43660.000000</td>\n",
       "      <td>43660.000000</td>\n",
       "      <td>45372.000000</td>\n",
       "      <td>47914.000000</td>\n",
       "    </tr>\n",
       "    <tr>\n",
       "      <th>mean</th>\n",
       "      <td>2024-07-11 12:22:02.643171840</td>\n",
       "      <td>3.140456</td>\n",
       "      <td>52.201927</td>\n",
       "      <td>-1.278909</td>\n",
       "      <td>47.916845</td>\n",
       "      <td>47.525277</td>\n",
       "    </tr>\n",
       "    <tr>\n",
       "      <th>min</th>\n",
       "      <td>2024-07-03 00:00:00</td>\n",
       "      <td>0.100000</td>\n",
       "      <td>50.170489</td>\n",
       "      <td>-5.444252</td>\n",
       "      <td>0.500000</td>\n",
       "      <td>0.500000</td>\n",
       "    </tr>\n",
       "    <tr>\n",
       "      <th>25%</th>\n",
       "      <td>2024-07-10 00:00:00</td>\n",
       "      <td>0.500000</td>\n",
       "      <td>51.530539</td>\n",
       "      <td>-2.562430</td>\n",
       "      <td>12.000000</td>\n",
       "      <td>11.000000</td>\n",
       "    </tr>\n",
       "    <tr>\n",
       "      <th>50%</th>\n",
       "      <td>2024-07-12 00:00:00</td>\n",
       "      <td>1.000000</td>\n",
       "      <td>51.570212</td>\n",
       "      <td>-0.462935</td>\n",
       "      <td>38.000000</td>\n",
       "      <td>37.000000</td>\n",
       "    </tr>\n",
       "    <tr>\n",
       "      <th>75%</th>\n",
       "      <td>2024-07-14 00:00:00</td>\n",
       "      <td>3.000000</td>\n",
       "      <td>52.754376</td>\n",
       "      <td>-0.243268</td>\n",
       "      <td>76.000000</td>\n",
       "      <td>76.000000</td>\n",
       "    </tr>\n",
       "    <tr>\n",
       "      <th>max</th>\n",
       "      <td>2024-07-15 00:00:00</td>\n",
       "      <td>247.000000</td>\n",
       "      <td>57.188510</td>\n",
       "      <td>1.715711</td>\n",
       "      <td>257.500000</td>\n",
       "      <td>257.000000</td>\n",
       "    </tr>\n",
       "    <tr>\n",
       "      <th>std</th>\n",
       "      <td>NaN</td>\n",
       "      <td>7.821499</td>\n",
       "      <td>1.230290</td>\n",
       "      <td>1.394098</td>\n",
       "      <td>40.953840</td>\n",
       "      <td>41.557289</td>\n",
       "    </tr>\n",
       "  </tbody>\n",
       "</table>\n",
       "</div>"
      ],
      "text/plain": [
       "                  service_start_date  duration (min)      Latitude  \\\n",
       "count                          54480    54480.000000  43660.000000   \n",
       "mean   2024-07-11 12:22:02.643171840        3.140456     52.201927   \n",
       "min              2024-07-03 00:00:00        0.100000     50.170489   \n",
       "25%              2024-07-10 00:00:00        0.500000     51.530539   \n",
       "50%              2024-07-12 00:00:00        1.000000     51.570212   \n",
       "75%              2024-07-14 00:00:00        3.000000     52.754376   \n",
       "max              2024-07-15 00:00:00      247.000000     57.188510   \n",
       "std                              NaN        7.821499      1.230290   \n",
       "\n",
       "          Longitude  depart_delay(min)  arrive_delay(min)  \n",
       "count  43660.000000       45372.000000       47914.000000  \n",
       "mean      -1.278909          47.916845          47.525277  \n",
       "min       -5.444252           0.500000           0.500000  \n",
       "25%       -2.562430          12.000000          11.000000  \n",
       "50%       -0.462935          38.000000          37.000000  \n",
       "75%       -0.243268          76.000000          76.000000  \n",
       "max        1.715711         257.500000         257.000000  \n",
       "std        1.394098          40.953840          41.557289  "
      ]
     },
     "execution_count": 59,
     "metadata": {},
     "output_type": "execute_result"
    }
   ],
   "source": [
    "df_delay.describe()"
   ]
  },
  {
   "cell_type": "code",
   "execution_count": 60,
   "id": "d408892e",
   "metadata": {},
   "outputs": [
    {
     "name": "stdout",
     "output_type": "stream",
     "text": [
      "<class 'pandas.core.frame.DataFrame'>\n",
      "RangeIndex: 54480 entries, 0 to 54479\n",
      "Data columns (total 18 columns):\n",
      " #   Column                  Non-Null Count  Dtype         \n",
      "---  ------                  --------------  -----         \n",
      " 0   route_id                54480 non-null  object        \n",
      " 1   unique_id               54480 non-null  object        \n",
      " 2   service_start_date      54480 non-null  datetime64[ns]\n",
      " 3   train_platform          54480 non-null  object        \n",
      " 4   working_time_arrival    54480 non-null  object        \n",
      " 5   working_time_departure  54480 non-null  object        \n",
      " 6   actual_arrival_time     54448 non-null  object        \n",
      " 7   actual_departure_time   54251 non-null  object        \n",
      " 8   is_delayed_arrival      54480 non-null  bool          \n",
      " 9   is_delayed_departure    54480 non-null  bool          \n",
      " 10  duration (min)          54480 non-null  float64       \n",
      " 11  weekday                 54480 non-null  object        \n",
      " 12  TiplocCode              43660 non-null  object        \n",
      " 13  StationName             54480 non-null  object        \n",
      " 14  Latitude                43660 non-null  float64       \n",
      " 15  Longitude               43660 non-null  float64       \n",
      " 16  depart_delay(min)       45372 non-null  float64       \n",
      " 17  arrive_delay(min)       47914 non-null  float64       \n",
      "dtypes: bool(2), datetime64[ns](1), float64(5), object(10)\n",
      "memory usage: 6.8+ MB\n"
     ]
    }
   ],
   "source": [
    "df_delay.info()"
   ]
  },
  {
   "cell_type": "code",
   "execution_count": 61,
   "id": "aa0e12b9",
   "metadata": {},
   "outputs": [],
   "source": [
    "# export delay routes csv\n",
    "df_delay.to_csv('./cleaned_data/delay_durations.csv', index=False, mode = 'w+')"
   ]
  },
  {
   "cell_type": "markdown",
   "id": "52b14f34",
   "metadata": {},
   "source": [
    "## Calculate Delay Duration\n",
    "Take the data where we are able to calucate delays."
   ]
  },
  {
   "cell_type": "code",
   "execution_count": 62,
   "id": "8a512a60",
   "metadata": {},
   "outputs": [
    {
     "data": {
      "text/html": [
       "<div>\n",
       "<style scoped>\n",
       "    .dataframe tbody tr th:only-of-type {\n",
       "        vertical-align: middle;\n",
       "    }\n",
       "\n",
       "    .dataframe tbody tr th {\n",
       "        vertical-align: top;\n",
       "    }\n",
       "\n",
       "    .dataframe thead th {\n",
       "        text-align: right;\n",
       "    }\n",
       "</style>\n",
       "<table border=\"1\" class=\"dataframe\">\n",
       "  <thead>\n",
       "    <tr style=\"text-align: right;\">\n",
       "      <th></th>\n",
       "      <th>route_id</th>\n",
       "      <th>unique_id</th>\n",
       "      <th>service_start_date</th>\n",
       "      <th>train_platform</th>\n",
       "      <th>working_time_arrival</th>\n",
       "      <th>working_time_departure</th>\n",
       "      <th>actual_arrival_time</th>\n",
       "      <th>actual_departure_time</th>\n",
       "      <th>is_delayed_arrival</th>\n",
       "      <th>is_delayed_departure</th>\n",
       "      <th>duration (min)</th>\n",
       "      <th>weekday</th>\n",
       "      <th>TiplocCode</th>\n",
       "      <th>StationName</th>\n",
       "      <th>Latitude</th>\n",
       "      <th>Longitude</th>\n",
       "      <th>depart_delay(min)</th>\n",
       "      <th>arrive_delay(min)</th>\n",
       "    </tr>\n",
       "  </thead>\n",
       "  <tbody>\n",
       "    <tr>\n",
       "      <th>0</th>\n",
       "      <td>202407037144581</td>\n",
       "      <td>G44581</td>\n",
       "      <td>2024-07-03</td>\n",
       "      <td>GLOSTER</td>\n",
       "      <td>19:22:00</td>\n",
       "      <td>19:28:00</td>\n",
       "      <td>19:32:00</td>\n",
       "      <td>19:33:00</td>\n",
       "      <td>True</td>\n",
       "      <td>True</td>\n",
       "      <td>6.0</td>\n",
       "      <td>Wednesday</td>\n",
       "      <td>GLOSTER</td>\n",
       "      <td>Gloucester</td>\n",
       "      <td>51.865557</td>\n",
       "      <td>-2.238488</td>\n",
       "      <td>5.0</td>\n",
       "      <td>10.0</td>\n",
       "    </tr>\n",
       "    <tr>\n",
       "      <th>1</th>\n",
       "      <td>202407036707715</td>\n",
       "      <td>C07715</td>\n",
       "      <td>2024-07-03</td>\n",
       "      <td>LADYBHL</td>\n",
       "      <td>19:24:00</td>\n",
       "      <td>19:35:30</td>\n",
       "      <td>19:33:00</td>\n",
       "      <td>19:34:00</td>\n",
       "      <td>True</td>\n",
       "      <td>True</td>\n",
       "      <td>11.5</td>\n",
       "      <td>Wednesday</td>\n",
       "      <td>NaN</td>\n",
       "      <td>LADYBHL</td>\n",
       "      <td>NaN</td>\n",
       "      <td>NaN</td>\n",
       "      <td>NaN</td>\n",
       "      <td>9.0</td>\n",
       "    </tr>\n",
       "    <tr>\n",
       "      <th>2</th>\n",
       "      <td>202407037154103</td>\n",
       "      <td>G54103</td>\n",
       "      <td>2024-07-03</td>\n",
       "      <td>CRAWLEY</td>\n",
       "      <td>19:26:30</td>\n",
       "      <td>19:27:30</td>\n",
       "      <td>19:35:00</td>\n",
       "      <td>19:35:00</td>\n",
       "      <td>True</td>\n",
       "      <td>True</td>\n",
       "      <td>1.0</td>\n",
       "      <td>Wednesday</td>\n",
       "      <td>CRAWLEY</td>\n",
       "      <td>Crawley</td>\n",
       "      <td>51.112212</td>\n",
       "      <td>-0.186673</td>\n",
       "      <td>7.5</td>\n",
       "      <td>8.5</td>\n",
       "    </tr>\n",
       "    <tr>\n",
       "      <th>3</th>\n",
       "      <td>202407037154103</td>\n",
       "      <td>G54103</td>\n",
       "      <td>2024-07-03</td>\n",
       "      <td>IFIELD</td>\n",
       "      <td>19:29:30</td>\n",
       "      <td>19:30:00</td>\n",
       "      <td>19:37:00</td>\n",
       "      <td>19:38:00</td>\n",
       "      <td>True</td>\n",
       "      <td>True</td>\n",
       "      <td>0.5</td>\n",
       "      <td>Wednesday</td>\n",
       "      <td>IFIELD</td>\n",
       "      <td>Ifield</td>\n",
       "      <td>51.115621</td>\n",
       "      <td>-0.214772</td>\n",
       "      <td>8.0</td>\n",
       "      <td>7.5</td>\n",
       "    </tr>\n",
       "    <tr>\n",
       "      <th>4</th>\n",
       "      <td>202407037154103</td>\n",
       "      <td>G54103</td>\n",
       "      <td>2024-07-03</td>\n",
       "      <td>FAYGATE</td>\n",
       "      <td>19:33:30</td>\n",
       "      <td>19:34:00</td>\n",
       "      <td>19:41:00</td>\n",
       "      <td>19:42:00</td>\n",
       "      <td>True</td>\n",
       "      <td>True</td>\n",
       "      <td>0.5</td>\n",
       "      <td>Wednesday</td>\n",
       "      <td>FAYGATE</td>\n",
       "      <td>Faygate</td>\n",
       "      <td>51.095889</td>\n",
       "      <td>-0.263019</td>\n",
       "      <td>8.0</td>\n",
       "      <td>7.5</td>\n",
       "    </tr>\n",
       "  </tbody>\n",
       "</table>\n",
       "</div>"
      ],
      "text/plain": [
       "          route_id unique_id service_start_date train_platform  \\\n",
       "0  202407037144581    G44581         2024-07-03        GLOSTER   \n",
       "1  202407036707715    C07715         2024-07-03        LADYBHL   \n",
       "2  202407037154103    G54103         2024-07-03        CRAWLEY   \n",
       "3  202407037154103    G54103         2024-07-03         IFIELD   \n",
       "4  202407037154103    G54103         2024-07-03        FAYGATE   \n",
       "\n",
       "  working_time_arrival working_time_departure actual_arrival_time  \\\n",
       "0             19:22:00               19:28:00            19:32:00   \n",
       "1             19:24:00               19:35:30            19:33:00   \n",
       "2             19:26:30               19:27:30            19:35:00   \n",
       "3             19:29:30               19:30:00            19:37:00   \n",
       "4             19:33:30               19:34:00            19:41:00   \n",
       "\n",
       "  actual_departure_time  is_delayed_arrival  is_delayed_departure  \\\n",
       "0              19:33:00                True                  True   \n",
       "1              19:34:00                True                  True   \n",
       "2              19:35:00                True                  True   \n",
       "3              19:38:00                True                  True   \n",
       "4              19:42:00                True                  True   \n",
       "\n",
       "   duration (min)    weekday TiplocCode StationName   Latitude  Longitude  \\\n",
       "0             6.0  Wednesday    GLOSTER  Gloucester  51.865557  -2.238488   \n",
       "1            11.5  Wednesday        NaN     LADYBHL        NaN        NaN   \n",
       "2             1.0  Wednesday    CRAWLEY     Crawley  51.112212  -0.186673   \n",
       "3             0.5  Wednesday     IFIELD      Ifield  51.115621  -0.214772   \n",
       "4             0.5  Wednesday    FAYGATE     Faygate  51.095889  -0.263019   \n",
       "\n",
       "   depart_delay(min)  arrive_delay(min)  \n",
       "0                5.0               10.0  \n",
       "1                NaN                9.0  \n",
       "2                7.5                8.5  \n",
       "3                8.0                7.5  \n",
       "4                8.0                7.5  "
      ]
     },
     "execution_count": 62,
     "metadata": {},
     "output_type": "execute_result"
    }
   ],
   "source": [
    "df_delay.head()"
   ]
  },
  {
   "cell_type": "code",
   "execution_count": 63,
   "id": "22c9b801",
   "metadata": {},
   "outputs": [
    {
     "data": {
      "text/html": [
       "<div>\n",
       "<style scoped>\n",
       "    .dataframe tbody tr th:only-of-type {\n",
       "        vertical-align: middle;\n",
       "    }\n",
       "\n",
       "    .dataframe tbody tr th {\n",
       "        vertical-align: top;\n",
       "    }\n",
       "\n",
       "    .dataframe thead th {\n",
       "        text-align: right;\n",
       "    }\n",
       "</style>\n",
       "<table border=\"1\" class=\"dataframe\">\n",
       "  <thead>\n",
       "    <tr style=\"text-align: right;\">\n",
       "      <th></th>\n",
       "      <th>route_id</th>\n",
       "      <th>unique_id</th>\n",
       "      <th>service_start_date</th>\n",
       "      <th>train_platform</th>\n",
       "      <th>working_time_arrival</th>\n",
       "      <th>working_time_departure</th>\n",
       "      <th>actual_arrival_time</th>\n",
       "      <th>actual_departure_time</th>\n",
       "      <th>is_delayed_arrival</th>\n",
       "      <th>is_delayed_departure</th>\n",
       "      <th>duration (min)</th>\n",
       "      <th>weekday</th>\n",
       "      <th>TiplocCode</th>\n",
       "      <th>StationName</th>\n",
       "      <th>Latitude</th>\n",
       "      <th>Longitude</th>\n",
       "      <th>delayed</th>\n",
       "    </tr>\n",
       "  </thead>\n",
       "  <tbody>\n",
       "    <tr>\n",
       "      <th>0</th>\n",
       "      <td>202407037139232</td>\n",
       "      <td>G39232</td>\n",
       "      <td>2024-07-03</td>\n",
       "      <td>SCROYDN</td>\n",
       "      <td>19:31:00</td>\n",
       "      <td>19:31:30</td>\n",
       "      <td>None</td>\n",
       "      <td>19:32:00</td>\n",
       "      <td>False</td>\n",
       "      <td>False</td>\n",
       "      <td>0.5</td>\n",
       "      <td>Wednesday</td>\n",
       "      <td>SCROYDN</td>\n",
       "      <td>South Croydon</td>\n",
       "      <td>51.362963</td>\n",
       "      <td>-0.093457</td>\n",
       "      <td>0</td>\n",
       "    </tr>\n",
       "    <tr>\n",
       "      <th>1</th>\n",
       "      <td>202407036785172</td>\n",
       "      <td>C85172</td>\n",
       "      <td>2024-07-03</td>\n",
       "      <td>LIVSTLL</td>\n",
       "      <td>19:37:00</td>\n",
       "      <td>19:38:00</td>\n",
       "      <td>19:37:00</td>\n",
       "      <td>19:38:00</td>\n",
       "      <td>False</td>\n",
       "      <td>False</td>\n",
       "      <td>1.0</td>\n",
       "      <td>Wednesday</td>\n",
       "      <td>LIVSTLL</td>\n",
       "      <td>London Liverpool Street Crossrail</td>\n",
       "      <td>51.518600</td>\n",
       "      <td>-0.081300</td>\n",
       "      <td>0</td>\n",
       "    </tr>\n",
       "    <tr>\n",
       "      <th>2</th>\n",
       "      <td>202407036735756</td>\n",
       "      <td>C35756</td>\n",
       "      <td>2024-07-03</td>\n",
       "      <td>ESTHRAK</td>\n",
       "      <td>19:30:30</td>\n",
       "      <td>19:31:00</td>\n",
       "      <td>None</td>\n",
       "      <td>None</td>\n",
       "      <td>False</td>\n",
       "      <td>False</td>\n",
       "      <td>0.5</td>\n",
       "      <td>Wednesday</td>\n",
       "      <td>ESTHRAK</td>\n",
       "      <td>Eastham Rake</td>\n",
       "      <td>53.307537</td>\n",
       "      <td>-2.981132</td>\n",
       "      <td>0</td>\n",
       "    </tr>\n",
       "    <tr>\n",
       "      <th>3</th>\n",
       "      <td>202407036735756</td>\n",
       "      <td>C35756</td>\n",
       "      <td>2024-07-03</td>\n",
       "      <td>BRMB</td>\n",
       "      <td>19:33:00</td>\n",
       "      <td>19:33:30</td>\n",
       "      <td>19:33:00</td>\n",
       "      <td>19:33:00</td>\n",
       "      <td>False</td>\n",
       "      <td>False</td>\n",
       "      <td>0.5</td>\n",
       "      <td>Wednesday</td>\n",
       "      <td>BRMB</td>\n",
       "      <td>Bromborough</td>\n",
       "      <td>53.321845</td>\n",
       "      <td>-2.986895</td>\n",
       "      <td>0</td>\n",
       "    </tr>\n",
       "    <tr>\n",
       "      <th>4</th>\n",
       "      <td>202407036735756</td>\n",
       "      <td>C35756</td>\n",
       "      <td>2024-07-03</td>\n",
       "      <td>BRMBRK</td>\n",
       "      <td>19:35:00</td>\n",
       "      <td>19:35:30</td>\n",
       "      <td>19:35:00</td>\n",
       "      <td>19:35:00</td>\n",
       "      <td>False</td>\n",
       "      <td>False</td>\n",
       "      <td>0.5</td>\n",
       "      <td>Wednesday</td>\n",
       "      <td>BRMBRK</td>\n",
       "      <td>Bromborough Rake</td>\n",
       "      <td>53.329905</td>\n",
       "      <td>-2.989469</td>\n",
       "      <td>0</td>\n",
       "    </tr>\n",
       "  </tbody>\n",
       "</table>\n",
       "</div>"
      ],
      "text/plain": [
       "          route_id unique_id service_start_date train_platform  \\\n",
       "0  202407037139232    G39232         2024-07-03        SCROYDN   \n",
       "1  202407036785172    C85172         2024-07-03        LIVSTLL   \n",
       "2  202407036735756    C35756         2024-07-03        ESTHRAK   \n",
       "3  202407036735756    C35756         2024-07-03           BRMB   \n",
       "4  202407036735756    C35756         2024-07-03         BRMBRK   \n",
       "\n",
       "  working_time_arrival working_time_departure actual_arrival_time  \\\n",
       "0             19:31:00               19:31:30                None   \n",
       "1             19:37:00               19:38:00            19:37:00   \n",
       "2             19:30:30               19:31:00                None   \n",
       "3             19:33:00               19:33:30            19:33:00   \n",
       "4             19:35:00               19:35:30            19:35:00   \n",
       "\n",
       "  actual_departure_time  is_delayed_arrival  is_delayed_departure  \\\n",
       "0              19:32:00               False                 False   \n",
       "1              19:38:00               False                 False   \n",
       "2                  None               False                 False   \n",
       "3              19:33:00               False                 False   \n",
       "4              19:35:00               False                 False   \n",
       "\n",
       "   duration (min)    weekday TiplocCode                        StationName  \\\n",
       "0             0.5  Wednesday    SCROYDN                      South Croydon   \n",
       "1             1.0  Wednesday    LIVSTLL  London Liverpool Street Crossrail   \n",
       "2             0.5  Wednesday    ESTHRAK                       Eastham Rake   \n",
       "3             0.5  Wednesday       BRMB                        Bromborough   \n",
       "4             0.5  Wednesday     BRMBRK                   Bromborough Rake   \n",
       "\n",
       "    Latitude  Longitude  delayed  \n",
       "0  51.362963  -0.093457        0  \n",
       "1  51.518600  -0.081300        0  \n",
       "2  53.307537  -2.981132        0  \n",
       "3  53.321845  -2.986895        0  \n",
       "4  53.329905  -2.989469        0  "
      ]
     },
     "execution_count": 63,
     "metadata": {},
     "output_type": "execute_result"
    }
   ],
   "source": [
    "# Create the 'delayed' column\n",
    "df_merged['delayed'] = df_merged['is_delayed_arrival'] | df_merged['is_delayed_departure']\n",
    "df_merged['delayed'] = df_merged['delayed'].astype(int)\n",
    "\n",
    "# Check\n",
    "df_merged.head()"
   ]
  },
  {
   "cell_type": "markdown",
   "id": "548fbef0",
   "metadata": {},
   "source": [
    "## Delays  by Route"
   ]
  },
  {
   "cell_type": "code",
   "execution_count": 64,
   "id": "2c8cd932",
   "metadata": {},
   "outputs": [
    {
     "data": {
      "text/html": [
       "<div>\n",
       "<style scoped>\n",
       "    .dataframe tbody tr th:only-of-type {\n",
       "        vertical-align: middle;\n",
       "    }\n",
       "\n",
       "    .dataframe tbody tr th {\n",
       "        vertical-align: top;\n",
       "    }\n",
       "\n",
       "    .dataframe thead th {\n",
       "        text-align: right;\n",
       "    }\n",
       "</style>\n",
       "<table border=\"1\" class=\"dataframe\">\n",
       "  <thead>\n",
       "    <tr style=\"text-align: right;\">\n",
       "      <th></th>\n",
       "      <th>route_id</th>\n",
       "      <th>delay_counts_by_route</th>\n",
       "      <th>total_counts_by_route</th>\n",
       "      <th>%_delayed_by_route</th>\n",
       "    </tr>\n",
       "  </thead>\n",
       "  <tbody>\n",
       "    <tr>\n",
       "      <th>0</th>\n",
       "      <td>202407036704095</td>\n",
       "      <td>0</td>\n",
       "      <td>1</td>\n",
       "      <td>0.0</td>\n",
       "    </tr>\n",
       "    <tr>\n",
       "      <th>1</th>\n",
       "      <td>202407036704542</td>\n",
       "      <td>0</td>\n",
       "      <td>1</td>\n",
       "      <td>0.0</td>\n",
       "    </tr>\n",
       "    <tr>\n",
       "      <th>2</th>\n",
       "      <td>202407036705093</td>\n",
       "      <td>1</td>\n",
       "      <td>4</td>\n",
       "      <td>25.0</td>\n",
       "    </tr>\n",
       "    <tr>\n",
       "      <th>3</th>\n",
       "      <td>202407036705096</td>\n",
       "      <td>0</td>\n",
       "      <td>6</td>\n",
       "      <td>0.0</td>\n",
       "    </tr>\n",
       "    <tr>\n",
       "      <th>4</th>\n",
       "      <td>202407036705102</td>\n",
       "      <td>0</td>\n",
       "      <td>5</td>\n",
       "      <td>0.0</td>\n",
       "    </tr>\n",
       "    <tr>\n",
       "      <th>...</th>\n",
       "      <td>...</td>\n",
       "      <td>...</td>\n",
       "      <td>...</td>\n",
       "      <td>...</td>\n",
       "    </tr>\n",
       "    <tr>\n",
       "      <th>87337</th>\n",
       "      <td>202407158904586</td>\n",
       "      <td>0</td>\n",
       "      <td>2</td>\n",
       "      <td>0.0</td>\n",
       "    </tr>\n",
       "    <tr>\n",
       "      <th>87338</th>\n",
       "      <td>202407158904686</td>\n",
       "      <td>0</td>\n",
       "      <td>1</td>\n",
       "      <td>0.0</td>\n",
       "    </tr>\n",
       "    <tr>\n",
       "      <th>87339</th>\n",
       "      <td>202407158905794</td>\n",
       "      <td>0</td>\n",
       "      <td>4</td>\n",
       "      <td>0.0</td>\n",
       "    </tr>\n",
       "    <tr>\n",
       "      <th>87340</th>\n",
       "      <td>202407166705074</td>\n",
       "      <td>0</td>\n",
       "      <td>8</td>\n",
       "      <td>0.0</td>\n",
       "    </tr>\n",
       "    <tr>\n",
       "      <th>87341</th>\n",
       "      <td>202407166705108</td>\n",
       "      <td>0</td>\n",
       "      <td>14</td>\n",
       "      <td>0.0</td>\n",
       "    </tr>\n",
       "  </tbody>\n",
       "</table>\n",
       "<p>87342 rows × 4 columns</p>\n",
       "</div>"
      ],
      "text/plain": [
       "              route_id  delay_counts_by_route  total_counts_by_route  \\\n",
       "0      202407036704095                      0                      1   \n",
       "1      202407036704542                      0                      1   \n",
       "2      202407036705093                      1                      4   \n",
       "3      202407036705096                      0                      6   \n",
       "4      202407036705102                      0                      5   \n",
       "...                ...                    ...                    ...   \n",
       "87337  202407158904586                      0                      2   \n",
       "87338  202407158904686                      0                      1   \n",
       "87339  202407158905794                      0                      4   \n",
       "87340  202407166705074                      0                      8   \n",
       "87341  202407166705108                      0                     14   \n",
       "\n",
       "       %_delayed_by_route  \n",
       "0                     0.0  \n",
       "1                     0.0  \n",
       "2                    25.0  \n",
       "3                     0.0  \n",
       "4                     0.0  \n",
       "...                   ...  \n",
       "87337                 0.0  \n",
       "87338                 0.0  \n",
       "87339                 0.0  \n",
       "87340                 0.0  \n",
       "87341                 0.0  \n",
       "\n",
       "[87342 rows x 4 columns]"
      ]
     },
     "execution_count": 64,
     "metadata": {},
     "output_type": "execute_result"
    }
   ],
   "source": [
    "# Extract the necessary columns\n",
    "df_extracted = df_merged[['route_id', 'delayed']]\n",
    "\n",
    "# Calculate the count of delays for each route_id and TiplocCode\n",
    "delay_counts_by_route = df_extracted.groupby('route_id')['delayed'].sum().reset_index()\n",
    "delay_counts_by_route.rename(columns={'delayed': 'delay_counts_by_route'}, inplace=True)\n",
    "\n",
    "# Calculate the total count of records for each route_id and TiplocCode\n",
    "total_counts_by_route = df_extracted.groupby('route_id')['route_id'].count().reset_index(name='total_counts_by_route')\n",
    "\n",
    "# Merge the delay counts and total counts\n",
    "delay_summary = delay_counts_by_route.merge(total_counts_by_route, on='route_id')\n",
    "\n",
    "# Calculate the % delayed for each route_id\n",
    "delay_summary['%_delayed_by_route'] = (delay_summary['delay_counts_by_route'] / delay_summary['total_counts_by_route']) * 100\n",
    "\n",
    "# Select the relevant columns\n",
    "delays_by_route = delay_summary[['route_id', 'delay_counts_by_route', 'total_counts_by_route', '%_delayed_by_route']]\n",
    "\n",
    "# Check\n",
    "delays_by_route"
   ]
  },
  {
   "cell_type": "code",
   "execution_count": 65,
   "id": "8642c696",
   "metadata": {},
   "outputs": [],
   "source": [
    "# export delay routes csv\n",
    "delays_route = delays_by_route.to_csv('./cleaned_data/delays_by_route.csv', index=False, mode = 'w+')"
   ]
  },
  {
   "cell_type": "markdown",
   "id": "a5f0c29b",
   "metadata": {},
   "source": [
    "## Delays by Station Name"
   ]
  },
  {
   "cell_type": "markdown",
   "id": "7d0b0d4d",
   "metadata": {},
   "source": [
    "Changed to aggregate by TiplocCode, because upon further investigation it was found that a Station Name may have various TiplocCodes. Which would inflate the delay counts and station counts for each individual TiplocCode"
   ]
  },
  {
   "cell_type": "code",
   "execution_count": 66,
   "id": "a131e773",
   "metadata": {},
   "outputs": [
    {
     "data": {
      "text/html": [
       "<div>\n",
       "<style scoped>\n",
       "    .dataframe tbody tr th:only-of-type {\n",
       "        vertical-align: middle;\n",
       "    }\n",
       "\n",
       "    .dataframe tbody tr th {\n",
       "        vertical-align: top;\n",
       "    }\n",
       "\n",
       "    .dataframe thead th {\n",
       "        text-align: right;\n",
       "    }\n",
       "</style>\n",
       "<table border=\"1\" class=\"dataframe\">\n",
       "  <thead>\n",
       "    <tr style=\"text-align: right;\">\n",
       "      <th></th>\n",
       "      <th>TiplocCode</th>\n",
       "      <th>delay_counts_by_tiploc</th>\n",
       "      <th>total_counts_by_tiploc</th>\n",
       "      <th>%_delayed_by_tiploc</th>\n",
       "      <th>StationName</th>\n",
       "      <th>Latitude</th>\n",
       "      <th>Longitude</th>\n",
       "    </tr>\n",
       "  </thead>\n",
       "  <tbody>\n",
       "    <tr>\n",
       "      <th>494</th>\n",
       "      <td>CLPHMJC</td>\n",
       "      <td>74</td>\n",
       "      <td>1293</td>\n",
       "      <td>5.723125</td>\n",
       "      <td>Clapham Junction</td>\n",
       "      <td>51.464186</td>\n",
       "      <td>-0.170279</td>\n",
       "    </tr>\n",
       "    <tr>\n",
       "      <th>495</th>\n",
       "      <td>CLPHMJM</td>\n",
       "      <td>51</td>\n",
       "      <td>1251</td>\n",
       "      <td>4.076739</td>\n",
       "      <td>Clapham Junction</td>\n",
       "      <td>51.464186</td>\n",
       "      <td>-0.170265</td>\n",
       "    </tr>\n",
       "    <tr>\n",
       "      <th>496</th>\n",
       "      <td>CLPHMJW</td>\n",
       "      <td>24</td>\n",
       "      <td>662</td>\n",
       "      <td>3.625378</td>\n",
       "      <td>Clapham Junction</td>\n",
       "      <td>51.464186</td>\n",
       "      <td>-0.170250</td>\n",
       "    </tr>\n",
       "  </tbody>\n",
       "</table>\n",
       "</div>"
      ],
      "text/plain": [
       "    TiplocCode  delay_counts_by_tiploc  total_counts_by_tiploc  \\\n",
       "494    CLPHMJC                      74                    1293   \n",
       "495    CLPHMJM                      51                    1251   \n",
       "496    CLPHMJW                      24                     662   \n",
       "\n",
       "     %_delayed_by_tiploc       StationName   Latitude  Longitude  \n",
       "494             5.723125  Clapham Junction  51.464186  -0.170279  \n",
       "495             4.076739  Clapham Junction  51.464186  -0.170265  \n",
       "496             3.625378  Clapham Junction  51.464186  -0.170250  "
      ]
     },
     "execution_count": 66,
     "metadata": {},
     "output_type": "execute_result"
    }
   ],
   "source": [
    "df_extracted2 = df_merged[['StationName', 'TiplocCode', 'delayed', 'Latitude', 'Longitude']]\n",
    "\n",
    "# Calculate the count of delays for each TiplocCode\n",
    "delay_counts_by_tiploc = df_extracted2.groupby('TiplocCode')['delayed'].sum().reset_index()\n",
    "delay_counts_by_tiploc.rename(columns={'delayed': 'delay_counts_by_tiploc'}, inplace=True)\n",
    "\n",
    "# Calculate the total count of records for each TiplocCode\n",
    "total_counts_by_tiploc = df_extracted2.groupby('TiplocCode')['TiplocCode'].count().reset_index(name='total_counts_by_tiploc')\n",
    "\n",
    "# Merge the delay counts and total counts\n",
    "delay_summary_tiploc = delay_counts_by_tiploc.merge(total_counts_by_tiploc, on='TiplocCode')\n",
    "\n",
    "# Calculate the % delayed for each TiplocCode\n",
    "delay_summary_tiploc['%_delayed_by_tiploc'] = (delay_summary_tiploc['delay_counts_by_tiploc'] / delay_summary_tiploc['total_counts_by_tiploc']) * 100\n",
    "\n",
    "# Select the relevant columns\n",
    "delays_by_tiploc = delay_summary_tiploc[['TiplocCode', 'delay_counts_by_tiploc', 'total_counts_by_tiploc', '%_delayed_by_tiploc']]\n",
    "\n",
    "# Merge the dataframes on 'TiplocCode' to add latitude, longitude, and StationName\n",
    "delays_by_tiploc = pd.merge(delays_by_tiploc, df_extracted2[['TiplocCode', 'StationName', 'Latitude', 'Longitude']].drop_duplicates(), on='TiplocCode', how='left')\n",
    "\n",
    "# Check\n",
    "delays_by_tiploc[delays_by_tiploc['StationName'] == 'Clapham Junction']"
   ]
  },
  {
   "cell_type": "code",
   "execution_count": 67,
   "id": "a1d2dca9",
   "metadata": {},
   "outputs": [],
   "source": [
    "# exporting delays by station to csv\n",
    "delay_stations = delays_by_tiploc.to_csv('./cleaned_data/delays_by_station.csv', index=False, mode = 'w+')"
   ]
  },
  {
   "cell_type": "code",
   "execution_count": 68,
   "id": "c4707667",
   "metadata": {},
   "outputs": [
    {
     "data": {
      "text/plain": [
       "is_delayed_arrival\n",
       "False    365808\n",
       "True      54139\n",
       "Name: count, dtype: int64"
      ]
     },
     "execution_count": 68,
     "metadata": {},
     "output_type": "execute_result"
    }
   ],
   "source": [
    "# check how is_delayed arrivals/departures compare with delayed column\n",
    "df_merged['is_delayed_arrival'].value_counts()"
   ]
  },
  {
   "cell_type": "code",
   "execution_count": 69,
   "id": "bb7a760a",
   "metadata": {},
   "outputs": [
    {
     "data": {
      "text/plain": [
       "is_delayed_departure\n",
       "False    363724\n",
       "True      56223\n",
       "Name: count, dtype: int64"
      ]
     },
     "execution_count": 69,
     "metadata": {},
     "output_type": "execute_result"
    }
   ],
   "source": [
    "df_merged['is_delayed_departure'].value_counts()"
   ]
  },
  {
   "cell_type": "code",
   "execution_count": 70,
   "id": "e024e1b1",
   "metadata": {},
   "outputs": [
    {
     "data": {
      "text/plain": [
       "delayed\n",
       "0    363724\n",
       "1     56223\n",
       "Name: count, dtype: int64"
      ]
     },
     "execution_count": 70,
     "metadata": {},
     "output_type": "execute_result"
    }
   ],
   "source": [
    "df_merged['delayed'].value_counts()"
   ]
  },
  {
   "cell_type": "markdown",
   "id": "21b45ae4",
   "metadata": {},
   "source": [
    "Delayed column has same counts as is_delayed_departure. "
   ]
  },
  {
   "cell_type": "markdown",
   "id": "489d8839",
   "metadata": {},
   "source": [
    "# % Delayed by Weekday\n",
    "\n",
    "Create an aggregated dataframe to show the % of trains delayed by weekday."
   ]
  },
  {
   "cell_type": "code",
   "execution_count": 71,
   "id": "5f8bf3b8",
   "metadata": {},
   "outputs": [
    {
     "data": {
      "text/html": [
       "<div>\n",
       "<style scoped>\n",
       "    .dataframe tbody tr th:only-of-type {\n",
       "        vertical-align: middle;\n",
       "    }\n",
       "\n",
       "    .dataframe tbody tr th {\n",
       "        vertical-align: top;\n",
       "    }\n",
       "\n",
       "    .dataframe thead th {\n",
       "        text-align: right;\n",
       "    }\n",
       "</style>\n",
       "<table border=\"1\" class=\"dataframe\">\n",
       "  <thead>\n",
       "    <tr style=\"text-align: right;\">\n",
       "      <th></th>\n",
       "      <th>weekday</th>\n",
       "      <th>delayed</th>\n",
       "      <th>count</th>\n",
       "      <th>percent_delayed</th>\n",
       "    </tr>\n",
       "  </thead>\n",
       "  <tbody>\n",
       "    <tr>\n",
       "      <th>0</th>\n",
       "      <td>Friday</td>\n",
       "      <td>11536</td>\n",
       "      <td>93334</td>\n",
       "      <td>12.359912</td>\n",
       "    </tr>\n",
       "    <tr>\n",
       "      <th>1</th>\n",
       "      <td>Monday</td>\n",
       "      <td>3948</td>\n",
       "      <td>40977</td>\n",
       "      <td>9.634673</td>\n",
       "    </tr>\n",
       "    <tr>\n",
       "      <th>2</th>\n",
       "      <td>Saturday</td>\n",
       "      <td>10298</td>\n",
       "      <td>70315</td>\n",
       "      <td>14.645524</td>\n",
       "    </tr>\n",
       "    <tr>\n",
       "      <th>3</th>\n",
       "      <td>Sunday</td>\n",
       "      <td>12183</td>\n",
       "      <td>62864</td>\n",
       "      <td>19.379931</td>\n",
       "    </tr>\n",
       "    <tr>\n",
       "      <th>4</th>\n",
       "      <td>Thursday</td>\n",
       "      <td>8643</td>\n",
       "      <td>74420</td>\n",
       "      <td>11.613813</td>\n",
       "    </tr>\n",
       "    <tr>\n",
       "      <th>5</th>\n",
       "      <td>Tuesday</td>\n",
       "      <td>4098</td>\n",
       "      <td>34732</td>\n",
       "      <td>11.798917</td>\n",
       "    </tr>\n",
       "    <tr>\n",
       "      <th>6</th>\n",
       "      <td>Wednesday</td>\n",
       "      <td>5517</td>\n",
       "      <td>43305</td>\n",
       "      <td>12.739868</td>\n",
       "    </tr>\n",
       "  </tbody>\n",
       "</table>\n",
       "</div>"
      ],
      "text/plain": [
       "     weekday  delayed  count  percent_delayed\n",
       "0     Friday    11536  93334        12.359912\n",
       "1     Monday     3948  40977         9.634673\n",
       "2   Saturday    10298  70315        14.645524\n",
       "3     Sunday    12183  62864        19.379931\n",
       "4   Thursday     8643  74420        11.613813\n",
       "5    Tuesday     4098  34732        11.798917\n",
       "6  Wednesday     5517  43305        12.739868"
      ]
     },
     "execution_count": 71,
     "metadata": {},
     "output_type": "execute_result"
    }
   ],
   "source": [
    "# Extract the necessary columns\n",
    "df_weekday = df_merged[['weekday', 'delayed']].copy()\n",
    "df_weekday['count'] = 1\n",
    "df_weekday = df_weekday.groupby('weekday')[['delayed', 'count']].sum().reset_index()\n",
    "df_weekday['percent_delayed'] = (df_weekday['delayed'] / df_weekday['count'])*100\n",
    "df_weekday"
   ]
  },
  {
   "cell_type": "code",
   "execution_count": 72,
   "id": "ba162f09",
   "metadata": {},
   "outputs": [],
   "source": [
    "df_weekday.to_csv('./cleaned_data/weekday_data.csv', index=False, mode = 'w+')"
   ]
  },
  {
   "cell_type": "markdown",
   "id": "5e338505",
   "metadata": {},
   "source": [
    "# Value Counts for Analysis "
   ]
  },
  {
   "cell_type": "code",
   "execution_count": 73,
   "id": "8cdee805",
   "metadata": {},
   "outputs": [
    {
     "data": {
      "text/plain": [
       "service_start_date\n",
       "2024-07-12    69501\n",
       "2024-07-11    62763\n",
       "2024-07-13    60990\n",
       "2024-07-14    55727\n",
       "2024-07-10    39969\n",
       "2024-07-09    34710\n",
       "2024-07-15    30257\n",
       "2024-07-05    23833\n",
       "2024-07-04    11657\n",
       "2024-07-08    10720\n",
       "2024-07-06     9325\n",
       "2024-07-07     7137\n",
       "2024-07-03     3336\n",
       "2024-07-16       22\n",
       "Name: count, dtype: int64"
      ]
     },
     "execution_count": 73,
     "metadata": {},
     "output_type": "execute_result"
    }
   ],
   "source": [
    "df_merged['service_start_date'].value_counts()"
   ]
  },
  {
   "cell_type": "code",
   "execution_count": 74,
   "id": "0628d3e1",
   "metadata": {},
   "outputs": [
    {
     "data": {
      "text/plain": [
       "route_id\n",
       "202407158332472    273\n",
       "202407158332474    205\n",
       "202407148085175    178\n",
       "202407148085184    133\n",
       "202407137950909    120\n",
       "                  ... \n",
       "202407136779385      1\n",
       "202407117143858      1\n",
       "202407107659936      1\n",
       "202407138087703      1\n",
       "202407127132644      1\n",
       "Name: count, Length: 87342, dtype: int64"
      ]
     },
     "execution_count": 74,
     "metadata": {},
     "output_type": "execute_result"
    }
   ],
   "source": [
    "# most popular routes\n",
    "df_merged['route_id'].value_counts()"
   ]
  },
  {
   "cell_type": "code",
   "execution_count": 75,
   "id": "7ed2c447",
   "metadata": {},
   "outputs": [
    {
     "data": {
      "text/plain": [
       "StationName\n",
       "Clapham Junction                3206\n",
       "Willesden Junction Low Level    2804\n",
       "London Bridge                   2737\n",
       "Harlesden                       2505\n",
       "East Croydon                    1940\n",
       "                                ... \n",
       "SUTT195                            1\n",
       "AVON4                              1\n",
       "COSFDGL                            1\n",
       "ASCO237                            1\n",
       "WRNTHPS                            1\n",
       "Name: count, Length: 3126, dtype: int64"
      ]
     },
     "execution_count": 75,
     "metadata": {},
     "output_type": "execute_result"
    }
   ],
   "source": [
    "df_merged['StationName'].value_counts()"
   ]
  },
  {
   "cell_type": "markdown",
   "id": "8f155e58",
   "metadata": {},
   "source": [
    "# Visuals "
   ]
  },
  {
   "cell_type": "code",
   "execution_count": 76,
   "id": "c5106922",
   "metadata": {},
   "outputs": [
    {
     "data": {
      "image/png": "[encoded data removed]",
      "text/plain": [
       "<Figure size 1000x600 with 1 Axes>"
      ]
     },
     "metadata": {},
     "output_type": "display_data"
    }
   ],
   "source": [
    "import matplotlib.pyplot as plt\n",
    "import seaborn as sns\n",
    "# Top 10 most frequently visited stations\n",
    "top_stations = df_merged['StationName'].value_counts().head(20)\n",
    "plt.figure(figsize=(10, 6))\n",
    "sns.barplot(x=top_stations.index, y=top_stations.values)\n",
    "plt.title('Top 20 Most Frequently Visited Stations')\n",
    "plt.xlabel('Station')\n",
    "plt.ylabel('Number of Visits')\n",
    "plt.xticks(rotation=90)\n",
    "plt.show()"
   ]
  },
  {
   "cell_type": "markdown",
   "id": "cc5b8854",
   "metadata": {},
   "source": [
    "The chart shows the top 20 most frequently visited stations in the UK rail system, revealing that 13 of these stations are in London. This highlights London's central role in the rail network, driven by its approximate population of 9 million, which constitutes about 13% of the UK's total population. Major hubs like Clapham Junction and London Bridge, as well as key interchange points and commuter stations, contribute to this high traffic, reflecting the substantial demand generated by the city's large population.\n",
    "\n",
    "Additionally, the chart underscores the importance of regional hubs such as Birmingham New Street, York, and Reading, which serve as central points for their areas, and the significance of rail connections to major airports like Gatwick. The presence of stations like City Thameslink and Whitechapel Crossrail also highlights the integration of various transport modes, providing seamless connectivity for passengers. Overall, London's dominance in the list illustrates its pivotal role in the UK's rail system, driven by its large population and economic activity."
   ]
  },
  {
   "cell_type": "markdown",
   "id": "a47bc82b",
   "metadata": {},
   "source": [
    "## Duration Distribution "
   ]
  },
  {
   "cell_type": "code",
   "execution_count": 77,
   "id": "07670d4f",
   "metadata": {},
   "outputs": [
    {
     "data": {
      "text/html": [
       "<div>\n",
       "<style scoped>\n",
       "    .dataframe tbody tr th:only-of-type {\n",
       "        vertical-align: middle;\n",
       "    }\n",
       "\n",
       "    .dataframe tbody tr th {\n",
       "        vertical-align: top;\n",
       "    }\n",
       "\n",
       "    .dataframe thead th {\n",
       "        text-align: right;\n",
       "    }\n",
       "</style>\n",
       "<table border=\"1\" class=\"dataframe\">\n",
       "  <thead>\n",
       "    <tr style=\"text-align: right;\">\n",
       "      <th></th>\n",
       "      <th>service_start_date</th>\n",
       "      <th>duration (min)</th>\n",
       "      <th>Latitude</th>\n",
       "      <th>Longitude</th>\n",
       "      <th>delayed</th>\n",
       "    </tr>\n",
       "  </thead>\n",
       "  <tbody>\n",
       "    <tr>\n",
       "      <th>count</th>\n",
       "      <td>419947</td>\n",
       "      <td>419947.000000</td>\n",
       "      <td>398115.000000</td>\n",
       "      <td>398115.000000</td>\n",
       "      <td>419947.000000</td>\n",
       "    </tr>\n",
       "    <tr>\n",
       "      <th>mean</th>\n",
       "      <td>2024-07-11 00:40:26.294746624</td>\n",
       "      <td>1.511121</td>\n",
       "      <td>52.206166</td>\n",
       "      <td>-1.144927</td>\n",
       "      <td>0.133881</td>\n",
       "    </tr>\n",
       "    <tr>\n",
       "      <th>min</th>\n",
       "      <td>2024-07-03 00:00:00</td>\n",
       "      <td>0.050000</td>\n",
       "      <td>50.121672</td>\n",
       "      <td>-5.839077</td>\n",
       "      <td>0.000000</td>\n",
       "    </tr>\n",
       "    <tr>\n",
       "      <th>25%</th>\n",
       "      <td>2024-07-10 00:00:00</td>\n",
       "      <td>0.500000</td>\n",
       "      <td>51.432454</td>\n",
       "      <td>-2.192670</td>\n",
       "      <td>0.000000</td>\n",
       "    </tr>\n",
       "    <tr>\n",
       "      <th>50%</th>\n",
       "      <td>2024-07-12 00:00:00</td>\n",
       "      <td>1.000000</td>\n",
       "      <td>51.549430</td>\n",
       "      <td>-0.395925</td>\n",
       "      <td>0.000000</td>\n",
       "    </tr>\n",
       "    <tr>\n",
       "      <th>75%</th>\n",
       "      <td>2024-07-13 00:00:00</td>\n",
       "      <td>1.000000</td>\n",
       "      <td>52.920753</td>\n",
       "      <td>-0.092780</td>\n",
       "      <td>0.000000</td>\n",
       "    </tr>\n",
       "    <tr>\n",
       "      <th>max</th>\n",
       "      <td>2024-07-16 00:00:00</td>\n",
       "      <td>247.000000</td>\n",
       "      <td>58.590175</td>\n",
       "      <td>1.715711</td>\n",
       "      <td>1.000000</td>\n",
       "    </tr>\n",
       "    <tr>\n",
       "      <th>std</th>\n",
       "      <td>NaN</td>\n",
       "      <td>3.659972</td>\n",
       "      <td>1.337643</td>\n",
       "      <td>1.429971</td>\n",
       "      <td>0.340525</td>\n",
       "    </tr>\n",
       "  </tbody>\n",
       "</table>\n",
       "</div>"
      ],
      "text/plain": [
       "                  service_start_date  duration (min)       Latitude  \\\n",
       "count                         419947   419947.000000  398115.000000   \n",
       "mean   2024-07-11 00:40:26.294746624        1.511121      52.206166   \n",
       "min              2024-07-03 00:00:00        0.050000      50.121672   \n",
       "25%              2024-07-10 00:00:00        0.500000      51.432454   \n",
       "50%              2024-07-12 00:00:00        1.000000      51.549430   \n",
       "75%              2024-07-13 00:00:00        1.000000      52.920753   \n",
       "max              2024-07-16 00:00:00      247.000000      58.590175   \n",
       "std                              NaN        3.659972       1.337643   \n",
       "\n",
       "           Longitude        delayed  \n",
       "count  398115.000000  419947.000000  \n",
       "mean       -1.144927       0.133881  \n",
       "min        -5.839077       0.000000  \n",
       "25%        -2.192670       0.000000  \n",
       "50%        -0.395925       0.000000  \n",
       "75%        -0.092780       0.000000  \n",
       "max         1.715711       1.000000  \n",
       "std         1.429971       0.340525  "
      ]
     },
     "execution_count": 77,
     "metadata": {},
     "output_type": "execute_result"
    }
   ],
   "source": [
    "df_merged.describe()"
   ]
  },
  {
   "cell_type": "code",
   "execution_count": 78,
   "id": "a748aa17",
   "metadata": {
    "scrolled": false
   },
   "outputs": [
    {
     "data": {
      "image/png": "[encoded data removed]",
      "text/plain": [
       "<Figure size 1000x600 with 1 Axes>"
      ]
     },
     "metadata": {},
     "output_type": "display_data"
    }
   ],
   "source": [
    "# Histogram for 'duration (min)'\n",
    "plt.figure(figsize=(10, 6))\n",
    "plt.hist(df_merged['duration (min)'], bins=100, edgecolor='black')\n",
    "plt.title('Histogram of Duration (min)')\n",
    "plt.xlabel('Minutes')\n",
    "plt.ylabel('Frequency')\n",
    "plt.show()"
   ]
  },
  {
   "cell_type": "markdown",
   "id": "868124b3",
   "metadata": {},
   "source": [
    "Showing true "
   ]
  },
  {
   "cell_type": "code",
   "execution_count": 79,
   "id": "af1b2752",
   "metadata": {
    "scrolled": false
   },
   "outputs": [
    {
     "data": {
      "image/png": "[encoded data removed]",
      "text/plain": [
       "<Figure size 1000x600 with 1 Axes>"
      ]
     },
     "metadata": {},
     "output_type": "display_data"
    }
   ],
   "source": [
    "# Histogram for 'duration (min)' with smaller bins and logarithmic x-axis\n",
    "plt.figure(figsize=(10, 6))\n",
    "plt.hist(df_merged['duration (min)'], bins=100, edgecolor='black', log=True)\n",
    "\n",
    "plt.title('Histogram of Duration (min) with Logarithmic Y-axis')\n",
    "plt.xlabel('Minutes')\n",
    "plt.ylabel('Frequency')\n",
    "plt.yscale('log')\n",
    "plt.show()"
   ]
  },
  {
   "cell_type": "markdown",
   "id": "48952694",
   "metadata": {},
   "source": [
    "This histogram shows the distribution of trip durations from station to station with a logarithmic y-axis. The logarithmic scale is used to make it easier to see and understand data that has a very wide range by squeezing the numbers into a smaller, more readable format. The histogram reveals a high frequency of short trips, with the majority of trip durations clustered around the lower end, particularly between 0 and 50 minutes. There are significant drops in frequency as the duration increases, indicating that long trips are much less common. A few peaks at higher durations suggest some outliers where trips are unusually long."
   ]
  },
  {
   "cell_type": "code",
   "execution_count": 80,
   "id": "2fa7dcce",
   "metadata": {},
   "outputs": [
    {
     "data": {
      "image/png": "[encoded data removed]",
      "text/plain": [
       "<Figure size 1000x600 with 1 Axes>"
      ]
     },
     "metadata": {},
     "output_type": "display_data"
    }
   ],
   "source": [
    "# Boxplot for 'duration (min)' with a logarithmic scale\n",
    "plt.figure(figsize=(10, 6))\n",
    "plt.boxplot(df_merged['duration (min)'], vert=False, patch_artist=True, showfliers=True)\n",
    "plt.xscale('log')\n",
    "\n",
    "# Add mean and median lines\n",
    "mean_duration = df_merged['duration (min)'].mean()\n",
    "median_duration = df_merged['duration (min)'].median()\n",
    "mode_duration = df_merged['duration (min)'].mode().iloc[0]\n",
    "\n",
    "plt.axvline(mean_duration, color='r', linestyle='--', label=f'Mean: {mean_duration:.2f}')\n",
    "plt.axvline(median_duration, color='g', linestyle='-', label=f'Median: {median_duration:.2f}')\n",
    "plt.axvline(mode_duration, color='b', linestyle='-', label=f'Mode: {mode_duration:.2f}')\n",
    "\n",
    "plt.title('Boxplot of Duration (min) with Logarithmic Scale')\n",
    "plt.xlabel('Minutes (log scale)')\n",
    "plt.legend()\n",
    "plt.show()"
   ]
  },
  {
   "cell_type": "markdown",
   "id": "bc446c43",
   "metadata": {},
   "source": [
    "This boxplot provides a detailed summary of the distribution, highlighting the mean, median, and mode durations. The median trip duration is 1 minute, with a mean slightly higher at 1.48 minutes, indicating that the distribution is right-skewed with a long tail of longer durations. The mode is at 0.50 minutes, showing that very short trips are most common. The presence of numerous outliers further supports the observation from the histogram that while most trips are short, there are occasional long trips that are significantly longer than the majority. The logarithmic scale on the x-axis helps to spread out the data points, making it easier to see the distribution and identify the concentration of shorter trips and the spread of longer ones."
   ]
  },
  {
   "cell_type": "markdown",
   "id": "2073fecf",
   "metadata": {},
   "source": [
    "### Overall Analysis on Trip Duration Distribution. "
   ]
  },
  {
   "cell_type": "markdown",
   "id": "a52ac76d",
   "metadata": {},
   "source": [
    "The analysis of trip durations reveals that the majority of trips are very short, with most durations clustered between 0 and 50 minutes. This trend makes sense given that the majority of trips occur in densely populated cities like London, where stations are closely spaced, and the demand for frequent, short commutes is high. In such urban environments, the transportation network is designed to handle large volumes of passengers moving over short distances, facilitating quick and efficient travel between closely situated stations.\n",
    "\n",
    "In cities like London, people often rely on the rail system for daily commutes, errands, and short-distance travel, contributing to the high frequency of brief trips. The shorter trips are reflective of the urban layout, where stations are strategically placed to maximize accessibility and convenience for city dwellers. The presence of numerous outliers with longer trip durations indicates occasional longer journeys, but these are less common. Overall, the data aligns with the expected travel patterns in a densely populated metropolitan area, emphasizing the importance of the rail network in supporting urban mobility."
   ]
  },
  {
   "cell_type": "markdown",
   "id": "e331e2f8",
   "metadata": {},
   "source": [
    "## Delay Distributions"
   ]
  },
  {
   "cell_type": "code",
   "execution_count": 81,
   "id": "12d4116e",
   "metadata": {
    "scrolled": false
   },
   "outputs": [
    {
     "name": "stderr",
     "output_type": "stream",
     "text": [
      "C:\\Users\\audre\\anaconda3\\Lib\\site-packages\\seaborn\\_oldcore.py:1119: FutureWarning: use_inf_as_na option is deprecated and will be removed in a future version. Convert inf values to NaN before operating instead.\n",
      "  with pd.option_context('mode.use_inf_as_na', True):\n",
      "C:\\Users\\audre\\anaconda3\\Lib\\site-packages\\seaborn\\_oldcore.py:1119: FutureWarning: use_inf_as_na option is deprecated and will be removed in a future version. Convert inf values to NaN before operating instead.\n",
      "  with pd.option_context('mode.use_inf_as_na', True):\n"
     ]
    },
    {
     "data": {
      "image/png": "[encoded data removed]",
      "text/plain": [
       "<Figure size 1400x700 with 2 Axes>"
      ]
     },
     "metadata": {},
     "output_type": "display_data"
    }
   ],
   "source": [
    "plt.figure(figsize=(14, 7))\n",
    "\n",
    "# Arrival delay histogram\n",
    "plt.subplot(1, 2, 1)\n",
    "sns.histplot(df_delay['arrive_delay(min)'], bins=20, color='blue')\n",
    "plt.title('Histogram of Arrival Delay (min)')\n",
    "plt.xlabel('Minutes')\n",
    "plt.ylabel('Frequency')\n",
    "\n",
    "# Departure delay histogram\n",
    "plt.subplot(1, 2, 2)\n",
    "sns.histplot(df_delay['depart_delay(min)'], bins=20, color='green')\n",
    "plt.title('Histogram of Departure Delay (min)')\n",
    "plt.xlabel('Minutes')\n",
    "plt.ylabel('Frequency')\n",
    "\n",
    "plt.tight_layout()\n",
    "plt.show()"
   ]
  },
  {
   "cell_type": "markdown",
   "id": "92127739",
   "metadata": {},
   "source": [
    "The histograms display a high frequency of shorter delays, with most clustered between 0 and 50 minutes. As delay time increases, the frequency decreases, indicating that longer delays are less common. This right-skewed distribution shows that while shorter delays are frequent, longer delays, though less common, do occur."
   ]
  },
  {
   "cell_type": "code",
   "execution_count": 82,
   "id": "73e1160c",
   "metadata": {
    "scrolled": false
   },
   "outputs": [
    {
     "data": {
      "image/png": "[encoded data removed]",
      "text/plain": [
       "<Figure size 1400x700 with 2 Axes>"
      ]
     },
     "metadata": {},
     "output_type": "display_data"
    }
   ],
   "source": [
    "# Plot boxplot for arrival_delay and depart_delay\n",
    "plt.figure(figsize=(14, 7))\n",
    "\n",
    "# Adding mode \n",
    "arrival_mode = df_delay['arrive_delay(min)'].mode().iloc[0]\n",
    "depart_mode = df_delay['depart_delay(min)'].mode().iloc[0]\n",
    "\n",
    "# Arrival delay boxplot\n",
    "plt.subplot(1, 2, 1)\n",
    "sns.boxplot(x=df_delay['arrive_delay(min)'])\n",
    "plt.title('Boxplot of Arrival Delay (min)')\n",
    "plt.xlabel('Minutes')\n",
    "plt.axvline(df_delay['arrive_delay(min)'].mean(), color='red', linestyle='--', label=f'Mean: {df_delay[\"arrive_delay(min)\"].mean():.2f}')\n",
    "plt.axvline(df_delay['arrive_delay(min)'].median(), color='green', linestyle='-', label=f'Median: {df_delay[\"arrive_delay(min)\"].median():.2f}')\n",
    "plt.axvline(arrival_mode, color='b', linestyle='-', label=f'Mode: {arrival_mode:.2f}')\n",
    "plt.legend()\n",
    "\n",
    "# Departure delay boxplot\n",
    "plt.subplot(1, 2, 2)\n",
    "sns.boxplot(x=df_delay['depart_delay(min)'])\n",
    "plt.title('Boxplot of Departure Delay (min)')\n",
    "plt.xlabel('Minutes')\n",
    "plt.axvline(df_delay['depart_delay(min)'].mean(), color='red', linestyle='--', label=f'Mean: {df_delay[\"depart_delay(min)\"].mean():.2f}')\n",
    "plt.axvline(df_delay['depart_delay(min)'].median(), color='green', linestyle='-', label=f'Median: {df_delay[\"depart_delay(min)\"].median():.2f}')\n",
    "plt.axvline(depart_mode, color='b', linestyle='-', label=f'Mode: {depart_mode:.2f}')\n",
    "plt.legend()\n",
    "\n",
    "plt.tight_layout()\n",
    "plt.show()"
   ]
  },
  {
   "cell_type": "markdown",
   "id": "a056ee9c",
   "metadata": {},
   "source": [
    "Both boxplots show a substantial interquartile range (IQR), indicating a significant spread in the data. The median values for both arrival and departure delays are around 34.5 minutes and 36 minutes, respectively, suggesting that half of the delays are less than these values, while the other half are greater. The mean values for arrival and departure delays are slightly higher than the median values, at 46.9 minutes and 47.41 minutes, respectively. This discrepancy indicates a right-skewed distribution, with a tail extending towards higher delay times. This right-skewed distribution aligns with the histogram analysis, confirming that while most delays are within a reasonable range, there are instances of significantly longer delays."
   ]
  },
  {
   "cell_type": "markdown",
   "id": "b4a3884a",
   "metadata": {},
   "source": [
    "**Relating back to the duration distribution**\n",
    "\n",
    "By comparing these observations with the distribution of trip duration, we can conclude that the UK's rail system experiences a higher frequency of shorter trips and moderate delays, with occasional long durations and severe delays that affect the overall average. This understanding can help in addressing the less frequent but impactful longer trips and delays to improve overall system efficiency."
   ]
  },
  {
   "cell_type": "markdown",
   "id": "5a1ac56b",
   "metadata": {},
   "source": [
    "# Export Desired Dataframe"
   ]
  },
  {
   "cell_type": "code",
   "execution_count": 83,
   "id": "59608c60",
   "metadata": {},
   "outputs": [],
   "source": [
    "output = df_merged.to_csv('./cleaned_data/UK_Rail_Data.csv', index=False, mode = 'w+')"
   ]
  },
  {
   "cell_type": "code",
   "execution_count": 84,
   "id": "4144c79c",
   "metadata": {},
   "outputs": [
    {
     "name": "stdout",
     "output_type": "stream",
     "text": [
      "<class 'pandas.core.frame.DataFrame'>\n",
      "RangeIndex: 419947 entries, 0 to 419946\n",
      "Data columns (total 17 columns):\n",
      " #   Column                  Non-Null Count   Dtype         \n",
      "---  ------                  --------------   -----         \n",
      " 0   route_id                419947 non-null  object        \n",
      " 1   unique_id               419947 non-null  object        \n",
      " 2   service_start_date      419947 non-null  datetime64[ns]\n",
      " 3   train_platform          419947 non-null  object        \n",
      " 4   working_time_arrival    419947 non-null  object        \n",
      " 5   working_time_departure  419947 non-null  object        \n",
      " 6   actual_arrival_time     348607 non-null  object        \n",
      " 7   actual_departure_time   390162 non-null  object        \n",
      " 8   is_delayed_arrival      419947 non-null  bool          \n",
      " 9   is_delayed_departure    419947 non-null  bool          \n",
      " 10  duration (min)          419947 non-null  float64       \n",
      " 11  weekday                 419947 non-null  object        \n",
      " 12  TiplocCode              398115 non-null  object        \n",
      " 13  StationName             419947 non-null  object        \n",
      " 14  Latitude                398115 non-null  float64       \n",
      " 15  Longitude               398115 non-null  float64       \n",
      " 16  delayed                 419947 non-null  int32         \n",
      "dtypes: bool(2), datetime64[ns](1), float64(3), int32(1), object(10)\n",
      "memory usage: 47.3+ MB\n"
     ]
    }
   ],
   "source": [
    "df_merged.info()"
   ]
  },
  {
   "cell_type": "code",
   "execution_count": 85,
   "id": "1acd7ac1",
   "metadata": {},
   "outputs": [
    {
     "data": {
      "text/html": [
       "<div>\n",
       "<style scoped>\n",
       "    .dataframe tbody tr th:only-of-type {\n",
       "        vertical-align: middle;\n",
       "    }\n",
       "\n",
       "    .dataframe tbody tr th {\n",
       "        vertical-align: top;\n",
       "    }\n",
       "\n",
       "    .dataframe thead th {\n",
       "        text-align: right;\n",
       "    }\n",
       "</style>\n",
       "<table border=\"1\" class=\"dataframe\">\n",
       "  <thead>\n",
       "    <tr style=\"text-align: right;\">\n",
       "      <th></th>\n",
       "      <th>service_start_date</th>\n",
       "      <th>duration (min)</th>\n",
       "      <th>Latitude</th>\n",
       "      <th>Longitude</th>\n",
       "      <th>delayed</th>\n",
       "    </tr>\n",
       "  </thead>\n",
       "  <tbody>\n",
       "    <tr>\n",
       "      <th>count</th>\n",
       "      <td>419947</td>\n",
       "      <td>419947.000000</td>\n",
       "      <td>398115.000000</td>\n",
       "      <td>398115.000000</td>\n",
       "      <td>419947.000000</td>\n",
       "    </tr>\n",
       "    <tr>\n",
       "      <th>mean</th>\n",
       "      <td>2024-07-11 00:40:26.294746624</td>\n",
       "      <td>1.511121</td>\n",
       "      <td>52.206166</td>\n",
       "      <td>-1.144927</td>\n",
       "      <td>0.133881</td>\n",
       "    </tr>\n",
       "    <tr>\n",
       "      <th>min</th>\n",
       "      <td>2024-07-03 00:00:00</td>\n",
       "      <td>0.050000</td>\n",
       "      <td>50.121672</td>\n",
       "      <td>-5.839077</td>\n",
       "      <td>0.000000</td>\n",
       "    </tr>\n",
       "    <tr>\n",
       "      <th>25%</th>\n",
       "      <td>2024-07-10 00:00:00</td>\n",
       "      <td>0.500000</td>\n",
       "      <td>51.432454</td>\n",
       "      <td>-2.192670</td>\n",
       "      <td>0.000000</td>\n",
       "    </tr>\n",
       "    <tr>\n",
       "      <th>50%</th>\n",
       "      <td>2024-07-12 00:00:00</td>\n",
       "      <td>1.000000</td>\n",
       "      <td>51.549430</td>\n",
       "      <td>-0.395925</td>\n",
       "      <td>0.000000</td>\n",
       "    </tr>\n",
       "    <tr>\n",
       "      <th>75%</th>\n",
       "      <td>2024-07-13 00:00:00</td>\n",
       "      <td>1.000000</td>\n",
       "      <td>52.920753</td>\n",
       "      <td>-0.092780</td>\n",
       "      <td>0.000000</td>\n",
       "    </tr>\n",
       "    <tr>\n",
       "      <th>max</th>\n",
       "      <td>2024-07-16 00:00:00</td>\n",
       "      <td>247.000000</td>\n",
       "      <td>58.590175</td>\n",
       "      <td>1.715711</td>\n",
       "      <td>1.000000</td>\n",
       "    </tr>\n",
       "    <tr>\n",
       "      <th>std</th>\n",
       "      <td>NaN</td>\n",
       "      <td>3.659972</td>\n",
       "      <td>1.337643</td>\n",
       "      <td>1.429971</td>\n",
       "      <td>0.340525</td>\n",
       "    </tr>\n",
       "  </tbody>\n",
       "</table>\n",
       "</div>"
      ],
      "text/plain": [
       "                  service_start_date  duration (min)       Latitude  \\\n",
       "count                         419947   419947.000000  398115.000000   \n",
       "mean   2024-07-11 00:40:26.294746624        1.511121      52.206166   \n",
       "min              2024-07-03 00:00:00        0.050000      50.121672   \n",
       "25%              2024-07-10 00:00:00        0.500000      51.432454   \n",
       "50%              2024-07-12 00:00:00        1.000000      51.549430   \n",
       "75%              2024-07-13 00:00:00        1.000000      52.920753   \n",
       "max              2024-07-16 00:00:00      247.000000      58.590175   \n",
       "std                              NaN        3.659972       1.337643   \n",
       "\n",
       "           Longitude        delayed  \n",
       "count  398115.000000  419947.000000  \n",
       "mean       -1.144927       0.133881  \n",
       "min        -5.839077       0.000000  \n",
       "25%        -2.192670       0.000000  \n",
       "50%        -0.395925       0.000000  \n",
       "75%        -0.092780       0.000000  \n",
       "max         1.715711       1.000000  \n",
       "std         1.429971       0.340525  "
      ]
     },
     "execution_count": 85,
     "metadata": {},
     "output_type": "execute_result"
    }
   ],
   "source": [
    "df_merged.describe()"
   ]
  }
 ],
 "metadata": {
  "kernelspec": {
   "display_name": "Python 3 (ipykernel)",
   "language": "python",
   "name": "python3"
  },
  "language_info": {
   "codemirror_mode": {
    "name": "ipython",
    "version": 3
   },
   "file_extension": ".py",
   "mimetype": "text/x-python",
   "name": "python",
   "nbconvert_exporter": "python",
   "pygments_lexer": "ipython3",
   "version": "3.11.7"
  }
 },
 "nbformat": 4,
 "nbformat_minor": 5
}
