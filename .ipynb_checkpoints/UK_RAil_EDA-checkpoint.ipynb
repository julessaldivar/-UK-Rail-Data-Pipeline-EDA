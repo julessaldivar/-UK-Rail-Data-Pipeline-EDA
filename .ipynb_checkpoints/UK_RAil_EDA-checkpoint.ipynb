{
 "cells": [
  {
   "cell_type": "markdown",
   "id": "c28980f2",
   "metadata": {},
   "source": [
    "# Ingest and View Data"
   ]
  },
  {
   "cell_type": "code",
   "execution_count": 1,
   "id": "46c3038c",
   "metadata": {},
   "outputs": [],
   "source": [
    "import pandas as pd\n",
    "from sqlalchemy import create_engine"
   ]
  },
  {
   "cell_type": "code",
   "execution_count": 2,
   "id": "20f0fa13",
   "metadata": {},
   "outputs": [],
   "source": [
    "POSTGRES_USERNAME = 'root'\n",
    "POSTGRES_PASSWORD = 'koBREipm4h7CuRKix2Tn'\n",
    "POSTGRES_HOSTNAME = 'database-1.c3ma8u2guxxs.us-east-2.rds.amazonaws.com'\n",
    "POSTGRES_PORT = '5432'\n",
    "POSTGRES_DBNAME = 'postgres'\n",
    "\n",
    "connection_string = f\"postgresql://{POSTGRES_USERNAME}:{POSTGRES_PASSWORD}@{POSTGRES_HOSTNAME}:{POSTGRES_PORT}/{POSTGRES_DBNAME}\"\n",
    "engine = create_engine(connection_string)"
   ]
  },
  {
   "cell_type": "code",
   "execution_count": 3,
   "id": "92c5606d",
   "metadata": {},
   "outputs": [],
   "source": [
    "query = \"\"\"\n",
    "SELECT * FROM darwin\n",
    "\"\"\"\n",
    "\n",
    "df = pd.read_sql(query, engine)"
   ]
  },
  {
   "cell_type": "code",
   "execution_count": 4,
   "id": "93623a2e",
   "metadata": {},
   "outputs": [
    {
     "data": {
      "text/html": [
       "<div>\n",
       "<style scoped>\n",
       "    .dataframe tbody tr th:only-of-type {\n",
       "        vertical-align: middle;\n",
       "    }\n",
       "\n",
       "    .dataframe tbody tr th {\n",
       "        vertical-align: top;\n",
       "    }\n",
       "\n",
       "    .dataframe thead th {\n",
       "        text-align: right;\n",
       "    }\n",
       "</style>\n",
       "<table border=\"1\" class=\"dataframe\">\n",
       "  <thead>\n",
       "    <tr style=\"text-align: right;\">\n",
       "      <th></th>\n",
       "      <th>route_id</th>\n",
       "      <th>unique_id</th>\n",
       "      <th>service_start_date</th>\n",
       "      <th>update_origin</th>\n",
       "      <th>train_platform</th>\n",
       "      <th>working_time_pass</th>\n",
       "      <th>working_time_arrival</th>\n",
       "      <th>working_time_departure</th>\n",
       "      <th>planned_time_arrival</th>\n",
       "      <th>planned_time_departure</th>\n",
       "      <th>...</th>\n",
       "      <th>platform</th>\n",
       "      <th>train_length</th>\n",
       "      <th>estimated_time</th>\n",
       "      <th>source</th>\n",
       "      <th>actual_time</th>\n",
       "      <th>actual_time_class</th>\n",
       "      <th>is_delayed_arrival</th>\n",
       "      <th>is_delayed_departure</th>\n",
       "      <th>source_instance</th>\n",
       "      <th>estimated_time_minutes</th>\n",
       "    </tr>\n",
       "  </thead>\n",
       "  <tbody>\n",
       "    <tr>\n",
       "      <th>0</th>\n",
       "      <td>202407037139232</td>\n",
       "      <td>G39232</td>\n",
       "      <td>2024-07-03</td>\n",
       "      <td>TD</td>\n",
       "      <td>SCROYDN</td>\n",
       "      <td>None</td>\n",
       "      <td>19:31:00</td>\n",
       "      <td>19:31:30</td>\n",
       "      <td>19:31:00</td>\n",
       "      <td>19:31:00</td>\n",
       "      <td>...</td>\n",
       "      <td>4</td>\n",
       "      <td>10.0</td>\n",
       "      <td>None</td>\n",
       "      <td>None</td>\n",
       "      <td>None</td>\n",
       "      <td>None</td>\n",
       "      <td>False</td>\n",
       "      <td>False</td>\n",
       "      <td>None</td>\n",
       "      <td>None</td>\n",
       "    </tr>\n",
       "    <tr>\n",
       "      <th>1</th>\n",
       "      <td>202407036785172</td>\n",
       "      <td>C85172</td>\n",
       "      <td>2024-07-03</td>\n",
       "      <td>CIS</td>\n",
       "      <td>LIVSTLL</td>\n",
       "      <td>None</td>\n",
       "      <td>19:37:00</td>\n",
       "      <td>19:38:00</td>\n",
       "      <td>19:37:00</td>\n",
       "      <td>19:38:00</td>\n",
       "      <td>...</td>\n",
       "      <td>A</td>\n",
       "      <td>NaN</td>\n",
       "      <td>None</td>\n",
       "      <td>None</td>\n",
       "      <td>None</td>\n",
       "      <td>None</td>\n",
       "      <td>False</td>\n",
       "      <td>False</td>\n",
       "      <td>None</td>\n",
       "      <td>None</td>\n",
       "    </tr>\n",
       "    <tr>\n",
       "      <th>2</th>\n",
       "      <td>202407036735756</td>\n",
       "      <td>C35756</td>\n",
       "      <td>2024-07-03</td>\n",
       "      <td>TD</td>\n",
       "      <td>ESTHRAK</td>\n",
       "      <td>None</td>\n",
       "      <td>19:30:30</td>\n",
       "      <td>19:31:00</td>\n",
       "      <td>19:31:00</td>\n",
       "      <td>19:31:00</td>\n",
       "      <td>...</td>\n",
       "      <td>2</td>\n",
       "      <td>NaN</td>\n",
       "      <td>None</td>\n",
       "      <td>None</td>\n",
       "      <td>None</td>\n",
       "      <td>None</td>\n",
       "      <td>False</td>\n",
       "      <td>False</td>\n",
       "      <td>None</td>\n",
       "      <td>None</td>\n",
       "    </tr>\n",
       "    <tr>\n",
       "      <th>3</th>\n",
       "      <td>202407036735756</td>\n",
       "      <td>C35756</td>\n",
       "      <td>2024-07-03</td>\n",
       "      <td>TD</td>\n",
       "      <td>BRMB</td>\n",
       "      <td>None</td>\n",
       "      <td>19:33:00</td>\n",
       "      <td>19:33:30</td>\n",
       "      <td>19:33:00</td>\n",
       "      <td>19:33:00</td>\n",
       "      <td>...</td>\n",
       "      <td>1</td>\n",
       "      <td>NaN</td>\n",
       "      <td>None</td>\n",
       "      <td>None</td>\n",
       "      <td>None</td>\n",
       "      <td>None</td>\n",
       "      <td>False</td>\n",
       "      <td>False</td>\n",
       "      <td>None</td>\n",
       "      <td>None</td>\n",
       "    </tr>\n",
       "    <tr>\n",
       "      <th>4</th>\n",
       "      <td>202407036735756</td>\n",
       "      <td>C35756</td>\n",
       "      <td>2024-07-03</td>\n",
       "      <td>TD</td>\n",
       "      <td>BRMBRK</td>\n",
       "      <td>None</td>\n",
       "      <td>19:35:00</td>\n",
       "      <td>19:35:30</td>\n",
       "      <td>19:35:00</td>\n",
       "      <td>19:35:00</td>\n",
       "      <td>...</td>\n",
       "      <td>2</td>\n",
       "      <td>NaN</td>\n",
       "      <td>None</td>\n",
       "      <td>None</td>\n",
       "      <td>None</td>\n",
       "      <td>None</td>\n",
       "      <td>False</td>\n",
       "      <td>False</td>\n",
       "      <td>None</td>\n",
       "      <td>None</td>\n",
       "    </tr>\n",
       "  </tbody>\n",
       "</table>\n",
       "<p>5 rows × 22 columns</p>\n",
       "</div>"
      ],
      "text/plain": [
       "          route_id unique_id service_start_date update_origin train_platform  \\\n",
       "0  202407037139232    G39232         2024-07-03            TD        SCROYDN   \n",
       "1  202407036785172    C85172         2024-07-03           CIS        LIVSTLL   \n",
       "2  202407036735756    C35756         2024-07-03            TD        ESTHRAK   \n",
       "3  202407036735756    C35756         2024-07-03            TD           BRMB   \n",
       "4  202407036735756    C35756         2024-07-03            TD         BRMBRK   \n",
       "\n",
       "  working_time_pass working_time_arrival working_time_departure  \\\n",
       "0              None             19:31:00               19:31:30   \n",
       "1              None             19:37:00               19:38:00   \n",
       "2              None             19:30:30               19:31:00   \n",
       "3              None             19:33:00               19:33:30   \n",
       "4              None             19:35:00               19:35:30   \n",
       "\n",
       "  planned_time_arrival planned_time_departure  ... platform train_length  \\\n",
       "0             19:31:00               19:31:00  ...        4         10.0   \n",
       "1             19:37:00               19:38:00  ...        A          NaN   \n",
       "2             19:31:00               19:31:00  ...        2          NaN   \n",
       "3             19:33:00               19:33:00  ...        1          NaN   \n",
       "4             19:35:00               19:35:00  ...        2          NaN   \n",
       "\n",
       "  estimated_time  source actual_time actual_time_class is_delayed_arrival  \\\n",
       "0           None    None        None              None              False   \n",
       "1           None    None        None              None              False   \n",
       "2           None    None        None              None              False   \n",
       "3           None    None        None              None              False   \n",
       "4           None    None        None              None              False   \n",
       "\n",
       "  is_delayed_departure  source_instance  estimated_time_minutes  \n",
       "0                False             None                    None  \n",
       "1                False             None                    None  \n",
       "2                False             None                    None  \n",
       "3                False             None                    None  \n",
       "4                False             None                    None  \n",
       "\n",
       "[5 rows x 22 columns]"
      ]
     },
     "execution_count": 4,
     "metadata": {},
     "output_type": "execute_result"
    }
   ],
   "source": [
    "df.head()"
   ]
  },
  {
   "cell_type": "code",
   "execution_count": 5,
   "id": "7b2d44a6",
   "metadata": {},
   "outputs": [
    {
     "name": "stdout",
     "output_type": "stream",
     "text": [
      "<class 'pandas.core.frame.DataFrame'>\n",
      "RangeIndex: 272501 entries, 0 to 272500\n",
      "Data columns (total 22 columns):\n",
      " #   Column                  Non-Null Count   Dtype  \n",
      "---  ------                  --------------   -----  \n",
      " 0   route_id                272501 non-null  object \n",
      " 1   unique_id               272501 non-null  object \n",
      " 2   service_start_date      272501 non-null  object \n",
      " 3   update_origin           265793 non-null  object \n",
      " 4   train_platform          272501 non-null  object \n",
      " 5   working_time_pass       0 non-null       object \n",
      " 6   working_time_arrival    272501 non-null  object \n",
      " 7   working_time_departure  272501 non-null  object \n",
      " 8   planned_time_arrival    249108 non-null  object \n",
      " 9   planned_time_departure  248189 non-null  object \n",
      " 10  actual_arrival_time     229709 non-null  object \n",
      " 11  actual_departure_time   255085 non-null  object \n",
      " 12  platform                254947 non-null  object \n",
      " 13  train_length            91054 non-null   float64\n",
      " 14  estimated_time          0 non-null       object \n",
      " 15  source                  0 non-null       object \n",
      " 16  actual_time             0 non-null       object \n",
      " 17  actual_time_class       0 non-null       object \n",
      " 18  is_delayed_arrival      272501 non-null  bool   \n",
      " 19  is_delayed_departure    272501 non-null  bool   \n",
      " 20  source_instance         0 non-null       object \n",
      " 21  estimated_time_minutes  0 non-null       object \n",
      "dtypes: bool(2), float64(1), object(19)\n",
      "memory usage: 42.1+ MB\n"
     ]
    }
   ],
   "source": [
    "df.info()"
   ]
  },
  {
   "cell_type": "markdown",
   "id": "9b6b3ae2",
   "metadata": {},
   "source": [
    "# Clean DF \n",
    "**Drop Null Columns and Unnecessary Columns**"
   ]
  },
  {
   "cell_type": "code",
   "execution_count": 6,
   "id": "bf90ce75",
   "metadata": {},
   "outputs": [],
   "source": [
    "# columns to drop due to null values\n",
    "columns_to_drop = [\n",
    "    'working_time_pass',\n",
    "    'estimated_time',\n",
    "    'source',\n",
    "    'actual_time',\n",
    "    'actual_time_class',\n",
    "    'source_instance',\n",
    "    'estimated_time_minutes',\n",
    "    'train_length'            \n",
    "]\n",
    "\n",
    "df_cleaned = df.drop(columns=columns_to_drop)"
   ]
  },
  {
   "cell_type": "code",
   "execution_count": 7,
   "id": "dd274c9a",
   "metadata": {},
   "outputs": [
    {
     "data": {
      "text/plain": [
       "8706"
      ]
     },
     "execution_count": 7,
     "metadata": {},
     "output_type": "execute_result"
    }
   ],
   "source": [
    "# check duplicates\n",
    "duplicates = df_cleaned.duplicated().sum()\n",
    "duplicates"
   ]
  },
  {
   "cell_type": "code",
   "execution_count": 8,
   "id": "efb2d830",
   "metadata": {},
   "outputs": [],
   "source": [
    "# to drop duplicates\n",
    "df_cleaned = df_cleaned.drop_duplicates()"
   ]
  },
  {
   "cell_type": "code",
   "execution_count": 9,
   "id": "a1f48b8c",
   "metadata": {},
   "outputs": [
    {
     "data": {
      "text/plain": [
       "route_id                      0\n",
       "unique_id                     0\n",
       "service_start_date            0\n",
       "update_origin              5950\n",
       "train_platform                0\n",
       "working_time_arrival          0\n",
       "working_time_departure        0\n",
       "planned_time_arrival      23230\n",
       "planned_time_departure    23933\n",
       "actual_arrival_time       42710\n",
       "actual_departure_time     17171\n",
       "platform                  17165\n",
       "is_delayed_arrival            0\n",
       "is_delayed_departure          0\n",
       "dtype: int64"
      ]
     },
     "execution_count": 9,
     "metadata": {},
     "output_type": "execute_result"
    }
   ],
   "source": [
    "# check nulls\n",
    "df_cleaned.isna().sum()"
   ]
  },
  {
   "cell_type": "code",
   "execution_count": 10,
   "id": "a13284fe",
   "metadata": {},
   "outputs": [],
   "source": [
    "# to drop remaining nulls\n",
    "# df_cleaned = df_cleaned.dropna()"
   ]
  },
  {
   "cell_type": "markdown",
   "id": "8ddefcaf",
   "metadata": {},
   "source": [
    "# Create Delay DF"
   ]
  },
  {
   "cell_type": "code",
   "execution_count": 11,
   "id": "99802c8e",
   "metadata": {},
   "outputs": [],
   "source": [
    "query_delay = \"SELECT * FROM darwin WHERE is_delayed_arrival = True AND is_delayed_departure = True\"\n",
    "df_delay = pd.read_sql(query_delay, engine)"
   ]
  },
  {
   "cell_type": "code",
   "execution_count": 12,
   "id": "d1586148",
   "metadata": {},
   "outputs": [],
   "source": [
    "df_delay = df_delay.drop(columns=columns_to_drop)"
   ]
  },
  {
   "cell_type": "code",
   "execution_count": 13,
   "id": "64a09e93",
   "metadata": {},
   "outputs": [
    {
     "name": "stdout",
     "output_type": "stream",
     "text": [
      "<class 'pandas.core.frame.DataFrame'>\n",
      "RangeIndex: 29866 entries, 0 to 29865\n",
      "Data columns (total 14 columns):\n",
      " #   Column                  Non-Null Count  Dtype \n",
      "---  ------                  --------------  ----- \n",
      " 0   route_id                29866 non-null  object\n",
      " 1   unique_id               29866 non-null  object\n",
      " 2   service_start_date      29866 non-null  object\n",
      " 3   update_origin           29856 non-null  object\n",
      " 4   train_platform          29866 non-null  object\n",
      " 5   working_time_arrival    29866 non-null  object\n",
      " 6   working_time_departure  29866 non-null  object\n",
      " 7   planned_time_arrival    15182 non-null  object\n",
      " 8   planned_time_departure  15126 non-null  object\n",
      " 9   actual_arrival_time     29845 non-null  object\n",
      " 10  actual_departure_time   29789 non-null  object\n",
      " 11  platform                21509 non-null  object\n",
      " 12  is_delayed_arrival      29866 non-null  bool  \n",
      " 13  is_delayed_departure    29866 non-null  bool  \n",
      "dtypes: bool(2), object(12)\n",
      "memory usage: 2.8+ MB\n"
     ]
    }
   ],
   "source": [
    "df_delay.info()"
   ]
  },
  {
   "cell_type": "code",
   "execution_count": 14,
   "id": "375babaa",
   "metadata": {},
   "outputs": [
    {
     "data": {
      "text/plain": [
       "124"
      ]
     },
     "execution_count": 14,
     "metadata": {},
     "output_type": "execute_result"
    }
   ],
   "source": [
    "df_delay.duplicated().sum()"
   ]
  },
  {
   "cell_type": "markdown",
   "id": "d14f58be",
   "metadata": {},
   "source": [
    "# Adding Duration Column\n",
    "Convert times from object datatypes to time datatypes."
   ]
  },
  {
   "cell_type": "code",
   "execution_count": 15,
   "id": "3d8280cf",
   "metadata": {},
   "outputs": [],
   "source": [
    "df_cleaned['working_time_arrival'] = pd.to_datetime(df_cleaned['working_time_arrival'], format='%H:%M:%S')\n",
    "df_cleaned['working_time_departure'] = pd.to_datetime(df_cleaned['working_time_departure'], format='%H:%M:%S')"
   ]
  },
  {
   "cell_type": "markdown",
   "id": "ba2ec2df",
   "metadata": {},
   "source": [
    "Complete math to find duration."
   ]
  },
  {
   "cell_type": "code",
   "execution_count": 16,
   "id": "5fbe480c",
   "metadata": {},
   "outputs": [],
   "source": [
    "df_cleaned['duration (min)'] = ((df_cleaned['working_time_departure']-df_cleaned['working_time_arrival'])\\\n",
    "                                .dt.total_seconds()/60)"
   ]
  },
  {
   "cell_type": "markdown",
   "id": "a47503b6",
   "metadata": {},
   "source": [
    "Transition back to time only."
   ]
  },
  {
   "cell_type": "code",
   "execution_count": 17,
   "id": "fe337fa4",
   "metadata": {},
   "outputs": [],
   "source": [
    "df_cleaned['working_time_arrival'] = df_cleaned['working_time_arrival'].dt.time\n",
    "df_cleaned['working_time_departure'] = df_cleaned['working_time_departure'].dt.time"
   ]
  },
  {
   "cell_type": "markdown",
   "id": "2e24a1d7",
   "metadata": {},
   "source": [
    "Repeat for Delay Dataframe."
   ]
  },
  {
   "cell_type": "code",
   "execution_count": 18,
   "id": "2b9cd7e7",
   "metadata": {},
   "outputs": [],
   "source": [
    "df_delay['working_time_arrival'] = pd.to_datetime(df_delay['working_time_arrival'], format='%H:%M:%S')\n",
    "df_delay['working_time_departure'] = pd.to_datetime(df_delay['working_time_departure'], format='%H:%M:%S')\n",
    "df_delay['duration (min)'] = ((df_delay['working_time_departure']-df_delay['working_time_arrival'])\\\n",
    "                                .dt.total_seconds()/60)\n",
    "df_delay['working_time_arrival'] = df_delay['working_time_arrival'].dt.time\n",
    "df_delay['working_time_departure'] = df_delay['working_time_departure'].dt.time"
   ]
  },
  {
   "cell_type": "code",
   "execution_count": 19,
   "id": "90b58b30",
   "metadata": {},
   "outputs": [
    {
     "name": "stdout",
     "output_type": "stream",
     "text": [
      "duration (min)\n",
      "-1438.5       8\n",
      "-1438.0      13\n",
      "-1437.5       7\n",
      "-1437.0      21\n",
      "-1436.0      47\n",
      "-1435.0      16\n",
      "-1434.5       1\n",
      "-1434.0      20\n",
      "-1433.0       9\n",
      "-1432.0      17\n",
      "-1431.0       7\n",
      "-1430.0      47\n",
      "-1429.5       2\n",
      "-1429.0       1\n",
      "-1427.0       5\n",
      "-1426.0       1\n",
      "-1420.0       3\n",
      "-1419.0       8\n",
      "-1418.0       3\n",
      "-1406.5       1\n",
      "-1401.0      13\n",
      "-1395.0       8\n",
      "-1313.5       6\n",
      "-1310.5       1\n",
      "-1272.5       2\n",
      " 0.0       3878\n",
      "Name: count, dtype: int64\n"
     ]
    }
   ],
   "source": [
    "# Check for zero and negative values\n",
    "neg_zero_duration_counts = df_cleaned[df_cleaned['duration (min)'] <= 0]['duration (min)'].value_counts().sort_index(ascending=True)\n",
    "\n",
    "# Display the result\n",
    "print(neg_zero_duration_counts)"
   ]
  },
  {
   "cell_type": "code",
   "execution_count": 20,
   "id": "d350ebb3",
   "metadata": {},
   "outputs": [],
   "source": [
    "# Drop the rows with negative values in duration\n",
    "df_cleaned = df_cleaned[df_cleaned['duration (min)'] > 0]"
   ]
  },
  {
   "cell_type": "code",
   "execution_count": 21,
   "id": "e6807cd2",
   "metadata": {},
   "outputs": [
    {
     "name": "stdout",
     "output_type": "stream",
     "text": [
      "Series([], Name: count, dtype: int64)\n"
     ]
    }
   ],
   "source": [
    "# Check\n",
    "neg_zero_duration_counts = df_cleaned[df_cleaned['duration (min)'] <= 0]['duration (min)'].value_counts().sort_index(ascending=True)\n",
    "\n",
    "# Display the result\n",
    "print(neg_zero_duration_counts)"
   ]
  },
  {
   "cell_type": "code",
   "execution_count": 22,
<<<<<<< HEAD
   "id": "11ab02c9",
=======
   "id": "83d4523d",
>>>>>>> fbbdb06dc813e5d5a27a86871d01f103a51f9ca6
   "metadata": {},
   "outputs": [],
   "source": [
    "# Repeating Drop for delay_df to remove negative values in duration\n",
    "\n",
    "df_delay = df_delay[df_delay['duration (min)'] > 0]"
   ]
  },
  {
   "cell_type": "markdown",
   "id": "6835240e",
   "metadata": {},
   "source": [
    "## Adding a Day of the Week Column"
   ]
  },
  {
   "cell_type": "code",
   "execution_count": 23,
   "id": "e0439c8c",
   "metadata": {},
   "outputs": [],
   "source": [
    "df_cleaned['service_start_date'] = pd.to_datetime(df_cleaned['service_start_date'])\n",
    "df_cleaned['weekday'] = df_cleaned['service_start_date'].dt.day_name()"
   ]
  },
  {
   "cell_type": "code",
   "execution_count": 24,
   "id": "57d5fe79",
   "metadata": {},
   "outputs": [
    {
     "data": {
      "image/png": "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",
      "text/plain": [
       "<Figure size 1000x600 with 1 Axes>"
      ]
     },
     "metadata": {},
     "output_type": "display_data"
    }
   ],
   "source": [
    "import matplotlib.pyplot as plt\n",
    "import seaborn as sns\n",
    "# Top 10 most frequently visited stations\n",
    "weekday_dist = df_cleaned['weekday'].value_counts()\n",
    "plt.figure(figsize=(10, 6))\n",
    "sns.barplot(x=weekday_dist.index, y=weekday_dist.values)\n",
    "plt.title('Weekday Distribution')\n",
    "plt.xlabel('Weekday')\n",
    "plt.ylabel('Number of Data Points')\n",
    "plt.xticks(rotation=90)\n",
    "plt.show()"
   ]
  },
  {
   "cell_type": "markdown",
   "id": "ebe271e4",
   "metadata": {},
   "source": [
    "Keeping an eye on this distribtuion to try and keep data even across each weekday."
   ]
  },
  {
   "cell_type": "code",
   "execution_count": 25,
   "id": "a9ff6fab",
   "metadata": {},
   "outputs": [],
   "source": [
    "df_delay['service_start_date'] = pd.to_datetime(df_delay['service_start_date'])\n",
    "df_delay['weekday'] = df_delay['service_start_date'].dt.day_name()"
   ]
  },
  {
   "cell_type": "markdown",
   "id": "8475a4e6",
   "metadata": {},
   "source": [
    "# Ingest Rail References Data"
   ]
  },
  {
   "cell_type": "code",
   "execution_count": 26,
   "id": "690fe18d",
   "metadata": {},
   "outputs": [],
   "source": [
    "reference_df = pd.read_csv('./raw_data/RailReferences.csv')"
   ]
  },
  {
   "cell_type": "markdown",
   "id": "30a8c505",
   "metadata": {},
   "source": [
    "## Convert Easting, Northing to Latitude and Longitude"
   ]
  },
  {
   "cell_type": "code",
   "execution_count": 27,
   "id": "e763a765",
   "metadata": {},
   "outputs": [
    {
     "name": "stdout",
     "output_type": "stream",
     "text": [
      "Requirement already satisfied: pyproj in c:\\users\\audre\\anaconda3\\lib\\site-packages (3.6.1)\n",
      "Requirement already satisfied: certifi in c:\\users\\audre\\anaconda3\\lib\\site-packages (from pyproj) (2024.2.2)\n"
     ]
    }
   ],
   "source": [
    "!pip install pyproj"
   ]
  },
  {
   "cell_type": "code",
   "execution_count": 28,
   "id": "73c6b1f8",
   "metadata": {},
   "outputs": [],
   "source": [
    "from pyproj import Transformer"
   ]
  },
  {
   "cell_type": "code",
   "execution_count": 29,
   "id": "d977b90e",
   "metadata": {},
   "outputs": [],
   "source": [
    "#  Define the British National Grid projection (EPSG:27700) and WGS84\n",
    "osgb_projection = 'epsg:27700'  # British National Grid\n",
    "wgs84_projection = 'epsg:4326'  # WGS84"
   ]
  },
  {
   "cell_type": "code",
   "execution_count": 30,
   "id": "04ae889d",
   "metadata": {},
   "outputs": [],
   "source": [
    "# Initialize the transformer\n",
    "transformer = Transformer.from_crs(osgb_projection, wgs84_projection)"
   ]
  },
  {
   "cell_type": "code",
   "execution_count": 31,
   "id": "e25e1eee",
   "metadata": {},
   "outputs": [],
   "source": [
    "# Function to convert British National Grid to latitude and longitude\n",
    "def convert_osgb_to_latlong(easting, northing):\n",
    "    longitude, latitude = transformer.transform(easting, northing)\n",
    "    return longitude, latitude"
   ]
  },
  {
   "cell_type": "code",
   "execution_count": 32,
   "id": "8c199522",
   "metadata": {},
   "outputs": [],
   "source": [
    "# Apply conversion to the DataFrame and create new columns Latitude and Longitude\n",
    "reference_df[['Latitude', 'Longitude']] = reference_df.apply(lambda row: convert_osgb_to_latlong(row['Easting'], row['Northing']),\\\n",
    "                                         axis=1,\\\n",
    "                                         result_type='expand')"
   ]
  },
  {
   "cell_type": "code",
   "execution_count": 33,
   "id": "4c2d5008",
   "metadata": {},
   "outputs": [
    {
     "data": {
      "text/html": [
       "<div>\n",
       "<style scoped>\n",
       "    .dataframe tbody tr th:only-of-type {\n",
       "        vertical-align: middle;\n",
       "    }\n",
       "\n",
       "    .dataframe tbody tr th {\n",
       "        vertical-align: top;\n",
       "    }\n",
       "\n",
       "    .dataframe thead th {\n",
       "        text-align: right;\n",
       "    }\n",
       "</style>\n",
       "<table border=\"1\" class=\"dataframe\">\n",
       "  <thead>\n",
       "    <tr style=\"text-align: right;\">\n",
       "      <th></th>\n",
       "      <th>TiplocCode</th>\n",
       "      <th>StationName</th>\n",
       "      <th>Latitude</th>\n",
       "      <th>Longitude</th>\n",
       "    </tr>\n",
       "  </thead>\n",
       "  <tbody>\n",
       "    <tr>\n",
       "      <th>0</th>\n",
       "      <td>PENZNCE</td>\n",
       "      <td>Penzance Rail Station</td>\n",
       "      <td>50.121672</td>\n",
       "      <td>-5.532565</td>\n",
       "    </tr>\n",
       "    <tr>\n",
       "      <th>1</th>\n",
       "      <td>STIVES</td>\n",
       "      <td>St Ives (Cornwall) Rail Station</td>\n",
       "      <td>50.209043</td>\n",
       "      <td>-5.477912</td>\n",
       "    </tr>\n",
       "    <tr>\n",
       "      <th>2</th>\n",
       "      <td>CARBISB</td>\n",
       "      <td>Carbis Bay Rail Station</td>\n",
       "      <td>50.197048</td>\n",
       "      <td>-5.463263</td>\n",
       "    </tr>\n",
       "    <tr>\n",
       "      <th>3</th>\n",
       "      <td>STERTH</td>\n",
       "      <td>St Erth Rail Station</td>\n",
       "      <td>50.170489</td>\n",
       "      <td>-5.444252</td>\n",
       "    </tr>\n",
       "    <tr>\n",
       "      <th>4</th>\n",
       "      <td>LELANTS</td>\n",
       "      <td>Lelant Saltings Rail Station</td>\n",
       "      <td>50.178775</td>\n",
       "      <td>-5.440926</td>\n",
       "    </tr>\n",
       "    <tr>\n",
       "      <th>...</th>\n",
       "      <td>...</td>\n",
       "      <td>...</td>\n",
       "      <td>...</td>\n",
       "      <td>...</td>\n",
       "    </tr>\n",
       "    <tr>\n",
       "      <th>2623</th>\n",
       "      <td>SMRLYTN</td>\n",
       "      <td>Somerleyton Rail Station</td>\n",
       "      <td>52.510229</td>\n",
       "      <td>1.652260</td>\n",
       "    </tr>\n",
       "    <tr>\n",
       "      <th>2624</th>\n",
       "      <td>OULTNBS</td>\n",
       "      <td>Oulton Broad South Rail Station</td>\n",
       "      <td>52.469602</td>\n",
       "      <td>1.707659</td>\n",
       "    </tr>\n",
       "    <tr>\n",
       "      <th>2625</th>\n",
       "      <td>YARMTH</td>\n",
       "      <td>Great Yarmouth Rail Station</td>\n",
       "      <td>52.612158</td>\n",
       "      <td>1.720886</td>\n",
       "    </tr>\n",
       "    <tr>\n",
       "      <th>2626</th>\n",
       "      <td>OULTNBN</td>\n",
       "      <td>Oulton Broad North Rail Station</td>\n",
       "      <td>52.477759</td>\n",
       "      <td>1.715711</td>\n",
       "    </tr>\n",
       "    <tr>\n",
       "      <th>2627</th>\n",
       "      <td>LOWSTFT</td>\n",
       "      <td>Lowestoft Rail Station</td>\n",
       "      <td>52.474436</td>\n",
       "      <td>1.749708</td>\n",
       "    </tr>\n",
       "  </tbody>\n",
       "</table>\n",
       "<p>2628 rows × 4 columns</p>\n",
       "</div>"
      ],
      "text/plain": [
       "     TiplocCode                      StationName   Latitude  Longitude\n",
       "0       PENZNCE            Penzance Rail Station  50.121672  -5.532565\n",
       "1        STIVES  St Ives (Cornwall) Rail Station  50.209043  -5.477912\n",
       "2       CARBISB          Carbis Bay Rail Station  50.197048  -5.463263\n",
       "3        STERTH             St Erth Rail Station  50.170489  -5.444252\n",
       "4       LELANTS     Lelant Saltings Rail Station  50.178775  -5.440926\n",
       "...         ...                              ...        ...        ...\n",
       "2623    SMRLYTN         Somerleyton Rail Station  52.510229   1.652260\n",
       "2624    OULTNBS  Oulton Broad South Rail Station  52.469602   1.707659\n",
       "2625     YARMTH      Great Yarmouth Rail Station  52.612158   1.720886\n",
       "2626    OULTNBN  Oulton Broad North Rail Station  52.477759   1.715711\n",
       "2627    LOWSTFT           Lowestoft Rail Station  52.474436   1.749708\n",
       "\n",
       "[2628 rows x 4 columns]"
      ]
     },
     "execution_count": 33,
     "metadata": {},
     "output_type": "execute_result"
    }
   ],
   "source": [
    "# Data need for analysis \n",
    "data = reference_df[['TiplocCode', 'StationName', 'Latitude', 'Longitude']]\n",
    "data"
   ]
  },
  {
   "cell_type": "markdown",
   "id": "35d54f49",
   "metadata": {},
   "source": [
    "### Data Enrichment\n",
    "Used this section to add identifying information for top Timing Point Locations (*TiplocCode*) not already identified in the supplied \"RailReferences.csv\" data. "
   ]
  },
  {
   "cell_type": "markdown",
   "id": "e390b53c",
   "metadata": {},
   "source": [
    "Research indicates that the Timing Point Location for BONDST, correlates to Bond Street Station$^{1}$ located at 51.514°N, 0.15°W$^{2}$. "
   ]
  },
  {
   "cell_type": "code",
   "execution_count": 34,
   "id": "d8430988",
   "metadata": {},
   "outputs": [],
   "source": [
    "new_row = pd.DataFrame([['BONDST', 'Bond Street Station', 51.514, -0.15]], columns=data.columns)\n",
    "data = pd.concat([data, new_row], ignore_index=True)"
   ]
  },
  {
   "cell_type": "markdown",
   "id": "23d03be2",
   "metadata": {},
   "source": [
    "Research indicates that the Timing Point Location for TOTCTRD, correlates to Tottenham Court Road$^{1}$ located at 51.5207°N, 0.1345°W$^{3}$. "
   ]
  },
  {
   "cell_type": "code",
   "execution_count": 35,
   "id": "6d2bdeb8",
   "metadata": {},
   "outputs": [],
   "source": [
    "new_row = pd.DataFrame([['TOTCTRD', 'Tottenham Court Road', 51.5207, -0.1345]], columns=data.columns)\n",
    "data = pd.concat([data, new_row], ignore_index=True)"
   ]
  },
  {
   "cell_type": "markdown",
   "id": "806afc4e",
   "metadata": {},
   "source": [
    "Research indicates that the Timing Point Location for CANWHRF, correlates to Canary Wharf Railway Station$^{1}$ located at 51.5061°N, 0.01578°W$^{4}$. "
   ]
  },
  {
   "cell_type": "code",
   "execution_count": 36,
   "id": "2763d27c",
   "metadata": {},
   "outputs": [],
   "source": [
    "new_row = pd.DataFrame([['CANWHRF', 'Canary Wharf Railway Station', 51.5061, -0.01578]], columns=data.columns)\n",
    "data = pd.concat([data, new_row], ignore_index=True)"
   ]
  },
  {
   "cell_type": "markdown",
   "id": "e5e94c0e",
   "metadata": {},
   "source": [
    "Research indicates that the Timing Point Location for WCHAPXR, correlates to Whitechapel Crossrail$^{1}$ located at 51.5195°N, 0.0612°W$^{5, 6}$. "
   ]
  },
  {
   "cell_type": "code",
   "execution_count": 37,
   "id": "8dd2e2b2",
   "metadata": {},
   "outputs": [],
   "source": [
    "new_row = pd.DataFrame([['WCHAPXR', 'Whitechapel Crossrail', 51.9195, -0.0612]], columns=data.columns)\n",
    "data = pd.concat([data, new_row], ignore_index=True)"
   ]
  },
  {
   "cell_type": "markdown",
   "id": "1dc21909",
   "metadata": {},
   "source": [
    "Research indicates that the Timing Point Location for LIVSTLL, correlates to London Liverpool Street Crossrail$^{1}$ located at 51.5186°N, 0.0813°W$^{6, 7}$. "
   ]
  },
  {
   "cell_type": "code",
   "execution_count": 38,
   "id": "eb8a1a10",
   "metadata": {},
   "outputs": [],
   "source": [
    "new_row = pd.DataFrame([['LIVSTLL', 'London Liverpool Street Crossrail', 51.5186, -0.0813]], columns=data.columns)\n",
    "data = pd.concat([data, new_row], ignore_index=True)"
   ]
  },
  {
   "cell_type": "markdown",
   "id": "454c1792",
   "metadata": {},
   "source": [
    "### Bibliography"
   ]
  },
  {
   "cell_type": "markdown",
   "id": "c1672783",
   "metadata": {},
   "source": [
    "1. http://www.railwaycodes.org.uk/crs/crsb.shtm\n",
    "\n",
    "2. https://en.wikipedia.org/wiki/Bond_Street_station\n",
    "\n",
    "3. https://en.wikipedia.org/wiki/Tottenham_Court_Road\n",
    "\n",
    "4. https://en.wikipedia.org/wiki/Canary_Wharf_railway_station\n",
    "\n",
    "5. https://en.wikipedia.org/wiki/Whitechapel_station\n",
    "\n",
    "6. https://en.wikipedia.org/wiki/Crossrail\n",
    "\n",
    "7. https://en.wikipedia.org/wiki/Liverpool_Street_station"
   ]
  },
  {
   "cell_type": "markdown",
   "id": "f09df714",
   "metadata": {},
   "source": [
    "## Using Rail References to Replace Train Platform with Station Name"
   ]
  },
  {
   "cell_type": "code",
   "execution_count": 39,
   "id": "6f5c7fad",
   "metadata": {},
   "outputs": [],
   "source": [
    "# Merge df_cleaned with data columns from reference_df\n",
    "\n",
    "df_merged = df_cleaned.merge(data, left_on='train_platform', right_on='TiplocCode', how='left')"
   ]
  },
  {
   "cell_type": "code",
   "execution_count": 40,
   "id": "091f5b57",
   "metadata": {},
   "outputs": [
    {
     "data": {
      "text/html": [
       "<div>\n",
       "<style scoped>\n",
       "    .dataframe tbody tr th:only-of-type {\n",
       "        vertical-align: middle;\n",
       "    }\n",
       "\n",
       "    .dataframe tbody tr th {\n",
       "        vertical-align: top;\n",
       "    }\n",
       "\n",
       "    .dataframe thead th {\n",
       "        text-align: right;\n",
       "    }\n",
       "</style>\n",
       "<table border=\"1\" class=\"dataframe\">\n",
       "  <thead>\n",
       "    <tr style=\"text-align: right;\">\n",
       "      <th></th>\n",
       "      <th>train_platform</th>\n",
       "      <th>TiplocCode</th>\n",
       "      <th>StationName</th>\n",
       "    </tr>\n",
       "  </thead>\n",
       "  <tbody>\n",
       "    <tr>\n",
       "      <th>16</th>\n",
       "      <td>WOLWXR</td>\n",
       "      <td>NaN</td>\n",
       "      <td>NaN</td>\n",
       "    </tr>\n",
       "    <tr>\n",
       "      <th>23</th>\n",
       "      <td>FRMPKRS</td>\n",
       "      <td>NaN</td>\n",
       "      <td>NaN</td>\n",
       "    </tr>\n",
       "    <tr>\n",
       "      <th>24</th>\n",
       "      <td>HRNS451</td>\n",
       "      <td>NaN</td>\n",
       "      <td>NaN</td>\n",
       "    </tr>\n",
       "    <tr>\n",
       "      <th>25</th>\n",
       "      <td>BOWERRL</td>\n",
       "      <td>NaN</td>\n",
       "      <td>NaN</td>\n",
       "    </tr>\n",
       "    <tr>\n",
       "      <th>52</th>\n",
       "      <td>CMRNBDG</td>\n",
       "      <td>NaN</td>\n",
       "      <td>NaN</td>\n",
       "    </tr>\n",
       "    <tr>\n",
       "      <th>...</th>\n",
       "      <td>...</td>\n",
       "      <td>...</td>\n",
       "      <td>...</td>\n",
       "    </tr>\n",
       "    <tr>\n",
       "      <th>259499</th>\n",
       "      <td>CLACTWR</td>\n",
       "      <td>NaN</td>\n",
       "      <td>NaN</td>\n",
       "    </tr>\n",
       "    <tr>\n",
       "      <th>259552</th>\n",
       "      <td>DALMRDS</td>\n",
       "      <td>NaN</td>\n",
       "      <td>NaN</td>\n",
       "    </tr>\n",
       "    <tr>\n",
       "      <th>259602</th>\n",
       "      <td>BRSTLWJ</td>\n",
       "      <td>NaN</td>\n",
       "      <td>NaN</td>\n",
       "    </tr>\n",
       "    <tr>\n",
       "      <th>259615</th>\n",
       "      <td>TISBRYL</td>\n",
       "      <td>NaN</td>\n",
       "      <td>NaN</td>\n",
       "    </tr>\n",
       "    <tr>\n",
       "      <th>259624</th>\n",
       "      <td>STALBCS</td>\n",
       "      <td>NaN</td>\n",
       "      <td>NaN</td>\n",
       "    </tr>\n",
       "  </tbody>\n",
       "</table>\n",
       "<p>12993 rows × 3 columns</p>\n",
       "</div>"
      ],
      "text/plain": [
       "       train_platform TiplocCode StationName\n",
       "16             WOLWXR        NaN         NaN\n",
       "23            FRMPKRS        NaN         NaN\n",
       "24            HRNS451        NaN         NaN\n",
       "25            BOWERRL        NaN         NaN\n",
       "52            CMRNBDG        NaN         NaN\n",
       "...               ...        ...         ...\n",
       "259499        CLACTWR        NaN         NaN\n",
       "259552        DALMRDS        NaN         NaN\n",
       "259602        BRSTLWJ        NaN         NaN\n",
       "259615        TISBRYL        NaN         NaN\n",
       "259624        STALBCS        NaN         NaN\n",
       "\n",
       "[12993 rows x 3 columns]"
      ]
     },
     "execution_count": 40,
     "metadata": {},
     "output_type": "execute_result"
    }
   ],
   "source": [
    "# checking where train_platform has no related StationName/Tiploccode\n",
    "nan_rows = df_merged[df_merged[['TiplocCode', 'StationName']].isna().any(axis=1)]\n",
    "\n",
    "nan_rows[['train_platform', 'TiplocCode', 'StationName']]"
   ]
  },
  {
   "cell_type": "code",
   "execution_count": 41,
   "id": "7658295f",
   "metadata": {},
   "outputs": [
    {
     "data": {
      "text/plain": [
       "train_platform\n",
       "FRNDXR     655\n",
       "PADTLL     419\n",
       "CUSTMHS    381\n",
       "WOLWXR     363\n",
       "BRENTX     329\n",
       "STALBCS    321\n",
       "MAGHNTH    215\n",
       "PALL       200\n",
       "MLLF       198\n",
       "CNNBELL    193\n",
       "SHLDNO1    186\n",
       "CIVI       185\n",
       "UNIV       184\n",
       "STDI       181\n",
       "FELL       163\n",
       "PELAWTW    140\n",
       "ASHFDYW    137\n",
       "CRKLREC    136\n",
       "EBSFLTI    132\n",
       "BOWERRL    128\n",
       "Name: count, dtype: int64"
      ]
     },
     "execution_count": 41,
     "metadata": {},
     "output_type": "execute_result"
    }
   ],
   "source": [
    "# Identifying most highly frequented unknown Station Names\n",
    "station_NaN = df_merged[df_merged['StationName'].isna()]['train_platform'].value_counts()\n",
    "station_NaN.head(20)"
   ]
  },
  {
   "cell_type": "code",
   "execution_count": 42,
   "id": "a00c4fbe",
   "metadata": {},
   "outputs": [],
   "source": [
    "# fill NaN values in the StationName column with the corresponding train_platform values\n",
    "df_merged['StationName'] = df_merged['StationName'].fillna(df_merged['train_platform'])\n",
    "\n",
    "# Replace 'Rail Station' with an empty string to make more readable\n",
    "df_merged['StationName'] = df_merged['StationName'].str.replace(' Rail Station', '')"
   ]
  },
  {
   "cell_type": "code",
   "execution_count": 43,
   "id": "5a275ed7",
   "metadata": {},
   "outputs": [
    {
     "name": "stdout",
     "output_type": "stream",
     "text": [
      "<class 'pandas.core.frame.DataFrame'>\n",
      "RangeIndex: 259650 entries, 0 to 259649\n",
      "Data columns (total 20 columns):\n",
      " #   Column                  Non-Null Count   Dtype         \n",
      "---  ------                  --------------   -----         \n",
      " 0   route_id                259650 non-null  object        \n",
      " 1   unique_id               259650 non-null  object        \n",
      " 2   service_start_date      259650 non-null  datetime64[ns]\n",
      " 3   update_origin           253728 non-null  object        \n",
      " 4   train_platform          259650 non-null  object        \n",
      " 5   working_time_arrival    259650 non-null  object        \n",
      " 6   working_time_departure  259650 non-null  object        \n",
      " 7   planned_time_arrival    238364 non-null  object        \n",
      " 8   planned_time_departure  237660 non-null  object        \n",
      " 9   actual_arrival_time     217307 non-null  object        \n",
      " 10  actual_departure_time   242582 non-null  object        \n",
      " 11  platform                245389 non-null  object        \n",
      " 12  is_delayed_arrival      259650 non-null  bool          \n",
      " 13  is_delayed_departure    259650 non-null  bool          \n",
      " 14  duration (min)          259650 non-null  float64       \n",
      " 15  weekday                 259650 non-null  object        \n",
      " 16  TiplocCode              246657 non-null  object        \n",
      " 17  StationName             259650 non-null  object        \n",
      " 18  Latitude                246657 non-null  float64       \n",
      " 19  Longitude               246657 non-null  float64       \n",
      "dtypes: bool(2), datetime64[ns](1), float64(3), object(14)\n",
      "memory usage: 36.2+ MB\n"
     ]
    }
   ],
   "source": [
    "df_merged.info()"
   ]
  },
  {
   "cell_type": "markdown",
<<<<<<< HEAD
   "id": "7dab8740",
=======
   "id": "41974c07",
>>>>>>> fbbdb06dc813e5d5a27a86871d01f103a51f9ca6
   "metadata": {},
   "source": [
    "## Adding a Day of the Wek Column"
   ]
  },
  {
   "cell_type": "markdown",
   "id": "cb3e58fb",
   "metadata": {},
   "source": [
    "# Delays"
   ]
  },
  {
   "cell_type": "code",
   "execution_count": 44,
   "id": "dc54f2d3",
   "metadata": {},
   "outputs": [],
   "source": [
    "df_delay = df_delay.merge(data, left_on='train_platform', right_on='TiplocCode', how='left')"
   ]
  },
  {
   "cell_type": "code",
   "execution_count": 45,
   "id": "7edc7989",
   "metadata": {},
   "outputs": [],
   "source": [
    "# fill NaN values in the StationName column with the corresponding train_platform values\n",
    "df_delay['StationName'] = df_delay['StationName'].fillna(df_delay['train_platform'])\n",
    "\n",
    "# Replace 'Rail Station' with an empty string to make more readable\n",
    "df_delay['StationName'] = df_delay['StationName'].str.replace(' Rail Station', '')"
   ]
  },
  {
   "cell_type": "code",
   "execution_count": 46,
   "id": "2753bee4",
   "metadata": {},
   "outputs": [
    {
     "name": "stdout",
     "output_type": "stream",
     "text": [
      "<class 'pandas.core.frame.DataFrame'>\n",
      "RangeIndex: 28276 entries, 0 to 28275\n",
      "Data columns (total 20 columns):\n",
      " #   Column                  Non-Null Count  Dtype         \n",
      "---  ------                  --------------  -----         \n",
      " 0   route_id                28276 non-null  object        \n",
      " 1   unique_id               28276 non-null  object        \n",
      " 2   service_start_date      28276 non-null  datetime64[ns]\n",
      " 3   update_origin           28266 non-null  object        \n",
      " 4   train_platform          28276 non-null  object        \n",
      " 5   working_time_arrival    28276 non-null  object        \n",
      " 6   working_time_departure  28276 non-null  object        \n",
      " 7   planned_time_arrival    14569 non-null  object        \n",
      " 8   planned_time_departure  14513 non-null  object        \n",
      " 9   actual_arrival_time     28255 non-null  object        \n",
      " 10  actual_departure_time   28199 non-null  object        \n",
      " 11  platform                21150 non-null  object        \n",
      " 12  is_delayed_arrival      28276 non-null  bool          \n",
      " 13  is_delayed_departure    28276 non-null  bool          \n",
      " 14  duration (min)          28276 non-null  float64       \n",
      " 15  weekday                 28276 non-null  object        \n",
      " 16  TiplocCode              22089 non-null  object        \n",
      " 17  StationName             28276 non-null  object        \n",
      " 18  Latitude                22089 non-null  float64       \n",
      " 19  Longitude               22089 non-null  float64       \n",
      "dtypes: bool(2), datetime64[ns](1), float64(3), object(14)\n",
      "memory usage: 3.9+ MB\n"
     ]
    }
   ],
   "source": [
    "df_delay.info()"
   ]
  },
  {
   "cell_type": "markdown",
   "id": "cc134dc8",
   "metadata": {},
   "source": [
    "Determine the minutes delayed."
   ]
  },
  {
   "cell_type": "code",
   "execution_count": 47,
   "id": "015ff334",
   "metadata": {},
   "outputs": [],
   "source": [
    "df_delay['working_time_arrival'] = pd.to_datetime(df_delay['working_time_arrival'], format='%H:%M:%S')\n",
    "df_delay['working_time_departure'] = pd.to_datetime(df_delay['working_time_departure'], format='%H:%M:%S')\n",
    "df_delay['duration (min)'] = ((df_delay['working_time_departure']-df_delay['working_time_arrival'])\\\n",
    "                                .dt.total_seconds()/60)"
   ]
  },
  {
   "cell_type": "code",
   "execution_count": 48,
   "id": "fdb82113",
   "metadata": {},
   "outputs": [],
   "source": [
    "df_delay['actual_arrival_time'] = pd.to_datetime(df_delay['actual_arrival_time'], format='%H:%M:%S')\n",
    "df_delay['actual_departure_time'] = pd.to_datetime(df_delay['actual_departure_time'], format='%H:%M:%S')"
   ]
  },
  {
   "cell_type": "code",
   "execution_count": 49,
   "id": "e274bee2",
   "metadata": {},
   "outputs": [],
   "source": [
    "df_delay['depart_delay(min)'] = ((df_delay['actual_departure_time']-df_delay['working_time_departure'])\\\n",
    "                                .dt.total_seconds()/60)"
   ]
  },
  {
   "cell_type": "code",
   "execution_count": 50,
   "id": "232c2e93",
   "metadata": {},
   "outputs": [],
   "source": [
    "df_delay['arrive_delay(min)'] = ((df_delay['actual_arrival_time']-df_delay['working_time_arrival'])\\\n",
    "                                .dt.total_seconds()/60)"
   ]
  },
  {
   "cell_type": "code",
   "execution_count": 51,
   "id": "6ff0d95f",
   "metadata": {},
   "outputs": [],
   "source": [
    "df_delay['working_time_arrival'] = df_delay['working_time_arrival'].dt.time\n",
    "df_delay['working_time_departure'] = df_delay['working_time_departure'].dt.time\n",
    "df_delay['actual_arrival_time'] = df_delay['actual_arrival_time'].dt.time\n",
    "df_delay['actual_departure_time'] = df_delay['actual_departure_time'].dt.time"
   ]
  },
  {
   "cell_type": "code",
   "execution_count": 52,
   "id": "72e933a7",
   "metadata": {},
   "outputs": [
    {
     "data": {
      "text/html": [
       "<div>\n",
       "<style scoped>\n",
       "    .dataframe tbody tr th:only-of-type {\n",
       "        vertical-align: middle;\n",
       "    }\n",
       "\n",
       "    .dataframe tbody tr th {\n",
       "        vertical-align: top;\n",
       "    }\n",
       "\n",
       "    .dataframe thead th {\n",
       "        text-align: right;\n",
       "    }\n",
       "</style>\n",
       "<table border=\"1\" class=\"dataframe\">\n",
       "  <thead>\n",
       "    <tr style=\"text-align: right;\">\n",
       "      <th></th>\n",
       "      <th>service_start_date</th>\n",
       "      <th>duration (min)</th>\n",
       "      <th>Latitude</th>\n",
       "      <th>Longitude</th>\n",
       "      <th>depart_delay(min)</th>\n",
       "      <th>arrive_delay(min)</th>\n",
       "    </tr>\n",
       "  </thead>\n",
       "  <tbody>\n",
       "    <tr>\n",
       "      <th>count</th>\n",
       "      <td>28276</td>\n",
       "      <td>28276.000000</td>\n",
       "      <td>22089.000000</td>\n",
       "      <td>22089.000000</td>\n",
       "      <td>28199.000000</td>\n",
       "      <td>28255.000000</td>\n",
       "    </tr>\n",
       "    <tr>\n",
       "      <th>mean</th>\n",
       "      <td>2024-07-09 16:06:01.578724096</td>\n",
       "      <td>3.396936</td>\n",
       "      <td>52.394264</td>\n",
       "      <td>-1.513082</td>\n",
       "      <td>-20.951816</td>\n",
       "      <td>-17.870695</td>\n",
       "    </tr>\n",
       "    <tr>\n",
       "      <th>min</th>\n",
       "      <td>2024-07-03 00:00:00</td>\n",
       "      <td>0.250000</td>\n",
       "      <td>50.170489</td>\n",
       "      <td>-5.444252</td>\n",
       "      <td>-1439.000000</td>\n",
       "      <td>-1436.500000</td>\n",
       "    </tr>\n",
       "    <tr>\n",
       "      <th>25%</th>\n",
       "      <td>2024-07-09 00:00:00</td>\n",
       "      <td>0.500000</td>\n",
       "      <td>51.520165</td>\n",
       "      <td>-2.994747</td>\n",
       "      <td>4.500000</td>\n",
       "      <td>6.000000</td>\n",
       "    </tr>\n",
       "    <tr>\n",
       "      <th>50%</th>\n",
       "      <td>2024-07-10 00:00:00</td>\n",
       "      <td>1.000000</td>\n",
       "      <td>51.702874</td>\n",
       "      <td>-1.494125</td>\n",
       "      <td>22.500000</td>\n",
       "      <td>25.000000</td>\n",
       "    </tr>\n",
       "    <tr>\n",
       "      <th>75%</th>\n",
       "      <td>2024-07-11 00:00:00</td>\n",
       "      <td>3.500000</td>\n",
       "      <td>53.404762</td>\n",
       "      <td>-0.212677</td>\n",
       "      <td>65.000000</td>\n",
       "      <td>67.500000</td>\n",
       "    </tr>\n",
       "    <tr>\n",
       "      <th>max</th>\n",
       "      <td>2024-07-12 00:00:00</td>\n",
       "      <td>247.000000</td>\n",
       "      <td>57.188510</td>\n",
       "      <td>1.715711</td>\n",
       "      <td>1434.000000</td>\n",
       "      <td>1438.000000</td>\n",
       "    </tr>\n",
       "    <tr>\n",
       "      <th>std</th>\n",
       "      <td>NaN</td>\n",
       "      <td>8.598764</td>\n",
       "      <td>1.285219</td>\n",
       "      <td>1.439577</td>\n",
       "      <td>291.431030</td>\n",
       "      <td>290.719773</td>\n",
       "    </tr>\n",
       "  </tbody>\n",
       "</table>\n",
       "</div>"
      ],
      "text/plain": [
       "                  service_start_date  duration (min)      Latitude  \\\n",
       "count                          28276    28276.000000  22089.000000   \n",
       "mean   2024-07-09 16:06:01.578724096        3.396936     52.394264   \n",
       "min              2024-07-03 00:00:00        0.250000     50.170489   \n",
       "25%              2024-07-09 00:00:00        0.500000     51.520165   \n",
       "50%              2024-07-10 00:00:00        1.000000     51.702874   \n",
       "75%              2024-07-11 00:00:00        3.500000     53.404762   \n",
       "max              2024-07-12 00:00:00      247.000000     57.188510   \n",
       "std                              NaN        8.598764      1.285219   \n",
       "\n",
       "          Longitude  depart_delay(min)  arrive_delay(min)  \n",
       "count  22089.000000       28199.000000       28255.000000  \n",
       "mean      -1.513082         -20.951816         -17.870695  \n",
       "min       -5.444252       -1439.000000       -1436.500000  \n",
       "25%       -2.994747           4.500000           6.000000  \n",
       "50%       -1.494125          22.500000          25.000000  \n",
       "75%       -0.212677          65.000000          67.500000  \n",
       "max        1.715711        1434.000000        1438.000000  \n",
       "std        1.439577         291.431030         290.719773  "
      ]
     },
     "execution_count": 52,
     "metadata": {},
     "output_type": "execute_result"
    }
   ],
   "source": [
    "df_delay.describe()"
   ]
  },
  {
   "cell_type": "markdown",
   "id": "31c24514",
   "metadata": {},
   "source": [
    "We can see that the math in the previous step created some erroneous values (minimum of depart_delay(min) is negative.) This will occur in cases where there is no reported actual_departure_time or where the train arrived slightly early. We will get the value zero where the train is not delayed. We will define a function to null delays less than or equal to zero, because these are erroneous on not delays at all. "
   ]
  },
  {
   "cell_type": "code",
   "execution_count": 53,
   "id": "432ac7e8",
   "metadata": {},
   "outputs": [],
   "source": [
    "def remove_neg_and_zero(delay):\n",
    "    if delay <= 0:\n",
    "        delay = None\n",
    "    else:\n",
    "        delay = delay\n",
    "    return delay"
   ]
  },
  {
   "cell_type": "code",
   "execution_count": 54,
   "id": "4bd917d4",
   "metadata": {},
   "outputs": [],
   "source": [
    "df_delay['depart_delay(min)'] = df_delay['depart_delay(min)'].apply(remove_neg_and_zero)\n",
    "df_delay['arrive_delay(min)'] = df_delay['arrive_delay(min)'].apply(remove_neg_and_zero)"
   ]
  },
  {
   "cell_type": "code",
   "execution_count": 55,
   "id": "8ad94c56",
   "metadata": {},
   "outputs": [
    {
     "data": {
      "text/html": [
       "<div>\n",
       "<style scoped>\n",
       "    .dataframe tbody tr th:only-of-type {\n",
       "        vertical-align: middle;\n",
       "    }\n",
       "\n",
       "    .dataframe tbody tr th {\n",
       "        vertical-align: top;\n",
       "    }\n",
       "\n",
       "    .dataframe thead th {\n",
       "        text-align: right;\n",
       "    }\n",
       "</style>\n",
       "<table border=\"1\" class=\"dataframe\">\n",
       "  <thead>\n",
       "    <tr style=\"text-align: right;\">\n",
       "      <th></th>\n",
       "      <th>service_start_date</th>\n",
       "      <th>duration (min)</th>\n",
       "      <th>Latitude</th>\n",
       "      <th>Longitude</th>\n",
       "      <th>depart_delay(min)</th>\n",
       "      <th>arrive_delay(min)</th>\n",
       "    </tr>\n",
       "  </thead>\n",
       "  <tbody>\n",
       "    <tr>\n",
       "      <th>count</th>\n",
       "      <td>28276</td>\n",
       "      <td>28276.000000</td>\n",
       "      <td>22089.000000</td>\n",
       "      <td>22089.000000</td>\n",
       "      <td>23956.000000</td>\n",
       "      <td>25454.000000</td>\n",
       "    </tr>\n",
       "    <tr>\n",
       "      <th>mean</th>\n",
       "      <td>2024-07-09 16:06:01.578724096</td>\n",
       "      <td>3.396936</td>\n",
       "      <td>52.394264</td>\n",
       "      <td>-1.513082</td>\n",
       "      <td>46.647030</td>\n",
       "      <td>46.262238</td>\n",
       "    </tr>\n",
       "    <tr>\n",
       "      <th>min</th>\n",
       "      <td>2024-07-03 00:00:00</td>\n",
       "      <td>0.250000</td>\n",
       "      <td>50.170489</td>\n",
       "      <td>-5.444252</td>\n",
       "      <td>0.500000</td>\n",
       "      <td>0.500000</td>\n",
       "    </tr>\n",
       "    <tr>\n",
       "      <th>25%</th>\n",
       "      <td>2024-07-09 00:00:00</td>\n",
       "      <td>0.500000</td>\n",
       "      <td>51.520165</td>\n",
       "      <td>-2.994747</td>\n",
       "      <td>10.000000</td>\n",
       "      <td>9.500000</td>\n",
       "    </tr>\n",
       "    <tr>\n",
       "      <th>50%</th>\n",
       "      <td>2024-07-10 00:00:00</td>\n",
       "      <td>1.000000</td>\n",
       "      <td>51.702874</td>\n",
       "      <td>-1.494125</td>\n",
       "      <td>34.000000</td>\n",
       "      <td>33.000000</td>\n",
       "    </tr>\n",
       "    <tr>\n",
       "      <th>75%</th>\n",
       "      <td>2024-07-11 00:00:00</td>\n",
       "      <td>3.500000</td>\n",
       "      <td>53.404762</td>\n",
       "      <td>-0.212677</td>\n",
       "      <td>72.000000</td>\n",
       "      <td>72.000000</td>\n",
       "    </tr>\n",
       "    <tr>\n",
       "      <th>max</th>\n",
       "      <td>2024-07-12 00:00:00</td>\n",
       "      <td>247.000000</td>\n",
       "      <td>57.188510</td>\n",
       "      <td>1.715711</td>\n",
       "      <td>1434.000000</td>\n",
       "      <td>1438.000000</td>\n",
       "    </tr>\n",
       "    <tr>\n",
       "      <th>std</th>\n",
       "      <td>NaN</td>\n",
       "      <td>8.598764</td>\n",
       "      <td>1.285219</td>\n",
       "      <td>1.439577</td>\n",
       "      <td>56.134844</td>\n",
       "      <td>57.272609</td>\n",
       "    </tr>\n",
       "  </tbody>\n",
       "</table>\n",
       "</div>"
      ],
      "text/plain": [
       "                  service_start_date  duration (min)      Latitude  \\\n",
       "count                          28276    28276.000000  22089.000000   \n",
       "mean   2024-07-09 16:06:01.578724096        3.396936     52.394264   \n",
       "min              2024-07-03 00:00:00        0.250000     50.170489   \n",
       "25%              2024-07-09 00:00:00        0.500000     51.520165   \n",
       "50%              2024-07-10 00:00:00        1.000000     51.702874   \n",
       "75%              2024-07-11 00:00:00        3.500000     53.404762   \n",
       "max              2024-07-12 00:00:00      247.000000     57.188510   \n",
       "std                              NaN        8.598764      1.285219   \n",
       "\n",
       "          Longitude  depart_delay(min)  arrive_delay(min)  \n",
       "count  22089.000000       23956.000000       25454.000000  \n",
       "mean      -1.513082          46.647030          46.262238  \n",
       "min       -5.444252           0.500000           0.500000  \n",
       "25%       -2.994747          10.000000           9.500000  \n",
       "50%       -1.494125          34.000000          33.000000  \n",
       "75%       -0.212677          72.000000          72.000000  \n",
       "max        1.715711        1434.000000        1438.000000  \n",
       "std        1.439577          56.134844          57.272609  "
      ]
     },
     "execution_count": 55,
     "metadata": {},
     "output_type": "execute_result"
    }
   ],
   "source": [
    "df_delay.describe()"
   ]
  },
  {
   "cell_type": "markdown",
   "id": "fc75b5de",
   "metadata": {},
   "source": [
    "We can see that the are some erroneous high values for depart_delay(min) and arrive_delay(min). We will remove any values over 420minutes (7hrs), assuming those trains are rescheduled rather than delayed."
   ]
  },
  {
   "cell_type": "code",
   "execution_count": 56,
   "id": "68a2df3f",
   "metadata": {},
   "outputs": [],
   "source": [
    "def remove_over_420(delay):\n",
    "    if delay > 420:\n",
    "        delay = None\n",
    "    else:\n",
    "        delay = delay\n",
    "    return delay"
   ]
  },
  {
   "cell_type": "code",
   "execution_count": 57,
   "id": "172c5f14",
   "metadata": {},
   "outputs": [],
   "source": [
    "df_delay['depart_delay(min)'] = df_delay['depart_delay(min)'].apply(remove_over_420)\n",
    "df_delay['arrive_delay(min)'] = df_delay['arrive_delay(min)'].apply(remove_over_420)"
   ]
  },
  {
   "cell_type": "code",
   "execution_count": 58,
   "id": "27bed74c",
   "metadata": {},
   "outputs": [
    {
     "data": {
      "text/html": [
       "<div>\n",
       "<style scoped>\n",
       "    .dataframe tbody tr th:only-of-type {\n",
       "        vertical-align: middle;\n",
       "    }\n",
       "\n",
       "    .dataframe tbody tr th {\n",
       "        vertical-align: top;\n",
       "    }\n",
       "\n",
       "    .dataframe thead th {\n",
       "        text-align: right;\n",
       "    }\n",
       "</style>\n",
       "<table border=\"1\" class=\"dataframe\">\n",
       "  <thead>\n",
       "    <tr style=\"text-align: right;\">\n",
       "      <th></th>\n",
       "      <th>service_start_date</th>\n",
       "      <th>duration (min)</th>\n",
       "      <th>Latitude</th>\n",
       "      <th>Longitude</th>\n",
       "      <th>depart_delay(min)</th>\n",
       "      <th>arrive_delay(min)</th>\n",
       "    </tr>\n",
       "  </thead>\n",
       "  <tbody>\n",
       "    <tr>\n",
       "      <th>count</th>\n",
       "      <td>28276</td>\n",
       "      <td>28276.000000</td>\n",
       "      <td>22089.000000</td>\n",
       "      <td>22089.000000</td>\n",
       "      <td>23937.000000</td>\n",
       "      <td>25433.000000</td>\n",
       "    </tr>\n",
       "    <tr>\n",
       "      <th>mean</th>\n",
       "      <td>2024-07-09 16:06:01.578724096</td>\n",
       "      <td>3.396936</td>\n",
       "      <td>52.394264</td>\n",
       "      <td>-1.513082</td>\n",
       "      <td>45.591668</td>\n",
       "      <td>45.156450</td>\n",
       "    </tr>\n",
       "    <tr>\n",
       "      <th>min</th>\n",
       "      <td>2024-07-03 00:00:00</td>\n",
       "      <td>0.250000</td>\n",
       "      <td>50.170489</td>\n",
       "      <td>-5.444252</td>\n",
       "      <td>0.500000</td>\n",
       "      <td>0.500000</td>\n",
       "    </tr>\n",
       "    <tr>\n",
       "      <th>25%</th>\n",
       "      <td>2024-07-09 00:00:00</td>\n",
       "      <td>0.500000</td>\n",
       "      <td>51.520165</td>\n",
       "      <td>-2.994747</td>\n",
       "      <td>10.000000</td>\n",
       "      <td>9.500000</td>\n",
       "    </tr>\n",
       "    <tr>\n",
       "      <th>50%</th>\n",
       "      <td>2024-07-10 00:00:00</td>\n",
       "      <td>1.000000</td>\n",
       "      <td>51.702874</td>\n",
       "      <td>-1.494125</td>\n",
       "      <td>34.000000</td>\n",
       "      <td>33.000000</td>\n",
       "    </tr>\n",
       "    <tr>\n",
       "      <th>75%</th>\n",
       "      <td>2024-07-11 00:00:00</td>\n",
       "      <td>3.500000</td>\n",
       "      <td>53.404762</td>\n",
       "      <td>-0.212677</td>\n",
       "      <td>72.000000</td>\n",
       "      <td>72.000000</td>\n",
       "    </tr>\n",
       "    <tr>\n",
       "      <th>max</th>\n",
       "      <td>2024-07-12 00:00:00</td>\n",
       "      <td>247.000000</td>\n",
       "      <td>57.188510</td>\n",
       "      <td>1.715711</td>\n",
       "      <td>257.500000</td>\n",
       "      <td>257.000000</td>\n",
       "    </tr>\n",
       "    <tr>\n",
       "      <th>std</th>\n",
       "      <td>NaN</td>\n",
       "      <td>8.598764</td>\n",
       "      <td>1.285219</td>\n",
       "      <td>1.439577</td>\n",
       "      <td>41.808023</td>\n",
       "      <td>42.418519</td>\n",
       "    </tr>\n",
       "  </tbody>\n",
       "</table>\n",
       "</div>"
      ],
      "text/plain": [
       "                  service_start_date  duration (min)      Latitude  \\\n",
       "count                          28276    28276.000000  22089.000000   \n",
       "mean   2024-07-09 16:06:01.578724096        3.396936     52.394264   \n",
       "min              2024-07-03 00:00:00        0.250000     50.170489   \n",
       "25%              2024-07-09 00:00:00        0.500000     51.520165   \n",
       "50%              2024-07-10 00:00:00        1.000000     51.702874   \n",
       "75%              2024-07-11 00:00:00        3.500000     53.404762   \n",
       "max              2024-07-12 00:00:00      247.000000     57.188510   \n",
       "std                              NaN        8.598764      1.285219   \n",
       "\n",
       "          Longitude  depart_delay(min)  arrive_delay(min)  \n",
       "count  22089.000000       23937.000000       25433.000000  \n",
       "mean      -1.513082          45.591668          45.156450  \n",
       "min       -5.444252           0.500000           0.500000  \n",
       "25%       -2.994747          10.000000           9.500000  \n",
       "50%       -1.494125          34.000000          33.000000  \n",
       "75%       -0.212677          72.000000          72.000000  \n",
       "max        1.715711         257.500000         257.000000  \n",
       "std        1.439577          41.808023          42.418519  "
      ]
     },
     "execution_count": 58,
     "metadata": {},
     "output_type": "execute_result"
    }
   ],
   "source": [
    "df_delay.describe()"
   ]
  },
  {
   "cell_type": "code",
   "execution_count": 59,
   "id": "d408892e",
   "metadata": {},
   "outputs": [
    {
     "name": "stdout",
     "output_type": "stream",
     "text": [
      "<class 'pandas.core.frame.DataFrame'>\n",
      "RangeIndex: 28276 entries, 0 to 28275\n",
      "Data columns (total 22 columns):\n",
      " #   Column                  Non-Null Count  Dtype         \n",
      "---  ------                  --------------  -----         \n",
      " 0   route_id                28276 non-null  object        \n",
      " 1   unique_id               28276 non-null  object        \n",
      " 2   service_start_date      28276 non-null  datetime64[ns]\n",
      " 3   update_origin           28266 non-null  object        \n",
      " 4   train_platform          28276 non-null  object        \n",
      " 5   working_time_arrival    28276 non-null  object        \n",
      " 6   working_time_departure  28276 non-null  object        \n",
      " 7   planned_time_arrival    14569 non-null  object        \n",
      " 8   planned_time_departure  14513 non-null  object        \n",
      " 9   actual_arrival_time     28255 non-null  object        \n",
      " 10  actual_departure_time   28199 non-null  object        \n",
      " 11  platform                21150 non-null  object        \n",
      " 12  is_delayed_arrival      28276 non-null  bool          \n",
      " 13  is_delayed_departure    28276 non-null  bool          \n",
      " 14  duration (min)          28276 non-null  float64       \n",
      " 15  weekday                 28276 non-null  object        \n",
      " 16  TiplocCode              22089 non-null  object        \n",
      " 17  StationName             28276 non-null  object        \n",
      " 18  Latitude                22089 non-null  float64       \n",
      " 19  Longitude               22089 non-null  float64       \n",
      " 20  depart_delay(min)       23937 non-null  float64       \n",
      " 21  arrive_delay(min)       25433 non-null  float64       \n",
      "dtypes: bool(2), datetime64[ns](1), float64(5), object(14)\n",
      "memory usage: 4.4+ MB\n"
     ]
    }
   ],
   "source": [
    "df_delay.info()"
   ]
  },
  {
   "cell_type": "code",
   "execution_count": 60,
   "id": "aa0e12b9",
   "metadata": {},
   "outputs": [],
   "source": [
    "# export delay routes csv\n",
    "df_delay.to_csv('./cleaned_data/delay_durations.csv', index=False, mode = 'w+')"
   ]
  },
  {
   "cell_type": "markdown",
   "id": "52b14f34",
   "metadata": {},
   "source": [
    "## Calculate Delay Duration\n",
    "Take the data where we are able to calucate delays."
   ]
  },
  {
   "cell_type": "code",
   "execution_count": 61,
   "id": "8a512a60",
   "metadata": {},
   "outputs": [
    {
     "data": {
      "text/html": [
       "<div>\n",
       "<style scoped>\n",
       "    .dataframe tbody tr th:only-of-type {\n",
       "        vertical-align: middle;\n",
       "    }\n",
       "\n",
       "    .dataframe tbody tr th {\n",
       "        vertical-align: top;\n",
       "    }\n",
       "\n",
       "    .dataframe thead th {\n",
       "        text-align: right;\n",
       "    }\n",
       "</style>\n",
       "<table border=\"1\" class=\"dataframe\">\n",
       "  <thead>\n",
       "    <tr style=\"text-align: right;\">\n",
       "      <th></th>\n",
       "      <th>route_id</th>\n",
       "      <th>unique_id</th>\n",
       "      <th>service_start_date</th>\n",
       "      <th>update_origin</th>\n",
       "      <th>train_platform</th>\n",
       "      <th>working_time_arrival</th>\n",
       "      <th>working_time_departure</th>\n",
       "      <th>planned_time_arrival</th>\n",
       "      <th>planned_time_departure</th>\n",
       "      <th>actual_arrival_time</th>\n",
       "      <th>...</th>\n",
       "      <th>is_delayed_arrival</th>\n",
       "      <th>is_delayed_departure</th>\n",
       "      <th>duration (min)</th>\n",
       "      <th>weekday</th>\n",
       "      <th>TiplocCode</th>\n",
       "      <th>StationName</th>\n",
       "      <th>Latitude</th>\n",
       "      <th>Longitude</th>\n",
       "      <th>depart_delay(min)</th>\n",
       "      <th>arrive_delay(min)</th>\n",
       "    </tr>\n",
       "  </thead>\n",
       "  <tbody>\n",
       "    <tr>\n",
       "      <th>0</th>\n",
       "      <td>202407037144581</td>\n",
       "      <td>G44581</td>\n",
       "      <td>2024-07-03</td>\n",
       "      <td>Darwin</td>\n",
       "      <td>GLOSTER</td>\n",
       "      <td>19:22:00</td>\n",
       "      <td>19:28:00</td>\n",
       "      <td>19:21:00</td>\n",
       "      <td>19:28:00</td>\n",
       "      <td>19:32:00</td>\n",
       "      <td>...</td>\n",
       "      <td>True</td>\n",
       "      <td>True</td>\n",
       "      <td>6.0</td>\n",
       "      <td>Wednesday</td>\n",
       "      <td>GLOSTER</td>\n",
       "      <td>Gloucester</td>\n",
       "      <td>51.865557</td>\n",
       "      <td>-2.238488</td>\n",
       "      <td>5.0</td>\n",
       "      <td>10.0</td>\n",
       "    </tr>\n",
       "    <tr>\n",
       "      <th>1</th>\n",
       "      <td>202407036707715</td>\n",
       "      <td>C07715</td>\n",
       "      <td>2024-07-03</td>\n",
       "      <td>Darwin</td>\n",
       "      <td>LADYBHL</td>\n",
       "      <td>19:24:00</td>\n",
       "      <td>19:35:30</td>\n",
       "      <td>None</td>\n",
       "      <td>None</td>\n",
       "      <td>19:33:00</td>\n",
       "      <td>...</td>\n",
       "      <td>True</td>\n",
       "      <td>True</td>\n",
       "      <td>11.5</td>\n",
       "      <td>Wednesday</td>\n",
       "      <td>NaN</td>\n",
       "      <td>LADYBHL</td>\n",
       "      <td>NaN</td>\n",
       "      <td>NaN</td>\n",
       "      <td>NaN</td>\n",
       "      <td>9.0</td>\n",
       "    </tr>\n",
       "    <tr>\n",
       "      <th>2</th>\n",
       "      <td>202407037154103</td>\n",
       "      <td>G54103</td>\n",
       "      <td>2024-07-03</td>\n",
       "      <td>Darwin</td>\n",
       "      <td>CRAWLEY</td>\n",
       "      <td>19:26:30</td>\n",
       "      <td>19:27:30</td>\n",
       "      <td>19:27:00</td>\n",
       "      <td>19:27:00</td>\n",
       "      <td>19:35:00</td>\n",
       "      <td>...</td>\n",
       "      <td>True</td>\n",
       "      <td>True</td>\n",
       "      <td>1.0</td>\n",
       "      <td>Wednesday</td>\n",
       "      <td>CRAWLEY</td>\n",
       "      <td>Crawley</td>\n",
       "      <td>51.112212</td>\n",
       "      <td>-0.186673</td>\n",
       "      <td>7.5</td>\n",
       "      <td>8.5</td>\n",
       "    </tr>\n",
       "    <tr>\n",
       "      <th>3</th>\n",
       "      <td>202407037154103</td>\n",
       "      <td>G54103</td>\n",
       "      <td>2024-07-03</td>\n",
       "      <td>Darwin</td>\n",
       "      <td>IFIELD</td>\n",
       "      <td>19:29:30</td>\n",
       "      <td>19:30:00</td>\n",
       "      <td>19:30:00</td>\n",
       "      <td>19:30:00</td>\n",
       "      <td>19:37:00</td>\n",
       "      <td>...</td>\n",
       "      <td>True</td>\n",
       "      <td>True</td>\n",
       "      <td>0.5</td>\n",
       "      <td>Wednesday</td>\n",
       "      <td>IFIELD</td>\n",
       "      <td>Ifield</td>\n",
       "      <td>51.115621</td>\n",
       "      <td>-0.214772</td>\n",
       "      <td>8.0</td>\n",
       "      <td>7.5</td>\n",
       "    </tr>\n",
       "    <tr>\n",
       "      <th>4</th>\n",
       "      <td>202407037154103</td>\n",
       "      <td>G54103</td>\n",
       "      <td>2024-07-03</td>\n",
       "      <td>Darwin</td>\n",
       "      <td>FAYGATE</td>\n",
       "      <td>19:33:30</td>\n",
       "      <td>19:34:00</td>\n",
       "      <td>19:34:00</td>\n",
       "      <td>19:34:00</td>\n",
       "      <td>19:41:00</td>\n",
       "      <td>...</td>\n",
       "      <td>True</td>\n",
       "      <td>True</td>\n",
       "      <td>0.5</td>\n",
       "      <td>Wednesday</td>\n",
       "      <td>FAYGATE</td>\n",
       "      <td>Faygate</td>\n",
       "      <td>51.095889</td>\n",
       "      <td>-0.263019</td>\n",
       "      <td>8.0</td>\n",
       "      <td>7.5</td>\n",
       "    </tr>\n",
       "  </tbody>\n",
       "</table>\n",
       "<p>5 rows × 22 columns</p>\n",
       "</div>"
      ],
      "text/plain": [
       "          route_id unique_id service_start_date update_origin train_platform  \\\n",
       "0  202407037144581    G44581         2024-07-03        Darwin        GLOSTER   \n",
       "1  202407036707715    C07715         2024-07-03        Darwin        LADYBHL   \n",
       "2  202407037154103    G54103         2024-07-03        Darwin        CRAWLEY   \n",
       "3  202407037154103    G54103         2024-07-03        Darwin         IFIELD   \n",
       "4  202407037154103    G54103         2024-07-03        Darwin        FAYGATE   \n",
       "\n",
       "  working_time_arrival working_time_departure planned_time_arrival  \\\n",
       "0             19:22:00               19:28:00             19:21:00   \n",
       "1             19:24:00               19:35:30                 None   \n",
       "2             19:26:30               19:27:30             19:27:00   \n",
       "3             19:29:30               19:30:00             19:30:00   \n",
       "4             19:33:30               19:34:00             19:34:00   \n",
       "\n",
       "  planned_time_departure actual_arrival_time  ... is_delayed_arrival  \\\n",
       "0               19:28:00            19:32:00  ...               True   \n",
       "1                   None            19:33:00  ...               True   \n",
       "2               19:27:00            19:35:00  ...               True   \n",
       "3               19:30:00            19:37:00  ...               True   \n",
       "4               19:34:00            19:41:00  ...               True   \n",
       "\n",
       "  is_delayed_departure  duration (min)    weekday  TiplocCode StationName  \\\n",
       "0                 True             6.0  Wednesday     GLOSTER  Gloucester   \n",
       "1                 True            11.5  Wednesday         NaN     LADYBHL   \n",
       "2                 True             1.0  Wednesday     CRAWLEY     Crawley   \n",
       "3                 True             0.5  Wednesday      IFIELD      Ifield   \n",
       "4                 True             0.5  Wednesday     FAYGATE     Faygate   \n",
       "\n",
       "    Latitude Longitude  depart_delay(min)  arrive_delay(min)  \n",
       "0  51.865557 -2.238488                5.0               10.0  \n",
       "1        NaN       NaN                NaN                9.0  \n",
       "2  51.112212 -0.186673                7.5                8.5  \n",
       "3  51.115621 -0.214772                8.0                7.5  \n",
       "4  51.095889 -0.263019                8.0                7.5  \n",
       "\n",
       "[5 rows x 22 columns]"
      ]
     },
     "execution_count": 61,
     "metadata": {},
     "output_type": "execute_result"
    }
   ],
   "source": [
    "df_delay.head()"
   ]
  },
  {
   "cell_type": "code",
   "execution_count": 62,
   "id": "22c9b801",
   "metadata": {},
   "outputs": [
    {
     "data": {
      "text/html": [
       "<div>\n",
       "<style scoped>\n",
       "    .dataframe tbody tr th:only-of-type {\n",
       "        vertical-align: middle;\n",
       "    }\n",
       "\n",
       "    .dataframe tbody tr th {\n",
       "        vertical-align: top;\n",
       "    }\n",
       "\n",
       "    .dataframe thead th {\n",
       "        text-align: right;\n",
       "    }\n",
       "</style>\n",
       "<table border=\"1\" class=\"dataframe\">\n",
       "  <thead>\n",
       "    <tr style=\"text-align: right;\">\n",
       "      <th></th>\n",
       "      <th>route_id</th>\n",
       "      <th>unique_id</th>\n",
       "      <th>service_start_date</th>\n",
       "      <th>update_origin</th>\n",
       "      <th>train_platform</th>\n",
       "      <th>working_time_arrival</th>\n",
       "      <th>working_time_departure</th>\n",
       "      <th>planned_time_arrival</th>\n",
       "      <th>planned_time_departure</th>\n",
       "      <th>actual_arrival_time</th>\n",
       "      <th>...</th>\n",
       "      <th>platform</th>\n",
       "      <th>is_delayed_arrival</th>\n",
       "      <th>is_delayed_departure</th>\n",
       "      <th>duration (min)</th>\n",
       "      <th>weekday</th>\n",
       "      <th>TiplocCode</th>\n",
       "      <th>StationName</th>\n",
       "      <th>Latitude</th>\n",
       "      <th>Longitude</th>\n",
       "      <th>delayed</th>\n",
       "    </tr>\n",
       "  </thead>\n",
       "  <tbody>\n",
       "    <tr>\n",
       "      <th>0</th>\n",
       "      <td>202407037139232</td>\n",
       "      <td>G39232</td>\n",
       "      <td>2024-07-03</td>\n",
       "      <td>TD</td>\n",
       "      <td>SCROYDN</td>\n",
       "      <td>19:31:00</td>\n",
       "      <td>19:31:30</td>\n",
       "      <td>19:31:00</td>\n",
       "      <td>19:31:00</td>\n",
       "      <td>None</td>\n",
       "      <td>...</td>\n",
       "      <td>4</td>\n",
       "      <td>False</td>\n",
       "      <td>False</td>\n",
       "      <td>0.5</td>\n",
       "      <td>Wednesday</td>\n",
       "      <td>SCROYDN</td>\n",
       "      <td>South Croydon</td>\n",
       "      <td>51.362963</td>\n",
       "      <td>-0.093457</td>\n",
       "      <td>0</td>\n",
       "    </tr>\n",
       "    <tr>\n",
       "      <th>1</th>\n",
       "      <td>202407036785172</td>\n",
       "      <td>C85172</td>\n",
       "      <td>2024-07-03</td>\n",
       "      <td>CIS</td>\n",
       "      <td>LIVSTLL</td>\n",
       "      <td>19:37:00</td>\n",
       "      <td>19:38:00</td>\n",
       "      <td>19:37:00</td>\n",
       "      <td>19:38:00</td>\n",
       "      <td>19:37:00</td>\n",
       "      <td>...</td>\n",
       "      <td>A</td>\n",
       "      <td>False</td>\n",
       "      <td>False</td>\n",
       "      <td>1.0</td>\n",
       "      <td>Wednesday</td>\n",
       "      <td>LIVSTLL</td>\n",
       "      <td>London Liverpool Street Crossrail</td>\n",
       "      <td>51.518600</td>\n",
       "      <td>-0.081300</td>\n",
       "      <td>0</td>\n",
       "    </tr>\n",
       "    <tr>\n",
       "      <th>2</th>\n",
       "      <td>202407036735756</td>\n",
       "      <td>C35756</td>\n",
       "      <td>2024-07-03</td>\n",
       "      <td>TD</td>\n",
       "      <td>ESTHRAK</td>\n",
       "      <td>19:30:30</td>\n",
       "      <td>19:31:00</td>\n",
       "      <td>19:31:00</td>\n",
       "      <td>19:31:00</td>\n",
       "      <td>None</td>\n",
       "      <td>...</td>\n",
       "      <td>2</td>\n",
       "      <td>False</td>\n",
       "      <td>False</td>\n",
       "      <td>0.5</td>\n",
       "      <td>Wednesday</td>\n",
       "      <td>ESTHRAK</td>\n",
       "      <td>Eastham Rake</td>\n",
       "      <td>53.307537</td>\n",
       "      <td>-2.981132</td>\n",
       "      <td>0</td>\n",
       "    </tr>\n",
       "    <tr>\n",
       "      <th>3</th>\n",
       "      <td>202407036735756</td>\n",
       "      <td>C35756</td>\n",
       "      <td>2024-07-03</td>\n",
       "      <td>TD</td>\n",
       "      <td>BRMB</td>\n",
       "      <td>19:33:00</td>\n",
       "      <td>19:33:30</td>\n",
       "      <td>19:33:00</td>\n",
       "      <td>19:33:00</td>\n",
       "      <td>19:33:00</td>\n",
       "      <td>...</td>\n",
       "      <td>1</td>\n",
       "      <td>False</td>\n",
       "      <td>False</td>\n",
       "      <td>0.5</td>\n",
       "      <td>Wednesday</td>\n",
       "      <td>BRMB</td>\n",
       "      <td>Bromborough</td>\n",
       "      <td>53.321845</td>\n",
       "      <td>-2.986895</td>\n",
       "      <td>0</td>\n",
       "    </tr>\n",
       "    <tr>\n",
       "      <th>4</th>\n",
       "      <td>202407036735756</td>\n",
       "      <td>C35756</td>\n",
       "      <td>2024-07-03</td>\n",
       "      <td>TD</td>\n",
       "      <td>BRMBRK</td>\n",
       "      <td>19:35:00</td>\n",
       "      <td>19:35:30</td>\n",
       "      <td>19:35:00</td>\n",
       "      <td>19:35:00</td>\n",
       "      <td>19:35:00</td>\n",
       "      <td>...</td>\n",
       "      <td>2</td>\n",
       "      <td>False</td>\n",
       "      <td>False</td>\n",
       "      <td>0.5</td>\n",
       "      <td>Wednesday</td>\n",
       "      <td>BRMBRK</td>\n",
       "      <td>Bromborough Rake</td>\n",
       "      <td>53.329905</td>\n",
       "      <td>-2.989469</td>\n",
       "      <td>0</td>\n",
       "    </tr>\n",
       "  </tbody>\n",
       "</table>\n",
       "<p>5 rows × 21 columns</p>\n",
       "</div>"
      ],
      "text/plain": [
       "          route_id unique_id service_start_date update_origin train_platform  \\\n",
       "0  202407037139232    G39232         2024-07-03            TD        SCROYDN   \n",
       "1  202407036785172    C85172         2024-07-03           CIS        LIVSTLL   \n",
       "2  202407036735756    C35756         2024-07-03            TD        ESTHRAK   \n",
       "3  202407036735756    C35756         2024-07-03            TD           BRMB   \n",
       "4  202407036735756    C35756         2024-07-03            TD         BRMBRK   \n",
       "\n",
       "  working_time_arrival working_time_departure planned_time_arrival  \\\n",
       "0             19:31:00               19:31:30             19:31:00   \n",
       "1             19:37:00               19:38:00             19:37:00   \n",
       "2             19:30:30               19:31:00             19:31:00   \n",
       "3             19:33:00               19:33:30             19:33:00   \n",
       "4             19:35:00               19:35:30             19:35:00   \n",
       "\n",
       "  planned_time_departure actual_arrival_time  ... platform is_delayed_arrival  \\\n",
       "0               19:31:00                None  ...        4              False   \n",
       "1               19:38:00            19:37:00  ...        A              False   \n",
       "2               19:31:00                None  ...        2              False   \n",
       "3               19:33:00            19:33:00  ...        1              False   \n",
       "4               19:35:00            19:35:00  ...        2              False   \n",
       "\n",
       "   is_delayed_departure  duration (min)    weekday TiplocCode  \\\n",
       "0                 False             0.5  Wednesday    SCROYDN   \n",
       "1                 False             1.0  Wednesday    LIVSTLL   \n",
       "2                 False             0.5  Wednesday    ESTHRAK   \n",
       "3                 False             0.5  Wednesday       BRMB   \n",
       "4                 False             0.5  Wednesday     BRMBRK   \n",
       "\n",
       "                         StationName   Latitude  Longitude  delayed  \n",
       "0                      South Croydon  51.362963  -0.093457        0  \n",
       "1  London Liverpool Street Crossrail  51.518600  -0.081300        0  \n",
       "2                       Eastham Rake  53.307537  -2.981132        0  \n",
       "3                        Bromborough  53.321845  -2.986895        0  \n",
       "4                   Bromborough Rake  53.329905  -2.989469        0  \n",
       "\n",
       "[5 rows x 21 columns]"
      ]
     },
     "execution_count": 62,
     "metadata": {},
     "output_type": "execute_result"
    }
   ],
   "source": [
    "# Create the 'delayed' column\n",
    "df_merged['delayed'] = df_merged['is_delayed_arrival'] | df_merged['is_delayed_departure']\n",
    "df_merged['delayed'] = df_merged['delayed'].astype(int)\n",
    "\n",
    "# Check\n",
    "df_merged.head()"
   ]
  },
  {
   "cell_type": "markdown",
   "id": "548fbef0",
   "metadata": {},
   "source": [
    "## Delays  by Route"
   ]
  },
  {
   "cell_type": "code",
   "execution_count": 63,
   "id": "2c8cd932",
   "metadata": {},
   "outputs": [
    {
     "data": {
      "text/html": [
       "<div>\n",
       "<style scoped>\n",
       "    .dataframe tbody tr th:only-of-type {\n",
       "        vertical-align: middle;\n",
       "    }\n",
       "\n",
       "    .dataframe tbody tr th {\n",
       "        vertical-align: top;\n",
       "    }\n",
       "\n",
       "    .dataframe thead th {\n",
       "        text-align: right;\n",
       "    }\n",
       "</style>\n",
       "<table border=\"1\" class=\"dataframe\">\n",
       "  <thead>\n",
       "    <tr style=\"text-align: right;\">\n",
       "      <th></th>\n",
       "      <th>route_id</th>\n",
       "      <th>delay_counts_by_route</th>\n",
       "      <th>total_counts_by_route</th>\n",
       "      <th>%_delayed_by_route</th>\n",
       "    </tr>\n",
       "  </thead>\n",
       "  <tbody>\n",
       "    <tr>\n",
       "      <th>0</th>\n",
       "      <td>202407036704095</td>\n",
       "      <td>0</td>\n",
       "      <td>1</td>\n",
       "      <td>0.0</td>\n",
       "    </tr>\n",
       "    <tr>\n",
       "      <th>1</th>\n",
       "      <td>202407036704542</td>\n",
       "      <td>0</td>\n",
       "      <td>1</td>\n",
       "      <td>0.0</td>\n",
       "    </tr>\n",
       "    <tr>\n",
       "      <th>2</th>\n",
       "      <td>202407036705093</td>\n",
       "      <td>1</td>\n",
       "      <td>5</td>\n",
       "      <td>20.0</td>\n",
       "    </tr>\n",
       "    <tr>\n",
       "      <th>3</th>\n",
       "      <td>202407036705096</td>\n",
       "      <td>0</td>\n",
       "      <td>6</td>\n",
       "      <td>0.0</td>\n",
       "    </tr>\n",
       "    <tr>\n",
       "      <th>4</th>\n",
       "      <td>202407036705102</td>\n",
       "      <td>0</td>\n",
       "      <td>5</td>\n",
       "      <td>0.0</td>\n",
       "    </tr>\n",
       "    <tr>\n",
       "      <th>...</th>\n",
       "      <td>...</td>\n",
       "      <td>...</td>\n",
       "      <td>...</td>\n",
       "      <td>...</td>\n",
       "    </tr>\n",
       "    <tr>\n",
       "      <th>54780</th>\n",
       "      <td>202407137133353</td>\n",
       "      <td>0</td>\n",
       "      <td>1</td>\n",
       "      <td>0.0</td>\n",
       "    </tr>\n",
       "    <tr>\n",
       "      <th>54781</th>\n",
       "      <td>202407137455011</td>\n",
       "      <td>0</td>\n",
       "      <td>6</td>\n",
       "      <td>0.0</td>\n",
       "    </tr>\n",
       "    <tr>\n",
       "      <th>54782</th>\n",
       "      <td>202407137703507</td>\n",
       "      <td>0</td>\n",
       "      <td>10</td>\n",
       "      <td>0.0</td>\n",
       "    </tr>\n",
       "    <tr>\n",
       "      <th>54783</th>\n",
       "      <td>202407137950791</td>\n",
       "      <td>0</td>\n",
       "      <td>21</td>\n",
       "      <td>0.0</td>\n",
       "    </tr>\n",
       "    <tr>\n",
       "      <th>54784</th>\n",
       "      <td>202407138078630</td>\n",
       "      <td>0</td>\n",
       "      <td>4</td>\n",
       "      <td>0.0</td>\n",
       "    </tr>\n",
       "  </tbody>\n",
       "</table>\n",
       "<p>54785 rows × 4 columns</p>\n",
       "</div>"
      ],
      "text/plain": [
       "              route_id  delay_counts_by_route  total_counts_by_route  \\\n",
       "0      202407036704095                      0                      1   \n",
       "1      202407036704542                      0                      1   \n",
       "2      202407036705093                      1                      5   \n",
       "3      202407036705096                      0                      6   \n",
       "4      202407036705102                      0                      5   \n",
       "...                ...                    ...                    ...   \n",
       "54780  202407137133353                      0                      1   \n",
       "54781  202407137455011                      0                      6   \n",
       "54782  202407137703507                      0                     10   \n",
       "54783  202407137950791                      0                     21   \n",
       "54784  202407138078630                      0                      4   \n",
       "\n",
       "       %_delayed_by_route  \n",
       "0                     0.0  \n",
       "1                     0.0  \n",
       "2                    20.0  \n",
       "3                     0.0  \n",
       "4                     0.0  \n",
       "...                   ...  \n",
       "54780                 0.0  \n",
       "54781                 0.0  \n",
       "54782                 0.0  \n",
       "54783                 0.0  \n",
       "54784                 0.0  \n",
       "\n",
       "[54785 rows x 4 columns]"
      ]
     },
     "execution_count": 63,
     "metadata": {},
     "output_type": "execute_result"
    }
   ],
   "source": [
    "# Extract the necessary columns\n",
    "df_extracted = df_merged[['route_id', 'delayed']]\n",
    "\n",
    "# Calculate the count of delays for each route_id and TiplocCode\n",
    "delay_counts_by_route = df_extracted.groupby('route_id')['delayed'].sum().reset_index()\n",
    "delay_counts_by_route.rename(columns={'delayed': 'delay_counts_by_route'}, inplace=True)\n",
    "\n",
    "# Calculate the total count of records for each route_id and TiplocCode\n",
    "total_counts_by_route = df_extracted.groupby('route_id')['route_id'].count().reset_index(name='total_counts_by_route')\n",
    "\n",
    "# Merge the delay counts and total counts\n",
    "delay_summary = delay_counts_by_route.merge(total_counts_by_route, on='route_id')\n",
    "\n",
    "# Calculate the % delayed for each route_id\n",
    "delay_summary['%_delayed_by_route'] = (delay_summary['delay_counts_by_route'] / delay_summary['total_counts_by_route']) * 100\n",
    "\n",
    "# Select the relevant columns\n",
    "delays_by_route = delay_summary[['route_id', 'delay_counts_by_route', 'total_counts_by_route', '%_delayed_by_route']]\n",
    "\n",
    "# Check\n",
    "delays_by_route"
   ]
  },
  {
   "cell_type": "code",
   "execution_count": 64,
   "id": "8642c696",
   "metadata": {},
   "outputs": [],
   "source": [
    "# export delay routes csv\n",
    "delays_route = delays_by_route.to_csv('./cleaned_data/delays_by_route.csv', index=False, mode = 'w+')"
   ]
  },
  {
   "cell_type": "markdown",
   "id": "a5f0c29b",
   "metadata": {},
   "source": [
    "## Delays by Station Name"
   ]
  },
  {
   "cell_type": "markdown",
   "id": "7d0b0d4d",
   "metadata": {},
   "source": [
    "Changed to aggregate by TiplocCode, because upon further investigation it was found that a Station Name may have various TiplocCodes. Which would inflate the delay counts and station counts for each individual TiplocCode"
   ]
  },
  {
   "cell_type": "code",
   "execution_count": 65,
   "id": "a131e773",
   "metadata": {},
   "outputs": [
    {
     "data": {
      "text/html": [
       "<div>\n",
       "<style scoped>\n",
       "    .dataframe tbody tr th:only-of-type {\n",
       "        vertical-align: middle;\n",
       "    }\n",
       "\n",
       "    .dataframe tbody tr th {\n",
       "        vertical-align: top;\n",
       "    }\n",
       "\n",
       "    .dataframe thead th {\n",
       "        text-align: right;\n",
       "    }\n",
       "</style>\n",
       "<table border=\"1\" class=\"dataframe\">\n",
       "  <thead>\n",
       "    <tr style=\"text-align: right;\">\n",
       "      <th></th>\n",
       "      <th>TiplocCode</th>\n",
       "      <th>delay_counts_by_tiploc</th>\n",
       "      <th>total_counts_by_tiploc</th>\n",
       "      <th>%_delayed_by_tiploc</th>\n",
       "      <th>StationName</th>\n",
       "      <th>Latitude</th>\n",
       "      <th>Longitude</th>\n",
       "    </tr>\n",
       "  </thead>\n",
       "  <tbody>\n",
       "    <tr>\n",
       "      <th>493</th>\n",
       "      <td>CLPHMJC</td>\n",
       "      <td>33</td>\n",
       "      <td>747</td>\n",
       "      <td>4.417671</td>\n",
       "      <td>Clapham Junction</td>\n",
       "      <td>51.464186</td>\n",
       "      <td>-0.170279</td>\n",
       "    </tr>\n",
       "    <tr>\n",
       "      <th>494</th>\n",
       "      <td>CLPHMJM</td>\n",
       "      <td>30</td>\n",
       "      <td>675</td>\n",
       "      <td>4.444444</td>\n",
       "      <td>Clapham Junction</td>\n",
       "      <td>51.464186</td>\n",
       "      <td>-0.170265</td>\n",
       "    </tr>\n",
       "    <tr>\n",
       "      <th>495</th>\n",
       "      <td>CLPHMJW</td>\n",
       "      <td>10</td>\n",
       "      <td>387</td>\n",
       "      <td>2.583979</td>\n",
       "      <td>Clapham Junction</td>\n",
       "      <td>51.464186</td>\n",
       "      <td>-0.170250</td>\n",
       "    </tr>\n",
       "  </tbody>\n",
       "</table>\n",
       "</div>"
      ],
      "text/plain": [
       "    TiplocCode  delay_counts_by_tiploc  total_counts_by_tiploc  \\\n",
       "493    CLPHMJC                      33                     747   \n",
       "494    CLPHMJM                      30                     675   \n",
       "495    CLPHMJW                      10                     387   \n",
       "\n",
       "     %_delayed_by_tiploc       StationName   Latitude  Longitude  \n",
       "493             4.417671  Clapham Junction  51.464186  -0.170279  \n",
       "494             4.444444  Clapham Junction  51.464186  -0.170265  \n",
       "495             2.583979  Clapham Junction  51.464186  -0.170250  "
      ]
     },
     "execution_count": 65,
     "metadata": {},
     "output_type": "execute_result"
    }
   ],
   "source": [
    "df_extracted2 = df_merged[['StationName', 'TiplocCode', 'delayed', 'Latitude', 'Longitude']]\n",
    "\n",
    "# Calculate the count of delays for each TiplocCode\n",
    "delay_counts_by_tiploc = df_extracted2.groupby('TiplocCode')['delayed'].sum().reset_index()\n",
    "delay_counts_by_tiploc.rename(columns={'delayed': 'delay_counts_by_tiploc'}, inplace=True)\n",
    "\n",
    "# Calculate the total count of records for each TiplocCode\n",
    "total_counts_by_tiploc = df_extracted2.groupby('TiplocCode')['TiplocCode'].count().reset_index(name='total_counts_by_tiploc')\n",
    "\n",
    "# Merge the delay counts and total counts\n",
    "delay_summary_tiploc = delay_counts_by_tiploc.merge(total_counts_by_tiploc, on='TiplocCode')\n",
    "\n",
    "# Calculate the % delayed for each TiplocCode\n",
    "delay_summary_tiploc['%_delayed_by_tiploc'] = (delay_summary_tiploc['delay_counts_by_tiploc'] / delay_summary_tiploc['total_counts_by_tiploc']) * 100\n",
    "\n",
    "# Select the relevant columns\n",
    "delays_by_tiploc = delay_summary_tiploc[['TiplocCode', 'delay_counts_by_tiploc', 'total_counts_by_tiploc', '%_delayed_by_tiploc']]\n",
    "\n",
    "# Merge the dataframes on 'TiplocCode' to add latitude, longitude, and StationName\n",
    "delays_by_tiploc = pd.merge(delays_by_tiploc, df_extracted2[['TiplocCode', 'StationName', 'Latitude', 'Longitude']].drop_duplicates(), on='TiplocCode', how='left')\n",
    "\n",
    "# Check\n",
    "delays_by_tiploc[delays_by_tiploc['StationName'] == 'Clapham Junction']"
   ]
  },
  {
   "cell_type": "code",
   "execution_count": 66,
   "id": "a1d2dca9",
   "metadata": {},
   "outputs": [],
   "source": [
    "# exporting delays by station to csv\n",
    "delay_stations = delays_by_tiploc.to_csv('./cleaned_data/delays_by_station.csv', index=False, mode = 'w+')"
   ]
  },
  {
   "cell_type": "code",
   "execution_count": 67,
   "id": "c4707667",
   "metadata": {},
   "outputs": [
    {
     "data": {
      "text/plain": [
       "is_delayed_arrival\n",
       "False    231498\n",
       "True      28152\n",
       "Name: count, dtype: int64"
      ]
     },
     "execution_count": 67,
     "metadata": {},
     "output_type": "execute_result"
    }
   ],
   "source": [
    "# check how is_delayed arrivals/departures compare with delayed column\n",
    "df_merged['is_delayed_arrival'].value_counts()"
   ]
  },
  {
   "cell_type": "code",
   "execution_count": 68,
   "id": "bb7a760a",
   "metadata": {},
   "outputs": [
    {
     "data": {
      "text/plain": [
       "is_delayed_departure\n",
       "False    230390\n",
       "True      29260\n",
       "Name: count, dtype: int64"
      ]
     },
     "execution_count": 68,
     "metadata": {},
     "output_type": "execute_result"
    }
   ],
   "source": [
    "df_merged['is_delayed_departure'].value_counts()"
   ]
  },
  {
   "cell_type": "code",
   "execution_count": 69,
   "id": "e024e1b1",
   "metadata": {},
   "outputs": [
    {
     "data": {
      "text/plain": [
       "delayed\n",
       "0    230390\n",
       "1     29260\n",
       "Name: count, dtype: int64"
      ]
     },
     "execution_count": 69,
     "metadata": {},
     "output_type": "execute_result"
    }
   ],
   "source": [
    "df_merged['delayed'].value_counts()"
   ]
  },
  {
   "cell_type": "markdown",
   "id": "21b45ae4",
   "metadata": {},
   "source": [
    "Delayed column has same counts as is_delayed_departure. "
   ]
  },
  {
   "cell_type": "markdown",
   "id": "489d8839",
   "metadata": {},
   "source": [
    "# % Delayed by Weekday\n",
    "\n",
    "Create an aggregated dataframe to show the % of trains delayed by weekday."
   ]
  },
  {
   "cell_type": "code",
   "execution_count": 70,
   "id": "5f8bf3b8",
   "metadata": {},
   "outputs": [
    {
     "data": {
      "text/html": [
       "<div>\n",
       "<style scoped>\n",
       "    .dataframe tbody tr th:only-of-type {\n",
       "        vertical-align: middle;\n",
       "    }\n",
       "\n",
       "    .dataframe tbody tr th {\n",
       "        vertical-align: top;\n",
       "    }\n",
       "\n",
       "    .dataframe thead th {\n",
       "        text-align: right;\n",
       "    }\n",
       "</style>\n",
       "<table border=\"1\" class=\"dataframe\">\n",
       "  <thead>\n",
       "    <tr style=\"text-align: right;\">\n",
       "      <th></th>\n",
       "      <th>weekday</th>\n",
       "      <th>delayed</th>\n",
       "      <th>count</th>\n",
       "      <th>percent_delayed</th>\n",
       "    </tr>\n",
       "  </thead>\n",
       "  <tbody>\n",
       "    <tr>\n",
       "      <th>0</th>\n",
       "      <td>Friday</td>\n",
       "      <td>8127</td>\n",
       "      <td>72816</td>\n",
       "      <td>11.161009</td>\n",
       "    </tr>\n",
       "    <tr>\n",
       "      <th>1</th>\n",
       "      <td>Monday</td>\n",
       "      <td>1189</td>\n",
       "      <td>11222</td>\n",
       "      <td>10.595259</td>\n",
       "    </tr>\n",
       "    <tr>\n",
       "      <th>2</th>\n",
       "      <td>Saturday</td>\n",
       "      <td>969</td>\n",
       "      <td>9884</td>\n",
       "      <td>9.803723</td>\n",
       "    </tr>\n",
       "    <tr>\n",
       "      <th>3</th>\n",
       "      <td>Sunday</td>\n",
       "      <td>694</td>\n",
       "      <td>7710</td>\n",
       "      <td>9.001297</td>\n",
       "    </tr>\n",
       "    <tr>\n",
       "      <th>4</th>\n",
       "      <td>Thursday</td>\n",
       "      <td>8654</td>\n",
       "      <td>77224</td>\n",
       "      <td>11.206361</td>\n",
       "    </tr>\n",
       "    <tr>\n",
       "      <th>5</th>\n",
       "      <td>Tuesday</td>\n",
       "      <td>4098</td>\n",
       "      <td>35853</td>\n",
       "      <td>11.430006</td>\n",
       "    </tr>\n",
       "    <tr>\n",
       "      <th>6</th>\n",
       "      <td>Wednesday</td>\n",
       "      <td>5529</td>\n",
       "      <td>44941</td>\n",
       "      <td>12.302797</td>\n",
       "    </tr>\n",
       "  </tbody>\n",
       "</table>\n",
       "</div>"
      ],
      "text/plain": [
       "     weekday  delayed  count  percent_delayed\n",
       "0     Friday     8127  72816        11.161009\n",
       "1     Monday     1189  11222        10.595259\n",
       "2   Saturday      969   9884         9.803723\n",
       "3     Sunday      694   7710         9.001297\n",
       "4   Thursday     8654  77224        11.206361\n",
       "5    Tuesday     4098  35853        11.430006\n",
       "6  Wednesday     5529  44941        12.302797"
      ]
     },
     "execution_count": 70,
     "metadata": {},
     "output_type": "execute_result"
    }
   ],
   "source": [
    "# Extract the necessary columns\n",
    "df_weekday = df_merged[['weekday', 'delayed']].copy()\n",
    "df_weekday['count'] = 1\n",
    "df_weekday = df_weekday.groupby('weekday')[['delayed', 'count']].sum().reset_index()\n",
    "df_weekday['percent_delayed'] = (df_weekday['delayed'] / df_weekday['count'])*100\n",
    "df_weekday"
   ]
  },
  {
   "cell_type": "code",
   "execution_count": 71,
   "id": "ba162f09",
   "metadata": {},
   "outputs": [],
   "source": [
    "df_weekday.to_csv('./cleaned_data/weekday_data.csv', index=False, mode = 'w+')"
   ]
  },
  {
   "cell_type": "markdown",
   "id": "5e338505",
   "metadata": {},
   "source": [
    "# Value Counts for Analysis "
   ]
  },
  {
   "cell_type": "code",
   "execution_count": 72,
   "id": "8cdee805",
   "metadata": {},
   "outputs": [
    {
     "data": {
      "text/plain": [
       "service_start_date\n",
       "2024-07-11    65224\n",
       "2024-07-12    48367\n",
       "2024-07-10    41466\n",
       "2024-07-09    35853\n",
       "2024-07-05    24449\n",
       "2024-07-04    12000\n",
       "2024-07-08    11222\n",
       "2024-07-06     9804\n",
       "2024-07-07     7710\n",
       "2024-07-03     3475\n",
       "2024-07-13       80\n",
       "Name: count, dtype: int64"
      ]
     },
     "execution_count": 72,
     "metadata": {},
     "output_type": "execute_result"
    }
   ],
   "source": [
    "df_merged['service_start_date'].value_counts()"
   ]
  },
  {
   "cell_type": "code",
   "execution_count": 73,
   "id": "0628d3e1",
   "metadata": {},
   "outputs": [
    {
     "data": {
      "text/plain": [
       "route_id\n",
       "202407047154179    118\n",
       "202407127639023    115\n",
       "202407127643860    106\n",
       "202407107150439    101\n",
       "202407047513588     92\n",
       "                  ... \n",
       "202407117640486      1\n",
       "202407116725642      1\n",
       "202407106714627      1\n",
       "202407116742419      1\n",
       "202407116765253      1\n",
       "Name: count, Length: 54785, dtype: int64"
      ]
     },
     "execution_count": 73,
     "metadata": {},
     "output_type": "execute_result"
    }
   ],
   "source": [
    "# most popular routes\n",
    "df_merged['route_id'].value_counts()"
   ]
  },
  {
   "cell_type": "code",
   "execution_count": 74,
   "id": "7ed2c447",
   "metadata": {},
   "outputs": [
    {
     "data": {
      "text/plain": [
       "StationName\n",
       "London Bridge                          1809\n",
       "Clapham Junction                       1809\n",
       "East Croydon                           1161\n",
       "London St Pancras International LL     1006\n",
       "Birmingham New Street                   967\n",
       "                                       ... \n",
       "SPRBJN                                    1\n",
       "STRO625                                   1\n",
       "Berney Arms                               1\n",
       "Coombe Junction Halt (Rail Station)       1\n",
       "THBDUTE                                   1\n",
       "Name: count, Length: 3008, dtype: int64"
      ]
     },
     "execution_count": 74,
     "metadata": {},
     "output_type": "execute_result"
    }
   ],
   "source": [
    "df_merged['StationName'].value_counts()"
   ]
  },
  {
   "cell_type": "markdown",
   "id": "8f155e58",
   "metadata": {},
   "source": [
    "# Visuals "
   ]
  },
  {
   "cell_type": "code",
   "execution_count": 75,
   "id": "c5106922",
   "metadata": {},
   "outputs": [
    {
     "data": {
      "image/png": "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",
      "text/plain": [
       "<Figure size 1000x600 with 1 Axes>"
      ]
     },
     "metadata": {},
     "output_type": "display_data"
    }
   ],
   "source": [
    "import matplotlib.pyplot as plt\n",
    "import seaborn as sns\n",
    "# Top 10 most frequently visited stations\n",
    "top_stations = df_merged['StationName'].value_counts().head(20)\n",
    "plt.figure(figsize=(10, 6))\n",
    "sns.barplot(x=top_stations.index, y=top_stations.values)\n",
    "plt.title('Top 20 Most Frequently Visited Stations')\n",
    "plt.xlabel('Station')\n",
    "plt.ylabel('Number of Visits')\n",
    "plt.xticks(rotation=90)\n",
    "plt.show()"
   ]
  },
  {
   "cell_type": "markdown",
   "id": "cc5b8854",
   "metadata": {},
   "source": [
    "The chart shows the top 20 most frequently visited stations in the UK rail system, revealing that 13 of these stations are in London. This highlights London's central role in the rail network, driven by its approximate population of 9 million, which constitutes about 13% of the UK's total population. Major hubs like Clapham Junction and London Bridge, as well as key interchange points and commuter stations, contribute to this high traffic, reflecting the substantial demand generated by the city's large population.\n",
    "\n",
    "Additionally, the chart underscores the importance of regional hubs such as Birmingham New Street, York, and Reading, which serve as central points for their areas, and the significance of rail connections to major airports like Gatwick. The presence of stations like City Thameslink and Whitechapel Crossrail also highlights the integration of various transport modes, providing seamless connectivity for passengers. Overall, London's dominance in the list illustrates its pivotal role in the UK's rail system, driven by its large population and economic activity."
   ]
  },
  {
   "cell_type": "markdown",
   "id": "a47bc82b",
   "metadata": {},
   "source": [
    "## Duration Distribution "
   ]
  },
  {
   "cell_type": "code",
   "execution_count": 76,
   "id": "07670d4f",
   "metadata": {},
   "outputs": [
    {
     "data": {
      "text/html": [
       "<div>\n",
       "<style scoped>\n",
       "    .dataframe tbody tr th:only-of-type {\n",
       "        vertical-align: middle;\n",
       "    }\n",
       "\n",
       "    .dataframe tbody tr th {\n",
       "        vertical-align: top;\n",
       "    }\n",
       "\n",
       "    .dataframe thead th {\n",
       "        text-align: right;\n",
       "    }\n",
       "</style>\n",
       "<table border=\"1\" class=\"dataframe\">\n",
       "  <thead>\n",
       "    <tr style=\"text-align: right;\">\n",
       "      <th></th>\n",
       "      <th>service_start_date</th>\n",
       "      <th>duration (min)</th>\n",
       "      <th>Latitude</th>\n",
       "      <th>Longitude</th>\n",
       "      <th>delayed</th>\n",
       "    </tr>\n",
       "  </thead>\n",
       "  <tbody>\n",
       "    <tr>\n",
       "      <th>count</th>\n",
       "      <td>259650</td>\n",
       "      <td>259650.000000</td>\n",
       "      <td>246657.000000</td>\n",
       "      <td>246657.000000</td>\n",
       "      <td>259650.000000</td>\n",
       "    </tr>\n",
       "    <tr>\n",
       "      <th>mean</th>\n",
       "      <td>2024-07-09 07:38:17.261698816</td>\n",
       "      <td>1.494340</td>\n",
       "      <td>52.253378</td>\n",
       "      <td>-1.179371</td>\n",
       "      <td>0.112690</td>\n",
       "    </tr>\n",
       "    <tr>\n",
       "      <th>min</th>\n",
       "      <td>2024-07-03 00:00:00</td>\n",
       "      <td>0.050000</td>\n",
       "      <td>50.121672</td>\n",
       "      <td>-5.839077</td>\n",
       "      <td>0.000000</td>\n",
       "    </tr>\n",
       "    <tr>\n",
       "      <th>25%</th>\n",
       "      <td>2024-07-08 00:00:00</td>\n",
       "      <td>0.500000</td>\n",
       "      <td>51.437634</td>\n",
       "      <td>-2.254841</td>\n",
       "      <td>0.000000</td>\n",
       "    </tr>\n",
       "    <tr>\n",
       "      <th>50%</th>\n",
       "      <td>2024-07-10 00:00:00</td>\n",
       "      <td>1.000000</td>\n",
       "      <td>51.555208</td>\n",
       "      <td>-0.435409</td>\n",
       "      <td>0.000000</td>\n",
       "    </tr>\n",
       "    <tr>\n",
       "      <th>75%</th>\n",
       "      <td>2024-07-11 00:00:00</td>\n",
       "      <td>1.000000</td>\n",
       "      <td>53.238219</td>\n",
       "      <td>-0.086088</td>\n",
       "      <td>0.000000</td>\n",
       "    </tr>\n",
       "    <tr>\n",
       "      <th>max</th>\n",
       "      <td>2024-07-13 00:00:00</td>\n",
       "      <td>247.000000</td>\n",
       "      <td>58.590175</td>\n",
       "      <td>1.715711</td>\n",
       "      <td>1.000000</td>\n",
       "    </tr>\n",
       "    <tr>\n",
       "      <th>std</th>\n",
       "      <td>NaN</td>\n",
       "      <td>3.706334</td>\n",
       "      <td>1.371085</td>\n",
       "      <td>1.455368</td>\n",
       "      <td>0.316214</td>\n",
       "    </tr>\n",
       "  </tbody>\n",
       "</table>\n",
       "</div>"
      ],
      "text/plain": [
       "                  service_start_date  duration (min)       Latitude  \\\n",
       "count                         259650   259650.000000  246657.000000   \n",
       "mean   2024-07-09 07:38:17.261698816        1.494340      52.253378   \n",
       "min              2024-07-03 00:00:00        0.050000      50.121672   \n",
       "25%              2024-07-08 00:00:00        0.500000      51.437634   \n",
       "50%              2024-07-10 00:00:00        1.000000      51.555208   \n",
       "75%              2024-07-11 00:00:00        1.000000      53.238219   \n",
       "max              2024-07-13 00:00:00      247.000000      58.590175   \n",
       "std                              NaN        3.706334       1.371085   \n",
       "\n",
       "           Longitude        delayed  \n",
       "count  246657.000000  259650.000000  \n",
       "mean       -1.179371       0.112690  \n",
       "min        -5.839077       0.000000  \n",
       "25%        -2.254841       0.000000  \n",
       "50%        -0.435409       0.000000  \n",
       "75%        -0.086088       0.000000  \n",
       "max         1.715711       1.000000  \n",
       "std         1.455368       0.316214  "
      ]
     },
     "execution_count": 76,
     "metadata": {},
     "output_type": "execute_result"
    }
   ],
   "source": [
    "df_merged.describe()"
   ]
  },
  {
   "cell_type": "code",
   "execution_count": 77,
   "id": "a748aa17",
   "metadata": {
    "scrolled": false
   },
   "outputs": [
    {
     "data": {
      "image/png": "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",
      "text/plain": [
       "<Figure size 1000x600 with 1 Axes>"
      ]
     },
     "metadata": {},
     "output_type": "display_data"
    }
   ],
   "source": [
    "# Histogram for 'duration (min)'\n",
    "plt.figure(figsize=(10, 6))\n",
    "plt.hist(df_merged['duration (min)'], bins=100, edgecolor='black')\n",
    "plt.title('Histogram of Duration (min)')\n",
    "plt.xlabel('Minutes')\n",
    "plt.ylabel('Frequency')\n",
    "plt.show()"
   ]
  },
  {
   "cell_type": "markdown",
   "id": "868124b3",
   "metadata": {},
   "source": [
    "Showing true "
   ]
  },
  {
   "cell_type": "code",
   "execution_count": 78,
   "id": "af1b2752",
   "metadata": {
    "scrolled": false
   },
   "outputs": [
    {
     "data": {
      "image/png": "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",
      "text/plain": [
       "<Figure size 1000x600 with 1 Axes>"
      ]
     },
     "metadata": {},
     "output_type": "display_data"
    }
   ],
   "source": [
    "# Histogram for 'duration (min)' with smaller bins and logarithmic x-axis\n",
    "plt.figure(figsize=(10, 6))\n",
    "plt.hist(df_merged['duration (min)'], bins=100, edgecolor='black', log=True)\n",
    "\n",
    "plt.title('Histogram of Duration (min) with Logarithmic Y-axis')\n",
    "plt.xlabel('Minutes')\n",
    "plt.ylabel('Frequency')\n",
    "plt.yscale('log')\n",
    "plt.show()"
   ]
  },
  {
   "cell_type": "markdown",
   "id": "48952694",
   "metadata": {},
   "source": [
    "This histogram shows the distribution of trip durations from station to station with a logarithmic y-axis. The logarithmic scale is used to make it easier to see and understand data that has a very wide range by squeezing the numbers into a smaller, more readable format. The histogram reveals a high frequency of short trips, with the majority of trip durations clustered around the lower end, particularly between 0 and 50 minutes. There are significant drops in frequency as the duration increases, indicating that long trips are much less common. A few peaks at higher durations suggest some outliers where trips are unusually long."
   ]
  },
  {
   "cell_type": "code",
   "execution_count": 79,
   "id": "2fa7dcce",
   "metadata": {},
   "outputs": [
    {
     "data": {
      "image/png": "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",
      "text/plain": [
       "<Figure size 1000x600 with 1 Axes>"
      ]
     },
     "metadata": {},
     "output_type": "display_data"
    }
   ],
   "source": [
    "# Boxplot for 'duration (min)' with a logarithmic scale\n",
    "plt.figure(figsize=(10, 6))\n",
    "plt.boxplot(df_merged['duration (min)'], vert=False, patch_artist=True, showfliers=True)\n",
    "plt.xscale('log')\n",
    "\n",
    "# Add mean and median lines\n",
    "mean_duration = df_merged['duration (min)'].mean()\n",
    "median_duration = df_merged['duration (min)'].median()\n",
    "mode_duration = df_merged['duration (min)'].mode().iloc[0]\n",
    "\n",
    "plt.axvline(mean_duration, color='r', linestyle='--', label=f'Mean: {mean_duration:.2f}')\n",
    "plt.axvline(median_duration, color='g', linestyle='-', label=f'Median: {median_duration:.2f}')\n",
    "plt.axvline(mode_duration, color='b', linestyle='-', label=f'Mode: {mode_duration:.2f}')\n",
    "\n",
    "plt.title('Boxplot of Duration (min) with Logarithmic Scale')\n",
    "plt.xlabel('Minutes (log scale)')\n",
    "plt.legend()\n",
    "plt.show()"
   ]
  },
  {
   "cell_type": "markdown",
   "id": "bc446c43",
   "metadata": {},
   "source": [
    "This boxplot provides a detailed summary of the distribution, highlighting the mean, median, and mode durations. The median trip duration is 1 minute, with a mean slightly higher at 1.48 minutes, indicating that the distribution is right-skewed with a long tail of longer durations. The mode is at 0.50 minutes, showing that very short trips are most common. The presence of numerous outliers further supports the observation from the histogram that while most trips are short, there are occasional long trips that are significantly longer than the majority. The logarithmic scale on the x-axis helps to spread out the data points, making it easier to see the distribution and identify the concentration of shorter trips and the spread of longer ones."
   ]
  },
  {
   "cell_type": "markdown",
   "id": "2073fecf",
   "metadata": {},
   "source": [
    "### Overall Analysis on Trip Duration Distribution. "
   ]
  },
  {
   "cell_type": "markdown",
   "id": "a52ac76d",
   "metadata": {},
   "source": [
    "The analysis of trip durations reveals that the majority of trips are very short, with most durations clustered between 0 and 50 minutes. This trend makes sense given that the majority of trips occur in densely populated cities like London, where stations are closely spaced, and the demand for frequent, short commutes is high. In such urban environments, the transportation network is designed to handle large volumes of passengers moving over short distances, facilitating quick and efficient travel between closely situated stations.\n",
    "\n",
    "In cities like London, people often rely on the rail system for daily commutes, errands, and short-distance travel, contributing to the high frequency of brief trips. The shorter trips are reflective of the urban layout, where stations are strategically placed to maximize accessibility and convenience for city dwellers. The presence of numerous outliers with longer trip durations indicates occasional longer journeys, but these are less common. Overall, the data aligns with the expected travel patterns in a densely populated metropolitan area, emphasizing the importance of the rail network in supporting urban mobility."
   ]
  },
  {
   "cell_type": "markdown",
   "id": "e331e2f8",
   "metadata": {},
   "source": [
    "## Delay Distributions"
   ]
  },
  {
   "cell_type": "code",
   "execution_count": 80,
   "id": "12d4116e",
   "metadata": {
    "scrolled": false
   },
   "outputs": [
    {
     "name": "stderr",
     "output_type": "stream",
     "text": [
      "C:\\Users\\audre\\anaconda3\\Lib\\site-packages\\seaborn\\_oldcore.py:1119: FutureWarning: use_inf_as_na option is deprecated and will be removed in a future version. Convert inf values to NaN before operating instead.\n",
      "  with pd.option_context('mode.use_inf_as_na', True):\n",
      "C:\\Users\\audre\\anaconda3\\Lib\\site-packages\\seaborn\\_oldcore.py:1119: FutureWarning: use_inf_as_na option is deprecated and will be removed in a future version. Convert inf values to NaN before operating instead.\n",
      "  with pd.option_context('mode.use_inf_as_na', True):\n"
     ]
    },
    {
     "data": {
      "image/png": "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",
      "text/plain": [
       "<Figure size 1400x700 with 2 Axes>"
      ]
     },
     "metadata": {},
     "output_type": "display_data"
    }
   ],
   "source": [
    "plt.figure(figsize=(14, 7))\n",
    "\n",
    "# Arrival delay histogram\n",
    "plt.subplot(1, 2, 1)\n",
    "sns.histplot(df_delay['arrive_delay(min)'], bins=20, color='blue')\n",
    "plt.title('Histogram of Arrival Delay (min)')\n",
    "plt.xlabel('Minutes')\n",
    "plt.ylabel('Frequency')\n",
    "\n",
    "# Departure delay histogram\n",
    "plt.subplot(1, 2, 2)\n",
    "sns.histplot(df_delay['depart_delay(min)'], bins=20, color='green')\n",
    "plt.title('Histogram of Departure Delay (min)')\n",
    "plt.xlabel('Minutes')\n",
    "plt.ylabel('Frequency')\n",
    "\n",
    "plt.tight_layout()\n",
    "plt.show()"
   ]
  },
  {
   "cell_type": "markdown",
   "id": "92127739",
   "metadata": {},
   "source": [
    "The histograms display a high frequency of shorter delays, with most clustered between 0 and 50 minutes. As delay time increases, the frequency decreases, indicating that longer delays are less common. This right-skewed distribution shows that while shorter delays are frequent, longer delays, though less common, do occur."
   ]
  },
  {
   "cell_type": "code",
   "execution_count": 81,
   "id": "73e1160c",
   "metadata": {
    "scrolled": false
   },
   "outputs": [
    {
     "data": {
      "image/png": "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",
      "text/plain": [
       "<Figure size 1400x700 with 2 Axes>"
      ]
     },
     "metadata": {},
     "output_type": "display_data"
    }
   ],
   "source": [
    "# Plot boxplot for arrival_delay and depart_delay\n",
    "plt.figure(figsize=(14, 7))\n",
    "\n",
    "# Adding mode \n",
    "arrival_mode = df_delay['arrive_delay(min)'].mode().iloc[0]\n",
    "depart_mode = df_delay['depart_delay(min)'].mode().iloc[0]\n",
    "\n",
    "# Arrival delay boxplot\n",
    "plt.subplot(1, 2, 1)\n",
    "sns.boxplot(x=df_delay['arrive_delay(min)'])\n",
    "plt.title('Boxplot of Arrival Delay (min)')\n",
    "plt.xlabel('Minutes')\n",
    "plt.axvline(df_delay['arrive_delay(min)'].mean(), color='red', linestyle='--', label=f'Mean: {df_delay[\"arrive_delay(min)\"].mean():.2f}')\n",
    "plt.axvline(df_delay['arrive_delay(min)'].median(), color='green', linestyle='-', label=f'Median: {df_delay[\"arrive_delay(min)\"].median():.2f}')\n",
    "plt.axvline(arrival_mode, color='b', linestyle='-', label=f'Mode: {arrival_mode:.2f}')\n",
    "plt.legend()\n",
    "\n",
    "# Departure delay boxplot\n",
    "plt.subplot(1, 2, 2)\n",
    "sns.boxplot(x=df_delay['depart_delay(min)'])\n",
    "plt.title('Boxplot of Departure Delay (min)')\n",
    "plt.xlabel('Minutes')\n",
    "plt.axvline(df_delay['depart_delay(min)'].mean(), color='red', linestyle='--', label=f'Mean: {df_delay[\"depart_delay(min)\"].mean():.2f}')\n",
    "plt.axvline(df_delay['depart_delay(min)'].median(), color='green', linestyle='-', label=f'Median: {df_delay[\"depart_delay(min)\"].median():.2f}')\n",
    "plt.axvline(depart_mode, color='b', linestyle='-', label=f'Mode: {depart_mode:.2f}')\n",
    "plt.legend()\n",
    "\n",
    "plt.tight_layout()\n",
    "plt.show()"
   ]
  },
  {
   "cell_type": "markdown",
   "id": "a056ee9c",
   "metadata": {},
   "source": [
    "Both boxplots show a substantial interquartile range (IQR), indicating a significant spread in the data. The median values for both arrival and departure delays are around 34.5 minutes and 36 minutes, respectively, suggesting that half of the delays are less than these values, while the other half are greater. The mean values for arrival and departure delays are slightly higher than the median values, at 46.9 minutes and 47.41 minutes, respectively. This discrepancy indicates a right-skewed distribution, with a tail extending towards higher delay times. This right-skewed distribution aligns with the histogram analysis, confirming that while most delays are within a reasonable range, there are instances of significantly longer delays."
   ]
  },
  {
   "cell_type": "markdown",
   "id": "b4a3884a",
   "metadata": {},
   "source": [
    "**Relating back to the duration distribution**\n",
    "\n",
    "By comparing these observations with the distribution of trip duration, we can conclude that the UK's rail system experiences a higher frequency of shorter trips and moderate delays, with occasional long durations and severe delays that affect the overall average. This understanding can help in addressing the less frequent but impactful longer trips and delays to improve overall system efficiency."
   ]
  },
  {
   "cell_type": "markdown",
   "id": "5a1ac56b",
   "metadata": {},
   "source": [
    "# Export Desired Dataframe"
   ]
  },
  {
   "cell_type": "code",
   "execution_count": 83,
   "id": "59608c60",
   "metadata": {},
   "outputs": [],
   "source": [
    "output = df_merged.to_csv('./cleaned_data/UK_Rail_Data.csv', index=False, mode = 'w+')"
   ]
  },
  {
   "cell_type": "code",
   "execution_count": null,
   "id": "4144c79c",
   "metadata": {},
   "outputs": [],
   "source": [
    "df_merged.info()"
   ]
  },
  {
   "cell_type": "code",
   "execution_count": null,
   "id": "1acd7ac1",
   "metadata": {},
   "outputs": [],
   "source": [
    "df_merged.describe()"
   ]
  }
 ],
 "metadata": {
  "kernelspec": {
   "display_name": "Python 3 (ipykernel)",
   "language": "python",
   "name": "python3"
  },
  "language_info": {
   "codemirror_mode": {
    "name": "ipython",
    "version": 3
   },
   "file_extension": ".py",
   "mimetype": "text/x-python",
   "name": "python",
   "nbconvert_exporter": "python",
   "pygments_lexer": "ipython3",
   "version": "3.11.7"
  }
 },
 "nbformat": 4,
 "nbformat_minor": 5
}
